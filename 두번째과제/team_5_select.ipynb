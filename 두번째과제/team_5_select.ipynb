{
 "cells": [
  {
   "cell_type": "code",
   "execution_count": 421,
   "metadata": {
    "colab": {
     "base_uri": "https://localhost:8080/"
    },
    "executionInfo": {
     "elapsed": 4327,
     "status": "ok",
     "timestamp": 1667655385941,
     "user": {
      "displayName": "최가원",
      "userId": "06373414866148795583"
     },
     "user_tz": -540
    },
    "id": "YmeFDOu45jpK",
    "outputId": "b507c82c-e800-4dc3-ecf9-56135c5c8a6c"
   },
   "outputs": [
    {
     "name": "stdout",
     "output_type": "stream",
     "text": [
      "Drive already mounted at /content/drive; to attempt to forcibly remount, call drive.mount(\"/content/drive\", force_remount=True).\n"
     ]
    }
   ],
   "source": [
    "from google.colab import drive\n",
    "drive.mount('/content/drive')"
   ]
  },
  {
   "cell_type": "markdown",
   "metadata": {
    "id": "zmN1MtrO5wvh"
   },
   "source": [
    "가장 설명력(R^2), 상관계수(R)가 높은 가설 5개 선정\n",
    "\n",
    "-> 해당 가설 5개로 top 5 선정\n",
    "\n",
    "-> 취합하여 가장 정류장이 필요한 자치구 top 5 선정"
   ]
  },
  {
   "cell_type": "code",
   "execution_count": 422,
   "metadata": {
    "colab": {
     "base_uri": "https://localhost:8080/"
    },
    "executionInfo": {
     "elapsed": 13,
     "status": "ok",
     "timestamp": 1667655385942,
     "user": {
      "displayName": "최가원",
      "userId": "06373414866148795583"
     },
     "user_tz": -540
    },
    "id": "Gzy6Ks_l5yj3",
    "outputId": "5fe791d8-c9aa-494a-8f79-aab200e0a769"
   },
   "outputs": [
    {
     "name": "stdout",
     "output_type": "stream",
     "text": [
      "/content/drive/MyDrive/Colab Notebooks/AI+X/bus_eda\n"
     ]
    }
   ],
   "source": [
    "%cd \"/content/drive/MyDrive/Colab Notebooks/AI+X/bus_eda\""
   ]
  },
  {
   "cell_type": "code",
   "execution_count": 423,
   "metadata": {
    "executionInfo": {
     "elapsed": 7,
     "status": "ok",
     "timestamp": 1667655385942,
     "user": {
      "displayName": "최가원",
      "userId": "06373414866148795583"
     },
     "user_tz": -540
    },
    "id": "N7TzXMe36vps"
   },
   "outputs": [],
   "source": [
    "import numpy as np"
   ]
  },
  {
   "cell_type": "code",
   "execution_count": 424,
   "metadata": {
    "executionInfo": {
     "elapsed": 7,
     "status": "ok",
     "timestamp": 1667655385943,
     "user": {
      "displayName": "최가원",
      "userId": "06373414866148795583"
     },
     "user_tz": -540
    },
    "id": "1SOwVIdZ7orb"
   },
   "outputs": [],
   "source": [
    "import matplotlib.pyplot as plt"
   ]
  },
  {
   "cell_type": "code",
   "execution_count": 425,
   "metadata": {
    "colab": {
     "base_uri": "https://localhost:8080/"
    },
    "executionInfo": {
     "elapsed": 9308,
     "status": "ok",
     "timestamp": 1667655395245,
     "user": {
      "displayName": "최가원",
      "userId": "06373414866148795583"
     },
     "user_tz": -540
    },
    "id": "miDIY5lC52G1",
    "outputId": "a807ed3e-ecd1-4c8d-ef30-8772e2eeb03f"
   },
   "outputs": [
    {
     "name": "stdout",
     "output_type": "stream",
     "text": [
      "Reading package lists... Done\n",
      "Building dependency tree       \n",
      "Reading state information... Done\n",
      "fonts-nanum is already the newest version (20170925-1).\n",
      "The following package was automatically installed and is no longer required:\n",
      "  libnvidia-common-460\n",
      "Use 'sudo apt autoremove' to remove it.\n",
      "0 upgraded, 0 newly installed, 0 to remove and 4 not upgraded.\n",
      "/usr/share/fonts: caching, new cache contents: 0 fonts, 1 dirs\n",
      "/usr/share/fonts/truetype: caching, new cache contents: 0 fonts, 3 dirs\n",
      "/usr/share/fonts/truetype/humor-sans: caching, new cache contents: 1 fonts, 0 dirs\n",
      "/usr/share/fonts/truetype/liberation: caching, new cache contents: 16 fonts, 0 dirs\n",
      "/usr/share/fonts/truetype/nanum: caching, new cache contents: 10 fonts, 0 dirs\n",
      "/usr/local/share/fonts: caching, new cache contents: 0 fonts, 0 dirs\n",
      "/root/.local/share/fonts: skipping, no such directory\n",
      "/root/.fonts: skipping, no such directory\n",
      "/var/cache/fontconfig: cleaning cache directory\n",
      "/root/.cache/fontconfig: not cleaning non-existent cache directory\n",
      "/root/.fontconfig: not cleaning non-existent cache directory\n",
      "fc-cache: succeeded\n"
     ]
    }
   ],
   "source": [
    "!sudo apt-get install -y fonts-nanum\n",
    "!sudo fc-cache -fv\n",
    "!rm ~/.cache/matplotlib -rf\n",
    "# plt.rc('font', family='NanumBarunGothic')"
   ]
  },
  {
   "cell_type": "code",
   "execution_count": 426,
   "metadata": {
    "executionInfo": {
     "elapsed": 5,
     "status": "ok",
     "timestamp": 1667655395245,
     "user": {
      "displayName": "최가원",
      "userId": "06373414866148795583"
     },
     "user_tz": -540
    },
    "id": "yXzA_v3s98lW"
   },
   "outputs": [],
   "source": [
    "import pandas as pd"
   ]
  },
  {
   "cell_type": "code",
   "execution_count": 427,
   "metadata": {
    "executionInfo": {
     "elapsed": 45349,
     "status": "ok",
     "timestamp": 1667655440589,
     "user": {
      "displayName": "최가원",
      "userId": "06373414866148795583"
     },
     "user_tz": -540
    },
    "id": "d8f6cfe8"
   },
   "outputs": [],
   "source": [
    "df_seoul_bus_station = pd.read_csv('df_seoul_bus_station.csv', sep=\",\", encoding = 'UTF-8')\n",
    "df_seoul_moving = pd.read_csv('df_seoul_moving.csv', sep=\",\", encoding = 'UTF-8')\n",
    "df_seoul_business = pd.read_csv('df_seoul_business.csv', sep=\",\", encoding = 'UTF-8')\n",
    "df_seoul_people = pd.read_csv('df_seoul_people.csv', sep=\",\", encoding = 'UTF-8')"
   ]
  },
  {
   "cell_type": "markdown",
   "metadata": {
    "id": "6n_rAZQQ6HQw"
   },
   "source": [
    "* **상관관계가 있는 가설**\n",
    "\n",
    "    - 출발자치구와 도착자치구가 다를 때와 같을 때의 평균 이동시간에 차이가 있다.\n",
    "\n",
    "  - 버스정류장수와 유입인구수에는 상관관계가 있다.\n",
    "  - 버스정류장수와 유출인구수에는 상관관계가 있다.\n",
    "\n",
    "  - 노선수와 유입인구수는 상관관계가 있다.\n",
    "  - 요식업 사업체 수와 승하차총승객수는 상관관계가 있다.\n",
    "\n",
    "  - 야간상주지(집)으로 가는 유동인구와 등록인구는 상관관계가 있다.\n",
    "  - 주간상주지(근무지)로 가는 유동인구와 총 종사자수는 상관관계가 있다.\n",
    "\n",
    "  - 이동유형 HW의 이동인구와 HE의 이동인구에는 차이가 있다. \n",
    "(집에서 근무지로 이동하는 인구수와 집에서 근무지 외 다른 곳으로 이동하는 인구수에 차이가 있다.)\n",
    "\n",
    "  - 구의 인구와 버스정류장개수는 상관관계가 있다."
   ]
  },
  {
   "cell_type": "markdown",
   "metadata": {
    "id": "Q3Fj5PWP6pDJ"
   },
   "source": [
    "### **1. 출발자치구와 도착자치구가 다를 때와 같을 때의 평균 이동시간에 차이가 있다.**"
   ]
  },
  {
   "cell_type": "code",
   "execution_count": 428,
   "metadata": {
    "executionInfo": {
     "elapsed": 8,
     "status": "ok",
     "timestamp": 1667655440590,
     "user": {
      "displayName": "최가원",
      "userId": "06373414866148795583"
     },
     "user_tz": -540
    },
    "id": "sI4x2NW36EAp"
   },
   "outputs": [],
   "source": [
    "# 1. 상관관계 분석 (상관계수, p-value)\n",
    "# 2. 변수 2개로 회귀모델 세우기\n",
    "# 3. 상관계수, 설명력 확인"
   ]
  },
  {
   "cell_type": "code",
   "execution_count": 429,
   "metadata": {
    "executionInfo": {
     "elapsed": 6,
     "status": "ok",
     "timestamp": 1667655440590,
     "user": {
      "displayName": "최가원",
      "userId": "06373414866148795583"
     },
     "user_tz": -540
    },
    "id": "Efg4jO1M9wnW"
   },
   "outputs": [],
   "source": [
    "import numpy as np\n",
    "from scipy.stats import ttest_ind"
   ]
  },
  {
   "cell_type": "code",
   "execution_count": 430,
   "metadata": {
    "executionInfo": {
     "elapsed": 917,
     "status": "ok",
     "timestamp": 1667655441502,
     "user": {
      "displayName": "최가원",
      "userId": "06373414866148795583"
     },
     "user_tz": -540
    },
    "id": "Nb7w2lrW8x2r"
   },
   "outputs": [],
   "source": [
    "sm= df_seoul_moving.loc[df_seoul_moving['출발 시군구 코드']==df_seoul_moving['도착 시군구 코드']]\n",
    "df= df_seoul_moving.loc[df_seoul_moving['출발 시군구 코드']!=df_seoul_moving['도착 시군구 코드']]"
   ]
  },
  {
   "cell_type": "code",
   "execution_count": 431,
   "metadata": {
    "executionInfo": {
     "elapsed": 317,
     "status": "ok",
     "timestamp": 1667655441814,
     "user": {
      "displayName": "최가원",
      "userId": "06373414866148795583"
     },
     "user_tz": -540
    },
    "id": "DKlM13lea4jQ"
   },
   "outputs": [],
   "source": [
    "sm= sm.reset_index(drop=True)\n",
    "df= df.reset_index(drop=True)"
   ]
  },
  {
   "cell_type": "code",
   "execution_count": 432,
   "metadata": {
    "colab": {
     "base_uri": "https://localhost:8080/"
    },
    "executionInfo": {
     "elapsed": 310,
     "status": "ok",
     "timestamp": 1667655442123,
     "user": {
      "displayName": "최가원",
      "userId": "06373414866148795583"
     },
     "user_tz": -540
    },
    "id": "S33rn9dp9vOT",
    "outputId": "c08fe209-83e2-4dbc-cc26-02180eebe53c"
   },
   "outputs": [
    {
     "data": {
      "text/plain": [
       "Ttest_indResult(statistic=696.373127204961, pvalue=0.0)"
      ]
     },
     "execution_count": 432,
     "metadata": {},
     "output_type": "execute_result"
    }
   ],
   "source": [
    "# 1. 상관관계 분석\n",
    "ttest_ind(df['평균 이동 시간(분)'], sm['평균 이동 시간(분)'])"
   ]
  },
  {
   "cell_type": "code",
   "execution_count": 433,
   "metadata": {
    "executionInfo": {
     "elapsed": 11,
     "status": "ok",
     "timestamp": 1667655442124,
     "user": {
      "displayName": "최가원",
      "userId": "06373414866148795583"
     },
     "user_tz": -540
    },
    "id": "pxkXWSCWckcb"
   },
   "outputs": [],
   "source": [
    "# 데이터 길이 맞추기\n",
    "sm1= sm.loc[:1100000]\n",
    "df1= df.loc[:1100000]"
   ]
  },
  {
   "cell_type": "code",
   "execution_count": 434,
   "metadata": {
    "colab": {
     "base_uri": "https://localhost:8080/"
    },
    "executionInfo": {
     "elapsed": 11,
     "status": "ok",
     "timestamp": 1667655442124,
     "user": {
      "displayName": "최가원",
      "userId": "06373414866148795583"
     },
     "user_tz": -540
    },
    "id": "tjRVHQmTcvrB",
    "outputId": "a0faedce-4bec-4986-9efd-68b0b0d28d71"
   },
   "outputs": [
    {
     "name": "stdout",
     "output_type": "stream",
     "text": [
      "(1108304, 10) (9547591, 10)\n",
      "(1100001, 10) (1100001, 10)\n"
     ]
    }
   ],
   "source": [
    "print(sm.shape, df.shape)\n",
    "print(sm1.shape, df1.shape)"
   ]
  },
  {
   "cell_type": "code",
   "execution_count": 435,
   "metadata": {
    "colab": {
     "base_uri": "https://localhost:8080/"
    },
    "executionInfo": {
     "elapsed": 8,
     "status": "ok",
     "timestamp": 1667655442125,
     "user": {
      "displayName": "최가원",
      "userId": "06373414866148795583"
     },
     "user_tz": -540
    },
    "id": "5zmvf7vxdKq6",
    "outputId": "d2daa5f2-c9f3-487f-d872-6f377c9d2da1"
   },
   "outputs": [
    {
     "data": {
      "text/plain": [
       "Ttest_indResult(statistic=535.897683567569, pvalue=0.0)"
      ]
     },
     "execution_count": 435,
     "metadata": {},
     "output_type": "execute_result"
    }
   ],
   "source": [
    "ttest_ind(df1['평균 이동 시간(분)'], sm1['평균 이동 시간(분)'])"
   ]
  },
  {
   "cell_type": "code",
   "execution_count": 436,
   "metadata": {
    "executionInfo": {
     "elapsed": 5,
     "status": "ok",
     "timestamp": 1667655442125,
     "user": {
      "displayName": "최가원",
      "userId": "06373414866148795583"
     },
     "user_tz": -540
    },
    "id": "3yeOXlRTVmUg"
   },
   "outputs": [],
   "source": [
    "# from sklearn.linear_model import LinearRegression\n",
    "# from sklearn.model_selection import train_test_split"
   ]
  },
  {
   "cell_type": "code",
   "execution_count": 437,
   "metadata": {
    "executionInfo": {
     "elapsed": 5,
     "status": "ok",
     "timestamp": 1667655442125,
     "user": {
      "displayName": "최가원",
      "userId": "06373414866148795583"
     },
     "user_tz": -540
    },
    "id": "WmhtSlLDeZOg"
   },
   "outputs": [],
   "source": [
    "# lr = LinearRegression()"
   ]
  },
  {
   "cell_type": "code",
   "execution_count": 438,
   "metadata": {
    "executionInfo": {
     "elapsed": 451,
     "status": "ok",
     "timestamp": 1667655442572,
     "user": {
      "displayName": "최가원",
      "userId": "06373414866148795583"
     },
     "user_tz": -540
    },
    "id": "31N5CXn5-Uiy"
   },
   "outputs": [],
   "source": [
    "# 2. 변수 2개로 회귀모델 세우기\n",
    "y= sm1['평균 이동 시간(분)']\n",
    "X= df1[['평균 이동 시간(분)']]\n",
    "\n",
    "X= X.values.reshape(-1, 1)\n",
    "\n",
    "X_train, X_test, y_train, y_test = train_test_split(X, y, test_size = 0.1)"
   ]
  },
  {
   "cell_type": "code",
   "execution_count": 439,
   "metadata": {
    "executionInfo": {
     "elapsed": 3,
     "status": "ok",
     "timestamp": 1667655442572,
     "user": {
      "displayName": "최가원",
      "userId": "06373414866148795583"
     },
     "user_tz": -540
    },
    "id": "WYw0PGnmedRa"
   },
   "outputs": [],
   "source": [
    "# lr.fit(X_train, y_train)"
   ]
  },
  {
   "cell_type": "code",
   "execution_count": 440,
   "metadata": {
    "executionInfo": {
     "elapsed": 3,
     "status": "ok",
     "timestamp": 1667655442572,
     "user": {
      "displayName": "최가원",
      "userId": "06373414866148795583"
     },
     "user_tz": -540
    },
    "id": "itX5f8kDg-HG"
   },
   "outputs": [],
   "source": [
    "# print('y= ', lr.coef_[0], \"* x + \", lr.intercept_)"
   ]
  },
  {
   "cell_type": "code",
   "execution_count": 441,
   "metadata": {
    "executionInfo": {
     "elapsed": 3,
     "status": "ok",
     "timestamp": 1667655442572,
     "user": {
      "displayName": "최가원",
      "userId": "06373414866148795583"
     },
     "user_tz": -540
    },
    "id": "fY79a5yrikBc"
   },
   "outputs": [],
   "source": [
    "# import matplotlib.pyplot as plt"
   ]
  },
  {
   "cell_type": "code",
   "execution_count": 442,
   "metadata": {
    "executionInfo": {
     "elapsed": 4,
     "status": "ok",
     "timestamp": 1667655442573,
     "user": {
      "displayName": "최가원",
      "userId": "06373414866148795583"
     },
     "user_tz": -540
    },
    "id": "8IXUIMY9if-Z"
   },
   "outputs": [],
   "source": [
    "# # plt.scatter(X[:100], y[:100])\n",
    "# plt.plot(X, lr.coef_[0]*X + lr.intercept_, color='red')\n",
    "# plt.show()"
   ]
  },
  {
   "cell_type": "code",
   "execution_count": 443,
   "metadata": {
    "executionInfo": {
     "elapsed": 4,
     "status": "ok",
     "timestamp": 1667655442573,
     "user": {
      "displayName": "최가원",
      "userId": "06373414866148795583"
     },
     "user_tz": -540
    },
    "id": "qnV0XVAw-Xb0"
   },
   "outputs": [],
   "source": [
    "# 3. 상관계수, 설명력 확인"
   ]
  },
  {
   "cell_type": "code",
   "execution_count": 444,
   "metadata": {
    "executionInfo": {
     "elapsed": 3,
     "status": "ok",
     "timestamp": 1667655442573,
     "user": {
      "displayName": "최가원",
      "userId": "06373414866148795583"
     },
     "user_tz": -540
    },
    "id": "srqc1ftpgPIL"
   },
   "outputs": [],
   "source": [
    "import statsmodels.api as sm\n",
    "results = sm.OLS(y, sm.add_constant(X)).fit()"
   ]
  },
  {
   "cell_type": "code",
   "execution_count": 445,
   "metadata": {
    "executionInfo": {
     "elapsed": 3,
     "status": "ok",
     "timestamp": 1667655442573,
     "user": {
      "displayName": "최가원",
      "userId": "06373414866148795583"
     },
     "user_tz": -540
    },
    "id": "JMGnwtaRk1I5"
   },
   "outputs": [],
   "source": [
    "# A. F-statistic\n",
    "# 도출된 회귀식이 회귀분석 모델 전체에 대해 통계적으로 의미가 있는지 파악\n",
    "\n",
    "# B. P-Value\n",
    "# 각 변수가 종속변수에 미치는 영향이 유의한지 파악\n",
    "\n",
    "# C. 수정된 R제곱\n",
    "# 회귀직선에 의하여 설명되는 변동이 총변동 중에서 차지하고 있는 상대적인 비율이 얼마인지 나타냄\n",
    "# 즉, 회귀직선이 종속변수의 몇%를 설명할 수 있는지 확인"
   ]
  },
  {
   "cell_type": "code",
   "execution_count": 446,
   "metadata": {
    "colab": {
     "base_uri": "https://localhost:8080/",
     "height": 452
    },
    "executionInfo": {
     "elapsed": 357,
     "status": "ok",
     "timestamp": 1667655442927,
     "user": {
      "displayName": "최가원",
      "userId": "06373414866148795583"
     },
     "user_tz": -540
    },
    "id": "Kqd9gWkniIgn",
    "outputId": "7c960a19-7bc2-4856-d2b5-85bf39a33f8a"
   },
   "outputs": [
    {
     "data": {
      "text/html": [
       "<table class=\"simpletable\">\n",
       "<caption>OLS Regression Results</caption>\n",
       "<tr>\n",
       "  <th>Dep. Variable:</th>       <td>평균 이동 시간(분)</td>   <th>  R-squared:         </th>  <td>   0.000</td>  \n",
       "</tr>\n",
       "<tr>\n",
       "  <th>Model:</th>                   <td>OLS</td>       <th>  Adj. R-squared:    </th>  <td>  -0.000</td>  \n",
       "</tr>\n",
       "<tr>\n",
       "  <th>Method:</th>             <td>Least Squares</td>  <th>  F-statistic:       </th>  <td>  0.7072</td>  \n",
       "</tr>\n",
       "<tr>\n",
       "  <th>Date:</th>             <td>Sat, 05 Nov 2022</td> <th>  Prob (F-statistic):</th>   <td> 0.400</td>   \n",
       "</tr>\n",
       "<tr>\n",
       "  <th>Time:</th>                 <td>13:37:22</td>     <th>  Log-Likelihood:    </th> <td>-3.7814e+06</td>\n",
       "</tr>\n",
       "<tr>\n",
       "  <th>No. Observations:</th>      <td>1100001</td>     <th>  AIC:               </th>  <td>7.563e+06</td> \n",
       "</tr>\n",
       "<tr>\n",
       "  <th>Df Residuals:</th>          <td>1099999</td>     <th>  BIC:               </th>  <td>7.563e+06</td> \n",
       "</tr>\n",
       "<tr>\n",
       "  <th>Df Model:</th>              <td>     1</td>      <th>                     </th>      <td> </td>     \n",
       "</tr>\n",
       "<tr>\n",
       "  <th>Covariance Type:</th>      <td>nonrobust</td>    <th>                     </th>      <td> </td>     \n",
       "</tr>\n",
       "</table>\n",
       "<table class=\"simpletable\">\n",
       "<tr>\n",
       "    <td></td>       <th>coef</th>     <th>std err</th>      <th>t</th>      <th>P>|t|</th>  <th>[0.025</th>    <th>0.975]</th>  \n",
       "</tr>\n",
       "<tr>\n",
       "  <th>const</th> <td>   13.3727</td> <td>    0.011</td> <td> 1271.843</td> <td> 0.000</td> <td>   13.352</td> <td>   13.393</td>\n",
       "</tr>\n",
       "<tr>\n",
       "  <th>x1</th>    <td>    0.0002</td> <td>    0.000</td> <td>    0.841</td> <td> 0.400</td> <td>   -0.000</td> <td>    0.001</td>\n",
       "</tr>\n",
       "</table>\n",
       "<table class=\"simpletable\">\n",
       "<tr>\n",
       "  <th>Omnibus:</th>       <td>1300445.936</td> <th>  Durbin-Watson:     </th>   <td>   1.665</td>   \n",
       "</tr>\n",
       "<tr>\n",
       "  <th>Prob(Omnibus):</th>   <td> 0.000</td>    <th>  Jarque-Bera (JB):  </th> <td>333568573.212</td>\n",
       "</tr>\n",
       "<tr>\n",
       "  <th>Skew:</th>            <td> 6.014</td>    <th>  Prob(JB):          </th>   <td>    0.00</td>   \n",
       "</tr>\n",
       "<tr>\n",
       "  <th>Kurtosis:</th>        <td>87.458</td>    <th>  Cond. No.          </th>   <td>    53.5</td>   \n",
       "</tr>\n",
       "</table><br/><br/>Notes:<br/>[1] Standard Errors assume that the covariance matrix of the errors is correctly specified."
      ],
      "text/plain": [
       "<class 'statsmodels.iolib.summary.Summary'>\n",
       "\"\"\"\n",
       "                            OLS Regression Results                            \n",
       "==============================================================================\n",
       "Dep. Variable:            평균 이동 시간(분)   R-squared:                       0.000\n",
       "Model:                            OLS   Adj. R-squared:                 -0.000\n",
       "Method:                 Least Squares   F-statistic:                    0.7072\n",
       "Date:                Sat, 05 Nov 2022   Prob (F-statistic):              0.400\n",
       "Time:                        13:37:22   Log-Likelihood:            -3.7814e+06\n",
       "No. Observations:             1100001   AIC:                         7.563e+06\n",
       "Df Residuals:                 1099999   BIC:                         7.563e+06\n",
       "Df Model:                           1                                         \n",
       "Covariance Type:            nonrobust                                         \n",
       "==============================================================================\n",
       "                 coef    std err          t      P>|t|      [0.025      0.975]\n",
       "------------------------------------------------------------------------------\n",
       "const         13.3727      0.011   1271.843      0.000      13.352      13.393\n",
       "x1             0.0002      0.000      0.841      0.400      -0.000       0.001\n",
       "==============================================================================\n",
       "Omnibus:                  1300445.936   Durbin-Watson:                   1.665\n",
       "Prob(Omnibus):                  0.000   Jarque-Bera (JB):        333568573.212\n",
       "Skew:                           6.014   Prob(JB):                         0.00\n",
       "Kurtosis:                      87.458   Cond. No.                         53.5\n",
       "==============================================================================\n",
       "\n",
       "Notes:\n",
       "[1] Standard Errors assume that the covariance matrix of the errors is correctly specified.\n",
       "\"\"\""
      ]
     },
     "execution_count": 446,
     "metadata": {},
     "output_type": "execute_result"
    }
   ],
   "source": [
    "results.summary()\n",
    "# R-squared(설명력):\t0.000\n",
    "# Prob (F-statistic)(p-value):\t0.400\n",
    "# F-statistic:\t0.7072"
   ]
  },
  {
   "cell_type": "markdown",
   "metadata": {
    "id": "kfjCnbqu6vrF"
   },
   "source": [
    "### **2.1. 버스정류장수와 유입인구수에는 상관관계가 있다.**"
   ]
  },
  {
   "cell_type": "code",
   "execution_count": 447,
   "metadata": {
    "executionInfo": {
     "elapsed": 3,
     "status": "ok",
     "timestamp": 1667655442927,
     "user": {
      "displayName": "최가원",
      "userId": "06373414866148795583"
     },
     "user_tz": -540
    },
    "id": "_UttArF86z5B"
   },
   "outputs": [],
   "source": [
    "# 1. 상관관계 분석 (상관계수, p-value)\n",
    "# 2. 변수 2개로 회귀모델 세우기\n",
    "# 2. 상관계수, 설명력 확인"
   ]
  },
  {
   "cell_type": "code",
   "execution_count": 448,
   "metadata": {
    "executionInfo": {
     "elapsed": 1178,
     "status": "ok",
     "timestamp": 1667655444103,
     "user": {
      "displayName": "최가원",
      "userId": "06373414866148795583"
     },
     "user_tz": -540
    },
    "id": "J7Fpqrcslevt"
   },
   "outputs": [],
   "source": [
    "df= df_seoul_moving.loc[df_seoul_moving['출발 시군구 코드']!=df_seoul_moving['도착 시군구 코드']]"
   ]
  },
  {
   "cell_type": "code",
   "execution_count": 449,
   "metadata": {
    "executionInfo": {
     "elapsed": 8,
     "status": "ok",
     "timestamp": 1667655444104,
     "user": {
      "displayName": "최가원",
      "userId": "06373414866148795583"
     },
     "user_tz": -540
    },
    "id": "fbDryIMVmgNi"
   },
   "outputs": [],
   "source": [
    "# 1. 상관관계 분석 (상관계수, p-value)"
   ]
  },
  {
   "cell_type": "code",
   "execution_count": 450,
   "metadata": {
    "executionInfo": {
     "elapsed": 7,
     "status": "ok",
     "timestamp": 1667655444104,
     "user": {
      "displayName": "최가원",
      "userId": "06373414866148795583"
     },
     "user_tz": -540
    },
    "id": "x-cuuGeqlmLs"
   },
   "outputs": [],
   "source": [
    "inn= df.groupby('도착 시군구 코드')[['이동인구(합)']].sum()"
   ]
  },
  {
   "cell_type": "code",
   "execution_count": 451,
   "metadata": {
    "executionInfo": {
     "elapsed": 8,
     "status": "ok",
     "timestamp": 1667655444105,
     "user": {
      "displayName": "최가원",
      "userId": "06373414866148795583"
     },
     "user_tz": -540
    },
    "id": "s_Pk5YvOlt9s"
   },
   "outputs": [],
   "source": [
    "standard = pd.DataFrame({'도착 시군구 코드': [11010, 11020, 11030, 11040, 11050, 11060, 11070, 11080, 11090, 11100, 11110, 11120, 11130, 11140, 11150, 11160, 11170, 11180, 11190, 11200, 11210, 11220, 11230, 11240, 11250],\n",
    "                         '자치구' :['종로구','중구','용산구','성동구','광진구','동대문구','중랑구','성북구','강북구','도봉구','노원구','은평구','서대문구','마포구','양천구','강서구','구로구','금천구','영등포구','동작구','관악구','서초구','강남구','송파구','강동구']})"
   ]
  },
  {
   "cell_type": "code",
   "execution_count": 452,
   "metadata": {
    "executionInfo": {
     "elapsed": 8,
     "status": "ok",
     "timestamp": 1667655444105,
     "user": {
      "displayName": "최가원",
      "userId": "06373414866148795583"
     },
     "user_tz": -540
    },
    "id": "-Q-o98Yol0Pv"
   },
   "outputs": [],
   "source": [
    "innn= pd.DataFrame()\n",
    "innn= pd.merge(standard, df_seoul_bus_station, how='inner', on='자치구')\n",
    "innn= pd.merge(innn, inn, how='inner', on='도착 시군구 코드')"
   ]
  },
  {
   "cell_type": "code",
   "execution_count": 453,
   "metadata": {
    "colab": {
     "base_uri": "https://localhost:8080/"
    },
    "executionInfo": {
     "elapsed": 8,
     "status": "ok",
     "timestamp": 1667655444105,
     "user": {
      "displayName": "최가원",
      "userId": "06373414866148795583"
     },
     "user_tz": -540
    },
    "id": "oPLbLLSBmDqm",
    "outputId": "20aa6962-f8d6-43e1-ae14-bb12beb222bd"
   },
   "outputs": [
    {
     "data": {
      "text/plain": [
       "MannwhitneyuResult(statistic=0.0, pvalue=1.4156562248495537e-09)"
      ]
     },
     "execution_count": 453,
     "metadata": {},
     "output_type": "execute_result"
    }
   ],
   "source": [
    "from scipy.stats import mannwhitneyu\n",
    "mannwhitneyu(innn['정류장수'], innn['이동인구(합)'])"
   ]
  },
  {
   "cell_type": "code",
   "execution_count": 454,
   "metadata": {
    "executionInfo": {
     "elapsed": 5,
     "status": "ok",
     "timestamp": 1667655444105,
     "user": {
      "displayName": "최가원",
      "userId": "06373414866148795583"
     },
     "user_tz": -540
    },
    "id": "tKT9UfLEmir8"
   },
   "outputs": [],
   "source": [
    "# 2. 변수 2개로 회귀모델 세우기"
   ]
  },
  {
   "cell_type": "code",
   "execution_count": 455,
   "metadata": {
    "executionInfo": {
     "elapsed": 6,
     "status": "ok",
     "timestamp": 1667655444106,
     "user": {
      "displayName": "최가원",
      "userId": "06373414866148795583"
     },
     "user_tz": -540
    },
    "id": "3dIJMDNBma7j"
   },
   "outputs": [],
   "source": [
    "from sklearn.linear_model import LinearRegression\n",
    "from sklearn.model_selection import train_test_split"
   ]
  },
  {
   "cell_type": "code",
   "execution_count": 456,
   "metadata": {
    "executionInfo": {
     "elapsed": 6,
     "status": "ok",
     "timestamp": 1667655444106,
     "user": {
      "displayName": "최가원",
      "userId": "06373414866148795583"
     },
     "user_tz": -540
    },
    "id": "9lXv9gxx8Gqx"
   },
   "outputs": [],
   "source": [
    "lr = LinearRegression()"
   ]
  },
  {
   "cell_type": "code",
   "execution_count": 457,
   "metadata": {
    "executionInfo": {
     "elapsed": 634,
     "status": "ok",
     "timestamp": 1667655444735,
     "user": {
      "displayName": "최가원",
      "userId": "06373414866148795583"
     },
     "user_tz": -540
    },
    "id": "bfai5uAImlJ7"
   },
   "outputs": [],
   "source": [
    "y= innn['정류장수']\n",
    "X= innn[['이동인구(합)']]\n",
    "\n",
    "X= X.values.reshape(-1, 1)\n",
    "\n",
    "X_train, X_test, y_train, y_test = train_test_split(X, y, test_size = 0.1)"
   ]
  },
  {
   "cell_type": "code",
   "execution_count": 458,
   "metadata": {
    "colab": {
     "base_uri": "https://localhost:8080/"
    },
    "executionInfo": {
     "elapsed": 7,
     "status": "ok",
     "timestamp": 1667655444735,
     "user": {
      "displayName": "최가원",
      "userId": "06373414866148795583"
     },
     "user_tz": -540
    },
    "id": "xhoIzNHtmq3u",
    "outputId": "e6ef2237-5d54-4b35-80d4-21bb6043280f"
   },
   "outputs": [
    {
     "data": {
      "text/plain": [
       "LinearRegression()"
      ]
     },
     "execution_count": 458,
     "metadata": {},
     "output_type": "execute_result"
    }
   ],
   "source": [
    "lr.fit(X_train, y_train)"
   ]
  },
  {
   "cell_type": "code",
   "execution_count": 459,
   "metadata": {
    "colab": {
     "base_uri": "https://localhost:8080/",
     "height": 278
    },
    "executionInfo": {
     "elapsed": 6,
     "status": "ok",
     "timestamp": 1667655444736,
     "user": {
      "displayName": "최가원",
      "userId": "06373414866148795583"
     },
     "user_tz": -540
    },
    "id": "F0zhWp95myeA",
    "outputId": "363e4f10-f6e5-461a-c681-bb5ecc96440a"
   },
   "outputs": [
    {
     "data": {
      "image/png": "[encoded data removed]",
      "text/plain": [
       "<Figure size 432x288 with 1 Axes>"
      ]
     },
     "metadata": {
      "needs_background": "light"
     },
     "output_type": "display_data"
    }
   ],
   "source": [
    "plt.scatter(X, y)\n",
    "plt.plot(X, lr.coef_[0]*X + lr.intercept_, color='red')\n",
    "plt.show()"
   ]
  },
  {
   "cell_type": "code",
   "execution_count": 460,
   "metadata": {
    "executionInfo": {
     "elapsed": 5,
     "status": "ok",
     "timestamp": 1667655444736,
     "user": {
      "displayName": "최가원",
      "userId": "06373414866148795583"
     },
     "user_tz": -540
    },
    "id": "WgtLOHxKm5X5"
   },
   "outputs": [],
   "source": [
    "# 3. 상관계수, 설명력 확인"
   ]
  },
  {
   "cell_type": "code",
   "execution_count": 461,
   "metadata": {
    "executionInfo": {
     "elapsed": 5,
     "status": "ok",
     "timestamp": 1667655444736,
     "user": {
      "displayName": "최가원",
      "userId": "06373414866148795583"
     },
     "user_tz": -540
    },
    "id": "zY9M3a_Dm6he"
   },
   "outputs": [],
   "source": [
    "import statsmodels.api as sm\n",
    "results = sm.OLS(y, sm.add_constant(X)).fit()"
   ]
  },
  {
   "cell_type": "code",
   "execution_count": 462,
   "metadata": {
    "colab": {
     "base_uri": "https://localhost:8080/",
     "height": 486
    },
    "executionInfo": {
     "elapsed": 5,
     "status": "ok",
     "timestamp": 1667655444736,
     "user": {
      "displayName": "최가원",
      "userId": "06373414866148795583"
     },
     "user_tz": -540
    },
    "id": "dmIFs54km8hV",
    "outputId": "19546785-eafe-41d9-db6c-5f3f20fdcefe"
   },
   "outputs": [
    {
     "data": {
      "text/html": [
       "<table class=\"simpletable\">\n",
       "<caption>OLS Regression Results</caption>\n",
       "<tr>\n",
       "  <th>Dep. Variable:</th>          <td>정류장수</td>       <th>  R-squared:         </th> <td>   0.055</td>\n",
       "</tr>\n",
       "<tr>\n",
       "  <th>Model:</th>                   <td>OLS</td>       <th>  Adj. R-squared:    </th> <td>   0.014</td>\n",
       "</tr>\n",
       "<tr>\n",
       "  <th>Method:</th>             <td>Least Squares</td>  <th>  F-statistic:       </th> <td>   1.345</td>\n",
       "</tr>\n",
       "<tr>\n",
       "  <th>Date:</th>             <td>Sat, 05 Nov 2022</td> <th>  Prob (F-statistic):</th>  <td> 0.258</td> \n",
       "</tr>\n",
       "<tr>\n",
       "  <th>Time:</th>                 <td>13:37:24</td>     <th>  Log-Likelihood:    </th> <td> -150.90</td>\n",
       "</tr>\n",
       "<tr>\n",
       "  <th>No. Observations:</th>      <td>    25</td>      <th>  AIC:               </th> <td>   305.8</td>\n",
       "</tr>\n",
       "<tr>\n",
       "  <th>Df Residuals:</th>          <td>    23</td>      <th>  BIC:               </th> <td>   308.2</td>\n",
       "</tr>\n",
       "<tr>\n",
       "  <th>Df Model:</th>              <td>     1</td>      <th>                     </th>     <td> </td>   \n",
       "</tr>\n",
       "<tr>\n",
       "  <th>Covariance Type:</th>      <td>nonrobust</td>    <th>                     </th>     <td> </td>   \n",
       "</tr>\n",
       "</table>\n",
       "<table class=\"simpletable\">\n",
       "<tr>\n",
       "    <td></td>       <th>coef</th>     <th>std err</th>      <th>t</th>      <th>P>|t|</th>  <th>[0.025</th>    <th>0.975]</th>  \n",
       "</tr>\n",
       "<tr>\n",
       "  <th>const</th> <td>  359.0566</td> <td>   60.328</td> <td>    5.952</td> <td> 0.000</td> <td>  234.259</td> <td>  483.854</td>\n",
       "</tr>\n",
       "<tr>\n",
       "  <th>x1</th>    <td> 6.816e-06</td> <td> 5.88e-06</td> <td>    1.160</td> <td> 0.258</td> <td>-5.34e-06</td> <td>  1.9e-05</td>\n",
       "</tr>\n",
       "</table>\n",
       "<table class=\"simpletable\">\n",
       "<tr>\n",
       "  <th>Omnibus:</th>       <td> 1.766</td> <th>  Durbin-Watson:     </th> <td>   1.419</td>\n",
       "</tr>\n",
       "<tr>\n",
       "  <th>Prob(Omnibus):</th> <td> 0.413</td> <th>  Jarque-Bera (JB):  </th> <td>   0.847</td>\n",
       "</tr>\n",
       "<tr>\n",
       "  <th>Skew:</th>          <td>-0.436</td> <th>  Prob(JB):          </th> <td>   0.655</td>\n",
       "</tr>\n",
       "<tr>\n",
       "  <th>Kurtosis:</th>      <td> 3.226</td> <th>  Cond. No.          </th> <td>2.93e+07</td>\n",
       "</tr>\n",
       "</table><br/><br/>Notes:<br/>[1] Standard Errors assume that the covariance matrix of the errors is correctly specified.<br/>[2] The condition number is large, 2.93e+07. This might indicate that there are<br/>strong multicollinearity or other numerical problems."
      ],
      "text/plain": [
       "<class 'statsmodels.iolib.summary.Summary'>\n",
       "\"\"\"\n",
       "                            OLS Regression Results                            \n",
       "==============================================================================\n",
       "Dep. Variable:                   정류장수   R-squared:                       0.055\n",
       "Model:                            OLS   Adj. R-squared:                  0.014\n",
       "Method:                 Least Squares   F-statistic:                     1.345\n",
       "Date:                Sat, 05 Nov 2022   Prob (F-statistic):              0.258\n",
       "Time:                        13:37:24   Log-Likelihood:                -150.90\n",
       "No. Observations:                  25   AIC:                             305.8\n",
       "Df Residuals:                      23   BIC:                             308.2\n",
       "Df Model:                           1                                         \n",
       "Covariance Type:            nonrobust                                         \n",
       "==============================================================================\n",
       "                 coef    std err          t      P>|t|      [0.025      0.975]\n",
       "------------------------------------------------------------------------------\n",
       "const        359.0566     60.328      5.952      0.000     234.259     483.854\n",
       "x1          6.816e-06   5.88e-06      1.160      0.258   -5.34e-06     1.9e-05\n",
       "==============================================================================\n",
       "Omnibus:                        1.766   Durbin-Watson:                   1.419\n",
       "Prob(Omnibus):                  0.413   Jarque-Bera (JB):                0.847\n",
       "Skew:                          -0.436   Prob(JB):                        0.655\n",
       "Kurtosis:                       3.226   Cond. No.                     2.93e+07\n",
       "==============================================================================\n",
       "\n",
       "Notes:\n",
       "[1] Standard Errors assume that the covariance matrix of the errors is correctly specified.\n",
       "[2] The condition number is large, 2.93e+07. This might indicate that there are\n",
       "strong multicollinearity or other numerical problems.\n",
       "\"\"\""
      ]
     },
     "execution_count": 462,
     "metadata": {},
     "output_type": "execute_result"
    }
   ],
   "source": [
    "results.summary()\n",
    "# R-squared(설명력):\t0.055\n",
    "# Prob (F-statistic)(p-value):\t0.258\n",
    "# F-statistic:\t1.345"
   ]
  },
  {
   "cell_type": "markdown",
   "metadata": {
    "id": "iABtFr9r61Z7"
   },
   "source": [
    "### 2.2. 버스정류장수와 유출인구수에는 상관관계가 있다. \n",
    "\n",
    "(코드가 안 돌아가서 패스)\n",
    "\n",
    "\n"
   ]
  },
  {
   "cell_type": "code",
   "execution_count": 463,
   "metadata": {
    "executionInfo": {
     "elapsed": 5,
     "status": "ok",
     "timestamp": 1667655444737,
     "user": {
      "displayName": "최가원",
      "userId": "06373414866148795583"
     },
     "user_tz": -540
    },
    "id": "nmxZCjUV67qB"
   },
   "outputs": [],
   "source": [
    "# 1. 상관관계 분석 (상관계수, p-value)\n",
    "# 2. 변수 2개로 회귀모델 세우기\n",
    "# 2. 상관계수, 설명력 확인"
   ]
  },
  {
   "cell_type": "code",
   "execution_count": 464,
   "metadata": {
    "executionInfo": {
     "elapsed": 5,
     "status": "ok",
     "timestamp": 1667655444737,
     "user": {
      "displayName": "최가원",
      "userId": "06373414866148795583"
     },
     "user_tz": -540
    },
    "id": "FDdtRd1Lo3AT"
   },
   "outputs": [],
   "source": [
    "df_seoul_bus_station = pd.read_csv('df_seoul_bus_station.csv', sep=\",\", encoding = 'UTF-8')"
   ]
  },
  {
   "cell_type": "code",
   "execution_count": 465,
   "metadata": {
    "executionInfo": {
     "elapsed": 4534,
     "status": "ok",
     "timestamp": 1667655449266,
     "user": {
      "displayName": "최가원",
      "userId": "06373414866148795583"
     },
     "user_tz": -540
    },
    "id": "1FwcPUjVndgr"
   },
   "outputs": [],
   "source": [
    "df= df_seoul_moving.loc[df_seoul_moving['출발 시군구 코드']!=df_seoul_moving['도착 시군구 코드']]"
   ]
  },
  {
   "cell_type": "code",
   "execution_count": 466,
   "metadata": {
    "executionInfo": {
     "elapsed": 9,
     "status": "ok",
     "timestamp": 1667655449267,
     "user": {
      "displayName": "최가원",
      "userId": "06373414866148795583"
     },
     "user_tz": -540
    },
    "id": "9etpCSosniez"
   },
   "outputs": [],
   "source": [
    "# 1. 상관관계 분석 (상관계수, p-value)"
   ]
  },
  {
   "cell_type": "code",
   "execution_count": 467,
   "metadata": {
    "executionInfo": {
     "elapsed": 1117,
     "status": "ok",
     "timestamp": 1667655450375,
     "user": {
      "displayName": "최가원",
      "userId": "06373414866148795583"
     },
     "user_tz": -540
    },
    "id": "XCFIV57onjn1"
   },
   "outputs": [],
   "source": [
    "outt= df.groupby('출발 시군구 코드')[['이동인구(합)']].sum()"
   ]
  },
  {
   "cell_type": "code",
   "execution_count": 468,
   "metadata": {
    "executionInfo": {
     "elapsed": 3,
     "status": "ok",
     "timestamp": 1667655450376,
     "user": {
      "displayName": "최가원",
      "userId": "06373414866148795583"
     },
     "user_tz": -540
    },
    "id": "HQhrrqXynn5j"
   },
   "outputs": [],
   "source": [
    "standard = pd.DataFrame({'도착 시군구 코드': [11010, 11020, 11030, 11040, 11050, 11060, 11070, 11080, 11090, 11100, 11110, 11120, 11130, 11140, 11150, 11160, 11170, 11180, 11190, 11200, 11210, 11220, 11230, 11240, 11250],\n",
    "                         '자치구' :['종로구','중구','용산구','성동구','광진구','동대문구','중랑구','성북구','강북구','도봉구','노원구','은평구','서대문구','마포구','양천구','강서구','구로구','금천구','영등포구','동작구','관악구','서초구','강남구','송파구','강동구']})"
   ]
  },
  {
   "cell_type": "code",
   "execution_count": 469,
   "metadata": {
    "executionInfo": {
     "elapsed": 2,
     "status": "ok",
     "timestamp": 1667655450376,
     "user": {
      "displayName": "최가원",
      "userId": "06373414866148795583"
     },
     "user_tz": -540
    },
    "id": "gzLnSOYMnpbb"
   },
   "outputs": [],
   "source": [
    "# outtt= pd.DataFrame()\n",
    "# outtt= pd.merge(standard, df_seoul_bus_station, how='inner', on='자치구')"
   ]
  },
  {
   "cell_type": "code",
   "execution_count": 470,
   "metadata": {
    "executionInfo": {
     "elapsed": 2,
     "status": "ok",
     "timestamp": 1667655450376,
     "user": {
      "displayName": "최가원",
      "userId": "06373414866148795583"
     },
     "user_tz": -540
    },
    "id": "SUrJxkjYnsu9"
   },
   "outputs": [],
   "source": [
    "# from scipy.stats import mannwhitneyu\n",
    "# mannwhitneyu(outt['정류장수'], outt['이동인구(합)'])"
   ]
  },
  {
   "cell_type": "markdown",
   "metadata": {
    "id": "vw11ICUv691h"
   },
   "source": [
    "### **3. 노선수와 유입인구수는 상관관계가 있다.**"
   ]
  },
  {
   "cell_type": "code",
   "execution_count": 471,
   "metadata": {
    "executionInfo": {
     "elapsed": 3,
     "status": "ok",
     "timestamp": 1667655450377,
     "user": {
      "displayName": "최가원",
      "userId": "06373414866148795583"
     },
     "user_tz": -540
    },
    "id": "SRTHFln87FTt"
   },
   "outputs": [],
   "source": [
    "# 1. 상관관계 분석 (상관계수, p-value)\n",
    "# 2. 변수 2개로 회귀모델 세우기\n",
    "# 2. 상관계수, 설명력 확인"
   ]
  },
  {
   "cell_type": "code",
   "execution_count": 472,
   "metadata": {
    "executionInfo": {
     "elapsed": 1865,
     "status": "ok",
     "timestamp": 1667655452239,
     "user": {
      "displayName": "최가원",
      "userId": "06373414866148795583"
     },
     "user_tz": -540
    },
    "id": "-0z_86nCq_tI"
   },
   "outputs": [],
   "source": [
    "df= df_seoul_moving.loc[df_seoul_moving['출발 시군구 코드']!=df_seoul_moving['도착 시군구 코드']]"
   ]
  },
  {
   "cell_type": "code",
   "execution_count": 473,
   "metadata": {
    "colab": {
     "base_uri": "https://localhost:8080/"
    },
    "executionInfo": {
     "elapsed": 5,
     "status": "ok",
     "timestamp": 1667655452240,
     "user": {
      "displayName": "최가원",
      "userId": "06373414866148795583"
     },
     "user_tz": -540
    },
    "id": "BkER4HdJrJ5n",
    "outputId": "33890846-fb52-4be7-e216-533583c7543e"
   },
   "outputs": [
    {
     "data": {
      "text/plain": [
       "MannwhitneyuResult(statistic=0.0, pvalue=1.4131023700672182e-09)"
      ]
     },
     "execution_count": 473,
     "metadata": {},
     "output_type": "execute_result"
    }
   ],
   "source": [
    "from scipy.stats import mannwhitneyu\n",
    "mannwhitneyu(innn['노선수'], innn['이동인구(합)'])"
   ]
  },
  {
   "cell_type": "code",
   "execution_count": 474,
   "metadata": {
    "executionInfo": {
     "elapsed": 4,
     "status": "ok",
     "timestamp": 1667655452240,
     "user": {
      "displayName": "최가원",
      "userId": "06373414866148795583"
     },
     "user_tz": -540
    },
    "id": "J9xkvc4mrxrR"
   },
   "outputs": [],
   "source": [
    "# 2. 변수 2개로 회귀모델 세우기"
   ]
  },
  {
   "cell_type": "code",
   "execution_count": 475,
   "metadata": {
    "executionInfo": {
     "elapsed": 3,
     "status": "ok",
     "timestamp": 1667655452240,
     "user": {
      "displayName": "최가원",
      "userId": "06373414866148795583"
     },
     "user_tz": -540
    },
    "id": "SZ2SnLo5rVsB"
   },
   "outputs": [],
   "source": [
    "from sklearn.linear_model import LinearRegression\n",
    "from sklearn.model_selection import train_test_split"
   ]
  },
  {
   "cell_type": "code",
   "execution_count": 476,
   "metadata": {
    "executionInfo": {
     "elapsed": 484,
     "status": "ok",
     "timestamp": 1667655452721,
     "user": {
      "displayName": "최가원",
      "userId": "06373414866148795583"
     },
     "user_tz": -540
    },
    "id": "-0AWPobm8JOf"
   },
   "outputs": [],
   "source": [
    "lr = LinearRegression()"
   ]
  },
  {
   "cell_type": "code",
   "execution_count": 477,
   "metadata": {
    "executionInfo": {
     "elapsed": 14,
     "status": "ok",
     "timestamp": 1667655452721,
     "user": {
      "displayName": "최가원",
      "userId": "06373414866148795583"
     },
     "user_tz": -540
    },
    "id": "u4Z7Tr4mrYUO"
   },
   "outputs": [],
   "source": [
    "y= innn['노선수']\n",
    "X= innn[['이동인구(합)']]\n",
    "\n",
    "X= X.values.reshape(-1, 1)\n",
    "\n",
    "X_train, X_test, y_train, y_test = train_test_split(X, y, test_size = 0.1)"
   ]
  },
  {
   "cell_type": "code",
   "execution_count": 478,
   "metadata": {
    "colab": {
     "base_uri": "https://localhost:8080/"
    },
    "executionInfo": {
     "elapsed": 13,
     "status": "ok",
     "timestamp": 1667655452721,
     "user": {
      "displayName": "최가원",
      "userId": "06373414866148795583"
     },
     "user_tz": -540
    },
    "id": "jpbWMFbsragH",
    "outputId": "8dd2c08c-f81c-44b0-e77a-bf04cfe0dab6"
   },
   "outputs": [
    {
     "data": {
      "text/plain": [
       "LinearRegression()"
      ]
     },
     "execution_count": 478,
     "metadata": {},
     "output_type": "execute_result"
    }
   ],
   "source": [
    "lr.fit(X_train, y_train)"
   ]
  },
  {
   "cell_type": "code",
   "execution_count": 479,
   "metadata": {
    "colab": {
     "base_uri": "https://localhost:8080/",
     "height": 278
    },
    "executionInfo": {
     "elapsed": 493,
     "status": "ok",
     "timestamp": 1667655453206,
     "user": {
      "displayName": "최가원",
      "userId": "06373414866148795583"
     },
     "user_tz": -540
    },
    "id": "tJ_sFGwfrbcj",
    "outputId": "96c9597e-1e86-4d14-905f-6b500dca4324"
   },
   "outputs": [
    {
     "data": {
      "image/png": "[encoded data removed]",
      "text/plain": [
       "<Figure size 432x288 with 1 Axes>"
      ]
     },
     "metadata": {
      "needs_background": "light"
     },
     "output_type": "display_data"
    }
   ],
   "source": [
    "plt.scatter(X, y)\n",
    "plt.plot(X, lr.coef_[0]*X + lr.intercept_, color='red')\n",
    "plt.show()"
   ]
  },
  {
   "cell_type": "code",
   "execution_count": 480,
   "metadata": {
    "executionInfo": {
     "elapsed": 5,
     "status": "ok",
     "timestamp": 1667655453207,
     "user": {
      "displayName": "최가원",
      "userId": "06373414866148795583"
     },
     "user_tz": -540
    },
    "id": "Vujr_k77rdQQ"
   },
   "outputs": [],
   "source": [
    "# 3. 상관계수, 설명력 확인"
   ]
  },
  {
   "cell_type": "code",
   "execution_count": 481,
   "metadata": {
    "executionInfo": {
     "elapsed": 5,
     "status": "ok",
     "timestamp": 1667655453207,
     "user": {
      "displayName": "최가원",
      "userId": "06373414866148795583"
     },
     "user_tz": -540
    },
    "id": "2EHrtuOFreJ7"
   },
   "outputs": [],
   "source": [
    "import statsmodels.api as sm\n",
    "results = sm.OLS(y, sm.add_constant(X)).fit()"
   ]
  },
  {
   "cell_type": "code",
   "execution_count": 482,
   "metadata": {
    "colab": {
     "base_uri": "https://localhost:8080/",
     "height": 486
    },
    "executionInfo": {
     "elapsed": 5,
     "status": "ok",
     "timestamp": 1667655453207,
     "user": {
      "displayName": "최가원",
      "userId": "06373414866148795583"
     },
     "user_tz": -540
    },
    "id": "ZVcjeehgrgsh",
    "outputId": "92699033-22f4-4b99-a122-244f1287f275"
   },
   "outputs": [
    {
     "data": {
      "text/html": [
       "<table class=\"simpletable\">\n",
       "<caption>OLS Regression Results</caption>\n",
       "<tr>\n",
       "  <th>Dep. Variable:</th>           <td>노선수</td>       <th>  R-squared:         </th> <td>   0.300</td>\n",
       "</tr>\n",
       "<tr>\n",
       "  <th>Model:</th>                   <td>OLS</td>       <th>  Adj. R-squared:    </th> <td>   0.269</td>\n",
       "</tr>\n",
       "<tr>\n",
       "  <th>Method:</th>             <td>Least Squares</td>  <th>  F-statistic:       </th> <td>   9.850</td>\n",
       "</tr>\n",
       "<tr>\n",
       "  <th>Date:</th>             <td>Sat, 05 Nov 2022</td> <th>  Prob (F-statistic):</th>  <td>0.00461</td>\n",
       "</tr>\n",
       "<tr>\n",
       "  <th>Time:</th>                 <td>13:37:33</td>     <th>  Log-Likelihood:    </th> <td> -109.76</td>\n",
       "</tr>\n",
       "<tr>\n",
       "  <th>No. Observations:</th>      <td>    25</td>      <th>  AIC:               </th> <td>   223.5</td>\n",
       "</tr>\n",
       "<tr>\n",
       "  <th>Df Residuals:</th>          <td>    23</td>      <th>  BIC:               </th> <td>   226.0</td>\n",
       "</tr>\n",
       "<tr>\n",
       "  <th>Df Model:</th>              <td>     1</td>      <th>                     </th>     <td> </td>   \n",
       "</tr>\n",
       "<tr>\n",
       "  <th>Covariance Type:</th>      <td>nonrobust</td>    <th>                     </th>     <td> </td>   \n",
       "</tr>\n",
       "</table>\n",
       "<table class=\"simpletable\">\n",
       "<tr>\n",
       "    <td></td>       <th>coef</th>     <th>std err</th>      <th>t</th>      <th>P>|t|</th>  <th>[0.025</th>    <th>0.975]</th>  \n",
       "</tr>\n",
       "<tr>\n",
       "  <th>const</th> <td>   38.7138</td> <td>   11.634</td> <td>    3.328</td> <td> 0.003</td> <td>   14.647</td> <td>   62.781</td>\n",
       "</tr>\n",
       "<tr>\n",
       "  <th>x1</th>    <td> 3.557e-06</td> <td> 1.13e-06</td> <td>    3.139</td> <td> 0.005</td> <td> 1.21e-06</td> <td>  5.9e-06</td>\n",
       "</tr>\n",
       "</table>\n",
       "<table class=\"simpletable\">\n",
       "<tr>\n",
       "  <th>Omnibus:</th>       <td> 1.082</td> <th>  Durbin-Watson:     </th> <td>   0.933</td>\n",
       "</tr>\n",
       "<tr>\n",
       "  <th>Prob(Omnibus):</th> <td> 0.582</td> <th>  Jarque-Bera (JB):  </th> <td>   0.963</td>\n",
       "</tr>\n",
       "<tr>\n",
       "  <th>Skew:</th>          <td>-0.278</td> <th>  Prob(JB):          </th> <td>   0.618</td>\n",
       "</tr>\n",
       "<tr>\n",
       "  <th>Kurtosis:</th>      <td> 2.215</td> <th>  Cond. No.          </th> <td>2.93e+07</td>\n",
       "</tr>\n",
       "</table><br/><br/>Notes:<br/>[1] Standard Errors assume that the covariance matrix of the errors is correctly specified.<br/>[2] The condition number is large, 2.93e+07. This might indicate that there are<br/>strong multicollinearity or other numerical problems."
      ],
      "text/plain": [
       "<class 'statsmodels.iolib.summary.Summary'>\n",
       "\"\"\"\n",
       "                            OLS Regression Results                            \n",
       "==============================================================================\n",
       "Dep. Variable:                    노선수   R-squared:                       0.300\n",
       "Model:                            OLS   Adj. R-squared:                  0.269\n",
       "Method:                 Least Squares   F-statistic:                     9.850\n",
       "Date:                Sat, 05 Nov 2022   Prob (F-statistic):            0.00461\n",
       "Time:                        13:37:33   Log-Likelihood:                -109.76\n",
       "No. Observations:                  25   AIC:                             223.5\n",
       "Df Residuals:                      23   BIC:                             226.0\n",
       "Df Model:                           1                                         \n",
       "Covariance Type:            nonrobust                                         \n",
       "==============================================================================\n",
       "                 coef    std err          t      P>|t|      [0.025      0.975]\n",
       "------------------------------------------------------------------------------\n",
       "const         38.7138     11.634      3.328      0.003      14.647      62.781\n",
       "x1          3.557e-06   1.13e-06      3.139      0.005    1.21e-06     5.9e-06\n",
       "==============================================================================\n",
       "Omnibus:                        1.082   Durbin-Watson:                   0.933\n",
       "Prob(Omnibus):                  0.582   Jarque-Bera (JB):                0.963\n",
       "Skew:                          -0.278   Prob(JB):                        0.618\n",
       "Kurtosis:                       2.215   Cond. No.                     2.93e+07\n",
       "==============================================================================\n",
       "\n",
       "Notes:\n",
       "[1] Standard Errors assume that the covariance matrix of the errors is correctly specified.\n",
       "[2] The condition number is large, 2.93e+07. This might indicate that there are\n",
       "strong multicollinearity or other numerical problems.\n",
       "\"\"\""
      ]
     },
     "execution_count": 482,
     "metadata": {},
     "output_type": "execute_result"
    }
   ],
   "source": [
    "results.summary()\n",
    "# R-squared(설명력):\t0.300\n",
    "# Prob (F-statistic)(p-value):\t0.00461\n",
    "# F-statistic:\t9.850"
   ]
  },
  {
   "cell_type": "markdown",
   "metadata": {
    "id": "o1yj0y5y7ISf"
   },
   "source": [
    "### **4. 요식업 사업체 수와 승하차총승객수는 상관관계가 있다.**"
   ]
  },
  {
   "cell_type": "code",
   "execution_count": 483,
   "metadata": {
    "executionInfo": {
     "elapsed": 540,
     "status": "ok",
     "timestamp": 1667655453743,
     "user": {
      "displayName": "최가원",
      "userId": "06373414866148795583"
     },
     "user_tz": -540
    },
    "id": "U48f2qoR7OPF"
   },
   "outputs": [],
   "source": [
    "# 1. 상관관계 분석 (상관계수, p-value)\n",
    "# 2. 변수 2개로 회귀모델 세우기\n",
    "# 2. 상관계수, 설명력 확인"
   ]
  },
  {
   "cell_type": "code",
   "execution_count": 484,
   "metadata": {
    "executionInfo": {
     "elapsed": 6,
     "status": "ok",
     "timestamp": 1667655453744,
     "user": {
      "displayName": "최가원",
      "userId": "06373414866148795583"
     },
     "user_tz": -540
    },
    "id": "cONtoH23sQ83"
   },
   "outputs": [],
   "source": [
    "# df_seoul_bus_station = pd.read_csv('df_seoul_bus_station.csv', sep=\",\", encoding = 'UTF-8')\n",
    "# df_seoul_moving = pd.read_csv('df_seoul_moving.csv', sep=\",\", encoding = 'UTF-8')\n",
    "# df_seoul_business = pd.read_csv('df_seoul_business.csv', sep=\",\", encoding = 'UTF-8')\n",
    "# df_seoul_people = pd.read_csv('df_seoul_people.csv', sep=\",\", encoding = 'UTF-8')"
   ]
  },
  {
   "cell_type": "code",
   "execution_count": 485,
   "metadata": {
    "colab": {
     "base_uri": "https://localhost:8080/"
    },
    "executionInfo": {
     "elapsed": 6,
     "status": "ok",
     "timestamp": 1667655453744,
     "user": {
      "displayName": "최가원",
      "userId": "06373414866148795583"
     },
     "user_tz": -540
    },
    "id": "JJPw0Ascsklc",
    "outputId": "0a64fe77-66c6-4880-e915-ca48c3578e9c"
   },
   "outputs": [
    {
     "data": {
      "text/plain": [
       "Index(['자치구', '동', '택시운송업(사업체수)', '택시운송업(종사자수)', '한식일반음식점업(사업체수)',\n",
       "       '한식일반음식점업(종사자수)', '용달화물자동차운송업(사업체수)', '용달화물자동차운송업(종사자수)',\n",
       "       '부동산중개및대리업(사업체수)', '부동산중개및대리업(종사자수)', '두발미용업(사업체수)', '두발미용업(종사자수)',\n",
       "       '커피전문점(사업체수)', '커피전문점(종사자수)', '남녀용겉옷및셔츠도매업(사업체수)', '남녀용겉옷및셔츠도매업(종사자수)',\n",
       "       '기타주점업(사업체수)', '기타주점업(종사자수)', '일반교과학원(사업체수)', '일반교과학원(종사자수)',\n",
       "       '한식육류요리전문점(사업체수)', '한식육류요리전문점(종사자수)'],\n",
       "      dtype='object')"
      ]
     },
     "execution_count": 485,
     "metadata": {},
     "output_type": "execute_result"
    }
   ],
   "source": [
    "df_seoul_business.columns"
   ]
  },
  {
   "cell_type": "code",
   "execution_count": 486,
   "metadata": {
    "executionInfo": {
     "elapsed": 5,
     "status": "ok",
     "timestamp": 1667655453744,
     "user": {
      "displayName": "최가원",
      "userId": "06373414866148795583"
     },
     "user_tz": -540
    },
    "id": "m1ngW2NOtgxS"
   },
   "outputs": [],
   "source": [
    "df_seoul_business['한식일반음식점업(사업체수)']= df_seoul_business['한식일반음식점업(사업체수)'].str.replace(',', '')\n",
    "df_seoul_business['한식일반음식점업(사업체수)']= df_seoul_business['한식일반음식점업(사업체수)'].str.replace('-', '0')\n",
    "df_seoul_business['한식일반음식점업(사업체수)']= df_seoul_business['한식일반음식점업(사업체수)'].astype('int64')"
   ]
  },
  {
   "cell_type": "code",
   "execution_count": 487,
   "metadata": {
    "executionInfo": {
     "elapsed": 6,
     "status": "ok",
     "timestamp": 1667655453745,
     "user": {
      "displayName": "최가원",
      "userId": "06373414866148795583"
     },
     "user_tz": -540
    },
    "id": "crkzLYX3ttc8"
   },
   "outputs": [],
   "source": [
    "df_seoul_business['커피전문점(사업체수)']= df_seoul_business['커피전문점(사업체수)'].str.replace(',', '')\n",
    "df_seoul_business['커피전문점(사업체수)']= df_seoul_business['커피전문점(사업체수)'].str.replace('-', '0')\n",
    "df_seoul_business['커피전문점(사업체수)']= df_seoul_business['커피전문점(사업체수)'].astype('int64')"
   ]
  },
  {
   "cell_type": "code",
   "execution_count": 488,
   "metadata": {
    "executionInfo": {
     "elapsed": 6,
     "status": "ok",
     "timestamp": 1667655453745,
     "user": {
      "displayName": "최가원",
      "userId": "06373414866148795583"
     },
     "user_tz": -540
    },
    "id": "SaVkyYDpt_fo"
   },
   "outputs": [],
   "source": [
    "df_seoul_business['한식육류요리전문점(사업체수)']= df_seoul_business['한식육류요리전문점(사업체수)'].str.replace(',', '')\n",
    "df_seoul_business['한식육류요리전문점(사업체수)']= df_seoul_business['한식육류요리전문점(사업체수)'].str.replace('-', '0')\n",
    "df_seoul_business['한식육류요리전문점(사업체수)']= df_seoul_business['한식육류요리전문점(사업체수)'].astype('int64')"
   ]
  },
  {
   "cell_type": "code",
   "execution_count": 489,
   "metadata": {
    "executionInfo": {
     "elapsed": 7,
     "status": "ok",
     "timestamp": 1667655453746,
     "user": {
      "displayName": "최가원",
      "userId": "06373414866148795583"
     },
     "user_tz": -540
    },
    "id": "yZLL1yKTuOB4"
   },
   "outputs": [],
   "source": [
    "df_seoul_business['기타주점업(사업체수)']= df_seoul_business['기타주점업(사업체수)'].str.replace(',', '')\n",
    "df_seoul_business['기타주점업(사업체수)']= df_seoul_business['기타주점업(사업체수)'].str.replace('-', '0')\n",
    "df_seoul_business['기타주점업(사업체수)']= df_seoul_business['기타주점업(사업체수)'].astype('int64')"
   ]
  },
  {
   "cell_type": "code",
   "execution_count": 490,
   "metadata": {
    "executionInfo": {
     "elapsed": 7,
     "status": "ok",
     "timestamp": 1667655453746,
     "user": {
      "displayName": "최가원",
      "userId": "06373414866148795583"
     },
     "user_tz": -540
    },
    "id": "Fsrog4F9ujse"
   },
   "outputs": [],
   "source": [
    "df_seoul_business_= df_seoul_business.groupby(['자치구']).sum()"
   ]
  },
  {
   "cell_type": "code",
   "execution_count": 491,
   "metadata": {
    "colab": {
     "base_uri": "https://localhost:8080/",
     "height": 238
    },
    "executionInfo": {
     "elapsed": 7,
     "status": "ok",
     "timestamp": 1667655453746,
     "user": {
      "displayName": "최가원",
      "userId": "06373414866148795583"
     },
     "user_tz": -540
    },
    "id": "sAYR31zGvpr7",
    "outputId": "ddaf4b32-b6ca-4edf-bfe3-855fe6016489"
   },
   "outputs": [
    {
     "data": {
      "text/html": [
       "\n",
       "  <div id=\"df-ca6601db-f2ca-4be5-9150-3ac80911e6f1\">\n",
       "    <div class=\"colab-df-container\">\n",
       "      <div>\n",
       "<style scoped>\n",
       "    .dataframe tbody tr th:only-of-type {\n",
       "        vertical-align: middle;\n",
       "    }\n",
       "\n",
       "    .dataframe tbody tr th {\n",
       "        vertical-align: top;\n",
       "    }\n",
       "\n",
       "    .dataframe thead th {\n",
       "        text-align: right;\n",
       "    }\n",
       "</style>\n",
       "<table border=\"1\" class=\"dataframe\">\n",
       "  <thead>\n",
       "    <tr style=\"text-align: right;\">\n",
       "      <th></th>\n",
       "      <th>한식일반음식점업(사업체수)</th>\n",
       "      <th>커피전문점(사업체수)</th>\n",
       "      <th>기타주점업(사업체수)</th>\n",
       "      <th>한식육류요리전문점(사업체수)</th>\n",
       "    </tr>\n",
       "    <tr>\n",
       "      <th>자치구</th>\n",
       "      <th></th>\n",
       "      <th></th>\n",
       "      <th></th>\n",
       "      <th></th>\n",
       "    </tr>\n",
       "  </thead>\n",
       "  <tbody>\n",
       "    <tr>\n",
       "      <th>강남구</th>\n",
       "      <td>4830</td>\n",
       "      <td>3248</td>\n",
       "      <td>1426</td>\n",
       "      <td>1654</td>\n",
       "    </tr>\n",
       "    <tr>\n",
       "      <th>강동구</th>\n",
       "      <td>2202</td>\n",
       "      <td>1092</td>\n",
       "      <td>1178</td>\n",
       "      <td>856</td>\n",
       "    </tr>\n",
       "    <tr>\n",
       "      <th>강북구</th>\n",
       "      <td>1930</td>\n",
       "      <td>716</td>\n",
       "      <td>1160</td>\n",
       "      <td>724</td>\n",
       "    </tr>\n",
       "    <tr>\n",
       "      <th>강서구</th>\n",
       "      <td>2650</td>\n",
       "      <td>1380</td>\n",
       "      <td>1588</td>\n",
       "      <td>1162</td>\n",
       "    </tr>\n",
       "    <tr>\n",
       "      <th>관악구</th>\n",
       "      <td>2452</td>\n",
       "      <td>1162</td>\n",
       "      <td>1316</td>\n",
       "      <td>844</td>\n",
       "    </tr>\n",
       "  </tbody>\n",
       "</table>\n",
       "</div>\n",
       "      <button class=\"colab-df-convert\" onclick=\"convertToInteractive('df-ca6601db-f2ca-4be5-9150-3ac80911e6f1')\"\n",
       "              title=\"Convert this dataframe to an interactive table.\"\n",
       "              style=\"display:none;\">\n",
       "        \n",
       "  <svg xmlns=\"http://www.w3.org/2000/svg\" height=\"24px\"viewBox=\"0 0 24 24\"\n",
       "       width=\"24px\">\n",
       "    <path d=\"M0 0h24v24H0V0z\" fill=\"none\"/>\n",
       "    <path d=\"M18.56 5.44l.94 2.06.94-2.06 2.06-.94-2.06-.94-.94-2.06-.94 2.06-2.06.94zm-11 1L8.5 8.5l.94-2.06 2.06-.94-2.06-.94L8.5 2.5l-.94 2.06-2.06.94zm10 10l.94 2.06.94-2.06 2.06-.94-2.06-.94-.94-2.06-.94 2.06-2.06.94z\"/><path d=\"M17.41 7.96l-1.37-1.37c-.4-.4-.92-.59-1.43-.59-.52 0-1.04.2-1.43.59L10.3 9.45l-7.72 7.72c-.78.78-.78 2.05 0 2.83L4 21.41c.39.39.9.59 1.41.59.51 0 1.02-.2 1.41-.59l7.78-7.78 2.81-2.81c.8-.78.8-2.07 0-2.86zM5.41 20L4 18.59l7.72-7.72 1.47 1.35L5.41 20z\"/>\n",
       "  </svg>\n",
       "      </button>\n",
       "      \n",
       "  <style>\n",
       "    .colab-df-container {\n",
       "      display:flex;\n",
       "      flex-wrap:wrap;\n",
       "      gap: 12px;\n",
       "    }\n",
       "\n",
       "    .colab-df-convert {\n",
       "      background-color: #E8F0FE;\n",
       "      border: none;\n",
       "      border-radius: 50%;\n",
       "      cursor: pointer;\n",
       "      display: none;\n",
       "      fill: #1967D2;\n",
       "      height: 32px;\n",
       "      padding: 0 0 0 0;\n",
       "      width: 32px;\n",
       "    }\n",
       "\n",
       "    .colab-df-convert:hover {\n",
       "      background-color: #E2EBFA;\n",
       "      box-shadow: 0px 1px 2px rgba(60, 64, 67, 0.3), 0px 1px 3px 1px rgba(60, 64, 67, 0.15);\n",
       "      fill: #174EA6;\n",
       "    }\n",
       "\n",
       "    [theme=dark] .colab-df-convert {\n",
       "      background-color: #3B4455;\n",
       "      fill: #D2E3FC;\n",
       "    }\n",
       "\n",
       "    [theme=dark] .colab-df-convert:hover {\n",
       "      background-color: #434B5C;\n",
       "      box-shadow: 0px 1px 3px 1px rgba(0, 0, 0, 0.15);\n",
       "      filter: drop-shadow(0px 1px 2px rgba(0, 0, 0, 0.3));\n",
       "      fill: #FFFFFF;\n",
       "    }\n",
       "  </style>\n",
       "\n",
       "      <script>\n",
       "        const buttonEl =\n",
       "          document.querySelector('#df-ca6601db-f2ca-4be5-9150-3ac80911e6f1 button.colab-df-convert');\n",
       "        buttonEl.style.display =\n",
       "          google.colab.kernel.accessAllowed ? 'block' : 'none';\n",
       "\n",
       "        async function convertToInteractive(key) {\n",
       "          const element = document.querySelector('#df-ca6601db-f2ca-4be5-9150-3ac80911e6f1');\n",
       "          const dataTable =\n",
       "            await google.colab.kernel.invokeFunction('convertToInteractive',\n",
       "                                                     [key], {});\n",
       "          if (!dataTable) return;\n",
       "\n",
       "          const docLinkHtml = 'Like what you see? Visit the ' +\n",
       "            '<a target=\"_blank\" href=https://colab.research.google.com/notebooks/data_table.ipynb>data table notebook</a>'\n",
       "            + ' to learn more about interactive tables.';\n",
       "          element.innerHTML = '';\n",
       "          dataTable['output_type'] = 'display_data';\n",
       "          await google.colab.output.renderOutput(dataTable, element);\n",
       "          const docLink = document.createElement('div');\n",
       "          docLink.innerHTML = docLinkHtml;\n",
       "          element.appendChild(docLink);\n",
       "        }\n",
       "      </script>\n",
       "    </div>\n",
       "  </div>\n",
       "  "
      ],
      "text/plain": [
       "     한식일반음식점업(사업체수)  커피전문점(사업체수)  기타주점업(사업체수)  한식육류요리전문점(사업체수)\n",
       "자치구                                                           \n",
       "강남구            4830         3248         1426             1654\n",
       "강동구            2202         1092         1178              856\n",
       "강북구            1930          716         1160              724\n",
       "강서구            2650         1380         1588             1162\n",
       "관악구            2452         1162         1316              844"
      ]
     },
     "execution_count": 491,
     "metadata": {},
     "output_type": "execute_result"
    }
   ],
   "source": [
    "df_seoul_business_.head()"
   ]
  },
  {
   "cell_type": "code",
   "execution_count": 492,
   "metadata": {
    "executionInfo": {
     "elapsed": 6,
     "status": "ok",
     "timestamp": 1667655453746,
     "user": {
      "displayName": "최가원",
      "userId": "06373414866148795583"
     },
     "user_tz": -540
    },
    "id": "LrgGVd_2sNKq"
   },
   "outputs": [],
   "source": [
    "df_restaurant_business= pd.DataFrame()\n",
    "df_restaurant_business['한식일반음식점업(사업체수)']= df_seoul_business_['한식일반음식점업(사업체수)']\n",
    "df_restaurant_business['커피전문점(사업체수)']= df_seoul_business_['커피전문점(사업체수)']\n",
    "df_restaurant_business['한식육류요리전문점(사업체수)']= df_seoul_business_['한식육류요리전문점(사업체수)']\n",
    "df_restaurant_business['기타주점업(사업체수)']= df_seoul_business_['기타주점업(사업체수)']"
   ]
  },
  {
   "cell_type": "code",
   "execution_count": 493,
   "metadata": {
    "executionInfo": {
     "elapsed": 7,
     "status": "ok",
     "timestamp": 1667655453747,
     "user": {
      "displayName": "최가원",
      "userId": "06373414866148795583"
     },
     "user_tz": -540
    },
    "id": "ShBdIRyEv9um"
   },
   "outputs": [],
   "source": [
    "df_seoul_business_= df_seoul_business_.reset_index(drop=False)"
   ]
  },
  {
   "cell_type": "code",
   "execution_count": 494,
   "metadata": {
    "executionInfo": {
     "elapsed": 558,
     "status": "ok",
     "timestamp": 1667655454298,
     "user": {
      "displayName": "최가원",
      "userId": "06373414866148795583"
     },
     "user_tz": -540
    },
    "id": "aUnpVZentEqf"
   },
   "outputs": [],
   "source": [
    "df_restaurant_business['자치구']= df_seoul_business_['자치구']"
   ]
  },
  {
   "cell_type": "code",
   "execution_count": 495,
   "metadata": {
    "executionInfo": {
     "elapsed": 9,
     "status": "ok",
     "timestamp": 1667655454298,
     "user": {
      "displayName": "최가원",
      "userId": "06373414866148795583"
     },
     "user_tz": -540
    },
    "id": "EDT7MTqPximO"
   },
   "outputs": [],
   "source": [
    "df_restaurant_business['총 요식업 사업체수']= df_restaurant_business['한식일반음식점업(사업체수)'] + \\\n",
    "df_restaurant_business['커피전문점(사업체수)'] + \\\n",
    "df_restaurant_business['한식육류요리전문점(사업체수)'] + \\\n",
    "df_restaurant_business['기타주점업(사업체수)']"
   ]
  },
  {
   "cell_type": "code",
   "execution_count": 496,
   "metadata": {
    "colab": {
     "base_uri": "https://localhost:8080/"
    },
    "executionInfo": {
     "elapsed": 9,
     "status": "ok",
     "timestamp": 1667655454298,
     "user": {
      "displayName": "최가원",
      "userId": "06373414866148795583"
     },
     "user_tz": -540
    },
    "id": "wkKnRGqruahA",
    "outputId": "335669c2-e534-4c42-f37e-a261057f9ca0"
   },
   "outputs": [
    {
     "data": {
      "text/plain": [
       "(26, 6)"
      ]
     },
     "execution_count": 496,
     "metadata": {},
     "output_type": "execute_result"
    }
   ],
   "source": [
    "df_restaurant_business.shape"
   ]
  },
  {
   "cell_type": "code",
   "execution_count": 497,
   "metadata": {
    "executionInfo": {
     "elapsed": 9,
     "status": "ok",
     "timestamp": 1667655454299,
     "user": {
      "displayName": "최가원",
      "userId": "06373414866148795583"
     },
     "user_tz": -540
    },
    "id": "YpQBCc1VtJmz"
   },
   "outputs": [],
   "source": [
    "df_restaurant_business= df_restaurant_business.drop(index= df_restaurant_business[df_restaurant_business['자치구']=='합계'].index)"
   ]
  },
  {
   "cell_type": "code",
   "execution_count": 498,
   "metadata": {
    "executionInfo": {
     "elapsed": 9,
     "status": "ok",
     "timestamp": 1667655454299,
     "user": {
      "displayName": "최가원",
      "userId": "06373414866148795583"
     },
     "user_tz": -540
    },
    "id": "qFlLmHNPxGnm"
   },
   "outputs": [],
   "source": [
    "df_seoul_bus_passenger= pd.DataFrame()\n",
    "df_seoul_bus_passenger['승하차총승객수']= df_seoul_bus_station['승차총승객수'] + df_seoul_bus_station['하차총승객수']"
   ]
  },
  {
   "cell_type": "code",
   "execution_count": 499,
   "metadata": {
    "executionInfo": {
     "elapsed": 9,
     "status": "ok",
     "timestamp": 1667655454299,
     "user": {
      "displayName": "최가원",
      "userId": "06373414866148795583"
     },
     "user_tz": -540
    },
    "id": "cVWr5Jz0xXhz"
   },
   "outputs": [],
   "source": [
    "df_seoul_bus_passenger['자치구']= df_seoul_bus_station['자치구'] "
   ]
  },
  {
   "cell_type": "code",
   "execution_count": 500,
   "metadata": {
    "colab": {
     "base_uri": "https://localhost:8080/"
    },
    "executionInfo": {
     "elapsed": 9,
     "status": "ok",
     "timestamp": 1667655454299,
     "user": {
      "displayName": "최가원",
      "userId": "06373414866148795583"
     },
     "user_tz": -540
    },
    "id": "KcmAffftxd_D",
    "outputId": "85d0a768-c1f2-4419-f2bc-8f0f553520f8"
   },
   "outputs": [
    {
     "data": {
      "text/plain": [
       "(25, 2)"
      ]
     },
     "execution_count": 500,
     "metadata": {},
     "output_type": "execute_result"
    }
   ],
   "source": [
    "df_seoul_bus_passenger.shape"
   ]
  },
  {
   "cell_type": "code",
   "execution_count": 501,
   "metadata": {
    "executionInfo": {
     "elapsed": 6,
     "status": "ok",
     "timestamp": 1667655454299,
     "user": {
      "displayName": "최가원",
      "userId": "06373414866148795583"
     },
     "user_tz": -540
    },
    "id": "o_FfJnH6r0i1"
   },
   "outputs": [],
   "source": [
    "df_restaurant_business= df_restaurant_business[['자치구', '총 요식업 사업체수']]\n",
    "df_seoul_bus_passenger= df_seoul_bus_passenger[['자치구', '승하차총승객수']]"
   ]
  },
  {
   "cell_type": "code",
   "execution_count": 502,
   "metadata": {
    "executionInfo": {
     "elapsed": 6,
     "status": "ok",
     "timestamp": 1667655454299,
     "user": {
      "displayName": "최가원",
      "userId": "06373414866148795583"
     },
     "user_tz": -540
    },
    "id": "gqRAf1VVrzN_"
   },
   "outputs": [],
   "source": [
    "# 1. 상관관계 분석 (상관계수, p-value)"
   ]
  },
  {
   "cell_type": "code",
   "execution_count": 503,
   "metadata": {
    "colab": {
     "base_uri": "https://localhost:8080/",
     "height": 327
    },
    "executionInfo": {
     "elapsed": 7,
     "status": "error",
     "timestamp": 1667655454300,
     "user": {
      "displayName": "최가원",
      "userId": "06373414866148795583"
     },
     "user_tz": -540
    },
    "id": "qriPC-7br0G6",
    "outputId": "ba708bfc-e9f5-44fe-a7ac-a8dde21328c8"
   },
   "outputs": [
    {
     "ename": "ValueError",
     "evalue": "ignored",
     "output_type": "error",
     "traceback": [
      "\u001b[0;31m---------------------------------------------------------------------------\u001b[0m",
      "\u001b[0;31mValueError\u001b[0m                                Traceback (most recent call last)",
      "\u001b[0;32m<ipython-input-503-b090033232d6>\u001b[0m in \u001b[0;36m<module>\u001b[0;34m\u001b[0m\n\u001b[0;32m----> 1\u001b[0;31m \u001b[0mdf\u001b[0m\u001b[0;34m=\u001b[0m \u001b[0mpd\u001b[0m\u001b[0;34m.\u001b[0m\u001b[0mmerge\u001b[0m\u001b[0;34m(\u001b[0m\u001b[0mdf_restaurant_business\u001b[0m\u001b[0;34m,\u001b[0m \u001b[0mdf_seoul_bus_passenger\u001b[0m\u001b[0;34m,\u001b[0m \u001b[0mhow\u001b[0m\u001b[0;34m=\u001b[0m\u001b[0;34m'inner'\u001b[0m\u001b[0;34m,\u001b[0m \u001b[0mon\u001b[0m\u001b[0;34m=\u001b[0m\u001b[0;34m'자치구'\u001b[0m\u001b[0;34m)\u001b[0m\u001b[0;34m\u001b[0m\u001b[0;34m\u001b[0m\u001b[0m\n\u001b[0m",
      "\u001b[0;32m/usr/local/lib/python3.7/dist-packages/pandas/core/reshape/merge.py\u001b[0m in \u001b[0;36mmerge\u001b[0;34m(left, right, how, on, left_on, right_on, left_index, right_index, sort, suffixes, copy, indicator, validate)\u001b[0m\n\u001b[1;32m    117\u001b[0m         \u001b[0mcopy\u001b[0m\u001b[0;34m=\u001b[0m\u001b[0mcopy\u001b[0m\u001b[0;34m,\u001b[0m\u001b[0;34m\u001b[0m\u001b[0;34m\u001b[0m\u001b[0m\n\u001b[1;32m    118\u001b[0m         \u001b[0mindicator\u001b[0m\u001b[0;34m=\u001b[0m\u001b[0mindicator\u001b[0m\u001b[0;34m,\u001b[0m\u001b[0;34m\u001b[0m\u001b[0;34m\u001b[0m\u001b[0m\n\u001b[0;32m--> 119\u001b[0;31m         \u001b[0mvalidate\u001b[0m\u001b[0;34m=\u001b[0m\u001b[0mvalidate\u001b[0m\u001b[0;34m,\u001b[0m\u001b[0;34m\u001b[0m\u001b[0;34m\u001b[0m\u001b[0m\n\u001b[0m\u001b[1;32m    120\u001b[0m     )\n\u001b[1;32m    121\u001b[0m     \u001b[0;32mreturn\u001b[0m \u001b[0mop\u001b[0m\u001b[0;34m.\u001b[0m\u001b[0mget_result\u001b[0m\u001b[0;34m(\u001b[0m\u001b[0;34m)\u001b[0m\u001b[0;34m\u001b[0m\u001b[0;34m\u001b[0m\u001b[0m\n",
      "\u001b[0;32m/usr/local/lib/python3.7/dist-packages/pandas/core/reshape/merge.py\u001b[0m in \u001b[0;36m__init__\u001b[0;34m(self, left, right, how, on, left_on, right_on, axis, left_index, right_index, sort, suffixes, copy, indicator, validate)\u001b[0m\n\u001b[1;32m    697\u001b[0m             \u001b[0mself\u001b[0m\u001b[0;34m.\u001b[0m\u001b[0mright_join_keys\u001b[0m\u001b[0;34m,\u001b[0m\u001b[0;34m\u001b[0m\u001b[0;34m\u001b[0m\u001b[0m\n\u001b[1;32m    698\u001b[0m             \u001b[0mself\u001b[0m\u001b[0;34m.\u001b[0m\u001b[0mjoin_names\u001b[0m\u001b[0;34m,\u001b[0m\u001b[0;34m\u001b[0m\u001b[0;34m\u001b[0m\u001b[0m\n\u001b[0;32m--> 699\u001b[0;31m         ) = self._get_merge_keys()\n\u001b[0m\u001b[1;32m    700\u001b[0m \u001b[0;34m\u001b[0m\u001b[0m\n\u001b[1;32m    701\u001b[0m         \u001b[0;31m# validate the merge keys dtypes. We may need to coerce\u001b[0m\u001b[0;34m\u001b[0m\u001b[0;34m\u001b[0m\u001b[0;34m\u001b[0m\u001b[0m\n",
      "\u001b[0;32m/usr/local/lib/python3.7/dist-packages/pandas/core/reshape/merge.py\u001b[0m in \u001b[0;36m_get_merge_keys\u001b[0;34m(self)\u001b[0m\n\u001b[1;32m   1107\u001b[0m                         \u001b[0mright_keys\u001b[0m\u001b[0;34m.\u001b[0m\u001b[0mappend\u001b[0m\u001b[0;34m(\u001b[0m\u001b[0mrk\u001b[0m\u001b[0;34m)\u001b[0m\u001b[0;34m\u001b[0m\u001b[0;34m\u001b[0m\u001b[0m\n\u001b[1;32m   1108\u001b[0m                     \u001b[0;32mif\u001b[0m \u001b[0mlk\u001b[0m \u001b[0;32mis\u001b[0m \u001b[0;32mnot\u001b[0m \u001b[0;32mNone\u001b[0m\u001b[0;34m:\u001b[0m\u001b[0;34m\u001b[0m\u001b[0;34m\u001b[0m\u001b[0m\n\u001b[0;32m-> 1109\u001b[0;31m                         \u001b[0mleft_keys\u001b[0m\u001b[0;34m.\u001b[0m\u001b[0mappend\u001b[0m\u001b[0;34m(\u001b[0m\u001b[0mleft\u001b[0m\u001b[0;34m.\u001b[0m\u001b[0m_get_label_or_level_values\u001b[0m\u001b[0;34m(\u001b[0m\u001b[0mlk\u001b[0m\u001b[0;34m)\u001b[0m\u001b[0;34m)\u001b[0m\u001b[0;34m\u001b[0m\u001b[0;34m\u001b[0m\u001b[0m\n\u001b[0m\u001b[1;32m   1110\u001b[0m                         \u001b[0mjoin_names\u001b[0m\u001b[0;34m.\u001b[0m\u001b[0mappend\u001b[0m\u001b[0;34m(\u001b[0m\u001b[0mlk\u001b[0m\u001b[0;34m)\u001b[0m\u001b[0;34m\u001b[0m\u001b[0;34m\u001b[0m\u001b[0m\n\u001b[1;32m   1111\u001b[0m                     \u001b[0;32melse\u001b[0m\u001b[0;34m:\u001b[0m\u001b[0;34m\u001b[0m\u001b[0;34m\u001b[0m\u001b[0m\n",
      "\u001b[0;32m/usr/local/lib/python3.7/dist-packages/pandas/core/generic.py\u001b[0m in \u001b[0;36m_get_label_or_level_values\u001b[0;34m(self, key, axis)\u001b[0m\n\u001b[1;32m   1772\u001b[0m \u001b[0;34m\u001b[0m\u001b[0m\n\u001b[1;32m   1773\u001b[0m         \u001b[0;32mif\u001b[0m \u001b[0mself\u001b[0m\u001b[0;34m.\u001b[0m\u001b[0m_is_label_reference\u001b[0m\u001b[0;34m(\u001b[0m\u001b[0mkey\u001b[0m\u001b[0;34m,\u001b[0m \u001b[0maxis\u001b[0m\u001b[0;34m=\u001b[0m\u001b[0maxis\u001b[0m\u001b[0;34m)\u001b[0m\u001b[0;34m:\u001b[0m\u001b[0;34m\u001b[0m\u001b[0;34m\u001b[0m\u001b[0m\n\u001b[0;32m-> 1774\u001b[0;31m             \u001b[0mself\u001b[0m\u001b[0;34m.\u001b[0m\u001b[0m_check_label_or_level_ambiguity\u001b[0m\u001b[0;34m(\u001b[0m\u001b[0mkey\u001b[0m\u001b[0;34m,\u001b[0m \u001b[0maxis\u001b[0m\u001b[0;34m=\u001b[0m\u001b[0maxis\u001b[0m\u001b[0;34m)\u001b[0m\u001b[0;34m\u001b[0m\u001b[0;34m\u001b[0m\u001b[0m\n\u001b[0m\u001b[1;32m   1775\u001b[0m             \u001b[0mvalues\u001b[0m \u001b[0;34m=\u001b[0m \u001b[0mself\u001b[0m\u001b[0;34m.\u001b[0m\u001b[0mxs\u001b[0m\u001b[0;34m(\u001b[0m\u001b[0mkey\u001b[0m\u001b[0;34m,\u001b[0m \u001b[0maxis\u001b[0m\u001b[0;34m=\u001b[0m\u001b[0mother_axes\u001b[0m\u001b[0;34m[\u001b[0m\u001b[0;36m0\u001b[0m\u001b[0;34m]\u001b[0m\u001b[0;34m)\u001b[0m\u001b[0;34m.\u001b[0m\u001b[0m_values\u001b[0m\u001b[0;34m\u001b[0m\u001b[0;34m\u001b[0m\u001b[0m\n\u001b[1;32m   1776\u001b[0m         \u001b[0;32melif\u001b[0m \u001b[0mself\u001b[0m\u001b[0;34m.\u001b[0m\u001b[0m_is_level_reference\u001b[0m\u001b[0;34m(\u001b[0m\u001b[0mkey\u001b[0m\u001b[0;34m,\u001b[0m \u001b[0maxis\u001b[0m\u001b[0;34m=\u001b[0m\u001b[0maxis\u001b[0m\u001b[0;34m)\u001b[0m\u001b[0;34m:\u001b[0m\u001b[0;34m\u001b[0m\u001b[0;34m\u001b[0m\u001b[0m\n",
      "\u001b[0;32m/usr/local/lib/python3.7/dist-packages/pandas/core/generic.py\u001b[0m in \u001b[0;36m_check_label_or_level_ambiguity\u001b[0;34m(self, key, axis)\u001b[0m\n\u001b[1;32m   1731\u001b[0m                 \u001b[0;34mf\"{label_article} {label_type} label, which is ambiguous.\"\u001b[0m\u001b[0;34m\u001b[0m\u001b[0;34m\u001b[0m\u001b[0m\n\u001b[1;32m   1732\u001b[0m             )\n\u001b[0;32m-> 1733\u001b[0;31m             \u001b[0;32mraise\u001b[0m \u001b[0mValueError\u001b[0m\u001b[0;34m(\u001b[0m\u001b[0mmsg\u001b[0m\u001b[0;34m)\u001b[0m\u001b[0;34m\u001b[0m\u001b[0;34m\u001b[0m\u001b[0m\n\u001b[0m\u001b[1;32m   1734\u001b[0m \u001b[0;34m\u001b[0m\u001b[0m\n\u001b[1;32m   1735\u001b[0m     \u001b[0;34m@\u001b[0m\u001b[0mfinal\u001b[0m\u001b[0;34m\u001b[0m\u001b[0;34m\u001b[0m\u001b[0m\n",
      "\u001b[0;31mValueError\u001b[0m: '자치구' is both an index level and a column label, which is ambiguous."
     ]
    }
   ],
   "source": [
    "df= pd.merge(df_restaurant_business, df_seoul_bus_passenger, how='inner', on='자치구')"
   ]
  },
  {
   "cell_type": "code",
   "execution_count": null,
   "metadata": {
    "executionInfo": {
     "elapsed": 6,
     "status": "aborted",
     "timestamp": 1667655454300,
     "user": {
      "displayName": "최가원",
      "userId": "06373414866148795583"
     },
     "user_tz": -540
    },
    "id": "7sot1LJfyInG"
   },
   "outputs": [],
   "source": [
    "from scipy.stats import mannwhitneyu\n",
    "mannwhitneyu(df['총 요식업 사업체수'], df['승하차총승객수'])"
   ]
  },
  {
   "cell_type": "code",
   "execution_count": null,
   "metadata": {
    "executionInfo": {
     "elapsed": 6,
     "status": "aborted",
     "timestamp": 1667655454300,
     "user": {
      "displayName": "최가원",
      "userId": "06373414866148795583"
     },
     "user_tz": -540
    },
    "id": "j0HFcsKayXnU"
   },
   "outputs": [],
   "source": [
    "# 2. 변수 2개로 회귀모델 세우기"
   ]
  },
  {
   "cell_type": "code",
   "execution_count": null,
   "metadata": {
    "executionInfo": {
     "elapsed": 6,
     "status": "aborted",
     "timestamp": 1667655454300,
     "user": {
      "displayName": "최가원",
      "userId": "06373414866148795583"
     },
     "user_tz": -540
    },
    "id": "oI4MDteiyYe9"
   },
   "outputs": [],
   "source": [
    "from sklearn.linear_model import LinearRegression\n",
    "from sklearn.model_selection import train_test_split"
   ]
  },
  {
   "cell_type": "code",
   "execution_count": null,
   "metadata": {
    "executionInfo": {
     "elapsed": 6,
     "status": "aborted",
     "timestamp": 1667655454300,
     "user": {
      "displayName": "최가원",
      "userId": "06373414866148795583"
     },
     "user_tz": -540
    },
    "id": "wmJpWaRT8LK8"
   },
   "outputs": [],
   "source": [
    "lr = LinearRegression()"
   ]
  },
  {
   "cell_type": "code",
   "execution_count": null,
   "metadata": {
    "executionInfo": {
     "elapsed": 7,
     "status": "aborted",
     "timestamp": 1667655454301,
     "user": {
      "displayName": "최가원",
      "userId": "06373414866148795583"
     },
     "user_tz": -540
    },
    "id": "atT-NugOyZNZ"
   },
   "outputs": [],
   "source": [
    "y= df['총 요식업 사업체수']\n",
    "X= df[['승하차총승객수']]\n",
    "\n",
    "X= X.values.reshape(-1, 1)\n",
    "\n",
    "X_train, X_test, y_train, y_test = train_test_split(X, y, test_size = 0.1)"
   ]
  },
  {
   "cell_type": "code",
   "execution_count": null,
   "metadata": {
    "executionInfo": {
     "elapsed": 75796,
     "status": "aborted",
     "timestamp": 1667655454301,
     "user": {
      "displayName": "최가원",
      "userId": "06373414866148795583"
     },
     "user_tz": -540
    },
    "id": "QSvy7zi-ye68"
   },
   "outputs": [],
   "source": [
    "lr.fit(X_train, y_train)"
   ]
  },
  {
   "cell_type": "code",
   "execution_count": null,
   "metadata": {
    "executionInfo": {
     "elapsed": 75790,
     "status": "aborted",
     "timestamp": 1667655454301,
     "user": {
      "displayName": "최가원",
      "userId": "06373414866148795583"
     },
     "user_tz": -540
    },
    "id": "WJXkY0SUyf65"
   },
   "outputs": [],
   "source": [
    "plt.scatter(X, y)\n",
    "plt.plot(X, lr.coef_[0]*X + lr.intercept_, color='red')\n",
    "plt.show()"
   ]
  },
  {
   "cell_type": "code",
   "execution_count": null,
   "metadata": {
    "executionInfo": {
     "elapsed": 75784,
     "status": "aborted",
     "timestamp": 1667655454301,
     "user": {
      "displayName": "최가원",
      "userId": "06373414866148795583"
     },
     "user_tz": -540
    },
    "id": "UsA5bRjAyg91"
   },
   "outputs": [],
   "source": [
    "# 3. 상관계수, 설명력 확인"
   ]
  },
  {
   "cell_type": "code",
   "execution_count": null,
   "metadata": {
    "executionInfo": {
     "elapsed": 75781,
     "status": "aborted",
     "timestamp": 1667655454301,
     "user": {
      "displayName": "최가원",
      "userId": "06373414866148795583"
     },
     "user_tz": -540
    },
    "id": "TbSTMA-Yyh7w"
   },
   "outputs": [],
   "source": [
    "import statsmodels.api as sm\n",
    "results = sm.OLS(y, sm.add_constant(X)).fit()"
   ]
  },
  {
   "cell_type": "code",
   "execution_count": null,
   "metadata": {
    "executionInfo": {
     "elapsed": 76069,
     "status": "aborted",
     "timestamp": 1667655454594,
     "user": {
      "displayName": "최가원",
      "userId": "06373414866148795583"
     },
     "user_tz": -540
    },
    "id": "qWoIGGIoyi7o"
   },
   "outputs": [],
   "source": [
    "results.summary()\n",
    "# R-squared(설명력):\t0.280\n",
    "# Prob (F-statistic)(p-value):\t0.00658\n",
    "# F-statistic:\t8.924"
   ]
  },
  {
   "cell_type": "markdown",
   "metadata": {
    "id": "yOcViGsf7OyZ"
   },
   "source": [
    "### **5. 야간상주지(집)으로 가는 유동인구와 등록인구는 상관관계가 있다.**"
   ]
  },
  {
   "cell_type": "code",
   "execution_count": 504,
   "metadata": {
    "executionInfo": {
     "elapsed": 881,
     "status": "ok",
     "timestamp": 1667655490083,
     "user": {
      "displayName": "최가원",
      "userId": "06373414866148795583"
     },
     "user_tz": -540
    },
    "id": "bAz8CRlZ7jjp"
   },
   "outputs": [],
   "source": [
    "# 1. 상관관계 분석 (상관계수, p-value)\n",
    "# 2. 변수 2개로 회귀모델 세우기\n",
    "# 2. 상관계수, 설명력 확인"
   ]
  },
  {
   "cell_type": "code",
   "execution_count": 505,
   "metadata": {
    "executionInfo": {
     "elapsed": 16111,
     "status": "ok",
     "timestamp": 1667655506684,
     "user": {
      "displayName": "최가원",
      "userId": "06373414866148795583"
     },
     "user_tz": -540
    },
    "id": "DSmYrSi7yw8A"
   },
   "outputs": [],
   "source": [
    "df_seoul_moving = pd.read_csv('df_seoul_moving.csv', sep=\",\", encoding = 'UTF-8')\n",
    "df_seoul_people = pd.read_csv('df_seoul_people.csv', sep=\",\", encoding = 'UTF-8')"
   ]
  },
  {
   "cell_type": "code",
   "execution_count": 506,
   "metadata": {
    "executionInfo": {
     "elapsed": 2,
     "status": "ok",
     "timestamp": 1667655506685,
     "user": {
      "displayName": "최가원",
      "userId": "06373414866148795583"
     },
     "user_tz": -540
    },
    "id": "GuxUBIc89hOX"
   },
   "outputs": [],
   "source": [
    "df= pd.DataFrame()\n",
    "df= df_seoul_moving"
   ]
  },
  {
   "cell_type": "code",
   "execution_count": 507,
   "metadata": {
    "executionInfo": {
     "elapsed": 3159,
     "status": "ok",
     "timestamp": 1667655509842,
     "user": {
      "displayName": "최가원",
      "userId": "06373414866148795583"
     },
     "user_tz": -540
    },
    "id": "mkf7diSD88CQ"
   },
   "outputs": [],
   "source": [
    "df= df[(df_seoul_moving['이동유형']=='HH') | (df_seoul_moving['이동유형']=='EH') | \\\n",
    "                    (df_seoul_moving['이동유형']=='WH')]"
   ]
  },
  {
   "cell_type": "code",
   "execution_count": 508,
   "metadata": {
    "colab": {
     "base_uri": "https://localhost:8080/"
    },
    "executionInfo": {
     "elapsed": 4,
     "status": "ok",
     "timestamp": 1667655509842,
     "user": {
      "displayName": "최가원",
      "userId": "06373414866148795583"
     },
     "user_tz": -540
    },
    "id": "lkWqNu569tf9",
    "outputId": "5eab40c6-e849-4eff-c413-db58e854c9b4"
   },
   "outputs": [
    {
     "data": {
      "text/plain": [
       "array(['EH', 'WH', 'HH'], dtype=object)"
      ]
     },
     "execution_count": 508,
     "metadata": {},
     "output_type": "execute_result"
    }
   ],
   "source": [
    "df['이동유형'].unique()"
   ]
  },
  {
   "cell_type": "code",
   "execution_count": 509,
   "metadata": {
    "executionInfo": {
     "elapsed": 3,
     "status": "ok",
     "timestamp": 1667655509842,
     "user": {
      "displayName": "최가원",
      "userId": "06373414866148795583"
     },
     "user_tz": -540
    },
    "id": "s7whVedI9y5d"
   },
   "outputs": [],
   "source": [
    "df_seoul_moving_sum_H= df.groupby('도착 시군구 코드')[['이동인구(합)']].sum()"
   ]
  },
  {
   "cell_type": "code",
   "execution_count": 510,
   "metadata": {
    "executionInfo": {
     "elapsed": 3,
     "status": "ok",
     "timestamp": 1667655509842,
     "user": {
      "displayName": "최가원",
      "userId": "06373414866148795583"
     },
     "user_tz": -540
    },
    "id": "Ju-I13Jo9-Se"
   },
   "outputs": [],
   "source": [
    "df_seoul_people_sum= df_seoul_people[['자치구', '인구(계)']]\n",
    "df_seoul_people_sum =  df_seoul_people_sum.head(25)"
   ]
  },
  {
   "cell_type": "code",
   "execution_count": 511,
   "metadata": {
    "executionInfo": {
     "elapsed": 3,
     "status": "ok",
     "timestamp": 1667655509842,
     "user": {
      "displayName": "최가원",
      "userId": "06373414866148795583"
     },
     "user_tz": -540
    },
    "id": "FCh4SM2v-lVz"
   },
   "outputs": [],
   "source": [
    "standard = pd.DataFrame({'도착 시군구 코드': [11010, 11020, 11030, 11040, 11050, 11060, 11070, 11080, 11090, 11100, 11110, 11120, 11130, 11140, 11150, 11160, 11170, 11180, 11190, 11200, 11210, 11220, 11230, 11240, 11250],\n",
    "                         '자치구' :['종로구','중구','용산구','성동구','광진구','동대문구','중랑구','성북구','강북구','도봉구','노원구','은평구','서대문구','마포구','양천구','강서구','구로구','금천구','영등포구','동작구','관악구','서초구','강남구','송파구','강동구']})"
   ]
  },
  {
   "cell_type": "code",
   "execution_count": 512,
   "metadata": {
    "executionInfo": {
     "elapsed": 3,
     "status": "ok",
     "timestamp": 1667655509843,
     "user": {
      "displayName": "최가원",
      "userId": "06373414866148795583"
     },
     "user_tz": -540
    },
    "id": "RqEgUzDN-pzc"
   },
   "outputs": [],
   "source": [
    "df_seoul_moving_sum_H= pd.merge(standard, df_seoul_moving_sum_H, how='inner', on='도착 시군구 코드')"
   ]
  },
  {
   "cell_type": "code",
   "execution_count": 513,
   "metadata": {
    "executionInfo": {
     "elapsed": 10,
     "status": "ok",
     "timestamp": 1667655510409,
     "user": {
      "displayName": "최가원",
      "userId": "06373414866148795583"
     },
     "user_tz": -540
    },
    "id": "1-J__lCV-lxe"
   },
   "outputs": [],
   "source": [
    "df= pd.merge(df_seoul_people_sum, df_seoul_moving_sum_H, how='inner', on='자치구')"
   ]
  },
  {
   "cell_type": "code",
   "execution_count": 514,
   "metadata": {
    "colab": {
     "base_uri": "https://localhost:8080/"
    },
    "executionInfo": {
     "elapsed": 11,
     "status": "ok",
     "timestamp": 1667655510410,
     "user": {
      "displayName": "최가원",
      "userId": "06373414866148795583"
     },
     "user_tz": -540
    },
    "id": "L79300Vb--9Z",
    "outputId": "9b5d641f-3823-40ed-96b5-7222e4df992f"
   },
   "outputs": [
    {
     "name": "stdout",
     "output_type": "stream",
     "text": [
      "0.9361395773508365 1.8441141667382898e-11\n"
     ]
    }
   ],
   "source": [
    "# from scipy.stats import ttest_ind\n",
    "# ttest_ind(df['이동인구(합)'], df['인구(계)'])\n",
    "# 이거 t검정이 아니라 피어슨 상관관계 분석 아닌가? (check)\n",
    "\n",
    "X= df['이동인구(합)']\n",
    "y= df['인구(계)']\n",
    "\n",
    "corr, p_value= stats.pearsonr(X,y)\n",
    "print(corr, p_value)"
   ]
  },
  {
   "cell_type": "code",
   "execution_count": 515,
   "metadata": {
    "executionInfo": {
     "elapsed": 10,
     "status": "ok",
     "timestamp": 1667655510410,
     "user": {
      "displayName": "최가원",
      "userId": "06373414866148795583"
     },
     "user_tz": -540
    },
    "id": "D2warXR2_0fn"
   },
   "outputs": [],
   "source": [
    "# 2. 변수 2개로 회귀모델 세우기"
   ]
  },
  {
   "cell_type": "code",
   "execution_count": 516,
   "metadata": {
    "executionInfo": {
     "elapsed": 10,
     "status": "ok",
     "timestamp": 1667655510410,
     "user": {
      "displayName": "최가원",
      "userId": "06373414866148795583"
     },
     "user_tz": -540
    },
    "id": "kEWA2fML_1rM"
   },
   "outputs": [],
   "source": [
    "from sklearn.linear_model import LinearRegression\n",
    "from sklearn.model_selection import train_test_split"
   ]
  },
  {
   "cell_type": "code",
   "execution_count": 517,
   "metadata": {
    "executionInfo": {
     "elapsed": 10,
     "status": "ok",
     "timestamp": 1667655510410,
     "user": {
      "displayName": "최가원",
      "userId": "06373414866148795583"
     },
     "user_tz": -540
    },
    "id": "Nd8iR1jo_2oX"
   },
   "outputs": [],
   "source": [
    "lr = LinearRegression()"
   ]
  },
  {
   "cell_type": "code",
   "execution_count": 518,
   "metadata": {
    "executionInfo": {
     "elapsed": 10,
     "status": "ok",
     "timestamp": 1667655510410,
     "user": {
      "displayName": "최가원",
      "userId": "06373414866148795583"
     },
     "user_tz": -540
    },
    "id": "CL5ZZqOC_3qV"
   },
   "outputs": [],
   "source": [
    "X= df[['이동인구(합)']]\n",
    "y= df['인구(계)']\n",
    "\n",
    "X= X.values.reshape(-1, 1)\n",
    "\n",
    "X_train, X_test, y_train, y_test = train_test_split(X, y, test_size = 0.1)"
   ]
  },
  {
   "cell_type": "code",
   "execution_count": 519,
   "metadata": {
    "colab": {
     "base_uri": "https://localhost:8080/"
    },
    "executionInfo": {
     "elapsed": 11,
     "status": "ok",
     "timestamp": 1667655510411,
     "user": {
      "displayName": "최가원",
      "userId": "06373414866148795583"
     },
     "user_tz": -540
    },
    "id": "RYoblk4i_4tO",
    "outputId": "f31d5b2e-4903-41cb-d120-89caf7bbff00"
   },
   "outputs": [
    {
     "data": {
      "text/plain": [
       "LinearRegression()"
      ]
     },
     "execution_count": 519,
     "metadata": {},
     "output_type": "execute_result"
    }
   ],
   "source": [
    "lr.fit(X_train, y_train)"
   ]
  },
  {
   "cell_type": "code",
   "execution_count": 520,
   "metadata": {
    "colab": {
     "base_uri": "https://localhost:8080/",
     "height": 282
    },
    "executionInfo": {
     "elapsed": 8,
     "status": "ok",
     "timestamp": 1667655510411,
     "user": {
      "displayName": "최가원",
      "userId": "06373414866148795583"
     },
     "user_tz": -540
    },
    "id": "DuxJJBHY_51f",
    "outputId": "fe14eebf-f62d-430d-df5b-25353cf91965"
   },
   "outputs": [
    {
     "data": {
      "image/png": "[encoded data removed]",
      "text/plain": [
       "<Figure size 432x288 with 1 Axes>"
      ]
     },
     "metadata": {
      "needs_background": "light"
     },
     "output_type": "display_data"
    }
   ],
   "source": [
    "plt.scatter(X, y)\n",
    "plt.plot(X, lr.coef_[0]*X + lr.intercept_, color='red')\n",
    "plt.show()"
   ]
  },
  {
   "cell_type": "code",
   "execution_count": 521,
   "metadata": {
    "executionInfo": {
     "elapsed": 7,
     "status": "ok",
     "timestamp": 1667655510411,
     "user": {
      "displayName": "최가원",
      "userId": "06373414866148795583"
     },
     "user_tz": -540
    },
    "id": "otpwds-O_7W_"
   },
   "outputs": [],
   "source": [
    "# 3. 상관계수, 설명력 확인"
   ]
  },
  {
   "cell_type": "code",
   "execution_count": 522,
   "metadata": {
    "executionInfo": {
     "elapsed": 7,
     "status": "ok",
     "timestamp": 1667655510411,
     "user": {
      "displayName": "최가원",
      "userId": "06373414866148795583"
     },
     "user_tz": -540
    },
    "id": "L1Yi1IxP_8Ql"
   },
   "outputs": [],
   "source": [
    "import statsmodels.api as sm\n",
    "results = sm.OLS(y, sm.add_constant(X)).fit()"
   ]
  },
  {
   "cell_type": "code",
   "execution_count": 523,
   "metadata": {
    "colab": {
     "base_uri": "https://localhost:8080/",
     "height": 486
    },
    "executionInfo": {
     "elapsed": 7,
     "status": "ok",
     "timestamp": 1667655510411,
     "user": {
      "displayName": "최가원",
      "userId": "06373414866148795583"
     },
     "user_tz": -540
    },
    "id": "Fx5Xj6z1_94N",
    "outputId": "d9e24d91-6aef-4d9d-9cb4-dd64c60ab5bc"
   },
   "outputs": [
    {
     "data": {
      "text/html": [
       "<table class=\"simpletable\">\n",
       "<caption>OLS Regression Results</caption>\n",
       "<tr>\n",
       "  <th>Dep. Variable:</th>          <td>인구(계)</td>      <th>  R-squared:         </th> <td>   0.876</td>\n",
       "</tr>\n",
       "<tr>\n",
       "  <th>Model:</th>                   <td>OLS</td>       <th>  Adj. R-squared:    </th> <td>   0.871</td>\n",
       "</tr>\n",
       "<tr>\n",
       "  <th>Method:</th>             <td>Least Squares</td>  <th>  F-statistic:       </th> <td>   155.9</td>\n",
       "</tr>\n",
       "<tr>\n",
       "  <th>Date:</th>             <td>Sat, 05 Nov 2022</td> <th>  Prob (F-statistic):</th> <td>1.84e-11</td>\n",
       "</tr>\n",
       "<tr>\n",
       "  <th>Time:</th>                 <td>13:38:30</td>     <th>  Log-Likelihood:    </th> <td> -290.65</td>\n",
       "</tr>\n",
       "<tr>\n",
       "  <th>No. Observations:</th>      <td>    24</td>      <th>  AIC:               </th> <td>   585.3</td>\n",
       "</tr>\n",
       "<tr>\n",
       "  <th>Df Residuals:</th>          <td>    22</td>      <th>  BIC:               </th> <td>   587.7</td>\n",
       "</tr>\n",
       "<tr>\n",
       "  <th>Df Model:</th>              <td>     1</td>      <th>                     </th>     <td> </td>   \n",
       "</tr>\n",
       "<tr>\n",
       "  <th>Covariance Type:</th>      <td>nonrobust</td>    <th>                     </th>     <td> </td>   \n",
       "</tr>\n",
       "</table>\n",
       "<table class=\"simpletable\">\n",
       "<tr>\n",
       "    <td></td>       <th>coef</th>     <th>std err</th>      <th>t</th>      <th>P>|t|</th>  <th>[0.025</th>    <th>0.975]</th>  \n",
       "</tr>\n",
       "<tr>\n",
       "  <th>const</th> <td> 2.667e+04</td> <td> 3.03e+04</td> <td>    0.881</td> <td> 0.388</td> <td>-3.61e+04</td> <td> 8.95e+04</td>\n",
       "</tr>\n",
       "<tr>\n",
       "  <th>x1</th>    <td>    0.0498</td> <td>    0.004</td> <td>   12.487</td> <td> 0.000</td> <td>    0.042</td> <td>    0.058</td>\n",
       "</tr>\n",
       "</table>\n",
       "<table class=\"simpletable\">\n",
       "<tr>\n",
       "  <th>Omnibus:</th>       <td> 2.707</td> <th>  Durbin-Watson:     </th> <td>   0.777</td>\n",
       "</tr>\n",
       "<tr>\n",
       "  <th>Prob(Omnibus):</th> <td> 0.258</td> <th>  Jarque-Bera (JB):  </th> <td>   2.202</td>\n",
       "</tr>\n",
       "<tr>\n",
       "  <th>Skew:</th>          <td> 0.626</td> <th>  Prob(JB):          </th> <td>   0.332</td>\n",
       "</tr>\n",
       "<tr>\n",
       "  <th>Kurtosis:</th>      <td> 2.203</td> <th>  Cond. No.          </th> <td>2.45e+07</td>\n",
       "</tr>\n",
       "</table><br/><br/>Notes:<br/>[1] Standard Errors assume that the covariance matrix of the errors is correctly specified.<br/>[2] The condition number is large, 2.45e+07. This might indicate that there are<br/>strong multicollinearity or other numerical problems."
      ],
      "text/plain": [
       "<class 'statsmodels.iolib.summary.Summary'>\n",
       "\"\"\"\n",
       "                            OLS Regression Results                            \n",
       "==============================================================================\n",
       "Dep. Variable:                  인구(계)   R-squared:                       0.876\n",
       "Model:                            OLS   Adj. R-squared:                  0.871\n",
       "Method:                 Least Squares   F-statistic:                     155.9\n",
       "Date:                Sat, 05 Nov 2022   Prob (F-statistic):           1.84e-11\n",
       "Time:                        13:38:30   Log-Likelihood:                -290.65\n",
       "No. Observations:                  24   AIC:                             585.3\n",
       "Df Residuals:                      22   BIC:                             587.7\n",
       "Df Model:                           1                                         \n",
       "Covariance Type:            nonrobust                                         \n",
       "==============================================================================\n",
       "                 coef    std err          t      P>|t|      [0.025      0.975]\n",
       "------------------------------------------------------------------------------\n",
       "const       2.667e+04   3.03e+04      0.881      0.388   -3.61e+04    8.95e+04\n",
       "x1             0.0498      0.004     12.487      0.000       0.042       0.058\n",
       "==============================================================================\n",
       "Omnibus:                        2.707   Durbin-Watson:                   0.777\n",
       "Prob(Omnibus):                  0.258   Jarque-Bera (JB):                2.202\n",
       "Skew:                           0.626   Prob(JB):                        0.332\n",
       "Kurtosis:                       2.203   Cond. No.                     2.45e+07\n",
       "==============================================================================\n",
       "\n",
       "Notes:\n",
       "[1] Standard Errors assume that the covariance matrix of the errors is correctly specified.\n",
       "[2] The condition number is large, 2.45e+07. This might indicate that there are\n",
       "strong multicollinearity or other numerical problems.\n",
       "\"\"\""
      ]
     },
     "execution_count": 523,
     "metadata": {},
     "output_type": "execute_result"
    }
   ],
   "source": [
    "results.summary()\n",
    "# R-squared(설명력):\t0.874\n",
    "# Prob (F-statistic)(p-value):\t7.63e-12\n",
    "# F-statistic:\t160.1"
   ]
  },
  {
   "cell_type": "markdown",
   "metadata": {
    "id": "Wb8KHLe_7l4F"
   },
   "source": [
    "### **6. 주간상주지(근무지)로 가는 유동인구와 총 종사자수는 상관관계가 있다.**"
   ]
  },
  {
   "cell_type": "code",
   "execution_count": 524,
   "metadata": {
    "executionInfo": {
     "elapsed": 6,
     "status": "ok",
     "timestamp": 1667655510411,
     "user": {
      "displayName": "최가원",
      "userId": "06373414866148795583"
     },
     "user_tz": -540
    },
    "id": "4YDmc34U7p30"
   },
   "outputs": [],
   "source": [
    "# 1. 상관관계 분석 (상관계수, p-value)\n",
    "# 2. 변수 2개로 회귀모델 세우기\n",
    "# 2. 상관계수, 설명력 확인"
   ]
  },
  {
   "cell_type": "code",
   "execution_count": 525,
   "metadata": {
    "executionInfo": {
     "elapsed": 25106,
     "status": "ok",
     "timestamp": 1667655535511,
     "user": {
      "displayName": "최가원",
      "userId": "06373414866148795583"
     },
     "user_tz": -540
    },
    "id": "zbROR6a4Abm_"
   },
   "outputs": [],
   "source": [
    "df_seoul_moving = pd.read_csv('df_seoul_moving.csv', sep=\",\", encoding = 'UTF-8')\n",
    "df_seoul_business = pd.read_csv('df_seoul_business.csv', sep=\",\", encoding = 'UTF-8')"
   ]
  },
  {
   "cell_type": "code",
   "execution_count": 526,
   "metadata": {
    "colab": {
     "base_uri": "https://localhost:8080/",
     "height": 577
    },
    "executionInfo": {
     "elapsed": 4,
     "status": "ok",
     "timestamp": 1667655535512,
     "user": {
      "displayName": "최가원",
      "userId": "06373414866148795583"
     },
     "user_tz": -540
    },
    "id": "GVHelIcWCvEv",
    "outputId": "f14093e6-e4e1-4378-e288-75a1eb23c159"
   },
   "outputs": [
    {
     "data": {
      "text/html": [
       "\n",
       "  <div id=\"df-6e078eee-b456-4321-96d4-f2d0f51773df\">\n",
       "    <div class=\"colab-df-container\">\n",
       "      <div>\n",
       "<style scoped>\n",
       "    .dataframe tbody tr th:only-of-type {\n",
       "        vertical-align: middle;\n",
       "    }\n",
       "\n",
       "    .dataframe tbody tr th {\n",
       "        vertical-align: top;\n",
       "    }\n",
       "\n",
       "    .dataframe thead th {\n",
       "        text-align: right;\n",
       "    }\n",
       "</style>\n",
       "<table border=\"1\" class=\"dataframe\">\n",
       "  <thead>\n",
       "    <tr style=\"text-align: right;\">\n",
       "      <th></th>\n",
       "      <th>자치구</th>\n",
       "      <th>동</th>\n",
       "      <th>택시운송업(사업체수)</th>\n",
       "      <th>택시운송업(종사자수)</th>\n",
       "      <th>한식일반음식점업(사업체수)</th>\n",
       "      <th>한식일반음식점업(종사자수)</th>\n",
       "      <th>용달화물자동차운송업(사업체수)</th>\n",
       "      <th>용달화물자동차운송업(종사자수)</th>\n",
       "      <th>부동산중개및대리업(사업체수)</th>\n",
       "      <th>부동산중개및대리업(종사자수)</th>\n",
       "      <th>...</th>\n",
       "      <th>커피전문점(사업체수)</th>\n",
       "      <th>커피전문점(종사자수)</th>\n",
       "      <th>남녀용겉옷및셔츠도매업(사업체수)</th>\n",
       "      <th>남녀용겉옷및셔츠도매업(종사자수)</th>\n",
       "      <th>기타주점업(사업체수)</th>\n",
       "      <th>기타주점업(종사자수)</th>\n",
       "      <th>일반교과학원(사업체수)</th>\n",
       "      <th>일반교과학원(종사자수)</th>\n",
       "      <th>한식육류요리전문점(사업체수)</th>\n",
       "      <th>한식육류요리전문점(종사자수)</th>\n",
       "    </tr>\n",
       "  </thead>\n",
       "  <tbody>\n",
       "    <tr>\n",
       "      <th>0</th>\n",
       "      <td>합계</td>\n",
       "      <td>합계</td>\n",
       "      <td>47,176</td>\n",
       "      <td>76,701</td>\n",
       "      <td>29,225</td>\n",
       "      <td>100,183</td>\n",
       "      <td>28,494</td>\n",
       "      <td>29,356</td>\n",
       "      <td>24,013</td>\n",
       "      <td>42,636</td>\n",
       "      <td>...</td>\n",
       "      <td>16,255</td>\n",
       "      <td>57,322</td>\n",
       "      <td>13,388</td>\n",
       "      <td>51,116</td>\n",
       "      <td>13,339</td>\n",
       "      <td>31,371</td>\n",
       "      <td>11,911</td>\n",
       "      <td>50,773</td>\n",
       "      <td>11,109</td>\n",
       "      <td>44,653</td>\n",
       "    </tr>\n",
       "    <tr>\n",
       "      <th>1</th>\n",
       "      <td>종로구</td>\n",
       "      <td>소계</td>\n",
       "      <td>215</td>\n",
       "      <td>215</td>\n",
       "      <td>1,548</td>\n",
       "      <td>5,912</td>\n",
       "      <td>618</td>\n",
       "      <td>646</td>\n",
       "      <td>549</td>\n",
       "      <td>889</td>\n",
       "      <td>...</td>\n",
       "      <td>948</td>\n",
       "      <td>3,613</td>\n",
       "      <td>400</td>\n",
       "      <td>962</td>\n",
       "      <td>537</td>\n",
       "      <td>1,413</td>\n",
       "      <td>110</td>\n",
       "      <td>382</td>\n",
       "      <td>437</td>\n",
       "      <td>1,982</td>\n",
       "    </tr>\n",
       "    <tr>\n",
       "      <th>2</th>\n",
       "      <td>종로구</td>\n",
       "      <td>사직동</td>\n",
       "      <td>7</td>\n",
       "      <td>7</td>\n",
       "      <td>230</td>\n",
       "      <td>982</td>\n",
       "      <td>12</td>\n",
       "      <td>12</td>\n",
       "      <td>57</td>\n",
       "      <td>96</td>\n",
       "      <td>...</td>\n",
       "      <td>124</td>\n",
       "      <td>525</td>\n",
       "      <td>2</td>\n",
       "      <td>18</td>\n",
       "      <td>74</td>\n",
       "      <td>177</td>\n",
       "      <td>9</td>\n",
       "      <td>34</td>\n",
       "      <td>45</td>\n",
       "      <td>220</td>\n",
       "    </tr>\n",
       "    <tr>\n",
       "      <th>3</th>\n",
       "      <td>종로구</td>\n",
       "      <td>삼청동</td>\n",
       "      <td>5</td>\n",
       "      <td>5</td>\n",
       "      <td>42</td>\n",
       "      <td>145</td>\n",
       "      <td>4</td>\n",
       "      <td>4</td>\n",
       "      <td>9</td>\n",
       "      <td>10</td>\n",
       "      <td>...</td>\n",
       "      <td>66</td>\n",
       "      <td>243</td>\n",
       "      <td>2</td>\n",
       "      <td>3</td>\n",
       "      <td>3</td>\n",
       "      <td>8</td>\n",
       "      <td>-</td>\n",
       "      <td>-</td>\n",
       "      <td>7</td>\n",
       "      <td>33</td>\n",
       "    </tr>\n",
       "    <tr>\n",
       "      <th>4</th>\n",
       "      <td>종로구</td>\n",
       "      <td>부암동</td>\n",
       "      <td>22</td>\n",
       "      <td>22</td>\n",
       "      <td>26</td>\n",
       "      <td>100</td>\n",
       "      <td>9</td>\n",
       "      <td>9</td>\n",
       "      <td>17</td>\n",
       "      <td>26</td>\n",
       "      <td>...</td>\n",
       "      <td>24</td>\n",
       "      <td>62</td>\n",
       "      <td>3</td>\n",
       "      <td>6</td>\n",
       "      <td>7</td>\n",
       "      <td>23</td>\n",
       "      <td>16</td>\n",
       "      <td>59</td>\n",
       "      <td>3</td>\n",
       "      <td>15</td>\n",
       "    </tr>\n",
       "  </tbody>\n",
       "</table>\n",
       "<p>5 rows × 22 columns</p>\n",
       "</div>\n",
       "      <button class=\"colab-df-convert\" onclick=\"convertToInteractive('df-6e078eee-b456-4321-96d4-f2d0f51773df')\"\n",
       "              title=\"Convert this dataframe to an interactive table.\"\n",
       "              style=\"display:none;\">\n",
       "        \n",
       "  <svg xmlns=\"http://www.w3.org/2000/svg\" height=\"24px\"viewBox=\"0 0 24 24\"\n",
       "       width=\"24px\">\n",
       "    <path d=\"M0 0h24v24H0V0z\" fill=\"none\"/>\n",
       "    <path d=\"M18.56 5.44l.94 2.06.94-2.06 2.06-.94-2.06-.94-.94-2.06-.94 2.06-2.06.94zm-11 1L8.5 8.5l.94-2.06 2.06-.94-2.06-.94L8.5 2.5l-.94 2.06-2.06.94zm10 10l.94 2.06.94-2.06 2.06-.94-2.06-.94-.94-2.06-.94 2.06-2.06.94z\"/><path d=\"M17.41 7.96l-1.37-1.37c-.4-.4-.92-.59-1.43-.59-.52 0-1.04.2-1.43.59L10.3 9.45l-7.72 7.72c-.78.78-.78 2.05 0 2.83L4 21.41c.39.39.9.59 1.41.59.51 0 1.02-.2 1.41-.59l7.78-7.78 2.81-2.81c.8-.78.8-2.07 0-2.86zM5.41 20L4 18.59l7.72-7.72 1.47 1.35L5.41 20z\"/>\n",
       "  </svg>\n",
       "      </button>\n",
       "      \n",
       "  <style>\n",
       "    .colab-df-container {\n",
       "      display:flex;\n",
       "      flex-wrap:wrap;\n",
       "      gap: 12px;\n",
       "    }\n",
       "\n",
       "    .colab-df-convert {\n",
       "      background-color: #E8F0FE;\n",
       "      border: none;\n",
       "      border-radius: 50%;\n",
       "      cursor: pointer;\n",
       "      display: none;\n",
       "      fill: #1967D2;\n",
       "      height: 32px;\n",
       "      padding: 0 0 0 0;\n",
       "      width: 32px;\n",
       "    }\n",
       "\n",
       "    .colab-df-convert:hover {\n",
       "      background-color: #E2EBFA;\n",
       "      box-shadow: 0px 1px 2px rgba(60, 64, 67, 0.3), 0px 1px 3px 1px rgba(60, 64, 67, 0.15);\n",
       "      fill: #174EA6;\n",
       "    }\n",
       "\n",
       "    [theme=dark] .colab-df-convert {\n",
       "      background-color: #3B4455;\n",
       "      fill: #D2E3FC;\n",
       "    }\n",
       "\n",
       "    [theme=dark] .colab-df-convert:hover {\n",
       "      background-color: #434B5C;\n",
       "      box-shadow: 0px 1px 3px 1px rgba(0, 0, 0, 0.15);\n",
       "      filter: drop-shadow(0px 1px 2px rgba(0, 0, 0, 0.3));\n",
       "      fill: #FFFFFF;\n",
       "    }\n",
       "  </style>\n",
       "\n",
       "      <script>\n",
       "        const buttonEl =\n",
       "          document.querySelector('#df-6e078eee-b456-4321-96d4-f2d0f51773df button.colab-df-convert');\n",
       "        buttonEl.style.display =\n",
       "          google.colab.kernel.accessAllowed ? 'block' : 'none';\n",
       "\n",
       "        async function convertToInteractive(key) {\n",
       "          const element = document.querySelector('#df-6e078eee-b456-4321-96d4-f2d0f51773df');\n",
       "          const dataTable =\n",
       "            await google.colab.kernel.invokeFunction('convertToInteractive',\n",
       "                                                     [key], {});\n",
       "          if (!dataTable) return;\n",
       "\n",
       "          const docLinkHtml = 'Like what you see? Visit the ' +\n",
       "            '<a target=\"_blank\" href=https://colab.research.google.com/notebooks/data_table.ipynb>data table notebook</a>'\n",
       "            + ' to learn more about interactive tables.';\n",
       "          element.innerHTML = '';\n",
       "          dataTable['output_type'] = 'display_data';\n",
       "          await google.colab.output.renderOutput(dataTable, element);\n",
       "          const docLink = document.createElement('div');\n",
       "          docLink.innerHTML = docLinkHtml;\n",
       "          element.appendChild(docLink);\n",
       "        }\n",
       "      </script>\n",
       "    </div>\n",
       "  </div>\n",
       "  "
      ],
      "text/plain": [
       "   자치구    동 택시운송업(사업체수) 택시운송업(종사자수) 한식일반음식점업(사업체수) 한식일반음식점업(종사자수)  \\\n",
       "0   합계   합계      47,176      76,701         29,225        100,183   \n",
       "1  종로구   소계         215         215          1,548          5,912   \n",
       "2  종로구  사직동           7           7            230            982   \n",
       "3  종로구  삼청동           5           5             42            145   \n",
       "4  종로구  부암동          22          22             26            100   \n",
       "\n",
       "  용달화물자동차운송업(사업체수) 용달화물자동차운송업(종사자수) 부동산중개및대리업(사업체수) 부동산중개및대리업(종사자수)  ...  \\\n",
       "0           28,494           29,356          24,013          42,636  ...   \n",
       "1              618              646             549             889  ...   \n",
       "2               12               12              57              96  ...   \n",
       "3                4                4               9              10  ...   \n",
       "4                9                9              17              26  ...   \n",
       "\n",
       "  커피전문점(사업체수) 커피전문점(종사자수) 남녀용겉옷및셔츠도매업(사업체수) 남녀용겉옷및셔츠도매업(종사자수) 기타주점업(사업체수)  \\\n",
       "0      16,255      57,322            13,388            51,116      13,339   \n",
       "1         948       3,613               400               962         537   \n",
       "2         124         525                 2                18          74   \n",
       "3          66         243                 2                 3           3   \n",
       "4          24          62                 3                 6           7   \n",
       "\n",
       "  기타주점업(종사자수) 일반교과학원(사업체수) 일반교과학원(종사자수) 한식육류요리전문점(사업체수) 한식육류요리전문점(종사자수)  \n",
       "0      31,371       11,911       50,773          11,109          44,653  \n",
       "1       1,413          110          382             437           1,982  \n",
       "2         177            9           34              45             220  \n",
       "3           8            -            -               7              33  \n",
       "4          23           16           59               3              15  \n",
       "\n",
       "[5 rows x 22 columns]"
      ]
     },
     "execution_count": 526,
     "metadata": {},
     "output_type": "execute_result"
    }
   ],
   "source": [
    "df_seoul_business.head()"
   ]
  },
  {
   "cell_type": "code",
   "execution_count": 527,
   "metadata": {
    "executionInfo": {
     "elapsed": 3,
     "status": "ok",
     "timestamp": 1667655535512,
     "user": {
      "displayName": "최가원",
      "userId": "06373414866148795583"
     },
     "user_tz": -540
    },
    "id": "6zOv0lVgBwne"
   },
   "outputs": [],
   "source": [
    "df_sum= pd.DataFrame()\n",
    "df_sum= df_seoul_business[(df_seoul_business['동']=='소계')]"
   ]
  },
  {
   "cell_type": "code",
   "execution_count": 528,
   "metadata": {
    "colab": {
     "base_uri": "https://localhost:8080/"
    },
    "executionInfo": {
     "elapsed": 487,
     "status": "ok",
     "timestamp": 1667655535997,
     "user": {
      "displayName": "최가원",
      "userId": "06373414866148795583"
     },
     "user_tz": -540
    },
    "id": "lgEyhYjCDnOu",
    "outputId": "47ced6cb-07ab-44ad-e0ee-d6fa214ba966"
   },
   "outputs": [
    {
     "name": "stderr",
     "output_type": "stream",
     "text": [
      "/usr/local/lib/python3.7/dist-packages/ipykernel_launcher.py:1: SettingWithCopyWarning: \n",
      "A value is trying to be set on a copy of a slice from a DataFrame.\n",
      "Try using .loc[row_indexer,col_indexer] = value instead\n",
      "\n",
      "See the caveats in the documentation: https://pandas.pydata.org/pandas-docs/stable/user_guide/indexing.html#returning-a-view-versus-a-copy\n",
      "  \"\"\"Entry point for launching an IPython kernel.\n",
      "/usr/local/lib/python3.7/dist-packages/ipykernel_launcher.py:2: SettingWithCopyWarning: \n",
      "A value is trying to be set on a copy of a slice from a DataFrame.\n",
      "Try using .loc[row_indexer,col_indexer] = value instead\n",
      "\n",
      "See the caveats in the documentation: https://pandas.pydata.org/pandas-docs/stable/user_guide/indexing.html#returning-a-view-versus-a-copy\n",
      "  \n",
      "/usr/local/lib/python3.7/dist-packages/ipykernel_launcher.py:3: SettingWithCopyWarning: \n",
      "A value is trying to be set on a copy of a slice from a DataFrame.\n",
      "Try using .loc[row_indexer,col_indexer] = value instead\n",
      "\n",
      "See the caveats in the documentation: https://pandas.pydata.org/pandas-docs/stable/user_guide/indexing.html#returning-a-view-versus-a-copy\n",
      "  This is separate from the ipykernel package so we can avoid doing imports until\n"
     ]
    }
   ],
   "source": [
    "df_sum['택시운송업(종사자수)']= df_sum['택시운송업(종사자수)'].str.replace(',', '')\n",
    "df_sum['택시운송업(종사자수)']= df_sum['택시운송업(종사자수)'].str.replace('-', '0')\n",
    "df_sum['택시운송업(종사자수)']= df_sum['택시운송업(종사자수)'].astype('int64')"
   ]
  },
  {
   "cell_type": "code",
   "execution_count": 529,
   "metadata": {
    "colab": {
     "base_uri": "https://localhost:8080/"
    },
    "executionInfo": {
     "elapsed": 38,
     "status": "ok",
     "timestamp": 1667655535997,
     "user": {
      "displayName": "최가원",
      "userId": "06373414866148795583"
     },
     "user_tz": -540
    },
    "id": "-luTaQw6D-3Q",
    "outputId": "5856a22e-c578-41ec-f83a-268ae42f1d5a"
   },
   "outputs": [
    {
     "name": "stderr",
     "output_type": "stream",
     "text": [
      "/usr/local/lib/python3.7/dist-packages/ipykernel_launcher.py:1: SettingWithCopyWarning: \n",
      "A value is trying to be set on a copy of a slice from a DataFrame.\n",
      "Try using .loc[row_indexer,col_indexer] = value instead\n",
      "\n",
      "See the caveats in the documentation: https://pandas.pydata.org/pandas-docs/stable/user_guide/indexing.html#returning-a-view-versus-a-copy\n",
      "  \"\"\"Entry point for launching an IPython kernel.\n",
      "/usr/local/lib/python3.7/dist-packages/ipykernel_launcher.py:2: SettingWithCopyWarning: \n",
      "A value is trying to be set on a copy of a slice from a DataFrame.\n",
      "Try using .loc[row_indexer,col_indexer] = value instead\n",
      "\n",
      "See the caveats in the documentation: https://pandas.pydata.org/pandas-docs/stable/user_guide/indexing.html#returning-a-view-versus-a-copy\n",
      "  \n",
      "/usr/local/lib/python3.7/dist-packages/ipykernel_launcher.py:3: SettingWithCopyWarning: \n",
      "A value is trying to be set on a copy of a slice from a DataFrame.\n",
      "Try using .loc[row_indexer,col_indexer] = value instead\n",
      "\n",
      "See the caveats in the documentation: https://pandas.pydata.org/pandas-docs/stable/user_guide/indexing.html#returning-a-view-versus-a-copy\n",
      "  This is separate from the ipykernel package so we can avoid doing imports until\n"
     ]
    }
   ],
   "source": [
    "df_sum['한식일반음식점업(종사자수)']= df_sum['한식일반음식점업(종사자수)'].str.replace(',', '')\n",
    "df_sum['한식일반음식점업(종사자수)']= df_sum['한식일반음식점업(종사자수)'].str.replace('-', '0')\n",
    "df_sum['한식일반음식점업(종사자수)']= df_sum['한식일반음식점업(종사자수)'].astype('int64')"
   ]
  },
  {
   "cell_type": "code",
   "execution_count": 530,
   "metadata": {
    "colab": {
     "base_uri": "https://localhost:8080/"
    },
    "executionInfo": {
     "elapsed": 34,
     "status": "ok",
     "timestamp": 1667655535997,
     "user": {
      "displayName": "최가원",
      "userId": "06373414866148795583"
     },
     "user_tz": -540
    },
    "id": "dTJLSReVEJ_J",
    "outputId": "073838eb-8675-423b-c11d-02e1e0431181"
   },
   "outputs": [
    {
     "name": "stderr",
     "output_type": "stream",
     "text": [
      "/usr/local/lib/python3.7/dist-packages/ipykernel_launcher.py:1: SettingWithCopyWarning: \n",
      "A value is trying to be set on a copy of a slice from a DataFrame.\n",
      "Try using .loc[row_indexer,col_indexer] = value instead\n",
      "\n",
      "See the caveats in the documentation: https://pandas.pydata.org/pandas-docs/stable/user_guide/indexing.html#returning-a-view-versus-a-copy\n",
      "  \"\"\"Entry point for launching an IPython kernel.\n",
      "/usr/local/lib/python3.7/dist-packages/ipykernel_launcher.py:2: SettingWithCopyWarning: \n",
      "A value is trying to be set on a copy of a slice from a DataFrame.\n",
      "Try using .loc[row_indexer,col_indexer] = value instead\n",
      "\n",
      "See the caveats in the documentation: https://pandas.pydata.org/pandas-docs/stable/user_guide/indexing.html#returning-a-view-versus-a-copy\n",
      "  \n",
      "/usr/local/lib/python3.7/dist-packages/ipykernel_launcher.py:3: SettingWithCopyWarning: \n",
      "A value is trying to be set on a copy of a slice from a DataFrame.\n",
      "Try using .loc[row_indexer,col_indexer] = value instead\n",
      "\n",
      "See the caveats in the documentation: https://pandas.pydata.org/pandas-docs/stable/user_guide/indexing.html#returning-a-view-versus-a-copy\n",
      "  This is separate from the ipykernel package so we can avoid doing imports until\n"
     ]
    }
   ],
   "source": [
    "df_sum['용달화물자동차운송업(종사자수)']= df_sum['용달화물자동차운송업(종사자수)'].str.replace(',', '')\n",
    "df_sum['용달화물자동차운송업(종사자수)']= df_sum['용달화물자동차운송업(종사자수)'].str.replace('-', '0')\n",
    "df_sum['용달화물자동차운송업(종사자수)']= df_sum['용달화물자동차운송업(종사자수)'].astype('int64')"
   ]
  },
  {
   "cell_type": "code",
   "execution_count": 531,
   "metadata": {
    "colab": {
     "base_uri": "https://localhost:8080/"
    },
    "executionInfo": {
     "elapsed": 31,
     "status": "ok",
     "timestamp": 1667655535998,
     "user": {
      "displayName": "최가원",
      "userId": "06373414866148795583"
     },
     "user_tz": -540
    },
    "id": "TLg4JByAEQvp",
    "outputId": "751cbcae-5488-4669-dd70-09588b4d40d5"
   },
   "outputs": [
    {
     "name": "stderr",
     "output_type": "stream",
     "text": [
      "/usr/local/lib/python3.7/dist-packages/ipykernel_launcher.py:1: SettingWithCopyWarning: \n",
      "A value is trying to be set on a copy of a slice from a DataFrame.\n",
      "Try using .loc[row_indexer,col_indexer] = value instead\n",
      "\n",
      "See the caveats in the documentation: https://pandas.pydata.org/pandas-docs/stable/user_guide/indexing.html#returning-a-view-versus-a-copy\n",
      "  \"\"\"Entry point for launching an IPython kernel.\n",
      "/usr/local/lib/python3.7/dist-packages/ipykernel_launcher.py:2: SettingWithCopyWarning: \n",
      "A value is trying to be set on a copy of a slice from a DataFrame.\n",
      "Try using .loc[row_indexer,col_indexer] = value instead\n",
      "\n",
      "See the caveats in the documentation: https://pandas.pydata.org/pandas-docs/stable/user_guide/indexing.html#returning-a-view-versus-a-copy\n",
      "  \n",
      "/usr/local/lib/python3.7/dist-packages/ipykernel_launcher.py:3: SettingWithCopyWarning: \n",
      "A value is trying to be set on a copy of a slice from a DataFrame.\n",
      "Try using .loc[row_indexer,col_indexer] = value instead\n",
      "\n",
      "See the caveats in the documentation: https://pandas.pydata.org/pandas-docs/stable/user_guide/indexing.html#returning-a-view-versus-a-copy\n",
      "  This is separate from the ipykernel package so we can avoid doing imports until\n"
     ]
    }
   ],
   "source": [
    "df_sum['두발미용업(종사자수)']= df_sum['두발미용업(종사자수)'].str.replace(',', '')\n",
    "df_sum['두발미용업(종사자수)']= df_sum['두발미용업(종사자수)'].str.replace('-', '0')\n",
    "df_sum['두발미용업(종사자수)']= df_sum['두발미용업(종사자수)'].astype('int64')"
   ]
  },
  {
   "cell_type": "code",
   "execution_count": 532,
   "metadata": {
    "colab": {
     "base_uri": "https://localhost:8080/"
    },
    "executionInfo": {
     "elapsed": 27,
     "status": "ok",
     "timestamp": 1667655535998,
     "user": {
      "displayName": "최가원",
      "userId": "06373414866148795583"
     },
     "user_tz": -540
    },
    "id": "Gqgn_2T6EYvi",
    "outputId": "4189f65a-686b-4846-c35f-11571744e9b1"
   },
   "outputs": [
    {
     "name": "stderr",
     "output_type": "stream",
     "text": [
      "/usr/local/lib/python3.7/dist-packages/ipykernel_launcher.py:1: SettingWithCopyWarning: \n",
      "A value is trying to be set on a copy of a slice from a DataFrame.\n",
      "Try using .loc[row_indexer,col_indexer] = value instead\n",
      "\n",
      "See the caveats in the documentation: https://pandas.pydata.org/pandas-docs/stable/user_guide/indexing.html#returning-a-view-versus-a-copy\n",
      "  \"\"\"Entry point for launching an IPython kernel.\n",
      "/usr/local/lib/python3.7/dist-packages/ipykernel_launcher.py:2: SettingWithCopyWarning: \n",
      "A value is trying to be set on a copy of a slice from a DataFrame.\n",
      "Try using .loc[row_indexer,col_indexer] = value instead\n",
      "\n",
      "See the caveats in the documentation: https://pandas.pydata.org/pandas-docs/stable/user_guide/indexing.html#returning-a-view-versus-a-copy\n",
      "  \n",
      "/usr/local/lib/python3.7/dist-packages/ipykernel_launcher.py:3: SettingWithCopyWarning: \n",
      "A value is trying to be set on a copy of a slice from a DataFrame.\n",
      "Try using .loc[row_indexer,col_indexer] = value instead\n",
      "\n",
      "See the caveats in the documentation: https://pandas.pydata.org/pandas-docs/stable/user_guide/indexing.html#returning-a-view-versus-a-copy\n",
      "  This is separate from the ipykernel package so we can avoid doing imports until\n"
     ]
    }
   ],
   "source": [
    "df_sum['커피전문점(종사자수)']= df_sum['커피전문점(종사자수)'].str.replace(',', '')\n",
    "df_sum['커피전문점(종사자수)']= df_sum['커피전문점(종사자수)'].str.replace('-', '0')\n",
    "df_sum['커피전문점(종사자수)']= df_sum['커피전문점(종사자수)'].astype('int64')"
   ]
  },
  {
   "cell_type": "code",
   "execution_count": 533,
   "metadata": {
    "colab": {
     "base_uri": "https://localhost:8080/"
    },
    "executionInfo": {
     "elapsed": 24,
     "status": "ok",
     "timestamp": 1667655535998,
     "user": {
      "displayName": "최가원",
      "userId": "06373414866148795583"
     },
     "user_tz": -540
    },
    "id": "lV5ElHwkEl-w",
    "outputId": "24e4f590-c514-40ac-ea0b-2807d98dcbff"
   },
   "outputs": [
    {
     "name": "stderr",
     "output_type": "stream",
     "text": [
      "/usr/local/lib/python3.7/dist-packages/ipykernel_launcher.py:1: SettingWithCopyWarning: \n",
      "A value is trying to be set on a copy of a slice from a DataFrame.\n",
      "Try using .loc[row_indexer,col_indexer] = value instead\n",
      "\n",
      "See the caveats in the documentation: https://pandas.pydata.org/pandas-docs/stable/user_guide/indexing.html#returning-a-view-versus-a-copy\n",
      "  \"\"\"Entry point for launching an IPython kernel.\n",
      "/usr/local/lib/python3.7/dist-packages/ipykernel_launcher.py:2: SettingWithCopyWarning: \n",
      "A value is trying to be set on a copy of a slice from a DataFrame.\n",
      "Try using .loc[row_indexer,col_indexer] = value instead\n",
      "\n",
      "See the caveats in the documentation: https://pandas.pydata.org/pandas-docs/stable/user_guide/indexing.html#returning-a-view-versus-a-copy\n",
      "  \n",
      "/usr/local/lib/python3.7/dist-packages/ipykernel_launcher.py:3: SettingWithCopyWarning: \n",
      "A value is trying to be set on a copy of a slice from a DataFrame.\n",
      "Try using .loc[row_indexer,col_indexer] = value instead\n",
      "\n",
      "See the caveats in the documentation: https://pandas.pydata.org/pandas-docs/stable/user_guide/indexing.html#returning-a-view-versus-a-copy\n",
      "  This is separate from the ipykernel package so we can avoid doing imports until\n"
     ]
    }
   ],
   "source": [
    "df_sum['남녀용겉옷및셔츠도매업(종사자수)']= df_sum['남녀용겉옷및셔츠도매업(종사자수)'].str.replace(',', '')\n",
    "df_sum['남녀용겉옷및셔츠도매업(종사자수)']= df_sum['남녀용겉옷및셔츠도매업(종사자수)'].str.replace('-', '0')\n",
    "df_sum['남녀용겉옷및셔츠도매업(종사자수)']= df_sum['남녀용겉옷및셔츠도매업(종사자수)'].astype('int64')"
   ]
  },
  {
   "cell_type": "code",
   "execution_count": 534,
   "metadata": {
    "colab": {
     "base_uri": "https://localhost:8080/"
    },
    "executionInfo": {
     "elapsed": 21,
     "status": "ok",
     "timestamp": 1667655535998,
     "user": {
      "displayName": "최가원",
      "userId": "06373414866148795583"
     },
     "user_tz": -540
    },
    "id": "yUYt5RDuEsla",
    "outputId": "f3a3afe7-fd8e-425d-af9b-f0fe6d7c5561"
   },
   "outputs": [
    {
     "name": "stderr",
     "output_type": "stream",
     "text": [
      "/usr/local/lib/python3.7/dist-packages/ipykernel_launcher.py:1: SettingWithCopyWarning: \n",
      "A value is trying to be set on a copy of a slice from a DataFrame.\n",
      "Try using .loc[row_indexer,col_indexer] = value instead\n",
      "\n",
      "See the caveats in the documentation: https://pandas.pydata.org/pandas-docs/stable/user_guide/indexing.html#returning-a-view-versus-a-copy\n",
      "  \"\"\"Entry point for launching an IPython kernel.\n",
      "/usr/local/lib/python3.7/dist-packages/ipykernel_launcher.py:2: SettingWithCopyWarning: \n",
      "A value is trying to be set on a copy of a slice from a DataFrame.\n",
      "Try using .loc[row_indexer,col_indexer] = value instead\n",
      "\n",
      "See the caveats in the documentation: https://pandas.pydata.org/pandas-docs/stable/user_guide/indexing.html#returning-a-view-versus-a-copy\n",
      "  \n",
      "/usr/local/lib/python3.7/dist-packages/ipykernel_launcher.py:3: SettingWithCopyWarning: \n",
      "A value is trying to be set on a copy of a slice from a DataFrame.\n",
      "Try using .loc[row_indexer,col_indexer] = value instead\n",
      "\n",
      "See the caveats in the documentation: https://pandas.pydata.org/pandas-docs/stable/user_guide/indexing.html#returning-a-view-versus-a-copy\n",
      "  This is separate from the ipykernel package so we can avoid doing imports until\n"
     ]
    }
   ],
   "source": [
    "df_sum['기타주점업(종사자수)']= df_sum['기타주점업(종사자수)'].str.replace(',', '')\n",
    "df_sum['기타주점업(종사자수)']= df_sum['기타주점업(종사자수)'].str.replace('-', '0')\n",
    "df_sum['기타주점업(종사자수)']= df_sum['기타주점업(종사자수)'].astype('int64')"
   ]
  },
  {
   "cell_type": "code",
   "execution_count": 535,
   "metadata": {
    "colab": {
     "base_uri": "https://localhost:8080/"
    },
    "executionInfo": {
     "elapsed": 17,
     "status": "ok",
     "timestamp": 1667655535998,
     "user": {
      "displayName": "최가원",
      "userId": "06373414866148795583"
     },
     "user_tz": -540
    },
    "id": "THtmraHnEzsX",
    "outputId": "b719bb9d-8f08-4d72-8e3a-ebe58be2c0b8"
   },
   "outputs": [
    {
     "name": "stderr",
     "output_type": "stream",
     "text": [
      "/usr/local/lib/python3.7/dist-packages/ipykernel_launcher.py:1: SettingWithCopyWarning: \n",
      "A value is trying to be set on a copy of a slice from a DataFrame.\n",
      "Try using .loc[row_indexer,col_indexer] = value instead\n",
      "\n",
      "See the caveats in the documentation: https://pandas.pydata.org/pandas-docs/stable/user_guide/indexing.html#returning-a-view-versus-a-copy\n",
      "  \"\"\"Entry point for launching an IPython kernel.\n",
      "/usr/local/lib/python3.7/dist-packages/ipykernel_launcher.py:2: SettingWithCopyWarning: \n",
      "A value is trying to be set on a copy of a slice from a DataFrame.\n",
      "Try using .loc[row_indexer,col_indexer] = value instead\n",
      "\n",
      "See the caveats in the documentation: https://pandas.pydata.org/pandas-docs/stable/user_guide/indexing.html#returning-a-view-versus-a-copy\n",
      "  \n",
      "/usr/local/lib/python3.7/dist-packages/ipykernel_launcher.py:3: SettingWithCopyWarning: \n",
      "A value is trying to be set on a copy of a slice from a DataFrame.\n",
      "Try using .loc[row_indexer,col_indexer] = value instead\n",
      "\n",
      "See the caveats in the documentation: https://pandas.pydata.org/pandas-docs/stable/user_guide/indexing.html#returning-a-view-versus-a-copy\n",
      "  This is separate from the ipykernel package so we can avoid doing imports until\n"
     ]
    }
   ],
   "source": [
    "df_sum['일반교과학원(종사자수)']= df_sum['일반교과학원(종사자수)'].str.replace(',', '')\n",
    "df_sum['일반교과학원(종사자수)']= df_sum['일반교과학원(종사자수)'].str.replace('-', '0')\n",
    "df_sum['일반교과학원(종사자수)']= df_sum['일반교과학원(종사자수)'].astype('int64')"
   ]
  },
  {
   "cell_type": "code",
   "execution_count": 536,
   "metadata": {
    "colab": {
     "base_uri": "https://localhost:8080/"
    },
    "executionInfo": {
     "elapsed": 15,
     "status": "ok",
     "timestamp": 1667655535999,
     "user": {
      "displayName": "최가원",
      "userId": "06373414866148795583"
     },
     "user_tz": -540
    },
    "id": "Ax6CdaQTE6ov",
    "outputId": "cb295356-3fe9-410c-9ffa-3e3b486c3335"
   },
   "outputs": [
    {
     "name": "stderr",
     "output_type": "stream",
     "text": [
      "/usr/local/lib/python3.7/dist-packages/ipykernel_launcher.py:1: SettingWithCopyWarning: \n",
      "A value is trying to be set on a copy of a slice from a DataFrame.\n",
      "Try using .loc[row_indexer,col_indexer] = value instead\n",
      "\n",
      "See the caveats in the documentation: https://pandas.pydata.org/pandas-docs/stable/user_guide/indexing.html#returning-a-view-versus-a-copy\n",
      "  \"\"\"Entry point for launching an IPython kernel.\n",
      "/usr/local/lib/python3.7/dist-packages/ipykernel_launcher.py:2: SettingWithCopyWarning: \n",
      "A value is trying to be set on a copy of a slice from a DataFrame.\n",
      "Try using .loc[row_indexer,col_indexer] = value instead\n",
      "\n",
      "See the caveats in the documentation: https://pandas.pydata.org/pandas-docs/stable/user_guide/indexing.html#returning-a-view-versus-a-copy\n",
      "  \n",
      "/usr/local/lib/python3.7/dist-packages/ipykernel_launcher.py:3: SettingWithCopyWarning: \n",
      "A value is trying to be set on a copy of a slice from a DataFrame.\n",
      "Try using .loc[row_indexer,col_indexer] = value instead\n",
      "\n",
      "See the caveats in the documentation: https://pandas.pydata.org/pandas-docs/stable/user_guide/indexing.html#returning-a-view-versus-a-copy\n",
      "  This is separate from the ipykernel package so we can avoid doing imports until\n"
     ]
    }
   ],
   "source": [
    "df_sum['한식육류요리전문점(종사자수)']= df_sum['한식육류요리전문점(종사자수)'].str.replace(',', '')\n",
    "df_sum['한식육류요리전문점(종사자수)']= df_sum['한식육류요리전문점(종사자수)'].str.replace('-', '0')\n",
    "df_sum['한식육류요리전문점(종사자수)']= df_sum['한식육류요리전문점(종사자수)'].astype('int64')"
   ]
  },
  {
   "cell_type": "code",
   "execution_count": 537,
   "metadata": {
    "colab": {
     "base_uri": "https://localhost:8080/"
    },
    "executionInfo": {
     "elapsed": 9,
     "status": "ok",
     "timestamp": 1667655535999,
     "user": {
      "displayName": "최가원",
      "userId": "06373414866148795583"
     },
     "user_tz": -540
    },
    "id": "NMscVgbOGUDi",
    "outputId": "f5f1efee-1980-46b7-ce7e-5ce1b50687b9"
   },
   "outputs": [
    {
     "name": "stderr",
     "output_type": "stream",
     "text": [
      "/usr/local/lib/python3.7/dist-packages/ipykernel_launcher.py:1: SettingWithCopyWarning: \n",
      "A value is trying to be set on a copy of a slice from a DataFrame.\n",
      "Try using .loc[row_indexer,col_indexer] = value instead\n",
      "\n",
      "See the caveats in the documentation: https://pandas.pydata.org/pandas-docs/stable/user_guide/indexing.html#returning-a-view-versus-a-copy\n",
      "  \"\"\"Entry point for launching an IPython kernel.\n",
      "/usr/local/lib/python3.7/dist-packages/ipykernel_launcher.py:2: SettingWithCopyWarning: \n",
      "A value is trying to be set on a copy of a slice from a DataFrame.\n",
      "Try using .loc[row_indexer,col_indexer] = value instead\n",
      "\n",
      "See the caveats in the documentation: https://pandas.pydata.org/pandas-docs/stable/user_guide/indexing.html#returning-a-view-versus-a-copy\n",
      "  \n",
      "/usr/local/lib/python3.7/dist-packages/ipykernel_launcher.py:3: SettingWithCopyWarning: \n",
      "A value is trying to be set on a copy of a slice from a DataFrame.\n",
      "Try using .loc[row_indexer,col_indexer] = value instead\n",
      "\n",
      "See the caveats in the documentation: https://pandas.pydata.org/pandas-docs/stable/user_guide/indexing.html#returning-a-view-versus-a-copy\n",
      "  This is separate from the ipykernel package so we can avoid doing imports until\n"
     ]
    }
   ],
   "source": [
    "df_sum['부동산중개및대리업(종사자수)']= df_sum['부동산중개및대리업(종사자수)'].str.replace(',', '')\n",
    "df_sum['부동산중개및대리업(종사자수)']= df_sum['부동산중개및대리업(종사자수)'].str.replace('-', '0')\n",
    "df_sum['부동산중개및대리업(종사자수)']= df_sum['부동산중개및대리업(종사자수)'].astype('int64')"
   ]
  },
  {
   "cell_type": "code",
   "execution_count": 538,
   "metadata": {
    "colab": {
     "base_uri": "https://localhost:8080/"
    },
    "executionInfo": {
     "elapsed": 539,
     "status": "ok",
     "timestamp": 1667655536533,
     "user": {
      "displayName": "최가원",
      "userId": "06373414866148795583"
     },
     "user_tz": -540
    },
    "id": "-pkOAWwADT0x",
    "outputId": "0cb1e044-977d-47ef-82e9-c0c21e716dbc"
   },
   "outputs": [
    {
     "name": "stdout",
     "output_type": "stream",
     "text": [
      "<class 'pandas.core.frame.DataFrame'>\n",
      "Int64Index: 25 entries, 1 to 431\n",
      "Data columns (total 22 columns):\n",
      " #   Column             Non-Null Count  Dtype \n",
      "---  ------             --------------  ----- \n",
      " 0   자치구                25 non-null     object\n",
      " 1   동                  25 non-null     object\n",
      " 2   택시운송업(사업체수)        25 non-null     object\n",
      " 3   택시운송업(종사자수)        25 non-null     int64 \n",
      " 4   한식일반음식점업(사업체수)     25 non-null     object\n",
      " 5   한식일반음식점업(종사자수)     25 non-null     int64 \n",
      " 6   용달화물자동차운송업(사업체수)   25 non-null     object\n",
      " 7   용달화물자동차운송업(종사자수)   25 non-null     int64 \n",
      " 8   부동산중개및대리업(사업체수)    25 non-null     object\n",
      " 9   부동산중개및대리업(종사자수)    25 non-null     int64 \n",
      " 10  두발미용업(사업체수)        25 non-null     object\n",
      " 11  두발미용업(종사자수)        25 non-null     int64 \n",
      " 12  커피전문점(사업체수)        25 non-null     object\n",
      " 13  커피전문점(종사자수)        25 non-null     int64 \n",
      " 14  남녀용겉옷및셔츠도매업(사업체수)  25 non-null     object\n",
      " 15  남녀용겉옷및셔츠도매업(종사자수)  25 non-null     int64 \n",
      " 16  기타주점업(사업체수)        25 non-null     object\n",
      " 17  기타주점업(종사자수)        25 non-null     int64 \n",
      " 18  일반교과학원(사업체수)       25 non-null     object\n",
      " 19  일반교과학원(종사자수)       25 non-null     int64 \n",
      " 20  한식육류요리전문점(사업체수)    25 non-null     object\n",
      " 21  한식육류요리전문점(종사자수)    25 non-null     int64 \n",
      "dtypes: int64(10), object(12)\n",
      "memory usage: 4.5+ KB\n"
     ]
    }
   ],
   "source": [
    "df_sum.info()"
   ]
  },
  {
   "cell_type": "code",
   "execution_count": 539,
   "metadata": {
    "colab": {
     "base_uri": "https://localhost:8080/"
    },
    "executionInfo": {
     "elapsed": 8,
     "status": "ok",
     "timestamp": 1667655536533,
     "user": {
      "displayName": "최가원",
      "userId": "06373414866148795583"
     },
     "user_tz": -540
    },
    "id": "3NezA5f_FIs5",
    "outputId": "bd0fee72-6367-4416-dd7b-7ac7d5845b54"
   },
   "outputs": [
    {
     "name": "stderr",
     "output_type": "stream",
     "text": [
      "/usr/local/lib/python3.7/dist-packages/ipykernel_launcher.py:10: SettingWithCopyWarning: \n",
      "A value is trying to be set on a copy of a slice from a DataFrame.\n",
      "Try using .loc[row_indexer,col_indexer] = value instead\n",
      "\n",
      "See the caveats in the documentation: https://pandas.pydata.org/pandas-docs/stable/user_guide/indexing.html#returning-a-view-versus-a-copy\n",
      "  # Remove the CWD from sys.path while we load stuff.\n"
     ]
    }
   ],
   "source": [
    "df_sum['총 종사자수']= df_sum['택시운송업(종사자수)'] + \\\n",
    "df_sum['한식일반음식점업(종사자수)'] + \\\n",
    "df_sum['용달화물자동차운송업(종사자수)'] + \\\n",
    "df_sum['부동산중개및대리업(종사자수)'] + \\\n",
    "df_sum['두발미용업(종사자수)'] + \\\n",
    "df_sum['커피전문점(종사자수)'] + \\\n",
    "df_sum['남녀용겉옷및셔츠도매업(종사자수)'] + \\\n",
    "df_sum['기타주점업(종사자수)'] + \\\n",
    "df_sum['일반교과학원(종사자수)'] + \\\n",
    "df_sum['한식육류요리전문점(종사자수)']"
   ]
  },
  {
   "cell_type": "code",
   "execution_count": 540,
   "metadata": {
    "colab": {
     "base_uri": "https://localhost:8080/",
     "height": 664
    },
    "executionInfo": {
     "elapsed": 4,
     "status": "ok",
     "timestamp": 1667655536534,
     "user": {
      "displayName": "최가원",
      "userId": "06373414866148795583"
     },
     "user_tz": -540
    },
    "id": "AOoX-cKiFx2v",
    "outputId": "9dd1dc34-def9-4c80-8a1c-2e66236e487c"
   },
   "outputs": [
    {
     "data": {
      "text/html": [
       "\n",
       "  <div id=\"df-c4ced48f-9dfc-4136-b185-c69c202e9dcc\">\n",
       "    <div class=\"colab-df-container\">\n",
       "      <div>\n",
       "<style scoped>\n",
       "    .dataframe tbody tr th:only-of-type {\n",
       "        vertical-align: middle;\n",
       "    }\n",
       "\n",
       "    .dataframe tbody tr th {\n",
       "        vertical-align: top;\n",
       "    }\n",
       "\n",
       "    .dataframe thead th {\n",
       "        text-align: right;\n",
       "    }\n",
       "</style>\n",
       "<table border=\"1\" class=\"dataframe\">\n",
       "  <thead>\n",
       "    <tr style=\"text-align: right;\">\n",
       "      <th></th>\n",
       "      <th>자치구</th>\n",
       "      <th>동</th>\n",
       "      <th>택시운송업(사업체수)</th>\n",
       "      <th>택시운송업(종사자수)</th>\n",
       "      <th>한식일반음식점업(사업체수)</th>\n",
       "      <th>한식일반음식점업(종사자수)</th>\n",
       "      <th>용달화물자동차운송업(사업체수)</th>\n",
       "      <th>용달화물자동차운송업(종사자수)</th>\n",
       "      <th>부동산중개및대리업(사업체수)</th>\n",
       "      <th>부동산중개및대리업(종사자수)</th>\n",
       "      <th>...</th>\n",
       "      <th>커피전문점(종사자수)</th>\n",
       "      <th>남녀용겉옷및셔츠도매업(사업체수)</th>\n",
       "      <th>남녀용겉옷및셔츠도매업(종사자수)</th>\n",
       "      <th>기타주점업(사업체수)</th>\n",
       "      <th>기타주점업(종사자수)</th>\n",
       "      <th>일반교과학원(사업체수)</th>\n",
       "      <th>일반교과학원(종사자수)</th>\n",
       "      <th>한식육류요리전문점(사업체수)</th>\n",
       "      <th>한식육류요리전문점(종사자수)</th>\n",
       "      <th>총 종사자수</th>\n",
       "    </tr>\n",
       "  </thead>\n",
       "  <tbody>\n",
       "    <tr>\n",
       "      <th>1</th>\n",
       "      <td>종로구</td>\n",
       "      <td>소계</td>\n",
       "      <td>215</td>\n",
       "      <td>215</td>\n",
       "      <td>1,548</td>\n",
       "      <td>5912</td>\n",
       "      <td>618</td>\n",
       "      <td>646</td>\n",
       "      <td>549</td>\n",
       "      <td>889</td>\n",
       "      <td>...</td>\n",
       "      <td>3613</td>\n",
       "      <td>400</td>\n",
       "      <td>962</td>\n",
       "      <td>537</td>\n",
       "      <td>1413</td>\n",
       "      <td>110</td>\n",
       "      <td>382</td>\n",
       "      <td>437</td>\n",
       "      <td>1982</td>\n",
       "      <td>16494</td>\n",
       "    </tr>\n",
       "    <tr>\n",
       "      <th>19</th>\n",
       "      <td>중구</td>\n",
       "      <td>소계</td>\n",
       "      <td>230</td>\n",
       "      <td>235</td>\n",
       "      <td>1,588</td>\n",
       "      <td>6414</td>\n",
       "      <td>300</td>\n",
       "      <td>333</td>\n",
       "      <td>576</td>\n",
       "      <td>1152</td>\n",
       "      <td>...</td>\n",
       "      <td>3542</td>\n",
       "      <td>10,810</td>\n",
       "      <td>24248</td>\n",
       "      <td>381</td>\n",
       "      <td>982</td>\n",
       "      <td>57</td>\n",
       "      <td>175</td>\n",
       "      <td>443</td>\n",
       "      <td>2121</td>\n",
       "      <td>40018</td>\n",
       "    </tr>\n",
       "    <tr>\n",
       "      <th>35</th>\n",
       "      <td>용산구</td>\n",
       "      <td>소계</td>\n",
       "      <td>416</td>\n",
       "      <td>523</td>\n",
       "      <td>857</td>\n",
       "      <td>2987</td>\n",
       "      <td>455</td>\n",
       "      <td>466</td>\n",
       "      <td>791</td>\n",
       "      <td>1214</td>\n",
       "      <td>...</td>\n",
       "      <td>2076</td>\n",
       "      <td>54</td>\n",
       "      <td>317</td>\n",
       "      <td>487</td>\n",
       "      <td>1332</td>\n",
       "      <td>104</td>\n",
       "      <td>573</td>\n",
       "      <td>300</td>\n",
       "      <td>1184</td>\n",
       "      <td>11449</td>\n",
       "    </tr>\n",
       "    <tr>\n",
       "      <th>52</th>\n",
       "      <td>성동구</td>\n",
       "      <td>소계</td>\n",
       "      <td>1,200</td>\n",
       "      <td>2527</td>\n",
       "      <td>956</td>\n",
       "      <td>2785</td>\n",
       "      <td>1,072</td>\n",
       "      <td>1161</td>\n",
       "      <td>801</td>\n",
       "      <td>1453</td>\n",
       "      <td>...</td>\n",
       "      <td>1859</td>\n",
       "      <td>149</td>\n",
       "      <td>1572</td>\n",
       "      <td>285</td>\n",
       "      <td>621</td>\n",
       "      <td>258</td>\n",
       "      <td>1494</td>\n",
       "      <td>400</td>\n",
       "      <td>1545</td>\n",
       "      <td>15868</td>\n",
       "    </tr>\n",
       "    <tr>\n",
       "      <th>70</th>\n",
       "      <td>광진구</td>\n",
       "      <td>소계</td>\n",
       "      <td>1,119</td>\n",
       "      <td>1744</td>\n",
       "      <td>963</td>\n",
       "      <td>2861</td>\n",
       "      <td>968</td>\n",
       "      <td>985</td>\n",
       "      <td>871</td>\n",
       "      <td>1313</td>\n",
       "      <td>...</td>\n",
       "      <td>1887</td>\n",
       "      <td>89</td>\n",
       "      <td>687</td>\n",
       "      <td>633</td>\n",
       "      <td>1577</td>\n",
       "      <td>413</td>\n",
       "      <td>1646</td>\n",
       "      <td>467</td>\n",
       "      <td>1678</td>\n",
       "      <td>15715</td>\n",
       "    </tr>\n",
       "  </tbody>\n",
       "</table>\n",
       "<p>5 rows × 23 columns</p>\n",
       "</div>\n",
       "      <button class=\"colab-df-convert\" onclick=\"convertToInteractive('df-c4ced48f-9dfc-4136-b185-c69c202e9dcc')\"\n",
       "              title=\"Convert this dataframe to an interactive table.\"\n",
       "              style=\"display:none;\">\n",
       "        \n",
       "  <svg xmlns=\"http://www.w3.org/2000/svg\" height=\"24px\"viewBox=\"0 0 24 24\"\n",
       "       width=\"24px\">\n",
       "    <path d=\"M0 0h24v24H0V0z\" fill=\"none\"/>\n",
       "    <path d=\"M18.56 5.44l.94 2.06.94-2.06 2.06-.94-2.06-.94-.94-2.06-.94 2.06-2.06.94zm-11 1L8.5 8.5l.94-2.06 2.06-.94-2.06-.94L8.5 2.5l-.94 2.06-2.06.94zm10 10l.94 2.06.94-2.06 2.06-.94-2.06-.94-.94-2.06-.94 2.06-2.06.94z\"/><path d=\"M17.41 7.96l-1.37-1.37c-.4-.4-.92-.59-1.43-.59-.52 0-1.04.2-1.43.59L10.3 9.45l-7.72 7.72c-.78.78-.78 2.05 0 2.83L4 21.41c.39.39.9.59 1.41.59.51 0 1.02-.2 1.41-.59l7.78-7.78 2.81-2.81c.8-.78.8-2.07 0-2.86zM5.41 20L4 18.59l7.72-7.72 1.47 1.35L5.41 20z\"/>\n",
       "  </svg>\n",
       "      </button>\n",
       "      \n",
       "  <style>\n",
       "    .colab-df-container {\n",
       "      display:flex;\n",
       "      flex-wrap:wrap;\n",
       "      gap: 12px;\n",
       "    }\n",
       "\n",
       "    .colab-df-convert {\n",
       "      background-color: #E8F0FE;\n",
       "      border: none;\n",
       "      border-radius: 50%;\n",
       "      cursor: pointer;\n",
       "      display: none;\n",
       "      fill: #1967D2;\n",
       "      height: 32px;\n",
       "      padding: 0 0 0 0;\n",
       "      width: 32px;\n",
       "    }\n",
       "\n",
       "    .colab-df-convert:hover {\n",
       "      background-color: #E2EBFA;\n",
       "      box-shadow: 0px 1px 2px rgba(60, 64, 67, 0.3), 0px 1px 3px 1px rgba(60, 64, 67, 0.15);\n",
       "      fill: #174EA6;\n",
       "    }\n",
       "\n",
       "    [theme=dark] .colab-df-convert {\n",
       "      background-color: #3B4455;\n",
       "      fill: #D2E3FC;\n",
       "    }\n",
       "\n",
       "    [theme=dark] .colab-df-convert:hover {\n",
       "      background-color: #434B5C;\n",
       "      box-shadow: 0px 1px 3px 1px rgba(0, 0, 0, 0.15);\n",
       "      filter: drop-shadow(0px 1px 2px rgba(0, 0, 0, 0.3));\n",
       "      fill: #FFFFFF;\n",
       "    }\n",
       "  </style>\n",
       "\n",
       "      <script>\n",
       "        const buttonEl =\n",
       "          document.querySelector('#df-c4ced48f-9dfc-4136-b185-c69c202e9dcc button.colab-df-convert');\n",
       "        buttonEl.style.display =\n",
       "          google.colab.kernel.accessAllowed ? 'block' : 'none';\n",
       "\n",
       "        async function convertToInteractive(key) {\n",
       "          const element = document.querySelector('#df-c4ced48f-9dfc-4136-b185-c69c202e9dcc');\n",
       "          const dataTable =\n",
       "            await google.colab.kernel.invokeFunction('convertToInteractive',\n",
       "                                                     [key], {});\n",
       "          if (!dataTable) return;\n",
       "\n",
       "          const docLinkHtml = 'Like what you see? Visit the ' +\n",
       "            '<a target=\"_blank\" href=https://colab.research.google.com/notebooks/data_table.ipynb>data table notebook</a>'\n",
       "            + ' to learn more about interactive tables.';\n",
       "          element.innerHTML = '';\n",
       "          dataTable['output_type'] = 'display_data';\n",
       "          await google.colab.output.renderOutput(dataTable, element);\n",
       "          const docLink = document.createElement('div');\n",
       "          docLink.innerHTML = docLinkHtml;\n",
       "          element.appendChild(docLink);\n",
       "        }\n",
       "      </script>\n",
       "    </div>\n",
       "  </div>\n",
       "  "
      ],
      "text/plain": [
       "    자치구   동 택시운송업(사업체수)  택시운송업(종사자수) 한식일반음식점업(사업체수)  한식일반음식점업(종사자수)  \\\n",
       "1   종로구  소계         215          215          1,548            5912   \n",
       "19   중구  소계         230          235          1,588            6414   \n",
       "35  용산구  소계         416          523            857            2987   \n",
       "52  성동구  소계       1,200         2527            956            2785   \n",
       "70  광진구  소계       1,119         1744            963            2861   \n",
       "\n",
       "   용달화물자동차운송업(사업체수)  용달화물자동차운송업(종사자수) 부동산중개및대리업(사업체수)  부동산중개및대리업(종사자수)  ...  \\\n",
       "1               618               646             549              889  ...   \n",
       "19              300               333             576             1152  ...   \n",
       "35              455               466             791             1214  ...   \n",
       "52            1,072              1161             801             1453  ...   \n",
       "70              968               985             871             1313  ...   \n",
       "\n",
       "   커피전문점(종사자수)  남녀용겉옷및셔츠도매업(사업체수) 남녀용겉옷및셔츠도매업(종사자수)  기타주점업(사업체수) 기타주점업(종사자수)  \\\n",
       "1         3613                400               962          537        1413   \n",
       "19        3542             10,810             24248          381         982   \n",
       "35        2076                 54               317          487        1332   \n",
       "52        1859                149              1572          285         621   \n",
       "70        1887                 89               687          633        1577   \n",
       "\n",
       "    일반교과학원(사업체수) 일반교과학원(종사자수)  한식육류요리전문점(사업체수) 한식육류요리전문점(종사자수)  총 종사자수  \n",
       "1            110          382              437            1982   16494  \n",
       "19            57          175              443            2121   40018  \n",
       "35           104          573              300            1184   11449  \n",
       "52           258         1494              400            1545   15868  \n",
       "70           413         1646              467            1678   15715  \n",
       "\n",
       "[5 rows x 23 columns]"
      ]
     },
     "execution_count": 540,
     "metadata": {},
     "output_type": "execute_result"
    }
   ],
   "source": [
    "df_sum.head()"
   ]
  },
  {
   "cell_type": "code",
   "execution_count": 541,
   "metadata": {
    "executionInfo": {
     "elapsed": 4,
     "status": "ok",
     "timestamp": 1667655536534,
     "user": {
      "displayName": "최가원",
      "userId": "06373414866148795583"
     },
     "user_tz": -540
    },
    "id": "0kExknttG0NG"
   },
   "outputs": [],
   "source": [
    "df_sum_W= pd.DataFrame()"
   ]
  },
  {
   "cell_type": "code",
   "execution_count": 542,
   "metadata": {
    "executionInfo": {
     "elapsed": 5605,
     "status": "ok",
     "timestamp": 1667655542136,
     "user": {
      "displayName": "최가원",
      "userId": "06373414866148795583"
     },
     "user_tz": -540
    },
    "id": "Mc-F4vnTBz6W"
   },
   "outputs": [],
   "source": [
    "df_sum_W= df_seoul_moving[(df_seoul_moving['이동유형']=='HW') | (df_seoul_moving['이동유형']=='EW') | \\\n",
    "                    (df_seoul_moving['이동유형']=='WW')]"
   ]
  },
  {
   "cell_type": "code",
   "execution_count": 543,
   "metadata": {
    "colab": {
     "base_uri": "https://localhost:8080/",
     "height": 250
    },
    "executionInfo": {
     "elapsed": 27,
     "status": "ok",
     "timestamp": 1667655542137,
     "user": {
      "displayName": "최가원",
      "userId": "06373414866148795583"
     },
     "user_tz": -540
    },
    "id": "PZm2AHaOHXQW",
    "outputId": "666de57a-77bd-4bab-d7b4-237f0dc5592d"
   },
   "outputs": [
    {
     "data": {
      "text/html": [
       "\n",
       "  <div id=\"df-79a5b424-82b5-48b1-b2bd-ef4ae3c3d34f\">\n",
       "    <div class=\"colab-df-container\">\n",
       "      <div>\n",
       "<style scoped>\n",
       "    .dataframe tbody tr th:only-of-type {\n",
       "        vertical-align: middle;\n",
       "    }\n",
       "\n",
       "    .dataframe tbody tr th {\n",
       "        vertical-align: top;\n",
       "    }\n",
       "\n",
       "    .dataframe thead th {\n",
       "        text-align: right;\n",
       "    }\n",
       "</style>\n",
       "<table border=\"1\" class=\"dataframe\">\n",
       "  <thead>\n",
       "    <tr style=\"text-align: right;\">\n",
       "      <th></th>\n",
       "      <th>대상연월</th>\n",
       "      <th>요일</th>\n",
       "      <th>도착시간</th>\n",
       "      <th>출발 시군구 코드</th>\n",
       "      <th>도착 시군구 코드</th>\n",
       "      <th>성별</th>\n",
       "      <th>나이</th>\n",
       "      <th>이동유형</th>\n",
       "      <th>평균 이동 시간(분)</th>\n",
       "      <th>이동인구(합)</th>\n",
       "    </tr>\n",
       "  </thead>\n",
       "  <tbody>\n",
       "    <tr>\n",
       "      <th>3</th>\n",
       "      <td>202204</td>\n",
       "      <td>일</td>\n",
       "      <td>0</td>\n",
       "      <td>11010</td>\n",
       "      <td>11010</td>\n",
       "      <td>F</td>\n",
       "      <td>10</td>\n",
       "      <td>HW</td>\n",
       "      <td>10</td>\n",
       "      <td>6.05</td>\n",
       "    </tr>\n",
       "    <tr>\n",
       "      <th>9</th>\n",
       "      <td>202204</td>\n",
       "      <td>일</td>\n",
       "      <td>0</td>\n",
       "      <td>11010</td>\n",
       "      <td>11010</td>\n",
       "      <td>F</td>\n",
       "      <td>15</td>\n",
       "      <td>HW</td>\n",
       "      <td>10</td>\n",
       "      <td>8.04</td>\n",
       "    </tr>\n",
       "    <tr>\n",
       "      <th>11</th>\n",
       "      <td>202204</td>\n",
       "      <td>일</td>\n",
       "      <td>0</td>\n",
       "      <td>11010</td>\n",
       "      <td>11010</td>\n",
       "      <td>F</td>\n",
       "      <td>15</td>\n",
       "      <td>WW</td>\n",
       "      <td>10</td>\n",
       "      <td>10.12</td>\n",
       "    </tr>\n",
       "    <tr>\n",
       "      <th>14</th>\n",
       "      <td>202204</td>\n",
       "      <td>일</td>\n",
       "      <td>0</td>\n",
       "      <td>11010</td>\n",
       "      <td>11010</td>\n",
       "      <td>F</td>\n",
       "      <td>15</td>\n",
       "      <td>EW</td>\n",
       "      <td>10</td>\n",
       "      <td>4.06</td>\n",
       "    </tr>\n",
       "    <tr>\n",
       "      <th>17</th>\n",
       "      <td>202204</td>\n",
       "      <td>일</td>\n",
       "      <td>0</td>\n",
       "      <td>11010</td>\n",
       "      <td>11010</td>\n",
       "      <td>F</td>\n",
       "      <td>20</td>\n",
       "      <td>WW</td>\n",
       "      <td>20</td>\n",
       "      <td>44.39</td>\n",
       "    </tr>\n",
       "  </tbody>\n",
       "</table>\n",
       "</div>\n",
       "      <button class=\"colab-df-convert\" onclick=\"convertToInteractive('df-79a5b424-82b5-48b1-b2bd-ef4ae3c3d34f')\"\n",
       "              title=\"Convert this dataframe to an interactive table.\"\n",
       "              style=\"display:none;\">\n",
       "        \n",
       "  <svg xmlns=\"http://www.w3.org/2000/svg\" height=\"24px\"viewBox=\"0 0 24 24\"\n",
       "       width=\"24px\">\n",
       "    <path d=\"M0 0h24v24H0V0z\" fill=\"none\"/>\n",
       "    <path d=\"M18.56 5.44l.94 2.06.94-2.06 2.06-.94-2.06-.94-.94-2.06-.94 2.06-2.06.94zm-11 1L8.5 8.5l.94-2.06 2.06-.94-2.06-.94L8.5 2.5l-.94 2.06-2.06.94zm10 10l.94 2.06.94-2.06 2.06-.94-2.06-.94-.94-2.06-.94 2.06-2.06.94z\"/><path d=\"M17.41 7.96l-1.37-1.37c-.4-.4-.92-.59-1.43-.59-.52 0-1.04.2-1.43.59L10.3 9.45l-7.72 7.72c-.78.78-.78 2.05 0 2.83L4 21.41c.39.39.9.59 1.41.59.51 0 1.02-.2 1.41-.59l7.78-7.78 2.81-2.81c.8-.78.8-2.07 0-2.86zM5.41 20L4 18.59l7.72-7.72 1.47 1.35L5.41 20z\"/>\n",
       "  </svg>\n",
       "      </button>\n",
       "      \n",
       "  <style>\n",
       "    .colab-df-container {\n",
       "      display:flex;\n",
       "      flex-wrap:wrap;\n",
       "      gap: 12px;\n",
       "    }\n",
       "\n",
       "    .colab-df-convert {\n",
       "      background-color: #E8F0FE;\n",
       "      border: none;\n",
       "      border-radius: 50%;\n",
       "      cursor: pointer;\n",
       "      display: none;\n",
       "      fill: #1967D2;\n",
       "      height: 32px;\n",
       "      padding: 0 0 0 0;\n",
       "      width: 32px;\n",
       "    }\n",
       "\n",
       "    .colab-df-convert:hover {\n",
       "      background-color: #E2EBFA;\n",
       "      box-shadow: 0px 1px 2px rgba(60, 64, 67, 0.3), 0px 1px 3px 1px rgba(60, 64, 67, 0.15);\n",
       "      fill: #174EA6;\n",
       "    }\n",
       "\n",
       "    [theme=dark] .colab-df-convert {\n",
       "      background-color: #3B4455;\n",
       "      fill: #D2E3FC;\n",
       "    }\n",
       "\n",
       "    [theme=dark] .colab-df-convert:hover {\n",
       "      background-color: #434B5C;\n",
       "      box-shadow: 0px 1px 3px 1px rgba(0, 0, 0, 0.15);\n",
       "      filter: drop-shadow(0px 1px 2px rgba(0, 0, 0, 0.3));\n",
       "      fill: #FFFFFF;\n",
       "    }\n",
       "  </style>\n",
       "\n",
       "      <script>\n",
       "        const buttonEl =\n",
       "          document.querySelector('#df-79a5b424-82b5-48b1-b2bd-ef4ae3c3d34f button.colab-df-convert');\n",
       "        buttonEl.style.display =\n",
       "          google.colab.kernel.accessAllowed ? 'block' : 'none';\n",
       "\n",
       "        async function convertToInteractive(key) {\n",
       "          const element = document.querySelector('#df-79a5b424-82b5-48b1-b2bd-ef4ae3c3d34f');\n",
       "          const dataTable =\n",
       "            await google.colab.kernel.invokeFunction('convertToInteractive',\n",
       "                                                     [key], {});\n",
       "          if (!dataTable) return;\n",
       "\n",
       "          const docLinkHtml = 'Like what you see? Visit the ' +\n",
       "            '<a target=\"_blank\" href=https://colab.research.google.com/notebooks/data_table.ipynb>data table notebook</a>'\n",
       "            + ' to learn more about interactive tables.';\n",
       "          element.innerHTML = '';\n",
       "          dataTable['output_type'] = 'display_data';\n",
       "          await google.colab.output.renderOutput(dataTable, element);\n",
       "          const docLink = document.createElement('div');\n",
       "          docLink.innerHTML = docLinkHtml;\n",
       "          element.appendChild(docLink);\n",
       "        }\n",
       "      </script>\n",
       "    </div>\n",
       "  </div>\n",
       "  "
      ],
      "text/plain": [
       "      대상연월 요일  도착시간  출발 시군구 코드  도착 시군구 코드 성별  나이 이동유형  평균 이동 시간(분)  이동인구(합)\n",
       "3   202204  일     0      11010      11010  F  10   HW           10     6.05\n",
       "9   202204  일     0      11010      11010  F  15   HW           10     8.04\n",
       "11  202204  일     0      11010      11010  F  15   WW           10    10.12\n",
       "14  202204  일     0      11010      11010  F  15   EW           10     4.06\n",
       "17  202204  일     0      11010      11010  F  20   WW           20    44.39"
      ]
     },
     "execution_count": 543,
     "metadata": {},
     "output_type": "execute_result"
    }
   ],
   "source": [
    "df_sum_W.head()"
   ]
  },
  {
   "cell_type": "code",
   "execution_count": 544,
   "metadata": {
    "executionInfo": {
     "elapsed": 25,
     "status": "ok",
     "timestamp": 1667655542138,
     "user": {
      "displayName": "최가원",
      "userId": "06373414866148795583"
     },
     "user_tz": -540
    },
    "id": "ubrScfoBB2pY"
   },
   "outputs": [],
   "source": [
    "df_seoul_moving_sum_W= df_sum_W.groupby('도착 시군구 코드')[['이동인구(합)']].sum()"
   ]
  },
  {
   "cell_type": "code",
   "execution_count": 545,
   "metadata": {
    "executionInfo": {
     "elapsed": 26,
     "status": "ok",
     "timestamp": 1667655542139,
     "user": {
      "displayName": "최가원",
      "userId": "06373414866148795583"
     },
     "user_tz": -540
    },
    "id": "zWzQceCaH7IE"
   },
   "outputs": [],
   "source": [
    "df_seoul_moving_sum_W= pd.merge(standard, df_seoul_moving_sum_W, how='inner', on='도착 시군구 코드')"
   ]
  },
  {
   "cell_type": "code",
   "execution_count": 546,
   "metadata": {
    "executionInfo": {
     "elapsed": 25,
     "status": "ok",
     "timestamp": 1667655542139,
     "user": {
      "displayName": "최가원",
      "userId": "06373414866148795583"
     },
     "user_tz": -540
    },
    "id": "qAjg6lhWCQ1X"
   },
   "outputs": [],
   "source": [
    "df_business_employee= pd.DataFrame()"
   ]
  },
  {
   "cell_type": "code",
   "execution_count": 547,
   "metadata": {
    "executionInfo": {
     "elapsed": 25,
     "status": "ok",
     "timestamp": 1667655542140,
     "user": {
      "displayName": "최가원",
      "userId": "06373414866148795583"
     },
     "user_tz": -540
    },
    "id": "5K47BhoFCFyX"
   },
   "outputs": [],
   "source": [
    "df_business_employee_sum= df_sum[['자치구', '총 종사자수']]"
   ]
  },
  {
   "cell_type": "code",
   "execution_count": 548,
   "metadata": {
    "executionInfo": {
     "elapsed": 25,
     "status": "ok",
     "timestamp": 1667655542140,
     "user": {
      "displayName": "최가원",
      "userId": "06373414866148795583"
     },
     "user_tz": -540
    },
    "id": "TU_2PPvpHwls"
   },
   "outputs": [],
   "source": [
    "df= pd.merge(df_business_employee_sum, df_seoul_moving_sum_W, how='inner', on='자치구')"
   ]
  },
  {
   "cell_type": "code",
   "execution_count": 549,
   "metadata": {
    "colab": {
     "base_uri": "https://localhost:8080/"
    },
    "executionInfo": {
     "elapsed": 26,
     "status": "ok",
     "timestamp": 1667655542141,
     "user": {
      "displayName": "최가원",
      "userId": "06373414866148795583"
     },
     "user_tz": -540
    },
    "id": "mgwbdke3HgFS",
    "outputId": "43309a3c-3dd0-4dfa-eac6-1755a15786bf"
   },
   "outputs": [
    {
     "data": {
      "text/plain": [
       "MannwhitneyuResult(statistic=625.0, pvalue=1.4156562248495537e-09)"
      ]
     },
     "execution_count": 549,
     "metadata": {},
     "output_type": "execute_result"
    }
   ],
   "source": [
    "from scipy.stats import mannwhitneyu\n",
    "mannwhitneyu(df['이동인구(합)'], df['총 종사자수'])"
   ]
  },
  {
   "cell_type": "code",
   "execution_count": 550,
   "metadata": {
    "executionInfo": {
     "elapsed": 21,
     "status": "ok",
     "timestamp": 1667655542141,
     "user": {
      "displayName": "최가원",
      "userId": "06373414866148795583"
     },
     "user_tz": -540
    },
    "id": "OX5fx4pIIN_R"
   },
   "outputs": [],
   "source": [
    "# 2. 변수 2개로 회귀모델 세우기"
   ]
  },
  {
   "cell_type": "code",
   "execution_count": 551,
   "metadata": {
    "executionInfo": {
     "elapsed": 22,
     "status": "ok",
     "timestamp": 1667655542142,
     "user": {
      "displayName": "최가원",
      "userId": "06373414866148795583"
     },
     "user_tz": -540
    },
    "id": "1kOrCeR-IRVD"
   },
   "outputs": [],
   "source": [
    "from sklearn.linear_model import LinearRegression\n",
    "from sklearn.model_selection import train_test_split"
   ]
  },
  {
   "cell_type": "code",
   "execution_count": 552,
   "metadata": {
    "executionInfo": {
     "elapsed": 21,
     "status": "ok",
     "timestamp": 1667655542142,
     "user": {
      "displayName": "최가원",
      "userId": "06373414866148795583"
     },
     "user_tz": -540
    },
    "id": "V40a9yuFISrd"
   },
   "outputs": [],
   "source": [
    "lr = LinearRegression()"
   ]
  },
  {
   "cell_type": "code",
   "execution_count": 553,
   "metadata": {
    "executionInfo": {
     "elapsed": 22,
     "status": "ok",
     "timestamp": 1667655542143,
     "user": {
      "displayName": "최가원",
      "userId": "06373414866148795583"
     },
     "user_tz": -540
    },
    "id": "qKVSI8TvITqB"
   },
   "outputs": [],
   "source": [
    "y= df['총 종사자수']\n",
    "X= df[['이동인구(합)']]\n",
    "\n",
    "X= X.values.reshape(-1, 1)\n",
    "\n",
    "X_train, X_test, y_train, y_test = train_test_split(X, y, test_size = 0.1)"
   ]
  },
  {
   "cell_type": "code",
   "execution_count": 554,
   "metadata": {
    "colab": {
     "base_uri": "https://localhost:8080/"
    },
    "executionInfo": {
     "elapsed": 22,
     "status": "ok",
     "timestamp": 1667655542143,
     "user": {
      "displayName": "최가원",
      "userId": "06373414866148795583"
     },
     "user_tz": -540
    },
    "id": "Ax8pqIKSIU6h",
    "outputId": "a76dc122-7478-4550-bb83-3d2f57aba424"
   },
   "outputs": [
    {
     "data": {
      "text/plain": [
       "LinearRegression()"
      ]
     },
     "execution_count": 554,
     "metadata": {},
     "output_type": "execute_result"
    }
   ],
   "source": [
    "lr.fit(X_train, y_train)"
   ]
  },
  {
   "cell_type": "code",
   "execution_count": 555,
   "metadata": {
    "colab": {
     "base_uri": "https://localhost:8080/",
     "height": 278
    },
    "executionInfo": {
     "elapsed": 386,
     "status": "ok",
     "timestamp": 1667655542511,
     "user": {
      "displayName": "최가원",
      "userId": "06373414866148795583"
     },
     "user_tz": -540
    },
    "id": "EWGHwoEUIWHt",
    "outputId": "bf3d1041-78db-455e-bfa9-83a4ed787221"
   },
   "outputs": [
    {
     "data": {
      "image/png": "[encoded data removed]",
      "text/plain": [
       "<Figure size 432x288 with 1 Axes>"
      ]
     },
     "metadata": {
      "needs_background": "light"
     },
     "output_type": "display_data"
    }
   ],
   "source": [
    "plt.scatter(X, y)\n",
    "plt.plot(X, lr.coef_[0]*X + lr.intercept_, color='red')\n",
    "plt.show()"
   ]
  },
  {
   "cell_type": "code",
   "execution_count": 556,
   "metadata": {
    "executionInfo": {
     "elapsed": 6,
     "status": "ok",
     "timestamp": 1667655542512,
     "user": {
      "displayName": "최가원",
      "userId": "06373414866148795583"
     },
     "user_tz": -540
    },
    "id": "WEVsNDIOIXbL"
   },
   "outputs": [],
   "source": [
    "# 3. 상관계수, 설명력 확인"
   ]
  },
  {
   "cell_type": "code",
   "execution_count": 557,
   "metadata": {
    "executionInfo": {
     "elapsed": 7,
     "status": "ok",
     "timestamp": 1667655542513,
     "user": {
      "displayName": "최가원",
      "userId": "06373414866148795583"
     },
     "user_tz": -540
    },
    "id": "UXXc19GCIYkY"
   },
   "outputs": [],
   "source": [
    "import statsmodels.api as sm\n",
    "results = sm.OLS(y, sm.add_constant(X)).fit()"
   ]
  },
  {
   "cell_type": "code",
   "execution_count": 558,
   "metadata": {
    "colab": {
     "base_uri": "https://localhost:8080/",
     "height": 486
    },
    "executionInfo": {
     "elapsed": 7,
     "status": "ok",
     "timestamp": 1667655542513,
     "user": {
      "displayName": "최가원",
      "userId": "06373414866148795583"
     },
     "user_tz": -540
    },
    "id": "O--y0YhzIZg1",
    "outputId": "0df1aa87-1781-46f4-ca25-de1a82fce95a"
   },
   "outputs": [
    {
     "data": {
      "text/html": [
       "<table class=\"simpletable\">\n",
       "<caption>OLS Regression Results</caption>\n",
       "<tr>\n",
       "  <th>Dep. Variable:</th>         <td>총 종사자수</td>      <th>  R-squared:         </th> <td>   0.809</td>\n",
       "</tr>\n",
       "<tr>\n",
       "  <th>Model:</th>                   <td>OLS</td>       <th>  Adj. R-squared:    </th> <td>   0.801</td>\n",
       "</tr>\n",
       "<tr>\n",
       "  <th>Method:</th>             <td>Least Squares</td>  <th>  F-statistic:       </th> <td>   97.61</td>\n",
       "</tr>\n",
       "<tr>\n",
       "  <th>Date:</th>             <td>Sat, 05 Nov 2022</td> <th>  Prob (F-statistic):</th> <td>9.60e-10</td>\n",
       "</tr>\n",
       "<tr>\n",
       "  <th>Time:</th>                 <td>13:39:02</td>     <th>  Log-Likelihood:    </th> <td> -245.62</td>\n",
       "</tr>\n",
       "<tr>\n",
       "  <th>No. Observations:</th>      <td>    25</td>      <th>  AIC:               </th> <td>   495.2</td>\n",
       "</tr>\n",
       "<tr>\n",
       "  <th>Df Residuals:</th>          <td>    23</td>      <th>  BIC:               </th> <td>   497.7</td>\n",
       "</tr>\n",
       "<tr>\n",
       "  <th>Df Model:</th>              <td>     1</td>      <th>                     </th>     <td> </td>   \n",
       "</tr>\n",
       "<tr>\n",
       "  <th>Covariance Type:</th>      <td>nonrobust</td>    <th>                     </th>     <td> </td>   \n",
       "</tr>\n",
       "</table>\n",
       "<table class=\"simpletable\">\n",
       "<tr>\n",
       "    <td></td>       <th>coef</th>     <th>std err</th>      <th>t</th>      <th>P>|t|</th>  <th>[0.025</th>    <th>0.975]</th>  \n",
       "</tr>\n",
       "<tr>\n",
       "  <th>const</th> <td> 3822.4957</td> <td> 1956.408</td> <td>    1.954</td> <td> 0.063</td> <td> -224.643</td> <td> 7869.635</td>\n",
       "</tr>\n",
       "<tr>\n",
       "  <th>x1</th>    <td>    0.0037</td> <td>    0.000</td> <td>    9.880</td> <td> 0.000</td> <td>    0.003</td> <td>    0.004</td>\n",
       "</tr>\n",
       "</table>\n",
       "<table class=\"simpletable\">\n",
       "<tr>\n",
       "  <th>Omnibus:</th>       <td> 0.053</td> <th>  Durbin-Watson:     </th> <td>   2.263</td>\n",
       "</tr>\n",
       "<tr>\n",
       "  <th>Prob(Omnibus):</th> <td> 0.974</td> <th>  Jarque-Bera (JB):  </th> <td>   0.267</td>\n",
       "</tr>\n",
       "<tr>\n",
       "  <th>Skew:</th>          <td>-0.038</td> <th>  Prob(JB):          </th> <td>   0.875</td>\n",
       "</tr>\n",
       "<tr>\n",
       "  <th>Kurtosis:</th>      <td> 2.499</td> <th>  Cond. No.          </th> <td>1.10e+07</td>\n",
       "</tr>\n",
       "</table><br/><br/>Notes:<br/>[1] Standard Errors assume that the covariance matrix of the errors is correctly specified.<br/>[2] The condition number is large, 1.1e+07. This might indicate that there are<br/>strong multicollinearity or other numerical problems."
      ],
      "text/plain": [
       "<class 'statsmodels.iolib.summary.Summary'>\n",
       "\"\"\"\n",
       "                            OLS Regression Results                            \n",
       "==============================================================================\n",
       "Dep. Variable:                 총 종사자수   R-squared:                       0.809\n",
       "Model:                            OLS   Adj. R-squared:                  0.801\n",
       "Method:                 Least Squares   F-statistic:                     97.61\n",
       "Date:                Sat, 05 Nov 2022   Prob (F-statistic):           9.60e-10\n",
       "Time:                        13:39:02   Log-Likelihood:                -245.62\n",
       "No. Observations:                  25   AIC:                             495.2\n",
       "Df Residuals:                      23   BIC:                             497.7\n",
       "Df Model:                           1                                         \n",
       "Covariance Type:            nonrobust                                         \n",
       "==============================================================================\n",
       "                 coef    std err          t      P>|t|      [0.025      0.975]\n",
       "------------------------------------------------------------------------------\n",
       "const       3822.4957   1956.408      1.954      0.063    -224.643    7869.635\n",
       "x1             0.0037      0.000      9.880      0.000       0.003       0.004\n",
       "==============================================================================\n",
       "Omnibus:                        0.053   Durbin-Watson:                   2.263\n",
       "Prob(Omnibus):                  0.974   Jarque-Bera (JB):                0.267\n",
       "Skew:                          -0.038   Prob(JB):                        0.875\n",
       "Kurtosis:                       2.499   Cond. No.                     1.10e+07\n",
       "==============================================================================\n",
       "\n",
       "Notes:\n",
       "[1] Standard Errors assume that the covariance matrix of the errors is correctly specified.\n",
       "[2] The condition number is large, 1.1e+07. This might indicate that there are\n",
       "strong multicollinearity or other numerical problems.\n",
       "\"\"\""
      ]
     },
     "execution_count": 558,
     "metadata": {},
     "output_type": "execute_result"
    }
   ],
   "source": [
    "results.summary()\n",
    "# R-squared(설명력):\t0.809\n",
    "# Prob (F-statistic)(p-value):\t9.60e-10\n",
    "# F-statistic:\t97.61"
   ]
  },
  {
   "cell_type": "markdown",
   "metadata": {
    "id": "rKPHCrhECXYl"
   },
   "source": [
    "### **총 종사자수와 버스 정류장 수는 상관관계가 있다.**"
   ]
  },
  {
   "cell_type": "code",
   "execution_count": 558,
   "metadata": {
    "executionInfo": {
     "elapsed": 4,
     "status": "ok",
     "timestamp": 1667655542906,
     "user": {
      "displayName": "최가원",
      "userId": "06373414866148795583"
     },
     "user_tz": -540
    },
    "id": "lptse96UAWc4"
   },
   "outputs": [],
   "source": []
  },
  {
   "cell_type": "code",
   "execution_count": 560,
   "metadata": {
    "executionInfo": {
     "elapsed": 311,
     "status": "ok",
     "timestamp": 1667655553822,
     "user": {
      "displayName": "최가원",
      "userId": "06373414866148795583"
     },
     "user_tz": -540
    },
    "id": "ikidgSIUILDL"
   },
   "outputs": [],
   "source": [
    "df_business_employee_sum= df_business_employee_sum.sort_values('자치구')"
   ]
  },
  {
   "cell_type": "code",
   "execution_count": 561,
   "metadata": {
    "executionInfo": {
     "elapsed": 284,
     "status": "ok",
     "timestamp": 1667655556838,
     "user": {
      "displayName": "최가원",
      "userId": "06373414866148795583"
     },
     "user_tz": -540
    },
    "id": "5uhb2_HuA82l"
   },
   "outputs": [],
   "source": [
    "df_seoul_people= df_seoul_people.tail(25)\n",
    "df_seoul_bus_station_re= df_seoul_bus_station.sort_values('자치구')"
   ]
  },
  {
   "cell_type": "code",
   "execution_count": 564,
   "metadata": {
    "colab": {
     "base_uri": "https://localhost:8080/",
     "height": 206
    },
    "executionInfo": {
     "elapsed": 338,
     "status": "ok",
     "timestamp": 1667655577456,
     "user": {
      "displayName": "최가원",
      "userId": "06373414866148795583"
     },
     "user_tz": -540
    },
    "id": "0IuNp-_fAhvr",
    "outputId": "65b90d44-a3a8-415a-8949-2cbc69bdb144"
   },
   "outputs": [
    {
     "data": {
      "text/html": [
       "\n",
       "  <div id=\"df-853403e3-fad2-4bed-ab29-9171f98db557\">\n",
       "    <div class=\"colab-df-container\">\n",
       "      <div>\n",
       "<style scoped>\n",
       "    .dataframe tbody tr th:only-of-type {\n",
       "        vertical-align: middle;\n",
       "    }\n",
       "\n",
       "    .dataframe tbody tr th {\n",
       "        vertical-align: top;\n",
       "    }\n",
       "\n",
       "    .dataframe thead th {\n",
       "        text-align: right;\n",
       "    }\n",
       "</style>\n",
       "<table border=\"1\" class=\"dataframe\">\n",
       "  <thead>\n",
       "    <tr style=\"text-align: right;\">\n",
       "      <th></th>\n",
       "      <th>자치구</th>\n",
       "      <th>정류장수</th>\n",
       "      <th>노선수</th>\n",
       "      <th>승차총승객수</th>\n",
       "      <th>하차총승객수</th>\n",
       "      <th>승차평균승객수</th>\n",
       "      <th>하차평균승객수</th>\n",
       "    </tr>\n",
       "  </thead>\n",
       "  <tbody>\n",
       "    <tr>\n",
       "      <th>0</th>\n",
       "      <td>강남구</td>\n",
       "      <td>499</td>\n",
       "      <td>91</td>\n",
       "      <td>8030483</td>\n",
       "      <td>7569213</td>\n",
       "      <td>128.767927</td>\n",
       "      <td>121.371512</td>\n",
       "    </tr>\n",
       "    <tr>\n",
       "      <th>1</th>\n",
       "      <td>강동구</td>\n",
       "      <td>369</td>\n",
       "      <td>21</td>\n",
       "      <td>2890053</td>\n",
       "      <td>2830506</td>\n",
       "      <td>99.161194</td>\n",
       "      <td>97.118065</td>\n",
       "    </tr>\n",
       "    <tr>\n",
       "      <th>2</th>\n",
       "      <td>강북구</td>\n",
       "      <td>413</td>\n",
       "      <td>67</td>\n",
       "      <td>4825181</td>\n",
       "      <td>4671783</td>\n",
       "      <td>133.020373</td>\n",
       "      <td>128.791504</td>\n",
       "    </tr>\n",
       "    <tr>\n",
       "      <th>3</th>\n",
       "      <td>강서구</td>\n",
       "      <td>566</td>\n",
       "      <td>49</td>\n",
       "      <td>4681083</td>\n",
       "      <td>4652828</td>\n",
       "      <td>88.119480</td>\n",
       "      <td>87.587591</td>\n",
       "    </tr>\n",
       "    <tr>\n",
       "      <th>4</th>\n",
       "      <td>관악구</td>\n",
       "      <td>466</td>\n",
       "      <td>86</td>\n",
       "      <td>7655819</td>\n",
       "      <td>7792476</td>\n",
       "      <td>154.753674</td>\n",
       "      <td>157.516040</td>\n",
       "    </tr>\n",
       "  </tbody>\n",
       "</table>\n",
       "</div>\n",
       "      <button class=\"colab-df-convert\" onclick=\"convertToInteractive('df-853403e3-fad2-4bed-ab29-9171f98db557')\"\n",
       "              title=\"Convert this dataframe to an interactive table.\"\n",
       "              style=\"display:none;\">\n",
       "        \n",
       "  <svg xmlns=\"http://www.w3.org/2000/svg\" height=\"24px\"viewBox=\"0 0 24 24\"\n",
       "       width=\"24px\">\n",
       "    <path d=\"M0 0h24v24H0V0z\" fill=\"none\"/>\n",
       "    <path d=\"M18.56 5.44l.94 2.06.94-2.06 2.06-.94-2.06-.94-.94-2.06-.94 2.06-2.06.94zm-11 1L8.5 8.5l.94-2.06 2.06-.94-2.06-.94L8.5 2.5l-.94 2.06-2.06.94zm10 10l.94 2.06.94-2.06 2.06-.94-2.06-.94-.94-2.06-.94 2.06-2.06.94z\"/><path d=\"M17.41 7.96l-1.37-1.37c-.4-.4-.92-.59-1.43-.59-.52 0-1.04.2-1.43.59L10.3 9.45l-7.72 7.72c-.78.78-.78 2.05 0 2.83L4 21.41c.39.39.9.59 1.41.59.51 0 1.02-.2 1.41-.59l7.78-7.78 2.81-2.81c.8-.78.8-2.07 0-2.86zM5.41 20L4 18.59l7.72-7.72 1.47 1.35L5.41 20z\"/>\n",
       "  </svg>\n",
       "      </button>\n",
       "      \n",
       "  <style>\n",
       "    .colab-df-container {\n",
       "      display:flex;\n",
       "      flex-wrap:wrap;\n",
       "      gap: 12px;\n",
       "    }\n",
       "\n",
       "    .colab-df-convert {\n",
       "      background-color: #E8F0FE;\n",
       "      border: none;\n",
       "      border-radius: 50%;\n",
       "      cursor: pointer;\n",
       "      display: none;\n",
       "      fill: #1967D2;\n",
       "      height: 32px;\n",
       "      padding: 0 0 0 0;\n",
       "      width: 32px;\n",
       "    }\n",
       "\n",
       "    .colab-df-convert:hover {\n",
       "      background-color: #E2EBFA;\n",
       "      box-shadow: 0px 1px 2px rgba(60, 64, 67, 0.3), 0px 1px 3px 1px rgba(60, 64, 67, 0.15);\n",
       "      fill: #174EA6;\n",
       "    }\n",
       "\n",
       "    [theme=dark] .colab-df-convert {\n",
       "      background-color: #3B4455;\n",
       "      fill: #D2E3FC;\n",
       "    }\n",
       "\n",
       "    [theme=dark] .colab-df-convert:hover {\n",
       "      background-color: #434B5C;\n",
       "      box-shadow: 0px 1px 3px 1px rgba(0, 0, 0, 0.15);\n",
       "      filter: drop-shadow(0px 1px 2px rgba(0, 0, 0, 0.3));\n",
       "      fill: #FFFFFF;\n",
       "    }\n",
       "  </style>\n",
       "\n",
       "      <script>\n",
       "        const buttonEl =\n",
       "          document.querySelector('#df-853403e3-fad2-4bed-ab29-9171f98db557 button.colab-df-convert');\n",
       "        buttonEl.style.display =\n",
       "          google.colab.kernel.accessAllowed ? 'block' : 'none';\n",
       "\n",
       "        async function convertToInteractive(key) {\n",
       "          const element = document.querySelector('#df-853403e3-fad2-4bed-ab29-9171f98db557');\n",
       "          const dataTable =\n",
       "            await google.colab.kernel.invokeFunction('convertToInteractive',\n",
       "                                                     [key], {});\n",
       "          if (!dataTable) return;\n",
       "\n",
       "          const docLinkHtml = 'Like what you see? Visit the ' +\n",
       "            '<a target=\"_blank\" href=https://colab.research.google.com/notebooks/data_table.ipynb>data table notebook</a>'\n",
       "            + ' to learn more about interactive tables.';\n",
       "          element.innerHTML = '';\n",
       "          dataTable['output_type'] = 'display_data';\n",
       "          await google.colab.output.renderOutput(dataTable, element);\n",
       "          const docLink = document.createElement('div');\n",
       "          docLink.innerHTML = docLinkHtml;\n",
       "          element.appendChild(docLink);\n",
       "        }\n",
       "      </script>\n",
       "    </div>\n",
       "  </div>\n",
       "  "
      ],
      "text/plain": [
       "   자치구  정류장수  노선수   승차총승객수   하차총승객수     승차평균승객수     하차평균승객수\n",
       "0  강남구   499   91  8030483  7569213  128.767927  121.371512\n",
       "1  강동구   369   21  2890053  2830506   99.161194   97.118065\n",
       "2  강북구   413   67  4825181  4671783  133.020373  128.791504\n",
       "3  강서구   566   49  4681083  4652828   88.119480   87.587591\n",
       "4  관악구   466   86  7655819  7792476  154.753674  157.516040"
      ]
     },
     "execution_count": 564,
     "metadata": {},
     "output_type": "execute_result"
    }
   ],
   "source": [
    "df_seoul_bus_station_re.head()"
   ]
  },
  {
   "cell_type": "code",
   "execution_count": 563,
   "metadata": {
    "colab": {
     "base_uri": "https://localhost:8080/",
     "height": 206
    },
    "executionInfo": {
     "elapsed": 287,
     "status": "ok",
     "timestamp": 1667655569001,
     "user": {
      "displayName": "최가원",
      "userId": "06373414866148795583"
     },
     "user_tz": -540
    },
    "id": "TmqSNvAuBIBG",
    "outputId": "bcda8e1d-cda3-439f-86f7-4bf6a3ce142d"
   },
   "outputs": [
    {
     "data": {
      "text/html": [
       "\n",
       "  <div id=\"df-58c19f62-89f0-4ff7-a26e-2112b0b70546\">\n",
       "    <div class=\"colab-df-container\">\n",
       "      <div>\n",
       "<style scoped>\n",
       "    .dataframe tbody tr th:only-of-type {\n",
       "        vertical-align: middle;\n",
       "    }\n",
       "\n",
       "    .dataframe tbody tr th {\n",
       "        vertical-align: top;\n",
       "    }\n",
       "\n",
       "    .dataframe thead th {\n",
       "        text-align: right;\n",
       "    }\n",
       "</style>\n",
       "<table border=\"1\" class=\"dataframe\">\n",
       "  <thead>\n",
       "    <tr style=\"text-align: right;\">\n",
       "      <th></th>\n",
       "      <th>자치구</th>\n",
       "      <th>총 종사자수</th>\n",
       "    </tr>\n",
       "  </thead>\n",
       "  <tbody>\n",
       "    <tr>\n",
       "      <th>380</th>\n",
       "      <td>강남구</td>\n",
       "      <td>59402</td>\n",
       "    </tr>\n",
       "    <tr>\n",
       "      <th>431</th>\n",
       "      <td>강동구</td>\n",
       "      <td>21358</td>\n",
       "    </tr>\n",
       "    <tr>\n",
       "      <th>139</th>\n",
       "      <td>강북구</td>\n",
       "      <td>12526</td>\n",
       "    </tr>\n",
       "    <tr>\n",
       "      <th>256</th>\n",
       "      <td>강서구</td>\n",
       "      <td>27031</td>\n",
       "    </tr>\n",
       "    <tr>\n",
       "      <th>339</th>\n",
       "      <td>관악구</td>\n",
       "      <td>17825</td>\n",
       "    </tr>\n",
       "  </tbody>\n",
       "</table>\n",
       "</div>\n",
       "      <button class=\"colab-df-convert\" onclick=\"convertToInteractive('df-58c19f62-89f0-4ff7-a26e-2112b0b70546')\"\n",
       "              title=\"Convert this dataframe to an interactive table.\"\n",
       "              style=\"display:none;\">\n",
       "        \n",
       "  <svg xmlns=\"http://www.w3.org/2000/svg\" height=\"24px\"viewBox=\"0 0 24 24\"\n",
       "       width=\"24px\">\n",
       "    <path d=\"M0 0h24v24H0V0z\" fill=\"none\"/>\n",
       "    <path d=\"M18.56 5.44l.94 2.06.94-2.06 2.06-.94-2.06-.94-.94-2.06-.94 2.06-2.06.94zm-11 1L8.5 8.5l.94-2.06 2.06-.94-2.06-.94L8.5 2.5l-.94 2.06-2.06.94zm10 10l.94 2.06.94-2.06 2.06-.94-2.06-.94-.94-2.06-.94 2.06-2.06.94z\"/><path d=\"M17.41 7.96l-1.37-1.37c-.4-.4-.92-.59-1.43-.59-.52 0-1.04.2-1.43.59L10.3 9.45l-7.72 7.72c-.78.78-.78 2.05 0 2.83L4 21.41c.39.39.9.59 1.41.59.51 0 1.02-.2 1.41-.59l7.78-7.78 2.81-2.81c.8-.78.8-2.07 0-2.86zM5.41 20L4 18.59l7.72-7.72 1.47 1.35L5.41 20z\"/>\n",
       "  </svg>\n",
       "      </button>\n",
       "      \n",
       "  <style>\n",
       "    .colab-df-container {\n",
       "      display:flex;\n",
       "      flex-wrap:wrap;\n",
       "      gap: 12px;\n",
       "    }\n",
       "\n",
       "    .colab-df-convert {\n",
       "      background-color: #E8F0FE;\n",
       "      border: none;\n",
       "      border-radius: 50%;\n",
       "      cursor: pointer;\n",
       "      display: none;\n",
       "      fill: #1967D2;\n",
       "      height: 32px;\n",
       "      padding: 0 0 0 0;\n",
       "      width: 32px;\n",
       "    }\n",
       "\n",
       "    .colab-df-convert:hover {\n",
       "      background-color: #E2EBFA;\n",
       "      box-shadow: 0px 1px 2px rgba(60, 64, 67, 0.3), 0px 1px 3px 1px rgba(60, 64, 67, 0.15);\n",
       "      fill: #174EA6;\n",
       "    }\n",
       "\n",
       "    [theme=dark] .colab-df-convert {\n",
       "      background-color: #3B4455;\n",
       "      fill: #D2E3FC;\n",
       "    }\n",
       "\n",
       "    [theme=dark] .colab-df-convert:hover {\n",
       "      background-color: #434B5C;\n",
       "      box-shadow: 0px 1px 3px 1px rgba(0, 0, 0, 0.15);\n",
       "      filter: drop-shadow(0px 1px 2px rgba(0, 0, 0, 0.3));\n",
       "      fill: #FFFFFF;\n",
       "    }\n",
       "  </style>\n",
       "\n",
       "      <script>\n",
       "        const buttonEl =\n",
       "          document.querySelector('#df-58c19f62-89f0-4ff7-a26e-2112b0b70546 button.colab-df-convert');\n",
       "        buttonEl.style.display =\n",
       "          google.colab.kernel.accessAllowed ? 'block' : 'none';\n",
       "\n",
       "        async function convertToInteractive(key) {\n",
       "          const element = document.querySelector('#df-58c19f62-89f0-4ff7-a26e-2112b0b70546');\n",
       "          const dataTable =\n",
       "            await google.colab.kernel.invokeFunction('convertToInteractive',\n",
       "                                                     [key], {});\n",
       "          if (!dataTable) return;\n",
       "\n",
       "          const docLinkHtml = 'Like what you see? Visit the ' +\n",
       "            '<a target=\"_blank\" href=https://colab.research.google.com/notebooks/data_table.ipynb>data table notebook</a>'\n",
       "            + ' to learn more about interactive tables.';\n",
       "          element.innerHTML = '';\n",
       "          dataTable['output_type'] = 'display_data';\n",
       "          await google.colab.output.renderOutput(dataTable, element);\n",
       "          const docLink = document.createElement('div');\n",
       "          docLink.innerHTML = docLinkHtml;\n",
       "          element.appendChild(docLink);\n",
       "        }\n",
       "      </script>\n",
       "    </div>\n",
       "  </div>\n",
       "  "
      ],
      "text/plain": [
       "     자치구  총 종사자수\n",
       "380  강남구   59402\n",
       "431  강동구   21358\n",
       "139  강북구   12526\n",
       "256  강서구   27031\n",
       "339  관악구   17825"
      ]
     },
     "execution_count": 563,
     "metadata": {},
     "output_type": "execute_result"
    }
   ],
   "source": [
    "df_business_employee_sum.head()"
   ]
  },
  {
   "cell_type": "code",
   "execution_count": 567,
   "metadata": {
    "colab": {
     "base_uri": "https://localhost:8080/"
    },
    "executionInfo": {
     "elapsed": 285,
     "status": "ok",
     "timestamp": 1667655867290,
     "user": {
      "displayName": "최가원",
      "userId": "06373414866148795583"
     },
     "user_tz": -540
    },
    "id": "tyqEmZawBylO",
    "outputId": "818721d8-6665-4fae-c241-0dc55377bce9"
   },
   "outputs": [
    {
     "data": {
      "text/plain": [
       "ShapiroResult(statistic=0.9804373383522034, pvalue=0.8936382532119751)"
      ]
     },
     "execution_count": 567,
     "metadata": {},
     "output_type": "execute_result"
    }
   ],
   "source": [
    "from scipy.stats import shapiro\n",
    "stats.shapiro(df_seoul_bus_station_re['정류장수'])"
   ]
  },
  {
   "cell_type": "code",
   "execution_count": 568,
   "metadata": {
    "colab": {
     "base_uri": "https://localhost:8080/"
    },
    "executionInfo": {
     "elapsed": 3,
     "status": "ok",
     "timestamp": 1667655867760,
     "user": {
      "displayName": "최가원",
      "userId": "06373414866148795583"
     },
     "user_tz": -540
    },
    "id": "WAk19gHxCOHa",
    "outputId": "e37abf62-e354-4c7e-f2a2-b771b5f0a7b2"
   },
   "outputs": [
    {
     "data": {
      "text/plain": [
       "ShapiroResult(statistic=0.7318196296691895, pvalue=2.0146468159509823e-05)"
      ]
     },
     "execution_count": 568,
     "metadata": {},
     "output_type": "execute_result"
    }
   ],
   "source": [
    "stats.shapiro(df_business_employee_sum['총 종사자수']) # 정규성을 안 따름"
   ]
  },
  {
   "cell_type": "code",
   "execution_count": 565,
   "metadata": {
    "colab": {
     "base_uri": "https://localhost:8080/"
    },
    "executionInfo": {
     "elapsed": 354,
     "status": "ok",
     "timestamp": 1667655692230,
     "user": {
      "displayName": "최가원",
      "userId": "06373414866148795583"
     },
     "user_tz": -540
    },
    "id": "Tg1NNpidBV54",
    "outputId": "2ee26b38-2ba3-48ba-98ee-775f1fa0d39f"
   },
   "outputs": [
    {
     "data": {
      "text/plain": [
       "MannwhitneyuResult(statistic=0.0, pvalue=1.4156562248495537e-09)"
      ]
     },
     "execution_count": 565,
     "metadata": {},
     "output_type": "execute_result"
    }
   ],
   "source": [
    "from scipy.stats import mannwhitneyu\n",
    "mannwhitneyu(df_seoul_bus_station_re['정류장수'], df_business_employee_sum['총 종사자수'])"
   ]
  },
  {
   "cell_type": "markdown",
   "metadata": {
    "id": "wIyrIBVw7ttC"
   },
   "source": [
    "### **7. 이동유형 HW의 이동인구와 HE의 이동인구에는 차이가 있다.**"
   ]
  },
  {
   "cell_type": "code",
   "execution_count": 285,
   "metadata": {
    "executionInfo": {
     "elapsed": 2,
     "status": "ok",
     "timestamp": 1667635546012,
     "user": {
      "displayName": "최가원",
      "userId": "06373414866148795583"
     },
     "user_tz": -540
    },
    "id": "AO5Flwhz7wlU"
   },
   "outputs": [],
   "source": [
    "# 1. 상관관계 분석 (상관계수, p-value)\n",
    "# 2. 변수 2개로 회귀모델 세우기\n",
    "# 2. 상관계수, 설명력 확인"
   ]
  },
  {
   "cell_type": "code",
   "execution_count": 286,
   "metadata": {
    "executionInfo": {
     "elapsed": 1507,
     "status": "ok",
     "timestamp": 1667635548442,
     "user": {
      "displayName": "최가원",
      "userId": "06373414866148795583"
     },
     "user_tz": -540
    },
    "id": "z5YMLpZ99O4N"
   },
   "outputs": [],
   "source": [
    "HW= df_seoul_moving[df_seoul_moving['이동유형']=='HW']\n",
    "HE= df_seoul_moving[df_seoul_moving['이동유형']=='HE']"
   ]
  },
  {
   "cell_type": "code",
   "execution_count": 288,
   "metadata": {
    "colab": {
     "base_uri": "https://localhost:8080/"
    },
    "executionInfo": {
     "elapsed": 458,
     "status": "ok",
     "timestamp": 1667635561929,
     "user": {
      "displayName": "최가원",
      "userId": "06373414866148795583"
     },
     "user_tz": -540
    },
    "id": "DRzDrKbd0jk6",
    "outputId": "4c3908c7-924f-4d93-c2c4-0eae1ed0c6ce"
   },
   "outputs": [
    {
     "name": "stdout",
     "output_type": "stream",
     "text": [
      "t statistic : 43.115217 \n",
      "p-value : 0.000000\n"
     ]
    }
   ],
   "source": [
    "# t-test\n",
    "result = ttest_ind(HW['이동인구(합)'], HE['이동인구(합)'], equal_var=False) \n",
    "print('t statistic : %f \\np-value : %f' % (result))"
   ]
  },
  {
   "cell_type": "code",
   "execution_count": 291,
   "metadata": {
    "executionInfo": {
     "elapsed": 4,
     "status": "ok",
     "timestamp": 1667635569364,
     "user": {
      "displayName": "최가원",
      "userId": "06373414866148795583"
     },
     "user_tz": -540
    },
    "id": "lRYOB02Y0mSc"
   },
   "outputs": [],
   "source": [
    "# 2. 변수 2개로 회귀모델 세우기"
   ]
  },
  {
   "cell_type": "code",
   "execution_count": 293,
   "metadata": {
    "executionInfo": {
     "elapsed": 456,
     "status": "ok",
     "timestamp": 1667635639719,
     "user": {
      "displayName": "최가원",
      "userId": "06373414866148795583"
     },
     "user_tz": -540
    },
    "id": "CHUFTjgZ0ncZ"
   },
   "outputs": [],
   "source": [
    "from sklearn.linear_model import LinearRegression\n",
    "from sklearn.model_selection import train_test_split"
   ]
  },
  {
   "cell_type": "code",
   "execution_count": null,
   "metadata": {
    "id": "XXTQ8hjf8NEg"
   },
   "outputs": [],
   "source": [
    "lr = LinearRegression()"
   ]
  },
  {
   "cell_type": "code",
   "execution_count": 292,
   "metadata": {
    "colab": {
     "base_uri": "https://localhost:8080/"
    },
    "executionInfo": {
     "elapsed": 490,
     "status": "ok",
     "timestamp": 1667635630974,
     "user": {
      "displayName": "최가원",
      "userId": "06373414866148795583"
     },
     "user_tz": -540
    },
    "id": "HF92FvmO08so",
    "outputId": "dac74c2c-77f4-447f-bdaf-ea84c715fba7"
   },
   "outputs": [
    {
     "name": "stdout",
     "output_type": "stream",
     "text": [
      "(1175530, 10) (1664541, 10)\n"
     ]
    }
   ],
   "source": [
    "print(HW.shape, HE.shape)"
   ]
  },
  {
   "cell_type": "code",
   "execution_count": 294,
   "metadata": {
    "executionInfo": {
     "elapsed": 449,
     "status": "ok",
     "timestamp": 1667635671899,
     "user": {
      "displayName": "최가원",
      "userId": "06373414866148795583"
     },
     "user_tz": -540
    },
    "id": "VoBR6Po21H02"
   },
   "outputs": [],
   "source": [
    "HE= HE.head(1100000)\n",
    "HW= HW.head(1100000)"
   ]
  },
  {
   "cell_type": "code",
   "execution_count": 295,
   "metadata": {
    "colab": {
     "base_uri": "https://localhost:8080/"
    },
    "executionInfo": {
     "elapsed": 433,
     "status": "ok",
     "timestamp": 1667635677853,
     "user": {
      "displayName": "최가원",
      "userId": "06373414866148795583"
     },
     "user_tz": -540
    },
    "id": "8lrBQ_t41Ptx",
    "outputId": "48fa49cb-3db6-4741-d0bc-7e8d6238b122"
   },
   "outputs": [
    {
     "name": "stdout",
     "output_type": "stream",
     "text": [
      "(1100000, 10) (1100000, 10)\n"
     ]
    }
   ],
   "source": [
    "print(HW.shape, HE.shape)"
   ]
  },
  {
   "cell_type": "code",
   "execution_count": null,
   "metadata": {
    "id": "ksNcDWO63_IS"
   },
   "outputs": [],
   "source": [
    "import statsmodels.api as sm"
   ]
  },
  {
   "cell_type": "code",
   "execution_count": 296,
   "metadata": {
    "executionInfo": {
     "elapsed": 356,
     "status": "ok",
     "timestamp": 1667635682302,
     "user": {
      "displayName": "최가원",
      "userId": "06373414866148795583"
     },
     "user_tz": -540
    },
    "id": "D51roHKn0ocp"
   },
   "outputs": [],
   "source": [
    "y= HW['이동인구(합)']\n",
    "X= HE[['이동인구(합)']]\n",
    "\n",
    "X= X.values.reshape(-1, 1)\n",
    "\n",
    "X_train, X_test, y_train, y_test = train_test_split(X, y, test_size = 0.1)"
   ]
  },
  {
   "cell_type": "code",
   "execution_count": 297,
   "metadata": {
    "colab": {
     "base_uri": "https://localhost:8080/"
    },
    "executionInfo": {
     "elapsed": 3,
     "status": "ok",
     "timestamp": 1667635683645,
     "user": {
      "displayName": "최가원",
      "userId": "06373414866148795583"
     },
     "user_tz": -540
    },
    "id": "g7tPjDzd0piJ",
    "outputId": "4c3fffc6-5106-460e-a2e9-587a2a525d4a"
   },
   "outputs": [
    {
     "data": {
      "text/plain": [
       "LinearRegression()"
      ]
     },
     "execution_count": 297,
     "metadata": {},
     "output_type": "execute_result"
    }
   ],
   "source": [
    "# lr.fit(X_train, y_train)"
   ]
  },
  {
   "cell_type": "code",
   "execution_count": null,
   "metadata": {
    "id": "jN5rfP2X0qsg"
   },
   "outputs": [],
   "source": [
    "# # plt.scatter(X, y)\n",
    "# rx= np.random.choice(HE['이동인구(합)'], 1)\n",
    "# ry= np.random.choice(HW['이동인구(합)'], 1)\n",
    "# plt.scatter(rx, ry)\n",
    "# plt.plot(X, lr.coef_[0]*X + lr.intercept_, color='red')\n",
    "# plt.show()"
   ]
  },
  {
   "cell_type": "code",
   "execution_count": null,
   "metadata": {
    "id": "ZvQrLhl80skJ"
   },
   "outputs": [],
   "source": [
    "# 3. 상관계수, 설명력 확인"
   ]
  },
  {
   "cell_type": "code",
   "execution_count": 300,
   "metadata": {
    "executionInfo": {
     "elapsed": 608,
     "status": "ok",
     "timestamp": 1667635707569,
     "user": {
      "displayName": "최가원",
      "userId": "06373414866148795583"
     },
     "user_tz": -540
    },
    "id": "jVArxaC_0uLR"
   },
   "outputs": [],
   "source": [
    "import statsmodels.api as sm\n",
    "results = sm.OLS(y, sm.add_constant(X)).fit()"
   ]
  },
  {
   "cell_type": "code",
   "execution_count": 301,
   "metadata": {
    "colab": {
     "base_uri": "https://localhost:8080/",
     "height": 452
    },
    "executionInfo": {
     "elapsed": 380,
     "status": "ok",
     "timestamp": 1667635707946,
     "user": {
      "displayName": "최가원",
      "userId": "06373414866148795583"
     },
     "user_tz": -540
    },
    "id": "haFlkAVO0vSQ",
    "outputId": "ae98b9a8-efce-4806-906d-70c35ba2326f"
   },
   "outputs": [
    {
     "data": {
      "text/html": [
       "<table class=\"simpletable\">\n",
       "<caption>OLS Regression Results</caption>\n",
       "<tr>\n",
       "  <th>Dep. Variable:</th>         <td>이동인구(합)</td>     <th>  R-squared:         </th>  <td>   0.000</td>  \n",
       "</tr>\n",
       "<tr>\n",
       "  <th>Model:</th>                   <td>OLS</td>       <th>  Adj. R-squared:    </th>  <td>   0.000</td>  \n",
       "</tr>\n",
       "<tr>\n",
       "  <th>Method:</th>             <td>Least Squares</td>  <th>  F-statistic:       </th>  <td>   8.787</td>  \n",
       "</tr>\n",
       "<tr>\n",
       "  <th>Date:</th>             <td>Sat, 05 Nov 2022</td> <th>  Prob (F-statistic):</th>   <td>0.00303</td>  \n",
       "</tr>\n",
       "<tr>\n",
       "  <th>Time:</th>                 <td>08:08:27</td>     <th>  Log-Likelihood:    </th> <td>-7.5348e+06</td>\n",
       "</tr>\n",
       "<tr>\n",
       "  <th>No. Observations:</th>      <td>1100000</td>     <th>  AIC:               </th>  <td>1.507e+07</td> \n",
       "</tr>\n",
       "<tr>\n",
       "  <th>Df Residuals:</th>          <td>1099998</td>     <th>  BIC:               </th>  <td>1.507e+07</td> \n",
       "</tr>\n",
       "<tr>\n",
       "  <th>Df Model:</th>              <td>     1</td>      <th>                     </th>      <td> </td>     \n",
       "</tr>\n",
       "<tr>\n",
       "  <th>Covariance Type:</th>      <td>nonrobust</td>    <th>                     </th>      <td> </td>     \n",
       "</tr>\n",
       "</table>\n",
       "<table class=\"simpletable\">\n",
       "<tr>\n",
       "    <td></td>       <th>coef</th>     <th>std err</th>      <th>t</th>      <th>P>|t|</th>  <th>[0.025</th>    <th>0.975]</th>  \n",
       "</tr>\n",
       "<tr>\n",
       "  <th>const</th> <td>   68.6175</td> <td>    0.230</td> <td>  298.708</td> <td> 0.000</td> <td>   68.167</td> <td>   69.068</td>\n",
       "</tr>\n",
       "<tr>\n",
       "  <th>x1</th>    <td>   -0.0038</td> <td>    0.001</td> <td>   -2.964</td> <td> 0.003</td> <td>   -0.006</td> <td>   -0.001</td>\n",
       "</tr>\n",
       "</table>\n",
       "<table class=\"simpletable\">\n",
       "<tr>\n",
       "  <th>Omnibus:</th>       <td>2280873.597</td> <th>  Durbin-Watson:     </th>    <td>   0.510</td>    \n",
       "</tr>\n",
       "<tr>\n",
       "  <th>Prob(Omnibus):</th>   <td> 0.000</td>    <th>  Jarque-Bera (JB):  </th> <td>13777295322.571</td>\n",
       "</tr>\n",
       "<tr>\n",
       "  <th>Skew:</th>            <td>17.590</td>    <th>  Prob(JB):          </th>    <td>    0.00</td>    \n",
       "</tr>\n",
       "<tr>\n",
       "  <th>Kurtosis:</th>        <td>550.136</td>   <th>  Cond. No.          </th>    <td>    190.</td>    \n",
       "</tr>\n",
       "</table><br/><br/>Notes:<br/>[1] Standard Errors assume that the covariance matrix of the errors is correctly specified."
      ],
      "text/plain": [
       "<class 'statsmodels.iolib.summary.Summary'>\n",
       "\"\"\"\n",
       "                            OLS Regression Results                            \n",
       "==============================================================================\n",
       "Dep. Variable:                이동인구(합)   R-squared:                       0.000\n",
       "Model:                            OLS   Adj. R-squared:                  0.000\n",
       "Method:                 Least Squares   F-statistic:                     8.787\n",
       "Date:                Sat, 05 Nov 2022   Prob (F-statistic):            0.00303\n",
       "Time:                        08:08:27   Log-Likelihood:            -7.5348e+06\n",
       "No. Observations:             1100000   AIC:                         1.507e+07\n",
       "Df Residuals:                 1099998   BIC:                         1.507e+07\n",
       "Df Model:                           1                                         \n",
       "Covariance Type:            nonrobust                                         \n",
       "==============================================================================\n",
       "                 coef    std err          t      P>|t|      [0.025      0.975]\n",
       "------------------------------------------------------------------------------\n",
       "const         68.6175      0.230    298.708      0.000      68.167      69.068\n",
       "x1            -0.0038      0.001     -2.964      0.003      -0.006      -0.001\n",
       "==============================================================================\n",
       "Omnibus:                  2280873.597   Durbin-Watson:                   0.510\n",
       "Prob(Omnibus):                  0.000   Jarque-Bera (JB):      13777295322.571\n",
       "Skew:                          17.590   Prob(JB):                         0.00\n",
       "Kurtosis:                     550.136   Cond. No.                         190.\n",
       "==============================================================================\n",
       "\n",
       "Notes:\n",
       "[1] Standard Errors assume that the covariance matrix of the errors is correctly specified.\n",
       "\"\"\""
      ]
     },
     "execution_count": 301,
     "metadata": {},
     "output_type": "execute_result"
    }
   ],
   "source": [
    "results.summary()\n",
    "# R-squared(설명력):\t0.000\n",
    "# Prob (F-statistic)(p-value):\t0.00303\n",
    "# F-statistic:\t8.787"
   ]
  },
  {
   "cell_type": "markdown",
   "metadata": {
    "id": "qzEKPGc67ywL"
   },
   "source": [
    "### **8. 구의 인구와 버스정류장개수는 상관관계가 있다.**"
   ]
  },
  {
   "cell_type": "code",
   "execution_count": 302,
   "metadata": {
    "executionInfo": {
     "elapsed": 1,
     "status": "ok",
     "timestamp": 1667636133206,
     "user": {
      "displayName": "최가원",
      "userId": "06373414866148795583"
     },
     "user_tz": -540
    },
    "id": "9WxLP01i708e"
   },
   "outputs": [],
   "source": [
    "# 1. 상관관계 분석 (상관계수, p-value)\n",
    "# 2. 변수 2개로 회귀모델 세우기\n",
    "# 2. 상관계수, 설명력 확인"
   ]
  },
  {
   "cell_type": "code",
   "execution_count": 303,
   "metadata": {
    "executionInfo": {
     "elapsed": 3,
     "status": "ok",
     "timestamp": 1667636133789,
     "user": {
      "displayName": "최가원",
      "userId": "06373414866148795583"
     },
     "user_tz": -540
    },
    "id": "SRfhfKZVuJ-p"
   },
   "outputs": [],
   "source": [
    "df_seoul_people= df_seoul_people.tail(25)\n",
    "# columns= 인구(계), 버스정류장개수"
   ]
  },
  {
   "cell_type": "code",
   "execution_count": 304,
   "metadata": {
    "executionInfo": {
     "elapsed": 303,
     "status": "ok",
     "timestamp": 1667636134090,
     "user": {
      "displayName": "최가원",
      "userId": "06373414866148795583"
     },
     "user_tz": -540
    },
    "id": "9tV45jhKz19-"
   },
   "outputs": [],
   "source": [
    "df_seoul_people_re= df_seoul_people.sort_values('자치구')"
   ]
  },
  {
   "cell_type": "code",
   "execution_count": 305,
   "metadata": {
    "executionInfo": {
     "elapsed": 4,
     "status": "ok",
     "timestamp": 1667636134091,
     "user": {
      "displayName": "최가원",
      "userId": "06373414866148795583"
     },
     "user_tz": -540
    },
    "id": "OhEpc08f0EV9"
   },
   "outputs": [],
   "source": [
    "df_seoul_bus_station_re= df_seoul_bus_station.sort_values('자치구')"
   ]
  },
  {
   "cell_type": "code",
   "execution_count": 306,
   "metadata": {
    "executionInfo": {
     "elapsed": 4,
     "status": "ok",
     "timestamp": 1667636134091,
     "user": {
      "displayName": "최가원",
      "userId": "06373414866148795583"
     },
     "user_tz": -540
    },
    "id": "qihzqUawubaj"
   },
   "outputs": [],
   "source": [
    "# 상관분석\n",
    "import scipy.stats as stats"
   ]
  },
  {
   "cell_type": "code",
   "execution_count": 307,
   "metadata": {
    "colab": {
     "base_uri": "https://localhost:8080/"
    },
    "executionInfo": {
     "elapsed": 4,
     "status": "ok",
     "timestamp": 1667636134092,
     "user": {
      "displayName": "최가원",
      "userId": "06373414866148795583"
     },
     "user_tz": -540
    },
    "id": "EroheGMPulu2",
    "outputId": "77ee581c-a394-4803-9385-b54fa7d8eccd"
   },
   "outputs": [
    {
     "name": "stdout",
     "output_type": "stream",
     "text": [
      "0.5666148323603177 0.003146292242946791\n"
     ]
    }
   ],
   "source": [
    "X= df_seoul_people_re['인구(계)']\n",
    "y= df_seoul_bus_station_re['정류장수']\n",
    "\n",
    "corr, p_value= stats.pearsonr(X,y)\n",
    "print(corr, p_value)"
   ]
  },
  {
   "cell_type": "code",
   "execution_count": 308,
   "metadata": {
    "executionInfo": {
     "elapsed": 2,
     "status": "ok",
     "timestamp": 1667636135296,
     "user": {
      "displayName": "최가원",
      "userId": "06373414866148795583"
     },
     "user_tz": -540
    },
    "id": "t42pzYqj2w45"
   },
   "outputs": [],
   "source": [
    "# 2. 변수 2개로 회귀모델 세우기"
   ]
  },
  {
   "cell_type": "code",
   "execution_count": 309,
   "metadata": {
    "executionInfo": {
     "elapsed": 3,
     "status": "ok",
     "timestamp": 1667636135297,
     "user": {
      "displayName": "최가원",
      "userId": "06373414866148795583"
     },
     "user_tz": -540
    },
    "id": "_Olhl0-I2xuE"
   },
   "outputs": [],
   "source": [
    "from sklearn.linear_model import LinearRegression\n",
    "from sklearn.model_selection import train_test_split"
   ]
  },
  {
   "cell_type": "code",
   "execution_count": null,
   "metadata": {
    "id": "AeUbbx4d8PzC"
   },
   "outputs": [],
   "source": [
    "lr = LinearRegression()"
   ]
  },
  {
   "cell_type": "code",
   "execution_count": 310,
   "metadata": {
    "executionInfo": {
     "elapsed": 7,
     "status": "ok",
     "timestamp": 1667636136118,
     "user": {
      "displayName": "최가원",
      "userId": "06373414866148795583"
     },
     "user_tz": -540
    },
    "id": "O799bV4G2ygt"
   },
   "outputs": [],
   "source": [
    "y= df_seoul_bus_station_re['정류장수']\n",
    "X= df_seoul_people_re['인구(계)']\n",
    "\n",
    "X= X.values.reshape(-1, 1)\n",
    "\n",
    "X_train, X_test, y_train, y_test = train_test_split(X, y, test_size = 0.1)"
   ]
  },
  {
   "cell_type": "code",
   "execution_count": 311,
   "metadata": {
    "colab": {
     "base_uri": "https://localhost:8080/"
    },
    "executionInfo": {
     "elapsed": 6,
     "status": "ok",
     "timestamp": 1667636136119,
     "user": {
      "displayName": "최가원",
      "userId": "06373414866148795583"
     },
     "user_tz": -540
    },
    "id": "O7inl2gB2zcV",
    "outputId": "e694c8c0-0726-4209-da39-139e175bfb32"
   },
   "outputs": [
    {
     "data": {
      "text/plain": [
       "LinearRegression()"
      ]
     },
     "execution_count": 311,
     "metadata": {},
     "output_type": "execute_result"
    }
   ],
   "source": [
    "lr.fit(X_train, y_train)"
   ]
  },
  {
   "cell_type": "code",
   "execution_count": 312,
   "metadata": {
    "colab": {
     "base_uri": "https://localhost:8080/",
     "height": 265
    },
    "executionInfo": {
     "elapsed": 431,
     "status": "ok",
     "timestamp": 1667636136546,
     "user": {
      "displayName": "최가원",
      "userId": "06373414866148795583"
     },
     "user_tz": -540
    },
    "id": "ZLxnLlVN20kP",
    "outputId": "5567870e-bb38-432e-d79f-c4681a5be7bf"
   },
   "outputs": [
    {
     "data": {
      "image/png": "[encoded data removed]",
      "text/plain": [
       "<Figure size 432x288 with 1 Axes>"
      ]
     },
     "metadata": {
      "needs_background": "light"
     },
     "output_type": "display_data"
    }
   ],
   "source": [
    "plt.scatter(X, y)\n",
    "plt.plot(X, lr.coef_[0]*X + lr.intercept_, color='red')\n",
    "plt.show()"
   ]
  },
  {
   "cell_type": "code",
   "execution_count": 313,
   "metadata": {
    "executionInfo": {
     "elapsed": 452,
     "status": "ok",
     "timestamp": 1667636139418,
     "user": {
      "displayName": "최가원",
      "userId": "06373414866148795583"
     },
     "user_tz": -540
    },
    "id": "44dPpeH521yk"
   },
   "outputs": [],
   "source": [
    "# 3. 상관계수, 설명력 확인"
   ]
  },
  {
   "cell_type": "code",
   "execution_count": 314,
   "metadata": {
    "executionInfo": {
     "elapsed": 4,
     "status": "ok",
     "timestamp": 1667636139419,
     "user": {
      "displayName": "최가원",
      "userId": "06373414866148795583"
     },
     "user_tz": -540
    },
    "id": "0ZDcZ_Gm239U"
   },
   "outputs": [],
   "source": [
    "import statsmodels.api as sm\n",
    "results = sm.OLS(y, sm.add_constant(X)).fit()"
   ]
  },
  {
   "cell_type": "code",
   "execution_count": 315,
   "metadata": {
    "colab": {
     "base_uri": "https://localhost:8080/",
     "height": 486
    },
    "executionInfo": {
     "elapsed": 3,
     "status": "ok",
     "timestamp": 1667636139885,
     "user": {
      "displayName": "최가원",
      "userId": "06373414866148795583"
     },
     "user_tz": -540
    },
    "id": "ISv8-qHc1mWJ",
    "outputId": "a04350b5-89c5-4d72-825a-423f58d56473"
   },
   "outputs": [
    {
     "data": {
      "text/html": [
       "<table class=\"simpletable\">\n",
       "<caption>OLS Regression Results</caption>\n",
       "<tr>\n",
       "  <th>Dep. Variable:</th>          <td>정류장수</td>       <th>  R-squared:         </th> <td>   0.321</td>\n",
       "</tr>\n",
       "<tr>\n",
       "  <th>Model:</th>                   <td>OLS</td>       <th>  Adj. R-squared:    </th> <td>   0.292</td>\n",
       "</tr>\n",
       "<tr>\n",
       "  <th>Method:</th>             <td>Least Squares</td>  <th>  F-statistic:       </th> <td>   10.88</td>\n",
       "</tr>\n",
       "<tr>\n",
       "  <th>Date:</th>             <td>Sat, 05 Nov 2022</td> <th>  Prob (F-statistic):</th>  <td>0.00315</td>\n",
       "</tr>\n",
       "<tr>\n",
       "  <th>Time:</th>                 <td>08:15:39</td>     <th>  Log-Likelihood:    </th> <td> -146.77</td>\n",
       "</tr>\n",
       "<tr>\n",
       "  <th>No. Observations:</th>      <td>    25</td>      <th>  AIC:               </th> <td>   297.5</td>\n",
       "</tr>\n",
       "<tr>\n",
       "  <th>Df Residuals:</th>          <td>    23</td>      <th>  BIC:               </th> <td>   300.0</td>\n",
       "</tr>\n",
       "<tr>\n",
       "  <th>Df Model:</th>              <td>     1</td>      <th>                     </th>     <td> </td>   \n",
       "</tr>\n",
       "<tr>\n",
       "  <th>Covariance Type:</th>      <td>nonrobust</td>    <th>                     </th>     <td> </td>   \n",
       "</tr>\n",
       "</table>\n",
       "<table class=\"simpletable\">\n",
       "<tr>\n",
       "    <td></td>       <th>coef</th>     <th>std err</th>      <th>t</th>      <th>P>|t|</th>  <th>[0.025</th>    <th>0.975]</th>  \n",
       "</tr>\n",
       "<tr>\n",
       "  <th>const</th> <td>  238.6650</td> <td>   59.151</td> <td>    4.035</td> <td> 0.001</td> <td>  116.302</td> <td>  361.028</td>\n",
       "</tr>\n",
       "<tr>\n",
       "  <th>x1</th>    <td>    0.0005</td> <td>    0.000</td> <td>    3.298</td> <td> 0.003</td> <td>    0.000</td> <td>    0.001</td>\n",
       "</tr>\n",
       "</table>\n",
       "<table class=\"simpletable\">\n",
       "<tr>\n",
       "  <th>Omnibus:</th>       <td> 0.182</td> <th>  Durbin-Watson:     </th> <td>   1.702</td>\n",
       "</tr>\n",
       "<tr>\n",
       "  <th>Prob(Omnibus):</th> <td> 0.913</td> <th>  Jarque-Bera (JB):  </th> <td>   0.393</td>\n",
       "</tr>\n",
       "<tr>\n",
       "  <th>Skew:</th>          <td>-0.009</td> <th>  Prob(JB):          </th> <td>   0.822</td>\n",
       "</tr>\n",
       "<tr>\n",
       "  <th>Kurtosis:</th>      <td> 2.386</td> <th>  Cond. No.          </th> <td>1.35e+06</td>\n",
       "</tr>\n",
       "</table><br/><br/>Notes:<br/>[1] Standard Errors assume that the covariance matrix of the errors is correctly specified.<br/>[2] The condition number is large, 1.35e+06. This might indicate that there are<br/>strong multicollinearity or other numerical problems."
      ],
      "text/plain": [
       "<class 'statsmodels.iolib.summary.Summary'>\n",
       "\"\"\"\n",
       "                            OLS Regression Results                            \n",
       "==============================================================================\n",
       "Dep. Variable:                   정류장수   R-squared:                       0.321\n",
       "Model:                            OLS   Adj. R-squared:                  0.292\n",
       "Method:                 Least Squares   F-statistic:                     10.88\n",
       "Date:                Sat, 05 Nov 2022   Prob (F-statistic):            0.00315\n",
       "Time:                        08:15:39   Log-Likelihood:                -146.77\n",
       "No. Observations:                  25   AIC:                             297.5\n",
       "Df Residuals:                      23   BIC:                             300.0\n",
       "Df Model:                           1                                         \n",
       "Covariance Type:            nonrobust                                         \n",
       "==============================================================================\n",
       "                 coef    std err          t      P>|t|      [0.025      0.975]\n",
       "------------------------------------------------------------------------------\n",
       "const        238.6650     59.151      4.035      0.001     116.302     361.028\n",
       "x1             0.0005      0.000      3.298      0.003       0.000       0.001\n",
       "==============================================================================\n",
       "Omnibus:                        0.182   Durbin-Watson:                   1.702\n",
       "Prob(Omnibus):                  0.913   Jarque-Bera (JB):                0.393\n",
       "Skew:                          -0.009   Prob(JB):                        0.822\n",
       "Kurtosis:                       2.386   Cond. No.                     1.35e+06\n",
       "==============================================================================\n",
       "\n",
       "Notes:\n",
       "[1] Standard Errors assume that the covariance matrix of the errors is correctly specified.\n",
       "[2] The condition number is large, 1.35e+06. This might indicate that there are\n",
       "strong multicollinearity or other numerical problems.\n",
       "\"\"\""
      ]
     },
     "execution_count": 315,
     "metadata": {},
     "output_type": "execute_result"
    }
   ],
   "source": [
    "results.summary()\n",
    "# R-squared(설명력):\t0.321\n",
    "# Prob (F-statistic)(p-value):\t0.00315\n",
    "# F-statistic:\t10.88"
   ]
  },
  {
   "cell_type": "markdown",
   "metadata": {
    "id": "cL653dPh8aV-"
   },
   "source": [
    "### **<최종 취합>**"
   ]
  },
  {
   "cell_type": "code",
   "execution_count": null,
   "metadata": {
    "id": "wH79CQun8Uvs"
   },
   "outputs": [],
   "source": [
    "# 가장 설명력(R^2), 상관계수(R)가 높은 가설 5개 선정\n",
    "# 해당 가설 5개에 대한 top 5 자치구 선정\n",
    "# 각 가설의 top 5를 취합하여, 가장 정류장이 필요한 자치구 top 5 선정"
   ]
  },
  {
   "cell_type": "markdown",
   "metadata": {
    "id": "FoBj91ycPnM1"
   },
   "source": [
    "- 노선수와 유입인구수는 상관관계가 있다. \n",
    "\n",
    "- 주간상주지(근무지)로 가는 유동인구와 총 종사자수는 상관관계가 있다.\n",
    "\n",
    "- 총 종사자수와 버스정류장 수는 상관관계가 있다.\n",
    "\n",
    "- 야간상주지(집)으로 가는 유동인구와 등록인구는 상관관계가 있다. \n",
    "\n",
    "- 승하차총승객수와 정류장수와 상관관계가 있다.\n",
    "\n",
    "- 구의 인구와 버스정류장개수는 상관관계가 있다. "
   ]
  },
  {
   "cell_type": "markdown",
   "metadata": {
    "id": "daYGV88f6pDI"
   },
   "source": [
    "1. 가설 5개에 대해 순위를 매기고, 순위 평균을 내서 Top 1 선정\n",
    "\n",
    "2. Top 1 자치구에 대해... 이 자치구가 왜 가장 버스정류장 설치가 시급한 구인지에 대한 자료조사 시작\n",
    "\n",
    "3. 최종적으로 백지피피티로 자료정리를 할 때는, 통계검정이랑 자료조사를 잘 섞어서.. 최종적으로 이러이러한 근거로 이 자치구가 Top1로 선정된거다~ 라는 흐름으로 작성"
   ]
  },
  {
   "cell_type": "code",
   "execution_count": null,
   "metadata": {
    "id": "CHGO5WSAPwQC"
   },
   "outputs": [],
   "source": [
    "# 순위를 어떤 방식으로 매길까 -> 비율\n",
    "\n",
    "# 노선수와 유입인구수는 상관관계가 있다.\n",
    "# (노선수/유입인구수) 가 작을수록 불쌍...\n",
    "\n",
    "# 승하차총승객수와 정류장수/와 상관관계가 있다.\n",
    "# (정류장수/승하차총승객수)가 작을수록 불쌍...\n",
    "\n",
    "# 주간상주지(근무지)로 가는 유동인구와 총 종사자수는 상관관계가 있다.\n",
    "# 총 종사자수와 버스 정류장 수는 상관관계가 있다.\n",
    "\n",
    "# 우선, (버스정류장개수/구의인구)가 작을수록 불쌍...\n",
    "# 주간상주지(근무지)로 가는 유동인구 == 근무지가 해당 자치구에 있는 사람 중, 버스를 타고 근무지로 이동하는 사람\n",
    "# 총 종사자수 - 근무지가 해당 자치구에 있는 사람 중, 버스를 타고 근무지로 이동하는 사람(주간상주지(근무지)로 가는 유동인구) \n",
    "# =  자치구 내에서 근무지가 있으며, 출근 시 버스를 안 타는 사람.\n",
    "# (주간상주지(근무지)로 가는 유동인구/총 종사자수) 가 크면, 총 종사자 수가 대비 버스 타는 사람이 많다.\n",
    "# -> 근데, 총 종사자 수랑 버스정류장 수는 비례\n",
    "# -> 그러니까.. 총 종사자 수가 적어서 버스 정류장 수는 적은데, 총 종사자 수 대비 버스를 이용하는 종사자는 많은 자치구이기 때문에, \n",
    "# 총 종사자수가 적음에도 추가적인 버스정류장 설치가 필요한 자치구라고 볼 수 있다. \n",
    "\n",
    "\n",
    "# 야간상주지(집)으로 가는 유동인구와 구의 인구는 상관관계가 있다.\n",
    "# 구의 인구와 버스정류장개수는 상관관계가 있다. \n",
    "\n",
    "# 우선, (버스정류장개수/구의인구)가 작을수록 불쌍...\n",
    "# 야간상주지(집)으로 가는 유동인구 == 집이 해당 자치구에 있는 사람 중, 버스를 타고 집으로 이동하는 사람\n",
    "# 구의 인구 - 집이 해당 자치구에 있는 사람 중, 버스를 타고 집으로 이동하는 사람 =  자치구 내에서 거주하는 버스를 안 타는 사람.\n",
    "# 야간상주지(집)으로 가는 유동인구 / 구의 인구 가 크면, 구의 인구 대비 버스 타는 사람 많다.\n",
    "# -> 근데, 구의 인구랑 버스정류장 수는 비례\n",
    "# -> 그러니까.. 구의 인구가 적어서 버스 정류장 수는 적은데, 구의 인구 대비 버스를 이용하는 사람은 많은 자치구이기 때문에, \n",
    "# 구의 인구가 적음에도 추가적인 버스정류장 설치가 필요한 자치구라고 볼 수 있다. \n"
   ]
  }
 ],
 "metadata": {
  "colab": {
   "authorship_tag": "ABX9TyMyRIs1Ty0E9OfpeZJzIqkv",
   "collapsed_sections": [
    "iABtFr9r61Z7"
   ],
   "provenance": []
  },
  "kernelspec": {
   "display_name": "Python 3 (ipykernel)",
   "language": "python",
   "name": "python3"
  },
  "language_info": {
   "codemirror_mode": {
    "name": "ipython",
    "version": 3
   },
   "file_extension": ".py",
   "mimetype": "text/x-python",
   "name": "python",
   "nbconvert_exporter": "python",
   "pygments_lexer": "ipython3",
   "version": "3.9.7"
  }
 },
 "nbformat": 4,
 "nbformat_minor": 1
}
