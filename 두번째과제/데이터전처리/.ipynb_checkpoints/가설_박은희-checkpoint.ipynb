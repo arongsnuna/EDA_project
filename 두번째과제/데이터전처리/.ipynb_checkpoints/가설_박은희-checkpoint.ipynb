{
 "cells": [
  {
   "cell_type": "code",
   "execution_count": 1,
   "id": "b90a8d2f",
   "metadata": {},
   "outputs": [],
   "source": [
    "import pandas as pd"
   ]
  },
  {
   "cell_type": "code",
   "execution_count": 2,
   "id": "545800d2",
   "metadata": {},
   "outputs": [],
   "source": [
    "# 버스 정류장 데이터 - df_seoul_bus_station\n",
    "# 유동인구 데이터 - df_seoul_moving\n",
    "# 구별 상권 데이터 - df_seoul_business\n",
    "# 구별 등록 인구 데이터 - df_seoul_people"
   ]
  },
  {
   "cell_type": "code",
   "execution_count": 3,
   "id": "6483ac5a",
   "metadata": {},
   "outputs": [
    {
     "name": "stdout",
     "output_type": "stream",
     "text": [
      "/Users/unhi/Desktop/AI+X/두번째과제/데이터전처리/bus_df_file\n"
     ]
    }
   ],
   "source": [
    "%cd 'bus_df_file'"
   ]
  },
  {
   "cell_type": "code",
   "execution_count": 4,
   "id": "b9d07524",
   "metadata": {},
   "outputs": [],
   "source": [
    "df_seoul_bus_station = pd.read_csv('df_seoul_bus_station.csv', sep=\",\", encoding = 'UTF-8')\n",
    "df_seoul_moving = pd.read_csv('df_seoul_moving.csv', sep=\",\", encoding = 'UTF-8')\n",
    "df_seoul_business = pd.read_csv('df_seoul_business.csv', sep=\",\", encoding = 'UTF-8')\n",
    "df_seoul_people = pd.read_csv('df_seoul_people.csv', sep=\",\", encoding = 'UTF-8')"
   ]
  },
  {
   "cell_type": "markdown",
   "id": "2ce83e23",
   "metadata": {},
   "source": [
    "# 가설 1. 출발 자치구와 도착 자치구가 같을때가 다를때보다 짧다."
   ]
  },
  {
   "cell_type": "markdown",
   "id": "378b96da",
   "metadata": {},
   "source": [
    "대립가설: 같을때와 다를때, 평균이동시간에 차이가 있다.<br/>\n",
    "귀무가설: 같을때와 다를때, 평균이동시간에 차이가 없다."
   ]
  },
  {
   "cell_type": "code",
   "execution_count": 5,
   "id": "57233bd0",
   "metadata": {
    "scrolled": false
   },
   "outputs": [
    {
     "data": {
      "text/html": [
       "<div>\n",
       "<style scoped>\n",
       "    .dataframe tbody tr th:only-of-type {\n",
       "        vertical-align: middle;\n",
       "    }\n",
       "\n",
       "    .dataframe tbody tr th {\n",
       "        vertical-align: top;\n",
       "    }\n",
       "\n",
       "    .dataframe thead th {\n",
       "        text-align: right;\n",
       "    }\n",
       "</style>\n",
       "<table border=\"1\" class=\"dataframe\">\n",
       "  <thead>\n",
       "    <tr style=\"text-align: right;\">\n",
       "      <th></th>\n",
       "      <th>대상연월</th>\n",
       "      <th>요일</th>\n",
       "      <th>도착시간</th>\n",
       "      <th>출발 시군구 코드</th>\n",
       "      <th>도착 시군구 코드</th>\n",
       "      <th>성별</th>\n",
       "      <th>나이</th>\n",
       "      <th>이동유형</th>\n",
       "      <th>평균 이동 시간(분)</th>\n",
       "      <th>이동인구(합)</th>\n",
       "    </tr>\n",
       "  </thead>\n",
       "  <tbody>\n",
       "    <tr>\n",
       "      <th>0</th>\n",
       "      <td>202204</td>\n",
       "      <td>일</td>\n",
       "      <td>0</td>\n",
       "      <td>11010</td>\n",
       "      <td>11010</td>\n",
       "      <td>F</td>\n",
       "      <td>0</td>\n",
       "      <td>EE</td>\n",
       "      <td>10</td>\n",
       "      <td>28.02</td>\n",
       "    </tr>\n",
       "    <tr>\n",
       "      <th>1</th>\n",
       "      <td>202204</td>\n",
       "      <td>일</td>\n",
       "      <td>0</td>\n",
       "      <td>11010</td>\n",
       "      <td>11010</td>\n",
       "      <td>F</td>\n",
       "      <td>0</td>\n",
       "      <td>EH</td>\n",
       "      <td>10</td>\n",
       "      <td>27.52</td>\n",
       "    </tr>\n",
       "    <tr>\n",
       "      <th>2</th>\n",
       "      <td>202204</td>\n",
       "      <td>일</td>\n",
       "      <td>0</td>\n",
       "      <td>11010</td>\n",
       "      <td>11010</td>\n",
       "      <td>F</td>\n",
       "      <td>0</td>\n",
       "      <td>HE</td>\n",
       "      <td>10</td>\n",
       "      <td>27.83</td>\n",
       "    </tr>\n",
       "    <tr>\n",
       "      <th>3</th>\n",
       "      <td>202204</td>\n",
       "      <td>일</td>\n",
       "      <td>0</td>\n",
       "      <td>11010</td>\n",
       "      <td>11010</td>\n",
       "      <td>F</td>\n",
       "      <td>10</td>\n",
       "      <td>HW</td>\n",
       "      <td>10</td>\n",
       "      <td>6.05</td>\n",
       "    </tr>\n",
       "    <tr>\n",
       "      <th>4</th>\n",
       "      <td>202204</td>\n",
       "      <td>일</td>\n",
       "      <td>0</td>\n",
       "      <td>11010</td>\n",
       "      <td>11010</td>\n",
       "      <td>F</td>\n",
       "      <td>10</td>\n",
       "      <td>EH</td>\n",
       "      <td>90</td>\n",
       "      <td>5.95</td>\n",
       "    </tr>\n",
       "  </tbody>\n",
       "</table>\n",
       "</div>"
      ],
      "text/plain": [
       "     대상연월 요일  도착시간  출발 시군구 코드  도착 시군구 코드 성별  나이 이동유형  평균 이동 시간(분)  이동인구(합)\n",
       "0  202204  일     0      11010      11010  F   0   EE           10    28.02\n",
       "1  202204  일     0      11010      11010  F   0   EH           10    27.52\n",
       "2  202204  일     0      11010      11010  F   0   HE           10    27.83\n",
       "3  202204  일     0      11010      11010  F  10   HW           10     6.05\n",
       "4  202204  일     0      11010      11010  F  10   EH           90     5.95"
      ]
     },
     "execution_count": 5,
     "metadata": {},
     "output_type": "execute_result"
    }
   ],
   "source": [
    "df_seoul_moving.head()"
   ]
  },
  {
   "cell_type": "code",
   "execution_count": 6,
   "id": "91d01e5b",
   "metadata": {
    "scrolled": false
   },
   "outputs": [
    {
     "data": {
      "text/plain": [
       "1108304"
      ]
     },
     "execution_count": 6,
     "metadata": {},
     "output_type": "execute_result"
    }
   ],
   "source": [
    "sm=(df_seoul_moving.loc[df_seoul_moving['출발 시군구 코드']==df_seoul_moving['도착 시군구 코드']])\n",
    "len(sm)"
   ]
  },
  {
   "cell_type": "code",
   "execution_count": 7,
   "id": "202c4dfd",
   "metadata": {},
   "outputs": [
    {
     "data": {
      "text/plain": [
       "9547591"
      ]
     },
     "execution_count": 7,
     "metadata": {},
     "output_type": "execute_result"
    }
   ],
   "source": [
    "df=(df_seoul_moving.loc[df_seoul_moving['출발 시군구 코드']!=df_seoul_moving['도착 시군구 코드']])\n",
    "len(df)"
   ]
  },
  {
   "cell_type": "markdown",
   "id": "8138d102",
   "metadata": {},
   "source": [
    "같을때와 다를때 모두 데이터 수 n보다 30크므로 정규성을 따른다고 가정<br/>\n",
    "두 집단 모두 정규성을 따르기 때문에 독립표본검정(모수검정) 사용"
   ]
  },
  {
   "cell_type": "markdown",
   "id": "1c0360cf",
   "metadata": {},
   "source": [
    "독립표본 검정 T-test 진행\n"
   ]
  },
  {
   "cell_type": "code",
   "execution_count": 8,
   "id": "f4f91eec",
   "metadata": {},
   "outputs": [],
   "source": [
    "import numpy as np \n",
    "from scipy.stats import ttest_ind"
   ]
  },
  {
   "cell_type": "code",
   "execution_count": 9,
   "id": "56d1d7a6",
   "metadata": {},
   "outputs": [
    {
     "data": {
      "text/plain": [
       "Ttest_indResult(statistic=696.373127204961, pvalue=0.0)"
      ]
     },
     "execution_count": 9,
     "metadata": {},
     "output_type": "execute_result"
    }
   ],
   "source": [
    "ttest_ind(df['평균 이동 시간(분)'], sm['평균 이동 시간(분)'])"
   ]
  },
  {
   "cell_type": "markdown",
   "id": "41b903f6",
   "metadata": {},
   "source": [
    "독립표본 t-검정 결과 t값이 696.3, p-value가 0.05보다 작으므로 <br/>\n",
    "\"같을때와 다를때, 평균이동시간에 차이가 없다.\"라는 귀무가설을 기각한다. <br/>\n",
    "따라서 자치구가 같을때와 다를때, 평균 이동시간에 차이가 있다. <br/>"
   ]
  },
  {
   "cell_type": "markdown",
   "id": "b5ea2958",
   "metadata": {},
   "source": [
    "이를 이용하여, 같을때가 다를때보다 평균이동시간이 길면, 노선증가를 고려해봐야하는 구라고 생각된다."
   ]
  },
  {
   "cell_type": "markdown",
   "id": "e88d5620",
   "metadata": {},
   "source": [
    "# 가설 2-1. 버스정류장수가 많으면 유입인구수가 많다."
   ]
  },
  {
   "cell_type": "markdown",
   "id": "e812017e",
   "metadata": {},
   "source": [
    "대립가설: 버스정류장수와 유입인구수는 상관관계가 있다.<br/>\n",
    "귀무가설: 버스정류장수와 유입인구수는 상관관계가 없다."
   ]
  },
  {
   "cell_type": "code",
   "execution_count": 10,
   "id": "c2df1fe7",
   "metadata": {},
   "outputs": [],
   "source": [
    "#유입인구수는 자치구 내부이동은 고려하지 않는다고 가정.\n",
    "df=(df_seoul_moving.loc[df_seoul_moving['출발 시군구 코드']!=df_seoul_moving['도착 시군구 코드']])"
   ]
  },
  {
   "cell_type": "code",
   "execution_count": 11,
   "id": "d01b09cc",
   "metadata": {},
   "outputs": [],
   "source": [
    "inn = df.groupby('도착 시군구 코드')[['이동인구(합)']].sum() #유입"
   ]
  },
  {
   "cell_type": "code",
   "execution_count": 12,
   "id": "f12a88d2",
   "metadata": {},
   "outputs": [],
   "source": [
    "#구코드\n",
    "standard = pd.DataFrame({'출발 시군구 코드': [11010, 11020, 11030, 11040, 11050, 11060, 11070, 11080, 11090, 11100, 11110, 11120, 11130, 11140, 11150, 11160, 11170, 11180, 11190, 11200, 11210, 11220, 11230, 11240, 11250],\n",
    "                         '도착 시군구 코드': [11010, 11020, 11030, 11040, 11050, 11060, 11070, 11080, 11090, 11100, 11110, 11120, 11130, 11140, 11150, 11160, 11170, 11180, 11190, 11200, 11210, 11220, 11230, 11240, 11250],\n",
    "                         '자치구' :['종로구','중구','용산구','성동구','광진구','동대문구','중랑구','성북구','강북구','도봉구','노원구','은평구','서대문구','마포구','양천구','강서구','구로구','금천구','영등포구','동작구','관악구','서초구','강남구','송파구','강동구']})"
   ]
  },
  {
   "cell_type": "code",
   "execution_count": 13,
   "id": "0d52da98",
   "metadata": {},
   "outputs": [],
   "source": [
    "inn = df.groupby('도착 시군구 코드')[['이동인구(합)']].sum() #유입"
   ]
  },
  {
   "cell_type": "code",
   "execution_count": 19,
   "id": "ceb0cd7f",
   "metadata": {
    "scrolled": true
   },
   "outputs": [],
   "source": [
    "innn = pd.DataFrame()\n",
    "innn = pd.merge(standard, df_seoul_bus_station, how='inner', on='자치구')\n",
    "innn = pd.merge(innn, inn, how='inner', on='도착 시군구 코드')"
   ]
  },
  {
   "cell_type": "code",
   "execution_count": 20,
   "id": "7644f21c",
   "metadata": {},
   "outputs": [
    {
     "data": {
      "text/plain": [
       "25"
      ]
     },
     "execution_count": 20,
     "metadata": {},
     "output_type": "execute_result"
    }
   ],
   "source": [
    "len(innn)"
   ]
  },
  {
   "cell_type": "code",
   "execution_count": 21,
   "id": "682e8dfc",
   "metadata": {},
   "outputs": [
    {
     "data": {
      "text/html": [
       "<div>\n",
       "<style scoped>\n",
       "    .dataframe tbody tr th:only-of-type {\n",
       "        vertical-align: middle;\n",
       "    }\n",
       "\n",
       "    .dataframe tbody tr th {\n",
       "        vertical-align: top;\n",
       "    }\n",
       "\n",
       "    .dataframe thead th {\n",
       "        text-align: right;\n",
       "    }\n",
       "</style>\n",
       "<table border=\"1\" class=\"dataframe\">\n",
       "  <thead>\n",
       "    <tr style=\"text-align: right;\">\n",
       "      <th></th>\n",
       "      <th>출발 시군구 코드</th>\n",
       "      <th>도착 시군구 코드</th>\n",
       "      <th>자치구</th>\n",
       "      <th>정류장수</th>\n",
       "      <th>노선수</th>\n",
       "      <th>승차총승객수</th>\n",
       "      <th>하차총승객수</th>\n",
       "      <th>승차평균승객수</th>\n",
       "      <th>하차평균승객수</th>\n",
       "      <th>이동인구(합)</th>\n",
       "    </tr>\n",
       "  </thead>\n",
       "  <tbody>\n",
       "    <tr>\n",
       "      <th>0</th>\n",
       "      <td>11010</td>\n",
       "      <td>11010</td>\n",
       "      <td>종로구</td>\n",
       "      <td>349</td>\n",
       "      <td>106</td>\n",
       "      <td>5468935</td>\n",
       "      <td>5205394</td>\n",
       "      <td>131.889620</td>\n",
       "      <td>125.534028</td>\n",
       "      <td>12446946.68</td>\n",
       "    </tr>\n",
       "    <tr>\n",
       "      <th>1</th>\n",
       "      <td>11020</td>\n",
       "      <td>11020</td>\n",
       "      <td>중구</td>\n",
       "      <td>178</td>\n",
       "      <td>103</td>\n",
       "      <td>3776675</td>\n",
       "      <td>3598932</td>\n",
       "      <td>121.020124</td>\n",
       "      <td>115.324511</td>\n",
       "      <td>13034856.11</td>\n",
       "    </tr>\n",
       "    <tr>\n",
       "      <th>2</th>\n",
       "      <td>11030</td>\n",
       "      <td>11030</td>\n",
       "      <td>용산구</td>\n",
       "      <td>323</td>\n",
       "      <td>67</td>\n",
       "      <td>4189977</td>\n",
       "      <td>4086474</td>\n",
       "      <td>137.891694</td>\n",
       "      <td>134.485421</td>\n",
       "      <td>8552703.99</td>\n",
       "    </tr>\n",
       "  </tbody>\n",
       "</table>\n",
       "</div>"
      ],
      "text/plain": [
       "   출발 시군구 코드  도착 시군구 코드  자치구  정류장수  노선수   승차총승객수   하차총승객수     승차평균승객수  \\\n",
       "0      11010      11010  종로구   349  106  5468935  5205394  131.889620   \n",
       "1      11020      11020   중구   178  103  3776675  3598932  121.020124   \n",
       "2      11030      11030  용산구   323   67  4189977  4086474  137.891694   \n",
       "\n",
       "      하차평균승객수      이동인구(합)  \n",
       "0  125.534028  12446946.68  \n",
       "1  115.324511  13034856.11  \n",
       "2  134.485421   8552703.99  "
      ]
     },
     "execution_count": 21,
     "metadata": {},
     "output_type": "execute_result"
    }
   ],
   "source": [
    "innn.head(3)"
   ]
  },
  {
   "cell_type": "markdown",
   "id": "c33d643c",
   "metadata": {},
   "source": [
    "집단의 수 n이 30보다 작으므로 정규성 검정을 진행해야함<br/>\n",
    "귀무가설: 데이터는 정규분포를 띨 것이다. <BR/>\n",
    "대립가설: 데이터는 정규분포를 띠지 않을 것이다."
   ]
  },
  {
   "cell_type": "code",
   "execution_count": 22,
   "id": "e1f895d9",
   "metadata": {},
   "outputs": [
    {
     "data": {
      "text/plain": [
       "ShapiroResult(statistic=0.8844453692436218, pvalue=0.008546249009668827)"
      ]
     },
     "execution_count": 22,
     "metadata": {},
     "output_type": "execute_result"
    }
   ],
   "source": [
    "from scipy.stats import shapiro\n",
    "shapiro(innn['이동인구(합)'])"
   ]
  },
  {
   "cell_type": "code",
   "execution_count": 23,
   "id": "72b0fa94",
   "metadata": {
    "scrolled": true
   },
   "outputs": [
    {
     "data": {
      "text/plain": [
       "ShapiroResult(statistic=0.9804375767707825, pvalue=0.893642008304596)"
      ]
     },
     "execution_count": 23,
     "metadata": {},
     "output_type": "execute_result"
    }
   ],
   "source": [
    "shapiro(innn['정류장수'])"
   ]
  },
  {
   "cell_type": "markdown",
   "id": "bc5de9cf",
   "metadata": {},
   "source": [
    "정류장수의 경우, p > 0.05 이므로 귀무가설 채택, 정류성을 따름. <br/>\n",
    "하지만, 이동인구(합)의 경우, p < 0.05 이므로 귀무가설 기각, 대립가설 채택, 정류성을 따르지않음.<br/>\n",
    "n이 30보다 작고 p가 0.05 보다 작으므로 정규성을 따르지 않음.<br/>\n",
    "따라서 비모수 검정 필요"
   ]
  },
  {
   "cell_type": "code",
   "execution_count": 24,
   "id": "ca850560",
   "metadata": {},
   "outputs": [
    {
     "data": {
      "text/plain": [
       "MannwhitneyuResult(statistic=0.0, pvalue=1.4156562248495537e-09)"
      ]
     },
     "execution_count": 24,
     "metadata": {},
     "output_type": "execute_result"
    }
   ],
   "source": [
    "from scipy.stats import mannwhitneyu\n",
    "mannwhitneyu(innn['정류장수'], innn['이동인구(합)'])"
   ]
  },
  {
   "cell_type": "markdown",
   "id": "b6811575",
   "metadata": {},
   "source": [
    "p<0.05 이므로 귀무가설 기각, 대립가설 채택<br/>\n",
    "#### 따라서 버스정류장수와 유입인원수는 상관관계가 있다."
   ]
  },
  {
   "cell_type": "markdown",
   "id": "5e904287",
   "metadata": {},
   "source": [
    "# 가설 2-2. 버스정류장수가 많으면 유출인구수가 많다."
   ]
  },
  {
   "cell_type": "markdown",
   "id": "d7fad988",
   "metadata": {},
   "source": [
    "대립가설: 버스정류장수와 유출인구수는 상관관계가 있다.<br/>\n",
    "귀무가설: 버스정류장수와 유출인구수는 상관관계가 없다."
   ]
  },
  {
   "cell_type": "code",
   "execution_count": 25,
   "id": "3b5ecbb7",
   "metadata": {},
   "outputs": [],
   "source": [
    "#유출인구수는 자치구 내부이동은 고려하지 않는다고 가정.\n",
    "df=(df_seoul_moving.loc[df_seoul_moving['출발 시군구 코드']!=df_seoul_moving['도착 시군구 코드']])"
   ]
  },
  {
   "cell_type": "code",
   "execution_count": 26,
   "id": "37d2d9ed",
   "metadata": {},
   "outputs": [],
   "source": [
    "outt = df.groupby('출발 시군구 코드')[['이동인구(합)']].sum() #유출"
   ]
  },
  {
   "cell_type": "code",
   "execution_count": 27,
   "id": "249dd2df",
   "metadata": {},
   "outputs": [],
   "source": [
    "outtt = pd.DataFrame()\n",
    "outtt = pd.merge(standard, df_seoul_bus_station, how='inner', on='자치구')\n",
    "outtt = pd.merge(outtt, outt, how='inner', on='출발 시군구 코드')"
   ]
  },
  {
   "cell_type": "code",
   "execution_count": 28,
   "id": "f6753574",
   "metadata": {},
   "outputs": [
    {
     "data": {
      "text/plain": [
       "25"
      ]
     },
     "execution_count": 28,
     "metadata": {},
     "output_type": "execute_result"
    }
   ],
   "source": [
    "len(outtt)"
   ]
  },
  {
   "cell_type": "markdown",
   "id": "99e37c64",
   "metadata": {},
   "source": [
    "집단의 수 n이 30보다 작으므로 정규성 검정을 진행해야함<br/>\n",
    "귀무가설: 데이터는 정규분포를 띨 것이다. <BR/>\n",
    "대립가설: 데이터는 정규분포를 띠지 않을 것이다."
   ]
  },
  {
   "cell_type": "code",
   "execution_count": 29,
   "id": "41ffcdf1",
   "metadata": {},
   "outputs": [
    {
     "data": {
      "text/plain": [
       "ShapiroResult(statistic=0.883742094039917, pvalue=0.008262346498668194)"
      ]
     },
     "execution_count": 29,
     "metadata": {},
     "output_type": "execute_result"
    }
   ],
   "source": [
    "shapiro(outtt['이동인구(합)'])"
   ]
  },
  {
   "cell_type": "code",
   "execution_count": 30,
   "id": "a922b8e9",
   "metadata": {},
   "outputs": [
    {
     "data": {
      "text/plain": [
       "ShapiroResult(statistic=0.9804375767707825, pvalue=0.893642008304596)"
      ]
     },
     "execution_count": 30,
     "metadata": {},
     "output_type": "execute_result"
    }
   ],
   "source": [
    "shapiro(outtt['정류장수'])"
   ]
  },
  {
   "cell_type": "markdown",
   "id": "03485138",
   "metadata": {},
   "source": [
    "정류장수의 경우, p > 0.05 이므로 귀무가설 채택, 정류성을 따름. <br/>\n",
    "하지만, 이동인구(합)의 경우, p < 0.05 이므로 귀무가설 기각, 대립가설 채택, 정류성을 따르지 않음.<br/>\n",
    "n이 30보다 작고 p가 0.05 보다 작으므로 정규성을 따르지 않음.<br/>\n",
    "따라서 비모수 검정 필요"
   ]
  },
  {
   "cell_type": "code",
   "execution_count": 31,
   "id": "7059ea69",
   "metadata": {},
   "outputs": [
    {
     "data": {
      "text/plain": [
       "MannwhitneyuResult(statistic=0.0, pvalue=1.4156562248495537e-09)"
      ]
     },
     "execution_count": 31,
     "metadata": {},
     "output_type": "execute_result"
    }
   ],
   "source": [
    "from scipy.stats import mannwhitneyu\n",
    "mannwhitneyu(outtt['정류장수'], outtt['이동인구(합)'])"
   ]
  },
  {
   "cell_type": "markdown",
   "id": "892ba039",
   "metadata": {},
   "source": [
    "p<0.05 이므로 귀무가설 기각, 대립가설 채택<br/>\n",
    "#### 따라서 버스정류장수와 유출인원수는 상관관계가 있다."
   ]
  },
  {
   "cell_type": "markdown",
   "id": "480d770c",
   "metadata": {},
   "source": [
    "# 가설 3-1. 노선수가 많으면 유입인구수가 많다. (노선수와 유입인구수 상관관계)"
   ]
  },
  {
   "cell_type": "markdown",
   "id": "d2c2c28e",
   "metadata": {},
   "source": [
    "대립가설: 노선수와 유입인구수는 상관관계가 있다.<br/>\n",
    "귀무가설: 노선수와 유입인구수는 상관관계가 없다."
   ]
  },
  {
   "cell_type": "code",
   "execution_count": 32,
   "id": "671ecd77",
   "metadata": {},
   "outputs": [
    {
     "data": {
      "text/plain": [
       "25"
      ]
     },
     "execution_count": 32,
     "metadata": {},
     "output_type": "execute_result"
    }
   ],
   "source": [
    "len(innn)"
   ]
  },
  {
   "cell_type": "markdown",
   "id": "63ad464f",
   "metadata": {},
   "source": [
    "집단의 수 n이 30보다 작으므로 정규성 검정을 진행해야함<br/>\n",
    "귀무가설: 데이터는 정규분포를 띨 것이다. <BR/>\n",
    "대립가설: 데이터는 정규분포를 띠지 않을 것이다."
   ]
  },
  {
   "cell_type": "code",
   "execution_count": 33,
   "id": "8a462bf9",
   "metadata": {},
   "outputs": [
    {
     "data": {
      "text/plain": [
       "ShapiroResult(statistic=0.9453243613243103, pvalue=0.19628845155239105)"
      ]
     },
     "execution_count": 33,
     "metadata": {},
     "output_type": "execute_result"
    }
   ],
   "source": [
    "shapiro(innn['노선수'])"
   ]
  },
  {
   "cell_type": "code",
   "execution_count": 34,
   "id": "84da433a",
   "metadata": {},
   "outputs": [
    {
     "data": {
      "text/plain": [
       "ShapiroResult(statistic=0.8844453692436218, pvalue=0.008546249009668827)"
      ]
     },
     "execution_count": 34,
     "metadata": {},
     "output_type": "execute_result"
    }
   ],
   "source": [
    "shapiro(innn['이동인구(합)'])"
   ]
  },
  {
   "cell_type": "markdown",
   "id": "5b0c1a29",
   "metadata": {},
   "source": [
    "노선수의 경우, p > 0.05 이므로 귀무가설 채택, 정류성을 따름. <br/>\n",
    "하지만, 이동인구(합)의 경우, p < 0.05 이므로 귀무가설 기각, 대립가설 채택, 정류성을 따르지 않음.<br/>\n",
    "n이 30보다 작고 p가 0.05 보다 작으므로 정규성을 따르지 않음.<br/>\n",
    "따라서 비모수 검정 필요"
   ]
  },
  {
   "cell_type": "code",
   "execution_count": 35,
   "id": "845aa008",
   "metadata": {},
   "outputs": [
    {
     "data": {
      "text/plain": [
       "MannwhitneyuResult(statistic=0.0, pvalue=1.4131023700672182e-09)"
      ]
     },
     "execution_count": 35,
     "metadata": {},
     "output_type": "execute_result"
    }
   ],
   "source": [
    "mannwhitneyu(innn['노선수'], innn['이동인구(합)'])"
   ]
  },
  {
   "cell_type": "markdown",
   "id": "b6e443e1",
   "metadata": {},
   "source": [
    "p<0.05 이므로 귀무가설 기각, 대립가설 채택<br/>\n",
    "#### 따라서 노선수와 유출인원수는 상관관계가 있다."
   ]
  },
  {
   "cell_type": "markdown",
   "id": "cd73d66b",
   "metadata": {},
   "source": [
    "# 가설 3-2. 노선수가 많으면 유출인구수가 많다. (노선수와 유출인구수 상관관계)"
   ]
  },
  {
   "cell_type": "markdown",
   "id": "cef949c3",
   "metadata": {},
   "source": [
    "대립가설: 노선수와 유출인구수는 상관관계가 있다.<br/>\n",
    "귀무가설: 노선수와 유출인구수는 상관관계가 없다."
   ]
  },
  {
   "cell_type": "code",
   "execution_count": 36,
   "id": "e1593a0d",
   "metadata": {},
   "outputs": [
    {
     "data": {
      "text/plain": [
       "25"
      ]
     },
     "execution_count": 36,
     "metadata": {},
     "output_type": "execute_result"
    }
   ],
   "source": [
    "len(outtt)"
   ]
  },
  {
   "cell_type": "markdown",
   "id": "b9a545db",
   "metadata": {},
   "source": [
    "집단의 수 n이 30보다 작으므로 정규성 검정을 진행해야함<br/>\n",
    "귀무가설: 데이터는 정규분포를 띨 것이다. <BR/>\n",
    "대립가설: 데이터는 정규분포를 띠지 않을 것이다."
   ]
  },
  {
   "cell_type": "code",
   "execution_count": 37,
   "id": "fa388a7e",
   "metadata": {},
   "outputs": [
    {
     "data": {
      "text/plain": [
       "ShapiroResult(statistic=0.9453243613243103, pvalue=0.19628845155239105)"
      ]
     },
     "execution_count": 37,
     "metadata": {},
     "output_type": "execute_result"
    }
   ],
   "source": [
    "shapiro(outtt['노선수'])"
   ]
  },
  {
   "cell_type": "code",
   "execution_count": 38,
   "id": "96f5ee98",
   "metadata": {},
   "outputs": [
    {
     "data": {
      "text/plain": [
       "ShapiroResult(statistic=0.883742094039917, pvalue=0.008262346498668194)"
      ]
     },
     "execution_count": 38,
     "metadata": {},
     "output_type": "execute_result"
    }
   ],
   "source": [
    "shapiro(outtt['이동인구(합)'])"
   ]
  },
  {
   "cell_type": "markdown",
   "id": "664468bc",
   "metadata": {},
   "source": [
    "노선수의 경우, p > 0.05 이므로 귀무가설 채택, 정류성을 따름. <br/>\n",
    "하지만, 이동인구(합)의 경우, p < 0.05 이므로 귀무가설 기각, 대립가설 채택, 정류성을 따르지 않음.<br/>\n",
    "n이 30보다 작고 p가 0.05 보다 작으므로 정규성을 따르지 않음.<br/>\n",
    "따라서 비모수 검정 필요"
   ]
  },
  {
   "cell_type": "code",
   "execution_count": 39,
   "id": "1a11c092",
   "metadata": {},
   "outputs": [
    {
     "data": {
      "text/plain": [
       "MannwhitneyuResult(statistic=0.0, pvalue=1.4131023700672182e-09)"
      ]
     },
     "execution_count": 39,
     "metadata": {},
     "output_type": "execute_result"
    }
   ],
   "source": [
    "mannwhitneyu(outtt['노선수'], outtt['이동인구(합)'])"
   ]
  },
  {
   "cell_type": "markdown",
   "id": "13d1534e",
   "metadata": {},
   "source": [
    "p<0.05 이므로 귀무가설 기각, 대립가설 채택<br/>\n",
    "#### 따라서 노선수와 유출인원수는 상관관계가 있다."
   ]
  },
  {
   "cell_type": "markdown",
   "id": "72a1fa1d",
   "metadata": {},
   "source": [
    "### 가설 2와 가설 3에 의해서 정류장수와 노선수는 유입인구수와 유출인구수와 상관 관계가 있다."
   ]
  },
  {
   "cell_type": "markdown",
   "id": "a06ff8a7",
   "metadata": {},
   "source": [
    "상관계수를 통해 어떤 feature가 상관관계가 깊은지 알 수 있는데,<br/>\n",
    "1에 가까울수록 관계가 깊으며 (강한양의 상관관계) <br/>\n",
    "0에 가까울수록 관계가 적다. (약한 양의 상관관계)"
   ]
  },
  {
   "cell_type": "code",
   "execution_count": 40,
   "id": "4530ad92",
   "metadata": {
    "scrolled": true
   },
   "outputs": [],
   "source": [
    "# 상관계수를 구하고 시각화하기 위한 데이터프레임  total\n",
    "innn = innn.sort_values('출발 시군구 코드')\n",
    "outtt = outtt.sort_values('출발 시군구 코드')\n",
    "innn = innn.rename(columns={'이동인구(합)':'유입이동인구(합)'})\n",
    "total = innn.loc[:,['정류장수','노선수','유입이동인구(합)']]\n",
    "total['유출이동인구(합)']=outtt['이동인구(합)']"
   ]
  },
  {
   "cell_type": "code",
   "execution_count": 41,
   "id": "dd72eeb8",
   "metadata": {
    "scrolled": true
   },
   "outputs": [
    {
     "data": {
      "text/html": [
       "<div>\n",
       "<style scoped>\n",
       "    .dataframe tbody tr th:only-of-type {\n",
       "        vertical-align: middle;\n",
       "    }\n",
       "\n",
       "    .dataframe tbody tr th {\n",
       "        vertical-align: top;\n",
       "    }\n",
       "\n",
       "    .dataframe thead th {\n",
       "        text-align: right;\n",
       "    }\n",
       "</style>\n",
       "<table border=\"1\" class=\"dataframe\">\n",
       "  <thead>\n",
       "    <tr style=\"text-align: right;\">\n",
       "      <th></th>\n",
       "      <th>정류장수</th>\n",
       "      <th>노선수</th>\n",
       "      <th>유입이동인구(합)</th>\n",
       "      <th>유출이동인구(합)</th>\n",
       "    </tr>\n",
       "  </thead>\n",
       "  <tbody>\n",
       "    <tr>\n",
       "      <th>0</th>\n",
       "      <td>349</td>\n",
       "      <td>106</td>\n",
       "      <td>12446946.68</td>\n",
       "      <td>12498993.75</td>\n",
       "    </tr>\n",
       "    <tr>\n",
       "      <th>1</th>\n",
       "      <td>178</td>\n",
       "      <td>103</td>\n",
       "      <td>13034856.11</td>\n",
       "      <td>13055099.96</td>\n",
       "    </tr>\n",
       "    <tr>\n",
       "      <th>2</th>\n",
       "      <td>323</td>\n",
       "      <td>67</td>\n",
       "      <td>8552703.99</td>\n",
       "      <td>8453056.06</td>\n",
       "    </tr>\n",
       "    <tr>\n",
       "      <th>3</th>\n",
       "      <td>435</td>\n",
       "      <td>58</td>\n",
       "      <td>9598228.75</td>\n",
       "      <td>9643109.34</td>\n",
       "    </tr>\n",
       "    <tr>\n",
       "      <th>4</th>\n",
       "      <td>269</td>\n",
       "      <td>41</td>\n",
       "      <td>8540670.77</td>\n",
       "      <td>8500360.66</td>\n",
       "    </tr>\n",
       "  </tbody>\n",
       "</table>\n",
       "</div>"
      ],
      "text/plain": [
       "   정류장수  노선수    유입이동인구(합)    유출이동인구(합)\n",
       "0   349  106  12446946.68  12498993.75\n",
       "1   178  103  13034856.11  13055099.96\n",
       "2   323   67   8552703.99   8453056.06\n",
       "3   435   58   9598228.75   9643109.34\n",
       "4   269   41   8540670.77   8500360.66"
      ]
     },
     "execution_count": 41,
     "metadata": {},
     "output_type": "execute_result"
    }
   ],
   "source": [
    "total.head()"
   ]
  },
  {
   "cell_type": "code",
   "execution_count": 42,
   "id": "56fbb395",
   "metadata": {
    "scrolled": true
   },
   "outputs": [
    {
     "data": {
      "text/html": [
       "<div>\n",
       "<style scoped>\n",
       "    .dataframe tbody tr th:only-of-type {\n",
       "        vertical-align: middle;\n",
       "    }\n",
       "\n",
       "    .dataframe tbody tr th {\n",
       "        vertical-align: top;\n",
       "    }\n",
       "\n",
       "    .dataframe thead th {\n",
       "        text-align: right;\n",
       "    }\n",
       "</style>\n",
       "<table border=\"1\" class=\"dataframe\">\n",
       "  <thead>\n",
       "    <tr style=\"text-align: right;\">\n",
       "      <th></th>\n",
       "      <th>정류장수</th>\n",
       "      <th>노선수</th>\n",
       "      <th>유입이동인구(합)</th>\n",
       "      <th>유출이동인구(합)</th>\n",
       "    </tr>\n",
       "  </thead>\n",
       "  <tbody>\n",
       "    <tr>\n",
       "      <th>정류장수</th>\n",
       "      <td>1.000000</td>\n",
       "      <td>0.258798</td>\n",
       "      <td>0.235047</td>\n",
       "      <td>0.231630</td>\n",
       "    </tr>\n",
       "    <tr>\n",
       "      <th>노선수</th>\n",
       "      <td>0.258798</td>\n",
       "      <td>1.000000</td>\n",
       "      <td>0.547589</td>\n",
       "      <td>0.549982</td>\n",
       "    </tr>\n",
       "    <tr>\n",
       "      <th>유입이동인구(합)</th>\n",
       "      <td>0.235047</td>\n",
       "      <td>0.547589</td>\n",
       "      <td>1.000000</td>\n",
       "      <td>0.999856</td>\n",
       "    </tr>\n",
       "    <tr>\n",
       "      <th>유출이동인구(합)</th>\n",
       "      <td>0.231630</td>\n",
       "      <td>0.549982</td>\n",
       "      <td>0.999856</td>\n",
       "      <td>1.000000</td>\n",
       "    </tr>\n",
       "  </tbody>\n",
       "</table>\n",
       "</div>"
      ],
      "text/plain": [
       "               정류장수       노선수  유입이동인구(합)  유출이동인구(합)\n",
       "정류장수       1.000000  0.258798   0.235047   0.231630\n",
       "노선수        0.258798  1.000000   0.547589   0.549982\n",
       "유입이동인구(합)  0.235047  0.547589   1.000000   0.999856\n",
       "유출이동인구(합)  0.231630  0.549982   0.999856   1.000000"
      ]
     },
     "execution_count": 42,
     "metadata": {},
     "output_type": "execute_result"
    }
   ],
   "source": [
    "# Total을 이용해 상관계수를 나타내고 히트맵을 이용해 시각화\n",
    "corr_df = total.corr()\n",
    "corr_df = corr_df.apply(lambda x: round(x ,8))\n",
    "corr_df"
   ]
  },
  {
   "cell_type": "code",
   "execution_count": 44,
   "id": "cbfa65a7",
   "metadata": {},
   "outputs": [
    {
     "data": {
      "image/png": "[encoded data removed]",
      "text/plain": [
       "<Figure size 640x480 with 2 Axes>"
      ]
     },
     "metadata": {},
     "output_type": "display_data"
    }
   ],
   "source": [
    "import matplotlib.pyplot as plt\n",
    "import seaborn as sns\n",
    "from matplotlib import rc\n",
    "\n",
    "sns.heatmap(corr_df, annot=True, cmap='Blues', fmt='.8f')\n",
    "rc('font', family='AppleGothic')\n",
    "plt.show()"
   ]
  },
  {
   "cell_type": "markdown",
   "id": "3f09fed8",
   "metadata": {},
   "source": [
    "#### 노선수가 정류장수보다 유입이동인구와 유출이동인구와 상관관계가 깊다."
   ]
  }
 ],
 "metadata": {
  "kernelspec": {
   "display_name": "Python 3 (ipykernel)",
   "language": "python",
   "name": "python3"
  },
  "language_info": {
   "codemirror_mode": {
    "name": "ipython",
    "version": 3
   },
   "file_extension": ".py",
   "mimetype": "text/x-python",
   "name": "python",
   "nbconvert_exporter": "python",
   "pygments_lexer": "ipython3",
   "version": "3.9.7"
  }
 },
 "nbformat": 4,
 "nbformat_minor": 5
}
