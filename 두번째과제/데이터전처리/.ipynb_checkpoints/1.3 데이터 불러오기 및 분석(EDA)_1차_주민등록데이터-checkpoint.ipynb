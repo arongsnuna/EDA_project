{
 "cells": [
  {
   "cell_type": "markdown",
   "id": "boxed-jamaica",
   "metadata": {
    "id": "boxed-jamaica"
   },
   "source": [
    "# 안녕하세요^^ \n",
    "## '서울시 생활정보 기반 대중교통 수요 분석 ' 과정에 오신 여러분을 환영합니다.\n",
    "* 본 과정에서는 실제 사례와 데이터를 기반으로 문제를 해결하는 전체 과정을 자기 주도형 실습으로 진행해볼 예정입니다.\n",
    "* 앞선 교육과정을 정리하는 마음과 지금까지 배운 내용을 바탕으로 문제 해결을 해볼게요!\n",
    "* 미니 프로젝트를 통한 문제 해결 과정 'A에서 Z까지', 지금부터 시작합니다!"
   ]
  },
  {
   "cell_type": "markdown",
   "id": "f2bc4fa5",
   "metadata": {
    "id": "f2bc4fa5"
   },
   "source": [
    "# 데이터 분석부터 먼저 시작해보겠습니다.\n",
    "### \"구별 등록인구 데이터\" 를 확인해 보도록 하겠습니다"
   ]
  },
  {
   "cell_type": "markdown",
   "id": "revolutionary-farmer",
   "metadata": {
    "id": "revolutionary-farmer"
   },
   "source": [
    "## 기본전제\n",
    "* 처음에 제공되는 데이터는 'raw_data' 폴더에 있습니다.\n",
    "\n",
    "[기본 데이터]\n",
    "* 1.3 seoul_people.csv\n",
    "\n",
    "[데이터 소개]\n",
    "* 서울 시 주민 등록 데이터\n",
    "\n",
    "[변수 소개]\n",
    "* 한국인 / 등록 외국인 / 합계 / 세대수 / 고령인구수"
   ]
  },
  {
   "cell_type": "markdown",
   "id": "warming-gentleman",
   "metadata": {
    "id": "warming-gentleman"
   },
   "source": [
    "# 1.데이터 불러오기\n",
    "### 모든 미니 프로젝트의 시작은 '데이터 불러오기' 부터라고 할 수 있습니다.\n",
    "+ KeyPoint : 불러오고자 하는 데이터에 따라 자유롭게 변수로 지정할 수 있다."
   ]
  },
  {
   "cell_type": "markdown",
   "id": "measured-administration",
   "metadata": {
    "id": "measured-administration"
   },
   "source": [
    "###  데이터 프레임을 불러오고 변수로 저장(여기서는 CSV 기준으로 진행)\n",
    "* csv : pd.read_csv(\"파일이름. csv\")\n",
    "* txt : pd.read_csv(\"파일이름. csv\", sep=\"구분자\")\n",
    "* xlsx : pd.read_excel('파일이름.xlsx')\n",
    "* pickle : pd.read_pickle(\"파일이름.pkl\") <br>\n",
    " [참고] pickle은 파이썬의 모든 객체를 파일로 저장할 수 있는 방법으로 DataFrame,List,Dict 등 모든 객체 저장 가능(특히 sklearn라이브러리를 통해 모델을 학습시키고, 저장할 때 많이 사용)"
   ]
  },
  {
   "cell_type": "markdown",
   "id": "vocational-animal",
   "metadata": {
    "id": "vocational-animal"
   },
   "source": [
    "#### [실습문제1] 데이터 로딩\n",
    "* '1.3 seoul_people.csv'파일을 'seoul_people' 변수에 저장하고 그 Shape을 확인하세요.\n",
    "    * 데이터 파일 로딩시 참고 사항 \n",
    "        * 구분자(sep)는 '\\t' 입니다\n",
    "        * cp949 인코더를 사용해 주세요"
   ]
  },
  {
   "cell_type": "code",
   "execution_count": 2,
   "id": "1564e4fd",
   "metadata": {
    "id": "1564e4fd"
   },
   "outputs": [],
   "source": [
    "import pandas as pd"
   ]
  },
  {
   "cell_type": "code",
   "execution_count": 29,
   "id": "saving-slope",
   "metadata": {
    "id": "saving-slope"
   },
   "outputs": [],
   "source": [
    "# 아래에 실습코드를 작성하고 결과를 확인합니다.\n",
    "seoul_people = pd.read_csv('1.3 seoul_people.csv',sep=\"\\t\", encoding = 'cp949')"
   ]
  },
  {
   "cell_type": "code",
   "execution_count": 30,
   "id": "funny-subcommittee",
   "metadata": {
    "id": "funny-subcommittee"
   },
   "outputs": [
    {
     "data": {
      "text/plain": [
       "(28, 14)"
      ]
     },
     "execution_count": 30,
     "metadata": {},
     "output_type": "execute_result"
    }
   ],
   "source": [
    "# 데이터 프레임의 Shape을 확인합니다.\n",
    "seoul_people.shape"
   ]
  },
  {
   "cell_type": "markdown",
   "id": "annoying-trout",
   "metadata": {
    "id": "annoying-trout"
   },
   "source": [
    "# 2.기본 정보 확인 및 클렌징\n",
    "\n",
    "+ 데이터 클렌징 : 결측치, 이상치 등을 제거하여 데이터 분석 결과가 왜곡 되는 문제를 방지하기 위한 정제 과정"
   ]
  },
  {
   "cell_type": "markdown",
   "id": "romantic-johnson",
   "metadata": {
    "id": "romantic-johnson"
   },
   "source": [
    "#### [실습문제2] 기본 정보 확인하기\n",
    "* 'seoul_people' 데이터의 정보를 확인해보세요.\n",
    "* 'describe', 'info', 'head' 등 전부 활용해 보겠습니다."
   ]
  },
  {
   "cell_type": "code",
   "execution_count": 31,
   "id": "demographic-battery",
   "metadata": {
    "id": "demographic-battery"
   },
   "outputs": [
    {
     "data": {
      "text/html": [
       "<div>\n",
       "<style scoped>\n",
       "    .dataframe tbody tr th:only-of-type {\n",
       "        vertical-align: middle;\n",
       "    }\n",
       "\n",
       "    .dataframe tbody tr th {\n",
       "        vertical-align: top;\n",
       "    }\n",
       "\n",
       "    .dataframe thead th {\n",
       "        text-align: right;\n",
       "    }\n",
       "</style>\n",
       "<table border=\"1\" class=\"dataframe\">\n",
       "  <thead>\n",
       "    <tr style=\"text-align: right;\">\n",
       "      <th></th>\n",
       "      <th>기간</th>\n",
       "      <th>자치구</th>\n",
       "      <th>세대</th>\n",
       "      <th>인구</th>\n",
       "      <th>인구.1</th>\n",
       "      <th>인구.2</th>\n",
       "      <th>인구.3</th>\n",
       "      <th>인구.4</th>\n",
       "      <th>인구.5</th>\n",
       "      <th>인구.6</th>\n",
       "      <th>인구.7</th>\n",
       "      <th>인구.8</th>\n",
       "      <th>세대당인구</th>\n",
       "      <th>65세이상고령자</th>\n",
       "    </tr>\n",
       "  </thead>\n",
       "  <tbody>\n",
       "    <tr>\n",
       "      <th>0</th>\n",
       "      <td>기간</td>\n",
       "      <td>자치구</td>\n",
       "      <td>세대</td>\n",
       "      <td>합계</td>\n",
       "      <td>합계</td>\n",
       "      <td>합계</td>\n",
       "      <td>한국인</td>\n",
       "      <td>한국인</td>\n",
       "      <td>한국인</td>\n",
       "      <td>등록외국인</td>\n",
       "      <td>등록외국인</td>\n",
       "      <td>등록외국인</td>\n",
       "      <td>세대당인구</td>\n",
       "      <td>65세이상고령자</td>\n",
       "    </tr>\n",
       "    <tr>\n",
       "      <th>1</th>\n",
       "      <td>기간</td>\n",
       "      <td>자치구</td>\n",
       "      <td>세대</td>\n",
       "      <td>계</td>\n",
       "      <td>남자</td>\n",
       "      <td>여자</td>\n",
       "      <td>계</td>\n",
       "      <td>남자</td>\n",
       "      <td>여자</td>\n",
       "      <td>계</td>\n",
       "      <td>남자</td>\n",
       "      <td>여자</td>\n",
       "      <td>세대당인구</td>\n",
       "      <td>65세이상고령자</td>\n",
       "    </tr>\n",
       "    <tr>\n",
       "      <th>2</th>\n",
       "      <td>2022.1/4</td>\n",
       "      <td>합계</td>\n",
       "      <td>4451444</td>\n",
       "      <td>9732617</td>\n",
       "      <td>4716704</td>\n",
       "      <td>5015913</td>\n",
       "      <td>9506778</td>\n",
       "      <td>4613910</td>\n",
       "      <td>4892868</td>\n",
       "      <td>225839</td>\n",
       "      <td>102794</td>\n",
       "      <td>123045</td>\n",
       "      <td>2.14</td>\n",
       "      <td>1628980</td>\n",
       "    </tr>\n",
       "    <tr>\n",
       "      <th>3</th>\n",
       "      <td>2022.1/4</td>\n",
       "      <td>종로구</td>\n",
       "      <td>73766</td>\n",
       "      <td>153684</td>\n",
       "      <td>74018</td>\n",
       "      <td>79666</td>\n",
       "      <td>144275</td>\n",
       "      <td>69911</td>\n",
       "      <td>74364</td>\n",
       "      <td>9409</td>\n",
       "      <td>4107</td>\n",
       "      <td>5302</td>\n",
       "      <td>1.96</td>\n",
       "      <td>28064</td>\n",
       "    </tr>\n",
       "    <tr>\n",
       "      <th>4</th>\n",
       "      <td>2022.1/4</td>\n",
       "      <td>중구</td>\n",
       "      <td>63767</td>\n",
       "      <td>131450</td>\n",
       "      <td>63869</td>\n",
       "      <td>67581</td>\n",
       "      <td>122173</td>\n",
       "      <td>59448</td>\n",
       "      <td>62725</td>\n",
       "      <td>9277</td>\n",
       "      <td>4421</td>\n",
       "      <td>4856</td>\n",
       "      <td>1.92</td>\n",
       "      <td>24742</td>\n",
       "    </tr>\n",
       "    <tr>\n",
       "      <th>5</th>\n",
       "      <td>2022.1/4</td>\n",
       "      <td>용산구</td>\n",
       "      <td>111207</td>\n",
       "      <td>236518</td>\n",
       "      <td>114571</td>\n",
       "      <td>121947</td>\n",
       "      <td>222169</td>\n",
       "      <td>106735</td>\n",
       "      <td>115434</td>\n",
       "      <td>14349</td>\n",
       "      <td>7836</td>\n",
       "      <td>6513</td>\n",
       "      <td>2</td>\n",
       "      <td>39461</td>\n",
       "    </tr>\n",
       "    <tr>\n",
       "      <th>6</th>\n",
       "      <td>2022.1/4</td>\n",
       "      <td>성동구</td>\n",
       "      <td>134533</td>\n",
       "      <td>291609</td>\n",
       "      <td>141662</td>\n",
       "      <td>149947</td>\n",
       "      <td>285073</td>\n",
       "      <td>138847</td>\n",
       "      <td>146226</td>\n",
       "      <td>6536</td>\n",
       "      <td>2815</td>\n",
       "      <td>3721</td>\n",
       "      <td>2.12</td>\n",
       "      <td>46896</td>\n",
       "    </tr>\n",
       "    <tr>\n",
       "      <th>7</th>\n",
       "      <td>2022.1/4</td>\n",
       "      <td>광진구</td>\n",
       "      <td>169483</td>\n",
       "      <td>353110</td>\n",
       "      <td>169525</td>\n",
       "      <td>183585</td>\n",
       "      <td>340707</td>\n",
       "      <td>164346</td>\n",
       "      <td>176361</td>\n",
       "      <td>12403</td>\n",
       "      <td>5179</td>\n",
       "      <td>7224</td>\n",
       "      <td>2.01</td>\n",
       "      <td>52604</td>\n",
       "    </tr>\n",
       "    <tr>\n",
       "      <th>8</th>\n",
       "      <td>2022.1/4</td>\n",
       "      <td>동대문구</td>\n",
       "      <td>169695</td>\n",
       "      <td>352592</td>\n",
       "      <td>172318</td>\n",
       "      <td>180274</td>\n",
       "      <td>337982</td>\n",
       "      <td>166823</td>\n",
       "      <td>171159</td>\n",
       "      <td>14610</td>\n",
       "      <td>5495</td>\n",
       "      <td>9115</td>\n",
       "      <td>1.99</td>\n",
       "      <td>62963</td>\n",
       "    </tr>\n",
       "    <tr>\n",
       "      <th>9</th>\n",
       "      <td>2022.1/4</td>\n",
       "      <td>중랑구</td>\n",
       "      <td>187693</td>\n",
       "      <td>393600</td>\n",
       "      <td>193623</td>\n",
       "      <td>199977</td>\n",
       "      <td>389043</td>\n",
       "      <td>191835</td>\n",
       "      <td>197208</td>\n",
       "      <td>4557</td>\n",
       "      <td>1788</td>\n",
       "      <td>2769</td>\n",
       "      <td>2.07</td>\n",
       "      <td>72851</td>\n",
       "    </tr>\n",
       "  </tbody>\n",
       "</table>\n",
       "</div>"
      ],
      "text/plain": [
       "         기간   자치구       세대       인구     인구.1     인구.2     인구.3     인구.4  \\\n",
       "0        기간   자치구       세대       합계       합계       합계      한국인      한국인   \n",
       "1        기간   자치구       세대        계       남자       여자        계       남자   \n",
       "2  2022.1/4    합계  4451444  9732617  4716704  5015913  9506778  4613910   \n",
       "3  2022.1/4   종로구    73766   153684    74018    79666   144275    69911   \n",
       "4  2022.1/4    중구    63767   131450    63869    67581   122173    59448   \n",
       "5  2022.1/4   용산구   111207   236518   114571   121947   222169   106735   \n",
       "6  2022.1/4   성동구   134533   291609   141662   149947   285073   138847   \n",
       "7  2022.1/4   광진구   169483   353110   169525   183585   340707   164346   \n",
       "8  2022.1/4  동대문구   169695   352592   172318   180274   337982   166823   \n",
       "9  2022.1/4   중랑구   187693   393600   193623   199977   389043   191835   \n",
       "\n",
       "      인구.5    인구.6    인구.7    인구.8  세대당인구  65세이상고령자  \n",
       "0      한국인   등록외국인   등록외국인   등록외국인  세대당인구  65세이상고령자  \n",
       "1       여자       계      남자      여자  세대당인구  65세이상고령자  \n",
       "2  4892868  225839  102794  123045   2.14   1628980  \n",
       "3    74364    9409    4107    5302   1.96     28064  \n",
       "4    62725    9277    4421    4856   1.92     24742  \n",
       "5   115434   14349    7836    6513      2     39461  \n",
       "6   146226    6536    2815    3721   2.12     46896  \n",
       "7   176361   12403    5179    7224   2.01     52604  \n",
       "8   171159   14610    5495    9115   1.99     62963  \n",
       "9   197208    4557    1788    2769   2.07     72851  "
      ]
     },
     "execution_count": 31,
     "metadata": {},
     "output_type": "execute_result"
    }
   ],
   "source": [
    "# 아래에 실습코드를 작성하고 결과를 확인합니다.\n",
    "seoul_people.head(10)"
   ]
  },
  {
   "cell_type": "code",
   "execution_count": 32,
   "id": "940a114a",
   "metadata": {
    "id": "940a114a"
   },
   "outputs": [
    {
     "name": "stdout",
     "output_type": "stream",
     "text": [
      "<class 'pandas.core.frame.DataFrame'>\n",
      "RangeIndex: 28 entries, 0 to 27\n",
      "Data columns (total 14 columns):\n",
      " #   Column    Non-Null Count  Dtype \n",
      "---  ------    --------------  ----- \n",
      " 0   기간        28 non-null     object\n",
      " 1   자치구       28 non-null     object\n",
      " 2   세대        28 non-null     object\n",
      " 3   인구        28 non-null     object\n",
      " 4   인구.1      28 non-null     object\n",
      " 5   인구.2      28 non-null     object\n",
      " 6   인구.3      28 non-null     object\n",
      " 7   인구.4      28 non-null     object\n",
      " 8   인구.5      28 non-null     object\n",
      " 9   인구.6      28 non-null     object\n",
      " 10  인구.7      28 non-null     object\n",
      " 11  인구.8      28 non-null     object\n",
      " 12  세대당인구     28 non-null     object\n",
      " 13  65세이상고령자  28 non-null     object\n",
      "dtypes: object(14)\n",
      "memory usage: 3.2+ KB\n"
     ]
    }
   ],
   "source": [
    "# 아래에 실습코드를 작성하고 결과를 확인합니다.\n",
    "seoul_people.info()"
   ]
  },
  {
   "cell_type": "markdown",
   "id": "003322b3",
   "metadata": {
    "id": "003322b3"
   },
   "source": [
    "#### [실습문제3] 데이터 확인 및 처리\n",
    "\n",
    "* head 와 tail 을 보고, 어느 데이터만 가져와야 할지 생각 해 봅시다."
   ]
  },
  {
   "cell_type": "code",
   "execution_count": 33,
   "id": "28c91276",
   "metadata": {
    "id": "28c91276"
   },
   "outputs": [
    {
     "data": {
      "text/html": [
       "<div>\n",
       "<style scoped>\n",
       "    .dataframe tbody tr th:only-of-type {\n",
       "        vertical-align: middle;\n",
       "    }\n",
       "\n",
       "    .dataframe tbody tr th {\n",
       "        vertical-align: top;\n",
       "    }\n",
       "\n",
       "    .dataframe thead th {\n",
       "        text-align: right;\n",
       "    }\n",
       "</style>\n",
       "<table border=\"1\" class=\"dataframe\">\n",
       "  <thead>\n",
       "    <tr style=\"text-align: right;\">\n",
       "      <th></th>\n",
       "      <th>기간</th>\n",
       "      <th>자치구</th>\n",
       "      <th>세대</th>\n",
       "      <th>인구</th>\n",
       "      <th>인구.1</th>\n",
       "      <th>인구.2</th>\n",
       "      <th>인구.3</th>\n",
       "      <th>인구.4</th>\n",
       "      <th>인구.5</th>\n",
       "      <th>인구.6</th>\n",
       "      <th>인구.7</th>\n",
       "      <th>인구.8</th>\n",
       "      <th>세대당인구</th>\n",
       "      <th>65세이상고령자</th>\n",
       "    </tr>\n",
       "  </thead>\n",
       "  <tbody>\n",
       "    <tr>\n",
       "      <th>0</th>\n",
       "      <td>기간</td>\n",
       "      <td>자치구</td>\n",
       "      <td>세대</td>\n",
       "      <td>합계</td>\n",
       "      <td>합계</td>\n",
       "      <td>합계</td>\n",
       "      <td>한국인</td>\n",
       "      <td>한국인</td>\n",
       "      <td>한국인</td>\n",
       "      <td>등록외국인</td>\n",
       "      <td>등록외국인</td>\n",
       "      <td>등록외국인</td>\n",
       "      <td>세대당인구</td>\n",
       "      <td>65세이상고령자</td>\n",
       "    </tr>\n",
       "    <tr>\n",
       "      <th>1</th>\n",
       "      <td>기간</td>\n",
       "      <td>자치구</td>\n",
       "      <td>세대</td>\n",
       "      <td>계</td>\n",
       "      <td>남자</td>\n",
       "      <td>여자</td>\n",
       "      <td>계</td>\n",
       "      <td>남자</td>\n",
       "      <td>여자</td>\n",
       "      <td>계</td>\n",
       "      <td>남자</td>\n",
       "      <td>여자</td>\n",
       "      <td>세대당인구</td>\n",
       "      <td>65세이상고령자</td>\n",
       "    </tr>\n",
       "    <tr>\n",
       "      <th>2</th>\n",
       "      <td>2022.1/4</td>\n",
       "      <td>합계</td>\n",
       "      <td>4451444</td>\n",
       "      <td>9732617</td>\n",
       "      <td>4716704</td>\n",
       "      <td>5015913</td>\n",
       "      <td>9506778</td>\n",
       "      <td>4613910</td>\n",
       "      <td>4892868</td>\n",
       "      <td>225839</td>\n",
       "      <td>102794</td>\n",
       "      <td>123045</td>\n",
       "      <td>2.14</td>\n",
       "      <td>1628980</td>\n",
       "    </tr>\n",
       "    <tr>\n",
       "      <th>3</th>\n",
       "      <td>2022.1/4</td>\n",
       "      <td>종로구</td>\n",
       "      <td>73766</td>\n",
       "      <td>153684</td>\n",
       "      <td>74018</td>\n",
       "      <td>79666</td>\n",
       "      <td>144275</td>\n",
       "      <td>69911</td>\n",
       "      <td>74364</td>\n",
       "      <td>9409</td>\n",
       "      <td>4107</td>\n",
       "      <td>5302</td>\n",
       "      <td>1.96</td>\n",
       "      <td>28064</td>\n",
       "    </tr>\n",
       "    <tr>\n",
       "      <th>4</th>\n",
       "      <td>2022.1/4</td>\n",
       "      <td>중구</td>\n",
       "      <td>63767</td>\n",
       "      <td>131450</td>\n",
       "      <td>63869</td>\n",
       "      <td>67581</td>\n",
       "      <td>122173</td>\n",
       "      <td>59448</td>\n",
       "      <td>62725</td>\n",
       "      <td>9277</td>\n",
       "      <td>4421</td>\n",
       "      <td>4856</td>\n",
       "      <td>1.92</td>\n",
       "      <td>24742</td>\n",
       "    </tr>\n",
       "  </tbody>\n",
       "</table>\n",
       "</div>"
      ],
      "text/plain": [
       "         기간  자치구       세대       인구     인구.1     인구.2     인구.3     인구.4  \\\n",
       "0        기간  자치구       세대       합계       합계       합계      한국인      한국인   \n",
       "1        기간  자치구       세대        계       남자       여자        계       남자   \n",
       "2  2022.1/4   합계  4451444  9732617  4716704  5015913  9506778  4613910   \n",
       "3  2022.1/4  종로구    73766   153684    74018    79666   144275    69911   \n",
       "4  2022.1/4   중구    63767   131450    63869    67581   122173    59448   \n",
       "\n",
       "      인구.5    인구.6    인구.7    인구.8  세대당인구  65세이상고령자  \n",
       "0      한국인   등록외국인   등록외국인   등록외국인  세대당인구  65세이상고령자  \n",
       "1       여자       계      남자      여자  세대당인구  65세이상고령자  \n",
       "2  4892868  225839  102794  123045   2.14   1628980  \n",
       "3    74364    9409    4107    5302   1.96     28064  \n",
       "4    62725    9277    4421    4856   1.92     24742  "
      ]
     },
     "execution_count": 33,
     "metadata": {},
     "output_type": "execute_result"
    }
   ],
   "source": [
    "# 아래에 실습코드를 작성하고 결과를 확인합니다.\n",
    "seoul_people.head()"
   ]
  },
  {
   "cell_type": "code",
   "execution_count": 34,
   "id": "aa924793",
   "metadata": {},
   "outputs": [
    {
     "data": {
      "text/plain": [
       "Index(['기간', '자치구', '세대', '인구', '인구.1', '인구.2', '인구.3', '인구.4', '인구.5', '인구.6',\n",
       "       '인구.7', '인구.8', '세대당인구', '65세이상고령자'],\n",
       "      dtype='object')"
      ]
     },
     "execution_count": 34,
     "metadata": {},
     "output_type": "execute_result"
    }
   ],
   "source": [
    "seoul_people.columns"
   ]
  },
  {
   "cell_type": "code",
   "execution_count": 35,
   "id": "45795159",
   "metadata": {},
   "outputs": [],
   "source": [
    "column_name= ['기간', '자치구', '세대', '인구(계)', '남자', '여자', \\\n",
    "             '한국인(계)', '한국인 남자', '한국인 여자', '등록외국인(계)', \\\n",
    "             '등록외국인 남자', '등록외국인 여자', '세대당인구', '65세이상고령자']"
   ]
  },
  {
   "cell_type": "code",
   "execution_count": 36,
   "id": "be9c1d4a",
   "metadata": {
    "id": "be9c1d4a"
   },
   "outputs": [],
   "source": [
    "# 해당 데이터프레임을 'df_seoul_people.csv' 파일로 저장하세요.\n",
    "seoul_people.columns= column_name"
   ]
  },
  {
   "cell_type": "code",
   "execution_count": 40,
   "id": "19e99be3",
   "metadata": {
    "scrolled": true
   },
   "outputs": [],
   "source": [
    "seoul_people= seoul_people.tail(26)"
   ]
  },
  {
   "cell_type": "code",
   "execution_count": 41,
   "id": "fcf94645",
   "metadata": {},
   "outputs": [
    {
     "data": {
      "text/html": [
       "<div>\n",
       "<style scoped>\n",
       "    .dataframe tbody tr th:only-of-type {\n",
       "        vertical-align: middle;\n",
       "    }\n",
       "\n",
       "    .dataframe tbody tr th {\n",
       "        vertical-align: top;\n",
       "    }\n",
       "\n",
       "    .dataframe thead th {\n",
       "        text-align: right;\n",
       "    }\n",
       "</style>\n",
       "<table border=\"1\" class=\"dataframe\">\n",
       "  <thead>\n",
       "    <tr style=\"text-align: right;\">\n",
       "      <th></th>\n",
       "      <th>기간</th>\n",
       "      <th>자치구</th>\n",
       "      <th>세대</th>\n",
       "      <th>인구(계)</th>\n",
       "      <th>남자</th>\n",
       "      <th>여자</th>\n",
       "      <th>한국인(계)</th>\n",
       "      <th>한국인 남자</th>\n",
       "      <th>한국인 여자</th>\n",
       "      <th>등록외국인(계)</th>\n",
       "      <th>등록외국인 남자</th>\n",
       "      <th>등록외국인 여자</th>\n",
       "      <th>세대당인구</th>\n",
       "      <th>65세이상고령자</th>\n",
       "    </tr>\n",
       "  </thead>\n",
       "  <tbody>\n",
       "    <tr>\n",
       "      <th>2</th>\n",
       "      <td>2022.1/4</td>\n",
       "      <td>합계</td>\n",
       "      <td>4451444</td>\n",
       "      <td>9732617</td>\n",
       "      <td>4716704</td>\n",
       "      <td>5015913</td>\n",
       "      <td>9506778</td>\n",
       "      <td>4613910</td>\n",
       "      <td>4892868</td>\n",
       "      <td>225839</td>\n",
       "      <td>102794</td>\n",
       "      <td>123045</td>\n",
       "      <td>2.14</td>\n",
       "      <td>1628980</td>\n",
       "    </tr>\n",
       "    <tr>\n",
       "      <th>3</th>\n",
       "      <td>2022.1/4</td>\n",
       "      <td>종로구</td>\n",
       "      <td>73766</td>\n",
       "      <td>153684</td>\n",
       "      <td>74018</td>\n",
       "      <td>79666</td>\n",
       "      <td>144275</td>\n",
       "      <td>69911</td>\n",
       "      <td>74364</td>\n",
       "      <td>9409</td>\n",
       "      <td>4107</td>\n",
       "      <td>5302</td>\n",
       "      <td>1.96</td>\n",
       "      <td>28064</td>\n",
       "    </tr>\n",
       "    <tr>\n",
       "      <th>4</th>\n",
       "      <td>2022.1/4</td>\n",
       "      <td>중구</td>\n",
       "      <td>63767</td>\n",
       "      <td>131450</td>\n",
       "      <td>63869</td>\n",
       "      <td>67581</td>\n",
       "      <td>122173</td>\n",
       "      <td>59448</td>\n",
       "      <td>62725</td>\n",
       "      <td>9277</td>\n",
       "      <td>4421</td>\n",
       "      <td>4856</td>\n",
       "      <td>1.92</td>\n",
       "      <td>24742</td>\n",
       "    </tr>\n",
       "    <tr>\n",
       "      <th>5</th>\n",
       "      <td>2022.1/4</td>\n",
       "      <td>용산구</td>\n",
       "      <td>111207</td>\n",
       "      <td>236518</td>\n",
       "      <td>114571</td>\n",
       "      <td>121947</td>\n",
       "      <td>222169</td>\n",
       "      <td>106735</td>\n",
       "      <td>115434</td>\n",
       "      <td>14349</td>\n",
       "      <td>7836</td>\n",
       "      <td>6513</td>\n",
       "      <td>2</td>\n",
       "      <td>39461</td>\n",
       "    </tr>\n",
       "    <tr>\n",
       "      <th>6</th>\n",
       "      <td>2022.1/4</td>\n",
       "      <td>성동구</td>\n",
       "      <td>134533</td>\n",
       "      <td>291609</td>\n",
       "      <td>141662</td>\n",
       "      <td>149947</td>\n",
       "      <td>285073</td>\n",
       "      <td>138847</td>\n",
       "      <td>146226</td>\n",
       "      <td>6536</td>\n",
       "      <td>2815</td>\n",
       "      <td>3721</td>\n",
       "      <td>2.12</td>\n",
       "      <td>46896</td>\n",
       "    </tr>\n",
       "  </tbody>\n",
       "</table>\n",
       "</div>"
      ],
      "text/plain": [
       "         기간  자치구       세대    인구(계)       남자       여자   한국인(계)   한국인 남자  \\\n",
       "2  2022.1/4   합계  4451444  9732617  4716704  5015913  9506778  4613910   \n",
       "3  2022.1/4  종로구    73766   153684    74018    79666   144275    69911   \n",
       "4  2022.1/4   중구    63767   131450    63869    67581   122173    59448   \n",
       "5  2022.1/4  용산구   111207   236518   114571   121947   222169   106735   \n",
       "6  2022.1/4  성동구   134533   291609   141662   149947   285073   138847   \n",
       "\n",
       "    한국인 여자 등록외국인(계) 등록외국인 남자 등록외국인 여자 세대당인구 65세이상고령자  \n",
       "2  4892868   225839   102794   123045  2.14  1628980  \n",
       "3    74364     9409     4107     5302  1.96    28064  \n",
       "4    62725     9277     4421     4856  1.92    24742  \n",
       "5   115434    14349     7836     6513     2    39461  \n",
       "6   146226     6536     2815     3721  2.12    46896  "
      ]
     },
     "execution_count": 41,
     "metadata": {},
     "output_type": "execute_result"
    }
   ],
   "source": [
    "seoul_people.head()"
   ]
  },
  {
   "cell_type": "code",
   "execution_count": 42,
   "id": "39613c76",
   "metadata": {},
   "outputs": [],
   "source": [
    "seoul_people.to_csv(\" df_seoul_people.csv\", index = False)"
   ]
  },
  {
   "cell_type": "markdown",
   "id": "southeast-integration",
   "metadata": {
    "id": "southeast-integration"
   },
   "source": [
    "# 3.데이터 분석하기\n",
    "+ KeyPoint : 데이터의 형태를 살펴보고 다양한 분석기법을 통해 모델링에 적합하도록 정제요소를 선별할 수 있다.\n",
    "  * 데이터들의 패턴 탐색\n",
    "  * 변수들간의 관계 파악"
   ]
  },
  {
   "cell_type": "code",
   "execution_count": null,
   "id": "194ae01d",
   "metadata": {
    "id": "194ae01d"
   },
   "outputs": [],
   "source": [
    "# 시각화 한글폰트 설정\n",
    "import seaborn as sns\n",
    "import matplotlib.pyplot as plt\n",
    "\n",
    "plt.rc('font', family='nanum')\n",
    "sns.set(font=\"NanumGothicCoding\",#\"NanumGothicCoding\", \n",
    "        rc={\"axes.unicode_minus\":False}, # 마이너스 부호 깨짐 현상 해결\n",
    "        style='darkgrid')      "
   ]
  },
  {
   "cell_type": "markdown",
   "id": "material-complex",
   "metadata": {
    "id": "material-complex"
   },
   "source": [
    "#### [실습문제4] 데이터 분포 알아보기\n",
    "* 다양한 변수를 기준으로 그래프를 그려보고 인사이트를 도출해보세요."
   ]
  },
  {
   "cell_type": "code",
   "execution_count": null,
   "id": "acffc469",
   "metadata": {
    "id": "acffc469"
   },
   "outputs": [],
   "source": [
    "# 아래에 실습코드를 작성하고 결과를 확인합니다.\n",
    "\n"
   ]
  },
  {
   "cell_type": "code",
   "execution_count": null,
   "id": "7aefe714",
   "metadata": {
    "id": "7aefe714"
   },
   "outputs": [],
   "source": [
    "# 아래에 실습코드를 작성하고 결과를 확인합니다.\n"
   ]
  },
  {
   "cell_type": "code",
   "execution_count": null,
   "id": "86892a60",
   "metadata": {
    "id": "86892a60"
   },
   "outputs": [],
   "source": [
    "# 위 차트를 통해 알게된 사실을 정리해봅시다.\n",
    "# 1. \n",
    "# 2.\n",
    "# 3."
   ]
  },
  {
   "cell_type": "markdown",
   "id": "450fcfaa",
   "metadata": {
    "id": "450fcfaa"
   },
   "source": [
    "---"
   ]
  }
 ],
 "metadata": {
  "colab": {
   "collapsed_sections": [],
   "provenance": []
  },
  "kernelspec": {
   "display_name": "Python 3 (ipykernel)",
   "language": "python",
   "name": "python3"
  },
  "language_info": {
   "codemirror_mode": {
    "name": "ipython",
    "version": 3
   },
   "file_extension": ".py",
   "mimetype": "text/x-python",
   "name": "python",
   "nbconvert_exporter": "python",
   "pygments_lexer": "ipython3",
   "version": "3.9.7"
  },
  "vscode": {
   "interpreter": {
    "hash": "f08154012ddadd8e950e6e9e035c7a7b32c136e7647e9b7c77e02eb723a8bedb"
   }
  }
 },
 "nbformat": 4,
 "nbformat_minor": 5
}
