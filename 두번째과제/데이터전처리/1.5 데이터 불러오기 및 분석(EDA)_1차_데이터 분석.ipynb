{
 "cells": [
  {
   "cell_type": "markdown",
   "id": "boxed-jamaica",
   "metadata": {
    "id": "boxed-jamaica"
   },
   "source": [
    "# 안녕하세요:)\n",
    "\n",
    "## '서울시 생활정보 기반 대중교통 수요 분석 ' 과정에 오신 여러분을 환영합니다.\n",
    "* 본 과정에서는 서울시 생활정보 데이터를 기반으로 데이터 분석을 시도하고 주어진 문제를 해결할 것입니다.\n",
    "\n",
    "\n",
    "* 우리는 공공 데이터를 활용해 버스노선 관련 인사이트를 도출하여 유용한 정책을 세우는데 도움을 주고자 합니다"
   ]
  },
  {
   "cell_type": "markdown",
   "id": "46fa690c",
   "metadata": {
    "id": "46fa690c"
   },
   "source": [
    "## ▣ 우리가 풀어야 하는 문제는 무엇인가요?\n",
    "\n",
    "* 제공 데이터\n",
    "    - 구 별 유동인구 데이터\n",
    "    - 구 별 주민 등록 데이터\n",
    "    - 구 별 업종 등록 정보\n",
    "    - 버스 승하차 및 운행 노선 데이터 \n",
    "\n",
    "### 위 제공 데이터를 분석하여 버스 노선 추가 필요 대상 지역(구 단위)을 선정합니다"
   ]
  },
  {
   "cell_type": "markdown",
   "id": "22a4bba9",
   "metadata": {
    "id": "22a4bba9"
   },
   "source": [
    "# 이 4개의 데이터들을 어떻게 합칠까요?"
   ]
  },
  {
   "cell_type": "code",
   "execution_count": 1,
   "id": "ce78669f",
   "metadata": {
    "executionInfo": {
     "elapsed": 517,
     "status": "ok",
     "timestamp": 1666508860335,
     "user": {
      "displayName": "최가원",
      "userId": "06373414866148795583"
     },
     "user_tz": -540
    },
    "id": "ce78669f"
   },
   "outputs": [],
   "source": [
    "import pandas as pd"
   ]
  },
  {
   "cell_type": "code",
   "execution_count": 2,
   "id": "d91f797e",
   "metadata": {
    "executionInfo": {
     "elapsed": 68,
     "status": "ok",
     "timestamp": 1666508860337,
     "user": {
      "displayName": "최가원",
      "userId": "06373414866148795583"
     },
     "user_tz": -540
    },
    "id": "d91f797e"
   },
   "outputs": [],
   "source": [
    "#구코드\n",
    "standard = pd.DataFrame({'도착 시군구 코드': [11010, 11020, 11030, 11040, 11050, 11060, 11070, 11080, 11090, 11100, 11110, 11120, 11130, 11140, 11150, 11160, 11170, 11180, 11190, 11200, 11210, 11220, 11230, 11240, 11250],\n",
    "                         '자치구' :['종로구','중구','용산구','성동구','광진구','동대문구','중랑구','성북구','강북구','도봉구','노원구','은평구','서대문구','마포구','양천구','강서구','구로구','금천구','영등포구','동작구','관악구','서초구','강남구','송파구','강동구']})"
   ]
  },
  {
   "cell_type": "code",
   "execution_count": 3,
   "id": "823d3b41",
   "metadata": {
    "colab": {
     "base_uri": "https://localhost:8080/",
     "height": 833
    },
    "executionInfo": {
     "elapsed": 69,
     "status": "ok",
     "timestamp": 1666508860340,
     "user": {
      "displayName": "최가원",
      "userId": "06373414866148795583"
     },
     "user_tz": -540
    },
    "id": "823d3b41",
    "outputId": "b05a933b-01ef-46e5-abb8-dff919a13e26",
    "scrolled": true
   },
   "outputs": [
    {
     "data": {
      "text/html": [
       "<div>\n",
       "<style scoped>\n",
       "    .dataframe tbody tr th:only-of-type {\n",
       "        vertical-align: middle;\n",
       "    }\n",
       "\n",
       "    .dataframe tbody tr th {\n",
       "        vertical-align: top;\n",
       "    }\n",
       "\n",
       "    .dataframe thead th {\n",
       "        text-align: right;\n",
       "    }\n",
       "</style>\n",
       "<table border=\"1\" class=\"dataframe\">\n",
       "  <thead>\n",
       "    <tr style=\"text-align: right;\">\n",
       "      <th></th>\n",
       "      <th>도착 시군구 코드</th>\n",
       "      <th>자치구</th>\n",
       "    </tr>\n",
       "  </thead>\n",
       "  <tbody>\n",
       "    <tr>\n",
       "      <th>0</th>\n",
       "      <td>11010</td>\n",
       "      <td>종로구</td>\n",
       "    </tr>\n",
       "    <tr>\n",
       "      <th>1</th>\n",
       "      <td>11020</td>\n",
       "      <td>중구</td>\n",
       "    </tr>\n",
       "    <tr>\n",
       "      <th>2</th>\n",
       "      <td>11030</td>\n",
       "      <td>용산구</td>\n",
       "    </tr>\n",
       "    <tr>\n",
       "      <th>3</th>\n",
       "      <td>11040</td>\n",
       "      <td>성동구</td>\n",
       "    </tr>\n",
       "    <tr>\n",
       "      <th>4</th>\n",
       "      <td>11050</td>\n",
       "      <td>광진구</td>\n",
       "    </tr>\n",
       "    <tr>\n",
       "      <th>5</th>\n",
       "      <td>11060</td>\n",
       "      <td>동대문구</td>\n",
       "    </tr>\n",
       "    <tr>\n",
       "      <th>6</th>\n",
       "      <td>11070</td>\n",
       "      <td>중랑구</td>\n",
       "    </tr>\n",
       "    <tr>\n",
       "      <th>7</th>\n",
       "      <td>11080</td>\n",
       "      <td>성북구</td>\n",
       "    </tr>\n",
       "    <tr>\n",
       "      <th>8</th>\n",
       "      <td>11090</td>\n",
       "      <td>강북구</td>\n",
       "    </tr>\n",
       "    <tr>\n",
       "      <th>9</th>\n",
       "      <td>11100</td>\n",
       "      <td>도봉구</td>\n",
       "    </tr>\n",
       "    <tr>\n",
       "      <th>10</th>\n",
       "      <td>11110</td>\n",
       "      <td>노원구</td>\n",
       "    </tr>\n",
       "    <tr>\n",
       "      <th>11</th>\n",
       "      <td>11120</td>\n",
       "      <td>은평구</td>\n",
       "    </tr>\n",
       "    <tr>\n",
       "      <th>12</th>\n",
       "      <td>11130</td>\n",
       "      <td>서대문구</td>\n",
       "    </tr>\n",
       "    <tr>\n",
       "      <th>13</th>\n",
       "      <td>11140</td>\n",
       "      <td>마포구</td>\n",
       "    </tr>\n",
       "    <tr>\n",
       "      <th>14</th>\n",
       "      <td>11150</td>\n",
       "      <td>양천구</td>\n",
       "    </tr>\n",
       "    <tr>\n",
       "      <th>15</th>\n",
       "      <td>11160</td>\n",
       "      <td>강서구</td>\n",
       "    </tr>\n",
       "    <tr>\n",
       "      <th>16</th>\n",
       "      <td>11170</td>\n",
       "      <td>구로구</td>\n",
       "    </tr>\n",
       "    <tr>\n",
       "      <th>17</th>\n",
       "      <td>11180</td>\n",
       "      <td>금천구</td>\n",
       "    </tr>\n",
       "    <tr>\n",
       "      <th>18</th>\n",
       "      <td>11190</td>\n",
       "      <td>영등포구</td>\n",
       "    </tr>\n",
       "    <tr>\n",
       "      <th>19</th>\n",
       "      <td>11200</td>\n",
       "      <td>동작구</td>\n",
       "    </tr>\n",
       "    <tr>\n",
       "      <th>20</th>\n",
       "      <td>11210</td>\n",
       "      <td>관악구</td>\n",
       "    </tr>\n",
       "    <tr>\n",
       "      <th>21</th>\n",
       "      <td>11220</td>\n",
       "      <td>서초구</td>\n",
       "    </tr>\n",
       "    <tr>\n",
       "      <th>22</th>\n",
       "      <td>11230</td>\n",
       "      <td>강남구</td>\n",
       "    </tr>\n",
       "    <tr>\n",
       "      <th>23</th>\n",
       "      <td>11240</td>\n",
       "      <td>송파구</td>\n",
       "    </tr>\n",
       "    <tr>\n",
       "      <th>24</th>\n",
       "      <td>11250</td>\n",
       "      <td>강동구</td>\n",
       "    </tr>\n",
       "  </tbody>\n",
       "</table>\n",
       "</div>"
      ],
      "text/plain": [
       "    도착 시군구 코드   자치구\n",
       "0       11010   종로구\n",
       "1       11020    중구\n",
       "2       11030   용산구\n",
       "3       11040   성동구\n",
       "4       11050   광진구\n",
       "5       11060  동대문구\n",
       "6       11070   중랑구\n",
       "7       11080   성북구\n",
       "8       11090   강북구\n",
       "9       11100   도봉구\n",
       "10      11110   노원구\n",
       "11      11120   은평구\n",
       "12      11130  서대문구\n",
       "13      11140   마포구\n",
       "14      11150   양천구\n",
       "15      11160   강서구\n",
       "16      11170   구로구\n",
       "17      11180   금천구\n",
       "18      11190  영등포구\n",
       "19      11200   동작구\n",
       "20      11210   관악구\n",
       "21      11220   서초구\n",
       "22      11230   강남구\n",
       "23      11240   송파구\n",
       "24      11250   강동구"
      ]
     },
     "execution_count": 3,
     "metadata": {},
     "output_type": "execute_result"
    }
   ],
   "source": [
    "standard"
   ]
  },
  {
   "cell_type": "code",
   "execution_count": 5,
   "id": "5ee007e0",
   "metadata": {
    "executionInfo": {
     "elapsed": 65,
     "status": "ok",
     "timestamp": 1666508860342,
     "user": {
      "displayName": "최가원",
      "userId": "06373414866148795583"
     },
     "user_tz": -540
    },
    "id": "5ee007e0"
   },
   "outputs": [],
   "source": [
    "# 버스 정류장 데이터 - df_seoul_bus_station\n",
    "# 유동인구 데이터 - df_seoul_moving\n",
    "# 구별 상권 데이터 - df_seoul_business\n",
    "# 구별 등록 인구 데이터 - df_seoul_people"
   ]
  },
  {
   "cell_type": "code",
   "execution_count": 6,
   "id": "_R0khVyAq1Aa",
   "metadata": {
    "colab": {
     "base_uri": "https://localhost:8080/"
    },
    "executionInfo": {
     "elapsed": 10,
     "status": "ok",
     "timestamp": 1666508890956,
     "user": {
      "displayName": "최가원",
      "userId": "06373414866148795583"
     },
     "user_tz": -540
    },
    "id": "_R0khVyAq1Aa",
    "outputId": "e817e293-aa7b-4b0e-b15f-c1b81981f13a"
   },
   "outputs": [
    {
     "name": "stdout",
     "output_type": "stream",
     "text": [
      "/Users/unhi/Desktop/AI+X/두번째과제/데이터전처리/bus_df_file\n"
     ]
    }
   ],
   "source": [
    "%cd 'bus_df_file'"
   ]
  },
  {
   "cell_type": "code",
   "execution_count": 7,
   "id": "d8f6cfe8",
   "metadata": {
    "executionInfo": {
     "elapsed": 11793,
     "status": "ok",
     "timestamp": 1666508904161,
     "user": {
      "displayName": "최가원",
      "userId": "06373414866148795583"
     },
     "user_tz": -540
    },
    "id": "d8f6cfe8"
   },
   "outputs": [],
   "source": [
    "df_seoul_bus_station = pd.read_csv('df_seoul_bus_station.csv', sep=\",\", encoding = 'UTF-8')\n",
    "df_seoul_moving = pd.read_csv('df_seoul_moving.csv', sep=\",\", encoding = 'UTF-8')\n",
    "df_seoul_business = pd.read_csv('df_seoul_business.csv', sep=\",\", encoding = 'UTF-8')\n",
    "df_seoul_people = pd.read_csv('df_seoul_people.csv', sep=\",\", encoding = 'UTF-8')"
   ]
  },
  {
   "cell_type": "code",
   "execution_count": 48,
   "id": "8e2d0c37",
   "metadata": {
    "colab": {
     "base_uri": "https://localhost:8080/",
     "height": 206
    },
    "executionInfo": {
     "elapsed": 464,
     "status": "ok",
     "timestamp": 1666508907852,
     "user": {
      "displayName": "최가원",
      "userId": "06373414866148795583"
     },
     "user_tz": -540
    },
    "id": "8e2d0c37",
    "outputId": "98da3bec-7826-4910-d66d-7d668149df26"
   },
   "outputs": [
    {
     "data": {
      "text/html": [
       "<div>\n",
       "<style scoped>\n",
       "    .dataframe tbody tr th:only-of-type {\n",
       "        vertical-align: middle;\n",
       "    }\n",
       "\n",
       "    .dataframe tbody tr th {\n",
       "        vertical-align: top;\n",
       "    }\n",
       "\n",
       "    .dataframe thead th {\n",
       "        text-align: right;\n",
       "    }\n",
       "</style>\n",
       "<table border=\"1\" class=\"dataframe\">\n",
       "  <thead>\n",
       "    <tr style=\"text-align: right;\">\n",
       "      <th></th>\n",
       "      <th>자치구</th>\n",
       "      <th>정류장수</th>\n",
       "      <th>노선수</th>\n",
       "      <th>승차총승객수</th>\n",
       "      <th>하차총승객수</th>\n",
       "      <th>승차평균승객수</th>\n",
       "      <th>하차평균승객수</th>\n",
       "    </tr>\n",
       "  </thead>\n",
       "  <tbody>\n",
       "    <tr>\n",
       "      <th>0</th>\n",
       "      <td>강남구</td>\n",
       "      <td>499</td>\n",
       "      <td>91</td>\n",
       "      <td>8030483</td>\n",
       "      <td>7569213</td>\n",
       "      <td>128.767927</td>\n",
       "      <td>121.371512</td>\n",
       "    </tr>\n",
       "    <tr>\n",
       "      <th>1</th>\n",
       "      <td>강동구</td>\n",
       "      <td>369</td>\n",
       "      <td>21</td>\n",
       "      <td>2890053</td>\n",
       "      <td>2830506</td>\n",
       "      <td>99.161194</td>\n",
       "      <td>97.118065</td>\n",
       "    </tr>\n",
       "    <tr>\n",
       "      <th>2</th>\n",
       "      <td>강북구</td>\n",
       "      <td>413</td>\n",
       "      <td>67</td>\n",
       "      <td>4825181</td>\n",
       "      <td>4671783</td>\n",
       "      <td>133.020373</td>\n",
       "      <td>128.791504</td>\n",
       "    </tr>\n",
       "    <tr>\n",
       "      <th>3</th>\n",
       "      <td>강서구</td>\n",
       "      <td>566</td>\n",
       "      <td>49</td>\n",
       "      <td>4681083</td>\n",
       "      <td>4652828</td>\n",
       "      <td>88.119480</td>\n",
       "      <td>87.587591</td>\n",
       "    </tr>\n",
       "    <tr>\n",
       "      <th>4</th>\n",
       "      <td>관악구</td>\n",
       "      <td>466</td>\n",
       "      <td>86</td>\n",
       "      <td>7655819</td>\n",
       "      <td>7792476</td>\n",
       "      <td>154.753674</td>\n",
       "      <td>157.516040</td>\n",
       "    </tr>\n",
       "  </tbody>\n",
       "</table>\n",
       "</div>"
      ],
      "text/plain": [
       "   자치구  정류장수  노선수   승차총승객수   하차총승객수     승차평균승객수     하차평균승객수\n",
       "0  강남구   499   91  8030483  7569213  128.767927  121.371512\n",
       "1  강동구   369   21  2890053  2830506   99.161194   97.118065\n",
       "2  강북구   413   67  4825181  4671783  133.020373  128.791504\n",
       "3  강서구   566   49  4681083  4652828   88.119480   87.587591\n",
       "4  관악구   466   86  7655819  7792476  154.753674  157.516040"
      ]
     },
     "execution_count": 48,
     "metadata": {},
     "output_type": "execute_result"
    }
   ],
   "source": [
    "# 버스 정류장 데이터\n",
    "df_seoul_bus_station.head()"
   ]
  },
  {
   "cell_type": "code",
   "execution_count": 49,
   "id": "05dfa09e",
   "metadata": {
    "colab": {
     "base_uri": "https://localhost:8080/",
     "height": 206
    },
    "executionInfo": {
     "elapsed": 44,
     "status": "ok",
     "timestamp": 1666508908220,
     "user": {
      "displayName": "최가원",
      "userId": "06373414866148795583"
     },
     "user_tz": -540
    },
    "id": "05dfa09e",
    "outputId": "ecd050ad-1256-46fc-f559-6eb2e58abc71"
   },
   "outputs": [
    {
     "data": {
      "text/html": [
       "<div>\n",
       "<style scoped>\n",
       "    .dataframe tbody tr th:only-of-type {\n",
       "        vertical-align: middle;\n",
       "    }\n",
       "\n",
       "    .dataframe tbody tr th {\n",
       "        vertical-align: top;\n",
       "    }\n",
       "\n",
       "    .dataframe thead th {\n",
       "        text-align: right;\n",
       "    }\n",
       "</style>\n",
       "<table border=\"1\" class=\"dataframe\">\n",
       "  <thead>\n",
       "    <tr style=\"text-align: right;\">\n",
       "      <th></th>\n",
       "      <th>대상연월</th>\n",
       "      <th>요일</th>\n",
       "      <th>도착시간</th>\n",
       "      <th>출발 시군구 코드</th>\n",
       "      <th>도착 시군구 코드</th>\n",
       "      <th>성별</th>\n",
       "      <th>나이</th>\n",
       "      <th>이동유형</th>\n",
       "      <th>평균 이동 시간(분)</th>\n",
       "      <th>이동인구(합)</th>\n",
       "    </tr>\n",
       "  </thead>\n",
       "  <tbody>\n",
       "    <tr>\n",
       "      <th>0</th>\n",
       "      <td>202204</td>\n",
       "      <td>일</td>\n",
       "      <td>0</td>\n",
       "      <td>11010</td>\n",
       "      <td>11010</td>\n",
       "      <td>F</td>\n",
       "      <td>0</td>\n",
       "      <td>EE</td>\n",
       "      <td>10</td>\n",
       "      <td>28.02</td>\n",
       "    </tr>\n",
       "    <tr>\n",
       "      <th>1</th>\n",
       "      <td>202204</td>\n",
       "      <td>일</td>\n",
       "      <td>0</td>\n",
       "      <td>11010</td>\n",
       "      <td>11010</td>\n",
       "      <td>F</td>\n",
       "      <td>0</td>\n",
       "      <td>EH</td>\n",
       "      <td>10</td>\n",
       "      <td>27.52</td>\n",
       "    </tr>\n",
       "    <tr>\n",
       "      <th>2</th>\n",
       "      <td>202204</td>\n",
       "      <td>일</td>\n",
       "      <td>0</td>\n",
       "      <td>11010</td>\n",
       "      <td>11010</td>\n",
       "      <td>F</td>\n",
       "      <td>0</td>\n",
       "      <td>HE</td>\n",
       "      <td>10</td>\n",
       "      <td>27.83</td>\n",
       "    </tr>\n",
       "    <tr>\n",
       "      <th>3</th>\n",
       "      <td>202204</td>\n",
       "      <td>일</td>\n",
       "      <td>0</td>\n",
       "      <td>11010</td>\n",
       "      <td>11010</td>\n",
       "      <td>F</td>\n",
       "      <td>10</td>\n",
       "      <td>HW</td>\n",
       "      <td>10</td>\n",
       "      <td>6.05</td>\n",
       "    </tr>\n",
       "    <tr>\n",
       "      <th>4</th>\n",
       "      <td>202204</td>\n",
       "      <td>일</td>\n",
       "      <td>0</td>\n",
       "      <td>11010</td>\n",
       "      <td>11010</td>\n",
       "      <td>F</td>\n",
       "      <td>10</td>\n",
       "      <td>EH</td>\n",
       "      <td>90</td>\n",
       "      <td>5.95</td>\n",
       "    </tr>\n",
       "  </tbody>\n",
       "</table>\n",
       "</div>"
      ],
      "text/plain": [
       "     대상연월 요일  도착시간  출발 시군구 코드  도착 시군구 코드 성별  나이 이동유형  평균 이동 시간(분)  이동인구(합)\n",
       "0  202204  일     0      11010      11010  F   0   EE           10    28.02\n",
       "1  202204  일     0      11010      11010  F   0   EH           10    27.52\n",
       "2  202204  일     0      11010      11010  F   0   HE           10    27.83\n",
       "3  202204  일     0      11010      11010  F  10   HW           10     6.05\n",
       "4  202204  일     0      11010      11010  F  10   EH           90     5.95"
      ]
     },
     "execution_count": 49,
     "metadata": {},
     "output_type": "execute_result"
    }
   ],
   "source": [
    "# 유동인구 데이터\n",
    "df_seoul_moving.head()"
   ]
  },
  {
   "cell_type": "code",
   "execution_count": 10,
   "id": "aa6489c6",
   "metadata": {
    "colab": {
     "base_uri": "https://localhost:8080/",
     "height": 505
    },
    "executionInfo": {
     "elapsed": 42,
     "status": "ok",
     "timestamp": 1666508908222,
     "user": {
      "displayName": "최가원",
      "userId": "06373414866148795583"
     },
     "user_tz": -540
    },
    "id": "aa6489c6",
    "outputId": "4ea4964c-a50b-4113-9db8-2fdb0810d05a"
   },
   "outputs": [
    {
     "data": {
      "text/html": [
       "<div>\n",
       "<style scoped>\n",
       "    .dataframe tbody tr th:only-of-type {\n",
       "        vertical-align: middle;\n",
       "    }\n",
       "\n",
       "    .dataframe tbody tr th {\n",
       "        vertical-align: top;\n",
       "    }\n",
       "\n",
       "    .dataframe thead th {\n",
       "        text-align: right;\n",
       "    }\n",
       "</style>\n",
       "<table border=\"1\" class=\"dataframe\">\n",
       "  <thead>\n",
       "    <tr style=\"text-align: right;\">\n",
       "      <th></th>\n",
       "      <th>자치구</th>\n",
       "      <th>동</th>\n",
       "      <th>택시운송업(사업체수)</th>\n",
       "      <th>택시운송업(종사자수)</th>\n",
       "      <th>한식일반음식점업(사업체수)</th>\n",
       "      <th>한식일반음식점업(종사자수)</th>\n",
       "      <th>용달화물자동차운송업(사업체수)</th>\n",
       "      <th>용달화물자동차운송업(종사자수)</th>\n",
       "      <th>부동산중개및대리업(사업체수)</th>\n",
       "      <th>부동산중개및대리업(종사자수)</th>\n",
       "      <th>...</th>\n",
       "      <th>커피전문점(사업체수)</th>\n",
       "      <th>커피전문점(종사자수)</th>\n",
       "      <th>남녀용겉옷및셔츠도매업(사업체수)</th>\n",
       "      <th>남녀용겉옷및셔츠도매업(종사자수)</th>\n",
       "      <th>기타주점업(사업체수)</th>\n",
       "      <th>기타주점업(종사자수)</th>\n",
       "      <th>일반교과학원(사업체수)</th>\n",
       "      <th>일반교과학원(종사자수)</th>\n",
       "      <th>한식육류요리전문점(사업체수)</th>\n",
       "      <th>한식육류요리전문점(종사자수)</th>\n",
       "    </tr>\n",
       "  </thead>\n",
       "  <tbody>\n",
       "    <tr>\n",
       "      <th>0</th>\n",
       "      <td>합계</td>\n",
       "      <td>합계</td>\n",
       "      <td>47,176</td>\n",
       "      <td>76,701</td>\n",
       "      <td>29,225</td>\n",
       "      <td>100,183</td>\n",
       "      <td>28,494</td>\n",
       "      <td>29,356</td>\n",
       "      <td>24,013</td>\n",
       "      <td>42,636</td>\n",
       "      <td>...</td>\n",
       "      <td>16,255</td>\n",
       "      <td>57,322</td>\n",
       "      <td>13,388</td>\n",
       "      <td>51,116</td>\n",
       "      <td>13,339</td>\n",
       "      <td>31,371</td>\n",
       "      <td>11,911</td>\n",
       "      <td>50,773</td>\n",
       "      <td>11,109</td>\n",
       "      <td>44,653</td>\n",
       "    </tr>\n",
       "    <tr>\n",
       "      <th>1</th>\n",
       "      <td>종로구</td>\n",
       "      <td>소계</td>\n",
       "      <td>215</td>\n",
       "      <td>215</td>\n",
       "      <td>1,548</td>\n",
       "      <td>5,912</td>\n",
       "      <td>618</td>\n",
       "      <td>646</td>\n",
       "      <td>549</td>\n",
       "      <td>889</td>\n",
       "      <td>...</td>\n",
       "      <td>948</td>\n",
       "      <td>3,613</td>\n",
       "      <td>400</td>\n",
       "      <td>962</td>\n",
       "      <td>537</td>\n",
       "      <td>1,413</td>\n",
       "      <td>110</td>\n",
       "      <td>382</td>\n",
       "      <td>437</td>\n",
       "      <td>1,982</td>\n",
       "    </tr>\n",
       "    <tr>\n",
       "      <th>2</th>\n",
       "      <td>종로구</td>\n",
       "      <td>사직동</td>\n",
       "      <td>7</td>\n",
       "      <td>7</td>\n",
       "      <td>230</td>\n",
       "      <td>982</td>\n",
       "      <td>12</td>\n",
       "      <td>12</td>\n",
       "      <td>57</td>\n",
       "      <td>96</td>\n",
       "      <td>...</td>\n",
       "      <td>124</td>\n",
       "      <td>525</td>\n",
       "      <td>2</td>\n",
       "      <td>18</td>\n",
       "      <td>74</td>\n",
       "      <td>177</td>\n",
       "      <td>9</td>\n",
       "      <td>34</td>\n",
       "      <td>45</td>\n",
       "      <td>220</td>\n",
       "    </tr>\n",
       "    <tr>\n",
       "      <th>3</th>\n",
       "      <td>종로구</td>\n",
       "      <td>삼청동</td>\n",
       "      <td>5</td>\n",
       "      <td>5</td>\n",
       "      <td>42</td>\n",
       "      <td>145</td>\n",
       "      <td>4</td>\n",
       "      <td>4</td>\n",
       "      <td>9</td>\n",
       "      <td>10</td>\n",
       "      <td>...</td>\n",
       "      <td>66</td>\n",
       "      <td>243</td>\n",
       "      <td>2</td>\n",
       "      <td>3</td>\n",
       "      <td>3</td>\n",
       "      <td>8</td>\n",
       "      <td>-</td>\n",
       "      <td>-</td>\n",
       "      <td>7</td>\n",
       "      <td>33</td>\n",
       "    </tr>\n",
       "    <tr>\n",
       "      <th>4</th>\n",
       "      <td>종로구</td>\n",
       "      <td>부암동</td>\n",
       "      <td>22</td>\n",
       "      <td>22</td>\n",
       "      <td>26</td>\n",
       "      <td>100</td>\n",
       "      <td>9</td>\n",
       "      <td>9</td>\n",
       "      <td>17</td>\n",
       "      <td>26</td>\n",
       "      <td>...</td>\n",
       "      <td>24</td>\n",
       "      <td>62</td>\n",
       "      <td>3</td>\n",
       "      <td>6</td>\n",
       "      <td>7</td>\n",
       "      <td>23</td>\n",
       "      <td>16</td>\n",
       "      <td>59</td>\n",
       "      <td>3</td>\n",
       "      <td>15</td>\n",
       "    </tr>\n",
       "  </tbody>\n",
       "</table>\n",
       "<p>5 rows × 22 columns</p>\n",
       "</div>"
      ],
      "text/plain": [
       "   자치구    동 택시운송업(사업체수) 택시운송업(종사자수) 한식일반음식점업(사업체수) 한식일반음식점업(종사자수)  \\\n",
       "0   합계   합계      47,176      76,701         29,225        100,183   \n",
       "1  종로구   소계         215         215          1,548          5,912   \n",
       "2  종로구  사직동           7           7            230            982   \n",
       "3  종로구  삼청동           5           5             42            145   \n",
       "4  종로구  부암동          22          22             26            100   \n",
       "\n",
       "  용달화물자동차운송업(사업체수) 용달화물자동차운송업(종사자수) 부동산중개및대리업(사업체수) 부동산중개및대리업(종사자수)  ...  \\\n",
       "0           28,494           29,356          24,013          42,636  ...   \n",
       "1              618              646             549             889  ...   \n",
       "2               12               12              57              96  ...   \n",
       "3                4                4               9              10  ...   \n",
       "4                9                9              17              26  ...   \n",
       "\n",
       "  커피전문점(사업체수) 커피전문점(종사자수) 남녀용겉옷및셔츠도매업(사업체수) 남녀용겉옷및셔츠도매업(종사자수) 기타주점업(사업체수)  \\\n",
       "0      16,255      57,322            13,388            51,116      13,339   \n",
       "1         948       3,613               400               962         537   \n",
       "2         124         525                 2                18          74   \n",
       "3          66         243                 2                 3           3   \n",
       "4          24          62                 3                 6           7   \n",
       "\n",
       "  기타주점업(종사자수) 일반교과학원(사업체수) 일반교과학원(종사자수) 한식육류요리전문점(사업체수) 한식육류요리전문점(종사자수)  \n",
       "0      31,371       11,911       50,773          11,109          44,653  \n",
       "1       1,413          110          382             437           1,982  \n",
       "2         177            9           34              45             220  \n",
       "3           8            -            -               7              33  \n",
       "4          23           16           59               3              15  \n",
       "\n",
       "[5 rows x 22 columns]"
      ]
     },
     "execution_count": 10,
     "metadata": {},
     "output_type": "execute_result"
    }
   ],
   "source": [
    "# 구별 상권 데이터\n",
    "df_seoul_business.head()"
   ]
  },
  {
   "cell_type": "code",
   "execution_count": 11,
   "id": "01b9e8ba",
   "metadata": {
    "colab": {
     "base_uri": "https://localhost:8080/",
     "height": 250
    },
    "executionInfo": {
     "elapsed": 40,
     "status": "ok",
     "timestamp": 1666508908224,
     "user": {
      "displayName": "최가원",
      "userId": "06373414866148795583"
     },
     "user_tz": -540
    },
    "id": "01b9e8ba",
    "outputId": "5f7c37df-5b3d-4d4f-85ef-d3def59d9bee"
   },
   "outputs": [
    {
     "data": {
      "text/html": [
       "<div>\n",
       "<style scoped>\n",
       "    .dataframe tbody tr th:only-of-type {\n",
       "        vertical-align: middle;\n",
       "    }\n",
       "\n",
       "    .dataframe tbody tr th {\n",
       "        vertical-align: top;\n",
       "    }\n",
       "\n",
       "    .dataframe thead th {\n",
       "        text-align: right;\n",
       "    }\n",
       "</style>\n",
       "<table border=\"1\" class=\"dataframe\">\n",
       "  <thead>\n",
       "    <tr style=\"text-align: right;\">\n",
       "      <th></th>\n",
       "      <th>기간</th>\n",
       "      <th>자치구</th>\n",
       "      <th>세대</th>\n",
       "      <th>인구(계)</th>\n",
       "      <th>남자</th>\n",
       "      <th>여자</th>\n",
       "      <th>한국인(계)</th>\n",
       "      <th>한국인 남자</th>\n",
       "      <th>한국인 여자</th>\n",
       "      <th>등록외국인(계)</th>\n",
       "      <th>등록외국인 남자</th>\n",
       "      <th>등록외국인 여자</th>\n",
       "      <th>세대당인구</th>\n",
       "      <th>65세이상고령자</th>\n",
       "    </tr>\n",
       "  </thead>\n",
       "  <tbody>\n",
       "    <tr>\n",
       "      <th>0</th>\n",
       "      <td>2022.1/4</td>\n",
       "      <td>합계</td>\n",
       "      <td>4451444</td>\n",
       "      <td>9732617</td>\n",
       "      <td>4716704</td>\n",
       "      <td>5015913</td>\n",
       "      <td>9506778</td>\n",
       "      <td>4613910</td>\n",
       "      <td>4892868</td>\n",
       "      <td>225839</td>\n",
       "      <td>102794</td>\n",
       "      <td>123045</td>\n",
       "      <td>2.14</td>\n",
       "      <td>1628980</td>\n",
       "    </tr>\n",
       "    <tr>\n",
       "      <th>1</th>\n",
       "      <td>2022.1/4</td>\n",
       "      <td>종로구</td>\n",
       "      <td>73766</td>\n",
       "      <td>153684</td>\n",
       "      <td>74018</td>\n",
       "      <td>79666</td>\n",
       "      <td>144275</td>\n",
       "      <td>69911</td>\n",
       "      <td>74364</td>\n",
       "      <td>9409</td>\n",
       "      <td>4107</td>\n",
       "      <td>5302</td>\n",
       "      <td>1.96</td>\n",
       "      <td>28064</td>\n",
       "    </tr>\n",
       "    <tr>\n",
       "      <th>2</th>\n",
       "      <td>2022.1/4</td>\n",
       "      <td>중구</td>\n",
       "      <td>63767</td>\n",
       "      <td>131450</td>\n",
       "      <td>63869</td>\n",
       "      <td>67581</td>\n",
       "      <td>122173</td>\n",
       "      <td>59448</td>\n",
       "      <td>62725</td>\n",
       "      <td>9277</td>\n",
       "      <td>4421</td>\n",
       "      <td>4856</td>\n",
       "      <td>1.92</td>\n",
       "      <td>24742</td>\n",
       "    </tr>\n",
       "    <tr>\n",
       "      <th>3</th>\n",
       "      <td>2022.1/4</td>\n",
       "      <td>용산구</td>\n",
       "      <td>111207</td>\n",
       "      <td>236518</td>\n",
       "      <td>114571</td>\n",
       "      <td>121947</td>\n",
       "      <td>222169</td>\n",
       "      <td>106735</td>\n",
       "      <td>115434</td>\n",
       "      <td>14349</td>\n",
       "      <td>7836</td>\n",
       "      <td>6513</td>\n",
       "      <td>2.00</td>\n",
       "      <td>39461</td>\n",
       "    </tr>\n",
       "    <tr>\n",
       "      <th>4</th>\n",
       "      <td>2022.1/4</td>\n",
       "      <td>성동구</td>\n",
       "      <td>134533</td>\n",
       "      <td>291609</td>\n",
       "      <td>141662</td>\n",
       "      <td>149947</td>\n",
       "      <td>285073</td>\n",
       "      <td>138847</td>\n",
       "      <td>146226</td>\n",
       "      <td>6536</td>\n",
       "      <td>2815</td>\n",
       "      <td>3721</td>\n",
       "      <td>2.12</td>\n",
       "      <td>46896</td>\n",
       "    </tr>\n",
       "  </tbody>\n",
       "</table>\n",
       "</div>"
      ],
      "text/plain": [
       "         기간  자치구       세대    인구(계)       남자       여자   한국인(계)   한국인 남자  \\\n",
       "0  2022.1/4   합계  4451444  9732617  4716704  5015913  9506778  4613910   \n",
       "1  2022.1/4  종로구    73766   153684    74018    79666   144275    69911   \n",
       "2  2022.1/4   중구    63767   131450    63869    67581   122173    59448   \n",
       "3  2022.1/4  용산구   111207   236518   114571   121947   222169   106735   \n",
       "4  2022.1/4  성동구   134533   291609   141662   149947   285073   138847   \n",
       "\n",
       "    한국인 여자  등록외국인(계)  등록외국인 남자  등록외국인 여자  세대당인구  65세이상고령자  \n",
       "0  4892868    225839    102794    123045   2.14   1628980  \n",
       "1    74364      9409      4107      5302   1.96     28064  \n",
       "2    62725      9277      4421      4856   1.92     24742  \n",
       "3   115434     14349      7836      6513   2.00     39461  \n",
       "4   146226      6536      2815      3721   2.12     46896  "
      ]
     },
     "execution_count": 11,
     "metadata": {},
     "output_type": "execute_result"
    }
   ],
   "source": [
    "# 구별 등록 인구 데이터\n",
    "df_seoul_people.head()"
   ]
  },
  {
   "cell_type": "code",
   "execution_count": 12,
   "id": "dd6272cf",
   "metadata": {
    "colab": {
     "base_uri": "https://localhost:8080/"
    },
    "executionInfo": {
     "elapsed": 36,
     "status": "ok",
     "timestamp": 1666508908225,
     "user": {
      "displayName": "최가원",
      "userId": "06373414866148795583"
     },
     "user_tz": -540
    },
    "id": "dd6272cf",
    "outputId": "b83f2165-4cb9-4931-bd66-b5d527efca12"
   },
   "outputs": [
    {
     "data": {
      "text/plain": [
       "(26, 14)"
      ]
     },
     "execution_count": 12,
     "metadata": {},
     "output_type": "execute_result"
    }
   ],
   "source": [
    "# 구별 등록 인구 데이터\n",
    "df_seoul_people.shape"
   ]
  },
  {
   "cell_type": "code",
   "execution_count": 13,
   "id": "7abd20a2",
   "metadata": {
    "colab": {
     "base_uri": "https://localhost:8080/"
    },
    "executionInfo": {
     "elapsed": 7,
     "status": "ok",
     "timestamp": 1666508913854,
     "user": {
      "displayName": "최가원",
      "userId": "06373414866148795583"
     },
     "user_tz": -540
    },
    "id": "7abd20a2",
    "outputId": "6b422082-78ad-4ccc-ccd6-df8804573b2f"
   },
   "outputs": [
    {
     "data": {
      "text/plain": [
       "(449, 22)"
      ]
     },
     "execution_count": 13,
     "metadata": {},
     "output_type": "execute_result"
    }
   ],
   "source": [
    "# 구별 상권 데이터\n",
    "df_seoul_business.shape"
   ]
  },
  {
   "cell_type": "code",
   "execution_count": 14,
   "id": "cf9b84a8",
   "metadata": {
    "colab": {
     "base_uri": "https://localhost:8080/"
    },
    "executionInfo": {
     "elapsed": 37,
     "status": "ok",
     "timestamp": 1666508914245,
     "user": {
      "displayName": "최가원",
      "userId": "06373414866148795583"
     },
     "user_tz": -540
    },
    "id": "cf9b84a8",
    "outputId": "0f02b964-d3cb-4138-f867-d3435eca9561"
   },
   "outputs": [
    {
     "data": {
      "text/plain": [
       "(25, 7)"
      ]
     },
     "execution_count": 14,
     "metadata": {},
     "output_type": "execute_result"
    }
   ],
   "source": [
    "# 버스 정류장 데이터\n",
    "df_seoul_bus_station.shape"
   ]
  },
  {
   "cell_type": "code",
   "execution_count": 15,
   "id": "ec636f3c",
   "metadata": {
    "colab": {
     "base_uri": "https://localhost:8080/"
    },
    "executionInfo": {
     "elapsed": 36,
     "status": "ok",
     "timestamp": 1666508914248,
     "user": {
      "displayName": "최가원",
      "userId": "06373414866148795583"
     },
     "user_tz": -540
    },
    "id": "ec636f3c",
    "outputId": "6d05ea98-6bbc-4e27-e1b6-fd013300d002"
   },
   "outputs": [
    {
     "data": {
      "text/plain": [
       "(10655895, 10)"
      ]
     },
     "execution_count": 15,
     "metadata": {},
     "output_type": "execute_result"
    }
   ],
   "source": [
    "# 유동인구 데이터\n",
    "df_seoul_moving.shape"
   ]
  },
  {
   "cell_type": "code",
   "execution_count": 16,
   "id": "05735458",
   "metadata": {
    "executionInfo": {
     "elapsed": 27,
     "status": "ok",
     "timestamp": 1666508914251,
     "user": {
      "displayName": "최가원",
      "userId": "06373414866148795583"
     },
     "user_tz": -540
    },
    "id": "05735458"
   },
   "outputs": [],
   "source": [
    "df= pd.DataFrame()"
   ]
  },
  {
   "cell_type": "code",
   "execution_count": 17,
   "id": "9cc8bb00",
   "metadata": {
    "executionInfo": {
     "elapsed": 28,
     "status": "ok",
     "timestamp": 1666508914253,
     "user": {
      "displayName": "최가원",
      "userId": "06373414866148795583"
     },
     "user_tz": -540
    },
    "id": "9cc8bb00"
   },
   "outputs": [],
   "source": [
    "df= pd.DataFrame()\n",
    "# standard - 구코드\n",
    "df = pd.merge(standard,df_seoul_people,how='inner', on='자치구')\n",
    "df = pd.merge(df,df_seoul_business,how='inner', on='자치구')\n",
    "df = pd.merge(df,df_seoul_bus_station,how='inner', on='자치구')\n",
    "# df = pd.merge(df,df_seoul_moving,how='inner', on='도착 시군구 코드')"
   ]
  },
  {
   "cell_type": "code",
   "execution_count": 18,
   "id": "a50b9327",
   "metadata": {
    "colab": {
     "base_uri": "https://localhost:8080/",
     "height": 523
    },
    "executionInfo": {
     "elapsed": 30,
     "status": "ok",
     "timestamp": 1666508914256,
     "user": {
      "displayName": "최가원",
      "userId": "06373414866148795583"
     },
     "user_tz": -540
    },
    "id": "a50b9327",
    "outputId": "976ff78b-57bb-47b3-cba2-827199ac34e6",
    "scrolled": true
   },
   "outputs": [
    {
     "data": {
      "text/html": [
       "<div>\n",
       "<style scoped>\n",
       "    .dataframe tbody tr th:only-of-type {\n",
       "        vertical-align: middle;\n",
       "    }\n",
       "\n",
       "    .dataframe tbody tr th {\n",
       "        vertical-align: top;\n",
       "    }\n",
       "\n",
       "    .dataframe thead th {\n",
       "        text-align: right;\n",
       "    }\n",
       "</style>\n",
       "<table border=\"1\" class=\"dataframe\">\n",
       "  <thead>\n",
       "    <tr style=\"text-align: right;\">\n",
       "      <th></th>\n",
       "      <th>도착 시군구 코드</th>\n",
       "      <th>자치구</th>\n",
       "      <th>기간</th>\n",
       "      <th>세대</th>\n",
       "      <th>인구(계)</th>\n",
       "      <th>남자</th>\n",
       "      <th>여자</th>\n",
       "      <th>한국인(계)</th>\n",
       "      <th>한국인 남자</th>\n",
       "      <th>한국인 여자</th>\n",
       "      <th>...</th>\n",
       "      <th>일반교과학원(사업체수)</th>\n",
       "      <th>일반교과학원(종사자수)</th>\n",
       "      <th>한식육류요리전문점(사업체수)</th>\n",
       "      <th>한식육류요리전문점(종사자수)</th>\n",
       "      <th>정류장수</th>\n",
       "      <th>노선수</th>\n",
       "      <th>승차총승객수</th>\n",
       "      <th>하차총승객수</th>\n",
       "      <th>승차평균승객수</th>\n",
       "      <th>하차평균승객수</th>\n",
       "    </tr>\n",
       "  </thead>\n",
       "  <tbody>\n",
       "    <tr>\n",
       "      <th>443</th>\n",
       "      <td>11250</td>\n",
       "      <td>강동구</td>\n",
       "      <td>2022.1/4</td>\n",
       "      <td>201926</td>\n",
       "      <td>465097</td>\n",
       "      <td>227891</td>\n",
       "      <td>237206</td>\n",
       "      <td>461300</td>\n",
       "      <td>226203</td>\n",
       "      <td>235097</td>\n",
       "      <td>...</td>\n",
       "      <td>66</td>\n",
       "      <td>199</td>\n",
       "      <td>44</td>\n",
       "      <td>164</td>\n",
       "      <td>369</td>\n",
       "      <td>21</td>\n",
       "      <td>2890053</td>\n",
       "      <td>2830506</td>\n",
       "      <td>99.161194</td>\n",
       "      <td>97.118065</td>\n",
       "    </tr>\n",
       "    <tr>\n",
       "      <th>444</th>\n",
       "      <td>11250</td>\n",
       "      <td>강동구</td>\n",
       "      <td>2022.1/4</td>\n",
       "      <td>201926</td>\n",
       "      <td>465097</td>\n",
       "      <td>227891</td>\n",
       "      <td>237206</td>\n",
       "      <td>461300</td>\n",
       "      <td>226203</td>\n",
       "      <td>235097</td>\n",
       "      <td>...</td>\n",
       "      <td>35</td>\n",
       "      <td>90</td>\n",
       "      <td>24</td>\n",
       "      <td>101</td>\n",
       "      <td>369</td>\n",
       "      <td>21</td>\n",
       "      <td>2890053</td>\n",
       "      <td>2830506</td>\n",
       "      <td>99.161194</td>\n",
       "      <td>97.118065</td>\n",
       "    </tr>\n",
       "    <tr>\n",
       "      <th>445</th>\n",
       "      <td>11250</td>\n",
       "      <td>강동구</td>\n",
       "      <td>2022.1/4</td>\n",
       "      <td>201926</td>\n",
       "      <td>465097</td>\n",
       "      <td>227891</td>\n",
       "      <td>237206</td>\n",
       "      <td>461300</td>\n",
       "      <td>226203</td>\n",
       "      <td>235097</td>\n",
       "      <td>...</td>\n",
       "      <td>31</td>\n",
       "      <td>67</td>\n",
       "      <td>34</td>\n",
       "      <td>98</td>\n",
       "      <td>369</td>\n",
       "      <td>21</td>\n",
       "      <td>2890053</td>\n",
       "      <td>2830506</td>\n",
       "      <td>99.161194</td>\n",
       "      <td>97.118065</td>\n",
       "    </tr>\n",
       "    <tr>\n",
       "      <th>446</th>\n",
       "      <td>11250</td>\n",
       "      <td>강동구</td>\n",
       "      <td>2022.1/4</td>\n",
       "      <td>201926</td>\n",
       "      <td>465097</td>\n",
       "      <td>227891</td>\n",
       "      <td>237206</td>\n",
       "      <td>461300</td>\n",
       "      <td>226203</td>\n",
       "      <td>235097</td>\n",
       "      <td>...</td>\n",
       "      <td>24</td>\n",
       "      <td>42</td>\n",
       "      <td>69</td>\n",
       "      <td>245</td>\n",
       "      <td>369</td>\n",
       "      <td>21</td>\n",
       "      <td>2890053</td>\n",
       "      <td>2830506</td>\n",
       "      <td>99.161194</td>\n",
       "      <td>97.118065</td>\n",
       "    </tr>\n",
       "    <tr>\n",
       "      <th>447</th>\n",
       "      <td>11250</td>\n",
       "      <td>강동구</td>\n",
       "      <td>2022.1/4</td>\n",
       "      <td>201926</td>\n",
       "      <td>465097</td>\n",
       "      <td>227891</td>\n",
       "      <td>237206</td>\n",
       "      <td>461300</td>\n",
       "      <td>226203</td>\n",
       "      <td>235097</td>\n",
       "      <td>...</td>\n",
       "      <td>39</td>\n",
       "      <td>136</td>\n",
       "      <td>70</td>\n",
       "      <td>224</td>\n",
       "      <td>369</td>\n",
       "      <td>21</td>\n",
       "      <td>2890053</td>\n",
       "      <td>2830506</td>\n",
       "      <td>99.161194</td>\n",
       "      <td>97.118065</td>\n",
       "    </tr>\n",
       "  </tbody>\n",
       "</table>\n",
       "<p>5 rows × 42 columns</p>\n",
       "</div>"
      ],
      "text/plain": [
       "     도착 시군구 코드  자치구        기간      세대   인구(계)      남자      여자  한국인(계)  한국인 남자  \\\n",
       "443      11250  강동구  2022.1/4  201926  465097  227891  237206  461300  226203   \n",
       "444      11250  강동구  2022.1/4  201926  465097  227891  237206  461300  226203   \n",
       "445      11250  강동구  2022.1/4  201926  465097  227891  237206  461300  226203   \n",
       "446      11250  강동구  2022.1/4  201926  465097  227891  237206  461300  226203   \n",
       "447      11250  강동구  2022.1/4  201926  465097  227891  237206  461300  226203   \n",
       "\n",
       "     한국인 여자  ...  일반교과학원(사업체수)  일반교과학원(종사자수)  한식육류요리전문점(사업체수)  \\\n",
       "443  235097  ...            66           199               44   \n",
       "444  235097  ...            35            90               24   \n",
       "445  235097  ...            31            67               34   \n",
       "446  235097  ...            24            42               69   \n",
       "447  235097  ...            39           136               70   \n",
       "\n",
       "     한식육류요리전문점(종사자수)  정류장수 노선수   승차총승객수   하차총승객수    승차평균승객수    하차평균승객수  \n",
       "443              164   369  21  2890053  2830506  99.161194  97.118065  \n",
       "444              101   369  21  2890053  2830506  99.161194  97.118065  \n",
       "445               98   369  21  2890053  2830506  99.161194  97.118065  \n",
       "446              245   369  21  2890053  2830506  99.161194  97.118065  \n",
       "447              224   369  21  2890053  2830506  99.161194  97.118065  \n",
       "\n",
       "[5 rows x 42 columns]"
      ]
     },
     "execution_count": 18,
     "metadata": {},
     "output_type": "execute_result"
    }
   ],
   "source": [
    "df.tail()"
   ]
  },
  {
   "cell_type": "code",
   "execution_count": 19,
   "id": "c20ce89a",
   "metadata": {
    "colab": {
     "base_uri": "https://localhost:8080/"
    },
    "executionInfo": {
     "elapsed": 11,
     "status": "ok",
     "timestamp": 1666508920116,
     "user": {
      "displayName": "최가원",
      "userId": "06373414866148795583"
     },
     "user_tz": -540
    },
    "id": "c20ce89a",
    "outputId": "d0bb91b7-bfc5-43d7-ca9f-42e22fd06968"
   },
   "outputs": [
    {
     "data": {
      "text/plain": [
       "(448, 42)"
      ]
     },
     "execution_count": 19,
     "metadata": {},
     "output_type": "execute_result"
    }
   ],
   "source": [
    "df.shape"
   ]
  },
  {
   "cell_type": "code",
   "execution_count": 20,
   "id": "6407480e",
   "metadata": {
    "executionInfo": {
     "elapsed": 2,
     "status": "ok",
     "timestamp": 1666508924689,
     "user": {
      "displayName": "최가원",
      "userId": "06373414866148795583"
     },
     "user_tz": -540
    },
    "id": "6407480e"
   },
   "outputs": [],
   "source": [
    "# df_seoul_moving.columns"
   ]
  },
  {
   "cell_type": "code",
   "execution_count": 21,
   "id": "5a8f3ec2",
   "metadata": {
    "colab": {
     "base_uri": "https://localhost:8080/"
    },
    "executionInfo": {
     "elapsed": 420,
     "status": "ok",
     "timestamp": 1666508927321,
     "user": {
      "displayName": "최가원",
      "userId": "06373414866148795583"
     },
     "user_tz": -540
    },
    "id": "5a8f3ec2",
    "outputId": "d4f1b240-ea6d-4653-aee7-271c5d0b3bc0"
   },
   "outputs": [
    {
     "data": {
      "text/plain": [
       "11230    554203\n",
       "11220    500442\n",
       "11190    495583\n",
       "11020    485934\n",
       "11140    480338\n",
       "11010    477507\n",
       "11240    467812\n",
       "11080    458227\n",
       "11060    454757\n",
       "11040    453388\n",
       "11030    440210\n",
       "11200    428941\n",
       "11050    428541\n",
       "11130    424127\n",
       "11210    423267\n",
       "11160    420394\n",
       "11110    418662\n",
       "11170    386380\n",
       "11070    381666\n",
       "11120    367919\n",
       "11250    367581\n",
       "11150    363495\n",
       "11090    360967\n",
       "11100    320805\n",
       "11180    294749\n",
       "Name: 도착 시군구 코드, dtype: int64"
      ]
     },
     "execution_count": 21,
     "metadata": {},
     "output_type": "execute_result"
    }
   ],
   "source": [
    "df_seoul_moving['도착 시군구 코드'].value_counts()"
   ]
  },
  {
   "cell_type": "code",
   "execution_count": 22,
   "id": "2b87fb82",
   "metadata": {
    "colab": {
     "base_uri": "https://localhost:8080/"
    },
    "executionInfo": {
     "elapsed": 22,
     "status": "ok",
     "timestamp": 1666508927324,
     "user": {
      "displayName": "최가원",
      "userId": "06373414866148795583"
     },
     "user_tz": -540
    },
    "id": "2b87fb82",
    "outputId": "b39adfa8-605b-4478-8adc-9036f3ee496d"
   },
   "outputs": [
    {
     "data": {
      "text/plain": [
       "array([11010, 11020, 11030, 11040, 11050, 11060, 11070, 11080, 11090,\n",
       "       11100, 11110, 11120, 11130, 11140, 11150, 11160, 11170, 11180,\n",
       "       11190, 11200, 11210, 11220, 11230, 11240, 11250])"
      ]
     },
     "execution_count": 22,
     "metadata": {},
     "output_type": "execute_result"
    }
   ],
   "source": [
    "df_seoul_moving['도착 시군구 코드'].unique()"
   ]
  },
  {
   "cell_type": "code",
   "execution_count": 23,
   "id": "7fde155a",
   "metadata": {
    "executionInfo": {
     "elapsed": 6,
     "status": "ok",
     "timestamp": 1666508930771,
     "user": {
      "displayName": "최가원",
      "userId": "06373414866148795583"
     },
     "user_tz": -540
    },
    "id": "7fde155a"
   },
   "outputs": [],
   "source": [
    "# https://www.delftstack.com/ko/howto/python-pandas/split-pandas-dataframe/#sample%25EB%25A9%2594%25EC%2584%259C%25EB%2593%259C%25EB%25A5%25BC-%25EC%2582%25AC%25EC%259A%25A9%25ED%2595%2598%25EC%2597%25AC-dataframe-%25EB%25B6%2584%25ED%2595%25A0"
   ]
  },
  {
   "cell_type": "code",
   "execution_count": 24,
   "id": "848f86c8",
   "metadata": {
    "executionInfo": {
     "elapsed": 301,
     "status": "ok",
     "timestamp": 1666508936941,
     "user": {
      "displayName": "최가원",
      "userId": "06373414866148795583"
     },
     "user_tz": -540
    },
    "id": "848f86c8"
   },
   "outputs": [],
   "source": [
    "samples= df_seoul_moving.groupby(df_seoul_moving['도착 시군구 코드'])"
   ]
  },
  {
   "cell_type": "code",
   "execution_count": 25,
   "id": "e311983e",
   "metadata": {
    "executionInfo": {
     "elapsed": 890,
     "status": "ok",
     "timestamp": 1666508940560,
     "user": {
      "displayName": "최가원",
      "userId": "06373414866148795583"
     },
     "user_tz": -540
    },
    "id": "e311983e"
   },
   "outputs": [],
   "source": [
    "moving1= samples.get_group(11010)"
   ]
  },
  {
   "cell_type": "code",
   "execution_count": 26,
   "id": "b8be2fa5",
   "metadata": {
    "executionInfo": {
     "elapsed": 673,
     "status": "ok",
     "timestamp": 1666508941509,
     "user": {
      "displayName": "최가원",
      "userId": "06373414866148795583"
     },
     "user_tz": -540
    },
    "id": "b8be2fa5"
   },
   "outputs": [],
   "source": [
    "# 총 25개\n",
    "moving2= samples.get_group(11020)\n",
    "moving3= samples.get_group(11030)\n",
    "moving4= samples.get_group(11040)\n",
    "moving5= samples.get_group(11050)\n",
    "moving6= samples.get_group(11060)\n",
    "moving7= samples.get_group(11070)\n",
    "moving8= samples.get_group(11080)\n",
    "moving9= samples.get_group(11090)\n",
    "moving10= samples.get_group(11100)\n",
    "\n",
    "moving11= samples.get_group(11110)\n",
    "moving12= samples.get_group(11120)\n",
    "moving13= samples.get_group(11130)\n",
    "moving14= samples.get_group(11140)\n",
    "moving15= samples.get_group(11150)\n",
    "moving16= samples.get_group(11160)\n",
    "moving17= samples.get_group(11170)\n",
    "moving18= samples.get_group(11180)\n",
    "moving19= samples.get_group(11190)\n",
    "moving20= samples.get_group(11200)\n",
    "\n",
    "moving21= samples.get_group(11210)\n",
    "moving22= samples.get_group(11220)\n",
    "moving23= samples.get_group(11230)\n",
    "moving24= samples.get_group(11240)\n",
    "moving25= samples.get_group(11250)"
   ]
  },
  {
   "cell_type": "code",
   "execution_count": 27,
   "id": "2d0ba4aa",
   "metadata": {
    "colab": {
     "base_uri": "https://localhost:8080/",
     "height": 206
    },
    "executionInfo": {
     "elapsed": 301,
     "status": "ok",
     "timestamp": 1666508947975,
     "user": {
      "displayName": "최가원",
      "userId": "06373414866148795583"
     },
     "user_tz": -540
    },
    "id": "2d0ba4aa",
    "outputId": "89de4eab-7c59-4464-c46e-0ccffcdd6d75"
   },
   "outputs": [
    {
     "data": {
      "text/html": [
       "<div>\n",
       "<style scoped>\n",
       "    .dataframe tbody tr th:only-of-type {\n",
       "        vertical-align: middle;\n",
       "    }\n",
       "\n",
       "    .dataframe tbody tr th {\n",
       "        vertical-align: top;\n",
       "    }\n",
       "\n",
       "    .dataframe thead th {\n",
       "        text-align: right;\n",
       "    }\n",
       "</style>\n",
       "<table border=\"1\" class=\"dataframe\">\n",
       "  <thead>\n",
       "    <tr style=\"text-align: right;\">\n",
       "      <th></th>\n",
       "      <th>대상연월</th>\n",
       "      <th>요일</th>\n",
       "      <th>도착시간</th>\n",
       "      <th>출발 시군구 코드</th>\n",
       "      <th>도착 시군구 코드</th>\n",
       "      <th>성별</th>\n",
       "      <th>나이</th>\n",
       "      <th>이동유형</th>\n",
       "      <th>평균 이동 시간(분)</th>\n",
       "      <th>이동인구(합)</th>\n",
       "    </tr>\n",
       "  </thead>\n",
       "  <tbody>\n",
       "    <tr>\n",
       "      <th>0</th>\n",
       "      <td>202204</td>\n",
       "      <td>일</td>\n",
       "      <td>0</td>\n",
       "      <td>11010</td>\n",
       "      <td>11010</td>\n",
       "      <td>F</td>\n",
       "      <td>0</td>\n",
       "      <td>EE</td>\n",
       "      <td>10</td>\n",
       "      <td>28.02</td>\n",
       "    </tr>\n",
       "    <tr>\n",
       "      <th>1</th>\n",
       "      <td>202204</td>\n",
       "      <td>일</td>\n",
       "      <td>0</td>\n",
       "      <td>11010</td>\n",
       "      <td>11010</td>\n",
       "      <td>F</td>\n",
       "      <td>0</td>\n",
       "      <td>EH</td>\n",
       "      <td>10</td>\n",
       "      <td>27.52</td>\n",
       "    </tr>\n",
       "    <tr>\n",
       "      <th>2</th>\n",
       "      <td>202204</td>\n",
       "      <td>일</td>\n",
       "      <td>0</td>\n",
       "      <td>11010</td>\n",
       "      <td>11010</td>\n",
       "      <td>F</td>\n",
       "      <td>0</td>\n",
       "      <td>HE</td>\n",
       "      <td>10</td>\n",
       "      <td>27.83</td>\n",
       "    </tr>\n",
       "    <tr>\n",
       "      <th>3</th>\n",
       "      <td>202204</td>\n",
       "      <td>일</td>\n",
       "      <td>0</td>\n",
       "      <td>11010</td>\n",
       "      <td>11010</td>\n",
       "      <td>F</td>\n",
       "      <td>10</td>\n",
       "      <td>HW</td>\n",
       "      <td>10</td>\n",
       "      <td>6.05</td>\n",
       "    </tr>\n",
       "    <tr>\n",
       "      <th>4</th>\n",
       "      <td>202204</td>\n",
       "      <td>일</td>\n",
       "      <td>0</td>\n",
       "      <td>11010</td>\n",
       "      <td>11010</td>\n",
       "      <td>F</td>\n",
       "      <td>10</td>\n",
       "      <td>EH</td>\n",
       "      <td>90</td>\n",
       "      <td>5.95</td>\n",
       "    </tr>\n",
       "  </tbody>\n",
       "</table>\n",
       "</div>"
      ],
      "text/plain": [
       "     대상연월 요일  도착시간  출발 시군구 코드  도착 시군구 코드 성별  나이 이동유형  평균 이동 시간(분)  이동인구(합)\n",
       "0  202204  일     0      11010      11010  F   0   EE           10    28.02\n",
       "1  202204  일     0      11010      11010  F   0   EH           10    27.52\n",
       "2  202204  일     0      11010      11010  F   0   HE           10    27.83\n",
       "3  202204  일     0      11010      11010  F  10   HW           10     6.05\n",
       "4  202204  일     0      11010      11010  F  10   EH           90     5.95"
      ]
     },
     "execution_count": 27,
     "metadata": {},
     "output_type": "execute_result"
    }
   ],
   "source": [
    "moving1.head()"
   ]
  },
  {
   "cell_type": "code",
   "execution_count": 28,
   "id": "5f807660",
   "metadata": {
    "colab": {
     "base_uri": "https://localhost:8080/"
    },
    "executionInfo": {
     "elapsed": 5,
     "status": "ok",
     "timestamp": 1666508948282,
     "user": {
      "displayName": "최가원",
      "userId": "06373414866148795583"
     },
     "user_tz": -540
    },
    "id": "5f807660",
    "outputId": "9cf87be9-de82-488f-b65f-014fe3d877f6"
   },
   "outputs": [
    {
     "data": {
      "text/plain": [
       "(477507, 10)"
      ]
     },
     "execution_count": 28,
     "metadata": {},
     "output_type": "execute_result"
    }
   ],
   "source": [
    "moving1.shape"
   ]
  },
  {
   "cell_type": "code",
   "execution_count": 29,
   "id": "f4083e15",
   "metadata": {
    "executionInfo": {
     "elapsed": 329,
     "status": "ok",
     "timestamp": 1666509015298,
     "user": {
      "displayName": "최가원",
      "userId": "06373414866148795583"
     },
     "user_tz": -540
    },
    "id": "f4083e15"
   },
   "outputs": [],
   "source": [
    "df= pd.DataFrame()\n",
    "\n",
    "df = pd.merge(standard,df_seoul_people,how='inner', on='자치구')\n",
    "df = pd.merge(df,df_seoul_business,how='inner', on='자치구')\n",
    "df = pd.merge(df,df_seoul_bus_station,how='inner', on='자치구')\n",
    "# df = pd.merge(df,df_seoul_moving,how='inner', on='도착 시군구 코드')"
   ]
  },
  {
   "cell_type": "code",
   "execution_count": 30,
   "id": "47e5f7b9",
   "metadata": {
    "colab": {
     "base_uri": "https://localhost:8080/"
    },
    "executionInfo": {
     "elapsed": 17,
     "status": "ok",
     "timestamp": 1666509016021,
     "user": {
      "displayName": "최가원",
      "userId": "06373414866148795583"
     },
     "user_tz": -540
    },
    "id": "47e5f7b9",
    "outputId": "dc578023-1ca4-41af-91ab-55a3bf1dfa8a"
   },
   "outputs": [
    {
     "data": {
      "text/plain": [
       "(448, 42)"
      ]
     },
     "execution_count": 30,
     "metadata": {},
     "output_type": "execute_result"
    }
   ],
   "source": [
    "df.shape"
   ]
  },
  {
   "cell_type": "code",
   "execution_count": 31,
   "id": "c8f4fc4b",
   "metadata": {
    "executionInfo": {
     "elapsed": 15,
     "status": "ok",
     "timestamp": 1666509016023,
     "user": {
      "displayName": "최가원",
      "userId": "06373414866148795583"
     },
     "user_tz": -540
    },
    "id": "c8f4fc4b"
   },
   "outputs": [],
   "source": [
    "# df_seoul_moving 자치구별로 쪼개서 merge (ram 용량 이슈)"
   ]
  },
  {
   "cell_type": "code",
   "execution_count": 32,
   "id": "d350b886",
   "metadata": {
    "executionInfo": {
     "elapsed": 3618,
     "status": "ok",
     "timestamp": 1666509019628,
     "user": {
      "displayName": "최가원",
      "userId": "06373414866148795583"
     },
     "user_tz": -540
    },
    "id": "d350b886"
   },
   "outputs": [],
   "source": [
    "df = pd.merge(df,moving1,how='inner', on='도착 시군구 코드')\n",
    "# Unable to allocate 23.1 GiB for an array with shape (16, 193545117) and data type int64"
   ]
  },
  {
   "cell_type": "code",
   "execution_count": 33,
   "id": "3afb7569",
   "metadata": {
    "colab": {
     "base_uri": "https://localhost:8080/"
    },
    "executionInfo": {
     "elapsed": 30,
     "status": "ok",
     "timestamp": 1666509019630,
     "user": {
      "displayName": "최가원",
      "userId": "06373414866148795583"
     },
     "user_tz": -540
    },
    "id": "3afb7569",
    "outputId": "69a78714-c6ae-4438-d95e-f9b16bb86f82"
   },
   "outputs": [
    {
     "data": {
      "text/plain": [
       "(8595126, 51)"
      ]
     },
     "execution_count": 33,
     "metadata": {},
     "output_type": "execute_result"
    }
   ],
   "source": [
    "df.shape"
   ]
  },
  {
   "cell_type": "code",
   "execution_count": 34,
   "id": "ae7d1ddc",
   "metadata": {
    "executionInfo": {
     "elapsed": 1383,
     "status": "ok",
     "timestamp": 1666509020998,
     "user": {
      "displayName": "최가원",
      "userId": "06373414866148795583"
     },
     "user_tz": -540
    },
    "id": "ae7d1ddc"
   },
   "outputs": [],
   "source": [
    "df = pd.concat([df, moving23], ignore_index=True)"
   ]
  },
  {
   "cell_type": "code",
   "execution_count": 35,
   "id": "cfc107b8",
   "metadata": {
    "colab": {
     "base_uri": "https://localhost:8080/"
    },
    "executionInfo": {
     "elapsed": 19,
     "status": "ok",
     "timestamp": 1666509021000,
     "user": {
      "displayName": "최가원",
      "userId": "06373414866148795583"
     },
     "user_tz": -540
    },
    "id": "cfc107b8",
    "outputId": "f0fbb417-d77a-4ab5-fb81-dc1a25af9e18"
   },
   "outputs": [
    {
     "data": {
      "text/plain": [
       "(9149329, 51)"
      ]
     },
     "execution_count": 35,
     "metadata": {},
     "output_type": "execute_result"
    }
   ],
   "source": [
    "df.shape"
   ]
  },
  {
   "cell_type": "code",
   "execution_count": 36,
   "id": "b076ce78",
   "metadata": {
    "executionInfo": {
     "elapsed": 2413,
     "status": "ok",
     "timestamp": 1666509035151,
     "user": {
      "displayName": "최가원",
      "userId": "06373414866148795583"
     },
     "user_tz": -540
    },
    "id": "b076ce78"
   },
   "outputs": [],
   "source": [
    "df = pd.concat([df, moving2], ignore_index=True)"
   ]
  },
  {
   "cell_type": "code",
   "execution_count": 37,
   "id": "ffff2dd7",
   "metadata": {
    "colab": {
     "base_uri": "https://localhost:8080/"
    },
    "executionInfo": {
     "elapsed": 19,
     "status": "ok",
     "timestamp": 1666509035153,
     "user": {
      "displayName": "최가원",
      "userId": "06373414866148795583"
     },
     "user_tz": -540
    },
    "id": "ffff2dd7",
    "outputId": "89eec285-f59d-48a5-bdc5-1cc3d5c46647"
   },
   "outputs": [
    {
     "data": {
      "text/plain": [
       "(9635263, 51)"
      ]
     },
     "execution_count": 37,
     "metadata": {},
     "output_type": "execute_result"
    }
   ],
   "source": [
    "df.shape"
   ]
  },
  {
   "cell_type": "code",
   "execution_count": 38,
   "id": "3dbffdf1",
   "metadata": {
    "colab": {
     "base_uri": "https://localhost:8080/",
     "height": 488
    },
    "executionInfo": {
     "elapsed": 302,
     "status": "ok",
     "timestamp": 1666509040858,
     "user": {
      "displayName": "최가원",
      "userId": "06373414866148795583"
     },
     "user_tz": -540
    },
    "id": "3dbffdf1",
    "outputId": "3151a5eb-39e6-4941-8557-132710ac89af"
   },
   "outputs": [
    {
     "data": {
      "text/html": [
       "<div>\n",
       "<style scoped>\n",
       "    .dataframe tbody tr th:only-of-type {\n",
       "        vertical-align: middle;\n",
       "    }\n",
       "\n",
       "    .dataframe tbody tr th {\n",
       "        vertical-align: top;\n",
       "    }\n",
       "\n",
       "    .dataframe thead th {\n",
       "        text-align: right;\n",
       "    }\n",
       "</style>\n",
       "<table border=\"1\" class=\"dataframe\">\n",
       "  <thead>\n",
       "    <tr style=\"text-align: right;\">\n",
       "      <th></th>\n",
       "      <th>도착 시군구 코드</th>\n",
       "      <th>자치구</th>\n",
       "      <th>기간</th>\n",
       "      <th>세대</th>\n",
       "      <th>인구(계)</th>\n",
       "      <th>남자</th>\n",
       "      <th>여자</th>\n",
       "      <th>한국인(계)</th>\n",
       "      <th>한국인 남자</th>\n",
       "      <th>한국인 여자</th>\n",
       "      <th>...</th>\n",
       "      <th>하차평균승객수</th>\n",
       "      <th>대상연월</th>\n",
       "      <th>요일</th>\n",
       "      <th>도착시간</th>\n",
       "      <th>출발 시군구 코드</th>\n",
       "      <th>성별</th>\n",
       "      <th>나이</th>\n",
       "      <th>이동유형</th>\n",
       "      <th>평균 이동 시간(분)</th>\n",
       "      <th>이동인구(합)</th>\n",
       "    </tr>\n",
       "  </thead>\n",
       "  <tbody>\n",
       "    <tr>\n",
       "      <th>0</th>\n",
       "      <td>11010</td>\n",
       "      <td>종로구</td>\n",
       "      <td>2022.1/4</td>\n",
       "      <td>73766.0</td>\n",
       "      <td>153684.0</td>\n",
       "      <td>74018.0</td>\n",
       "      <td>79666.0</td>\n",
       "      <td>144275.0</td>\n",
       "      <td>69911.0</td>\n",
       "      <td>74364.0</td>\n",
       "      <td>...</td>\n",
       "      <td>125.534028</td>\n",
       "      <td>202204</td>\n",
       "      <td>일</td>\n",
       "      <td>0</td>\n",
       "      <td>11010</td>\n",
       "      <td>F</td>\n",
       "      <td>0</td>\n",
       "      <td>EE</td>\n",
       "      <td>10</td>\n",
       "      <td>28.02</td>\n",
       "    </tr>\n",
       "    <tr>\n",
       "      <th>1</th>\n",
       "      <td>11010</td>\n",
       "      <td>종로구</td>\n",
       "      <td>2022.1/4</td>\n",
       "      <td>73766.0</td>\n",
       "      <td>153684.0</td>\n",
       "      <td>74018.0</td>\n",
       "      <td>79666.0</td>\n",
       "      <td>144275.0</td>\n",
       "      <td>69911.0</td>\n",
       "      <td>74364.0</td>\n",
       "      <td>...</td>\n",
       "      <td>125.534028</td>\n",
       "      <td>202204</td>\n",
       "      <td>일</td>\n",
       "      <td>0</td>\n",
       "      <td>11010</td>\n",
       "      <td>F</td>\n",
       "      <td>0</td>\n",
       "      <td>EH</td>\n",
       "      <td>10</td>\n",
       "      <td>27.52</td>\n",
       "    </tr>\n",
       "    <tr>\n",
       "      <th>2</th>\n",
       "      <td>11010</td>\n",
       "      <td>종로구</td>\n",
       "      <td>2022.1/4</td>\n",
       "      <td>73766.0</td>\n",
       "      <td>153684.0</td>\n",
       "      <td>74018.0</td>\n",
       "      <td>79666.0</td>\n",
       "      <td>144275.0</td>\n",
       "      <td>69911.0</td>\n",
       "      <td>74364.0</td>\n",
       "      <td>...</td>\n",
       "      <td>125.534028</td>\n",
       "      <td>202204</td>\n",
       "      <td>일</td>\n",
       "      <td>0</td>\n",
       "      <td>11010</td>\n",
       "      <td>F</td>\n",
       "      <td>0</td>\n",
       "      <td>HE</td>\n",
       "      <td>10</td>\n",
       "      <td>27.83</td>\n",
       "    </tr>\n",
       "    <tr>\n",
       "      <th>3</th>\n",
       "      <td>11010</td>\n",
       "      <td>종로구</td>\n",
       "      <td>2022.1/4</td>\n",
       "      <td>73766.0</td>\n",
       "      <td>153684.0</td>\n",
       "      <td>74018.0</td>\n",
       "      <td>79666.0</td>\n",
       "      <td>144275.0</td>\n",
       "      <td>69911.0</td>\n",
       "      <td>74364.0</td>\n",
       "      <td>...</td>\n",
       "      <td>125.534028</td>\n",
       "      <td>202204</td>\n",
       "      <td>일</td>\n",
       "      <td>0</td>\n",
       "      <td>11010</td>\n",
       "      <td>F</td>\n",
       "      <td>10</td>\n",
       "      <td>HW</td>\n",
       "      <td>10</td>\n",
       "      <td>6.05</td>\n",
       "    </tr>\n",
       "    <tr>\n",
       "      <th>4</th>\n",
       "      <td>11010</td>\n",
       "      <td>종로구</td>\n",
       "      <td>2022.1/4</td>\n",
       "      <td>73766.0</td>\n",
       "      <td>153684.0</td>\n",
       "      <td>74018.0</td>\n",
       "      <td>79666.0</td>\n",
       "      <td>144275.0</td>\n",
       "      <td>69911.0</td>\n",
       "      <td>74364.0</td>\n",
       "      <td>...</td>\n",
       "      <td>125.534028</td>\n",
       "      <td>202204</td>\n",
       "      <td>일</td>\n",
       "      <td>0</td>\n",
       "      <td>11010</td>\n",
       "      <td>F</td>\n",
       "      <td>10</td>\n",
       "      <td>EH</td>\n",
       "      <td>90</td>\n",
       "      <td>5.95</td>\n",
       "    </tr>\n",
       "  </tbody>\n",
       "</table>\n",
       "<p>5 rows × 51 columns</p>\n",
       "</div>"
      ],
      "text/plain": [
       "   도착 시군구 코드  자치구        기간       세대     인구(계)       남자       여자    한국인(계)  \\\n",
       "0      11010  종로구  2022.1/4  73766.0  153684.0  74018.0  79666.0  144275.0   \n",
       "1      11010  종로구  2022.1/4  73766.0  153684.0  74018.0  79666.0  144275.0   \n",
       "2      11010  종로구  2022.1/4  73766.0  153684.0  74018.0  79666.0  144275.0   \n",
       "3      11010  종로구  2022.1/4  73766.0  153684.0  74018.0  79666.0  144275.0   \n",
       "4      11010  종로구  2022.1/4  73766.0  153684.0  74018.0  79666.0  144275.0   \n",
       "\n",
       "    한국인 남자   한국인 여자  ...     하차평균승객수    대상연월  요일  도착시간  출발 시군구 코드 성별  나이 이동유형  \\\n",
       "0  69911.0  74364.0  ...  125.534028  202204   일     0      11010  F   0   EE   \n",
       "1  69911.0  74364.0  ...  125.534028  202204   일     0      11010  F   0   EH   \n",
       "2  69911.0  74364.0  ...  125.534028  202204   일     0      11010  F   0   HE   \n",
       "3  69911.0  74364.0  ...  125.534028  202204   일     0      11010  F  10   HW   \n",
       "4  69911.0  74364.0  ...  125.534028  202204   일     0      11010  F  10   EH   \n",
       "\n",
       "  평균 이동 시간(분) 이동인구(합)  \n",
       "0          10   28.02  \n",
       "1          10   27.52  \n",
       "2          10   27.83  \n",
       "3          10    6.05  \n",
       "4          90    5.95  \n",
       "\n",
       "[5 rows x 51 columns]"
      ]
     },
     "execution_count": 38,
     "metadata": {},
     "output_type": "execute_result"
    }
   ],
   "source": [
    "df.head()"
   ]
  },
  {
   "cell_type": "code",
   "execution_count": 39,
   "id": "a746e1a1",
   "metadata": {
    "executionInfo": {
     "elapsed": 23974,
     "status": "ok",
     "timestamp": 1666509178688,
     "user": {
      "displayName": "최가원",
      "userId": "06373414866148795583"
     },
     "user_tz": -540
    },
    "id": "a746e1a1"
   },
   "outputs": [],
   "source": [
    "df = pd.concat([df, moving3], ignore_index=True)\n",
    "df = pd.concat([df, moving4], ignore_index=True)\n",
    "df = pd.concat([df, moving5], ignore_index=True)\n",
    "df = pd.concat([df, moving6], ignore_index=True)\n",
    "df = pd.concat([df, moving7], ignore_index=True)\n",
    "df = pd.concat([df, moving8], ignore_index=True)\n",
    "df = pd.concat([df, moving9], ignore_index=True)\n",
    "df = pd.concat([df, moving10], ignore_index=True)"
   ]
  },
  {
   "cell_type": "code",
   "execution_count": 40,
   "id": "dc4378fa",
   "metadata": {
    "executionInfo": {
     "elapsed": 36502,
     "status": "ok",
     "timestamp": 1666509219785,
     "user": {
      "displayName": "최가원",
      "userId": "06373414866148795583"
     },
     "user_tz": -540
    },
    "id": "dc4378fa"
   },
   "outputs": [],
   "source": [
    "df = pd.concat([df, moving11], ignore_index=True)\n",
    "df = pd.concat([df, moving12], ignore_index=True)\n",
    "df = pd.concat([df, moving13], ignore_index=True)\n",
    "df = pd.concat([df, moving14], ignore_index=True)\n",
    "df = pd.concat([df, moving15], ignore_index=True)\n",
    "df = pd.concat([df, moving16], ignore_index=True)\n",
    "df = pd.concat([df, moving17], ignore_index=True)\n",
    "df = pd.concat([df, moving18], ignore_index=True)\n",
    "df = pd.concat([df, moving19], ignore_index=True)\n",
    "df = pd.concat([df, moving20], ignore_index=True)\n"
   ]
  },
  {
   "cell_type": "code",
   "execution_count": 41,
   "id": "4f0576b0",
   "metadata": {
    "executionInfo": {
     "elapsed": 13601,
     "status": "ok",
     "timestamp": 1666509242516,
     "user": {
      "displayName": "최가원",
      "userId": "06373414866148795583"
     },
     "user_tz": -540
    },
    "id": "4f0576b0"
   },
   "outputs": [],
   "source": [
    "df = pd.concat([df, moving21], ignore_index=True)\n",
    "df = pd.concat([df, moving22], ignore_index=True)\n",
    "df = pd.concat([df, moving24], ignore_index=True)\n",
    "df = pd.concat([df, moving25], ignore_index=True)"
   ]
  },
  {
   "cell_type": "code",
   "execution_count": 42,
   "id": "f6f838d1",
   "metadata": {
    "colab": {
     "base_uri": "https://localhost:8080/"
    },
    "executionInfo": {
     "elapsed": 22,
     "status": "ok",
     "timestamp": 1666509242518,
     "user": {
      "displayName": "최가원",
      "userId": "06373414866148795583"
     },
     "user_tz": -540
    },
    "id": "f6f838d1",
    "outputId": "e6623809-c325-46af-dc6c-c8ec66219e2b"
   },
   "outputs": [
    {
     "data": {
      "text/plain": [
       "(18773514, 51)"
      ]
     },
     "execution_count": 42,
     "metadata": {},
     "output_type": "execute_result"
    }
   ],
   "source": [
    "df.shape"
   ]
  },
  {
   "cell_type": "code",
   "execution_count": 43,
   "id": "KTjQRXAgsRYl",
   "metadata": {
    "colab": {
     "base_uri": "https://localhost:8080/"
    },
    "executionInfo": {
     "elapsed": 7,
     "status": "ok",
     "timestamp": 1666509275539,
     "user": {
      "displayName": "최가원",
      "userId": "06373414866148795583"
     },
     "user_tz": -540
    },
    "id": "KTjQRXAgsRYl",
    "outputId": "19199796-94ab-4965-a139-93d6faef0839"
   },
   "outputs": [
    {
     "data": {
      "text/plain": [
       "(10655895, 10)"
      ]
     },
     "execution_count": 43,
     "metadata": {},
     "output_type": "execute_result"
    }
   ],
   "source": [
    "df_seoul_moving.shape"
   ]
  },
  {
   "cell_type": "code",
   "execution_count": 44,
   "id": "bdvkPJfmsewD",
   "metadata": {
    "colab": {
     "base_uri": "https://localhost:8080/",
     "height": 206
    },
    "executionInfo": {
     "elapsed": 6,
     "status": "ok",
     "timestamp": 1666509307808,
     "user": {
      "displayName": "최가원",
      "userId": "06373414866148795583"
     },
     "user_tz": -540
    },
    "id": "bdvkPJfmsewD",
    "outputId": "a30d719a-1662-468c-abc4-89c920fd85d3"
   },
   "outputs": [
    {
     "data": {
      "text/html": [
       "<div>\n",
       "<style scoped>\n",
       "    .dataframe tbody tr th:only-of-type {\n",
       "        vertical-align: middle;\n",
       "    }\n",
       "\n",
       "    .dataframe tbody tr th {\n",
       "        vertical-align: top;\n",
       "    }\n",
       "\n",
       "    .dataframe thead th {\n",
       "        text-align: right;\n",
       "    }\n",
       "</style>\n",
       "<table border=\"1\" class=\"dataframe\">\n",
       "  <thead>\n",
       "    <tr style=\"text-align: right;\">\n",
       "      <th></th>\n",
       "      <th>대상연월</th>\n",
       "      <th>요일</th>\n",
       "      <th>도착시간</th>\n",
       "      <th>출발 시군구 코드</th>\n",
       "      <th>도착 시군구 코드</th>\n",
       "      <th>성별</th>\n",
       "      <th>나이</th>\n",
       "      <th>이동유형</th>\n",
       "      <th>평균 이동 시간(분)</th>\n",
       "      <th>이동인구(합)</th>\n",
       "    </tr>\n",
       "  </thead>\n",
       "  <tbody>\n",
       "    <tr>\n",
       "      <th>0</th>\n",
       "      <td>202204</td>\n",
       "      <td>일</td>\n",
       "      <td>0</td>\n",
       "      <td>11010</td>\n",
       "      <td>11010</td>\n",
       "      <td>F</td>\n",
       "      <td>0</td>\n",
       "      <td>EE</td>\n",
       "      <td>10</td>\n",
       "      <td>28.02</td>\n",
       "    </tr>\n",
       "    <tr>\n",
       "      <th>1</th>\n",
       "      <td>202204</td>\n",
       "      <td>일</td>\n",
       "      <td>0</td>\n",
       "      <td>11010</td>\n",
       "      <td>11010</td>\n",
       "      <td>F</td>\n",
       "      <td>0</td>\n",
       "      <td>EH</td>\n",
       "      <td>10</td>\n",
       "      <td>27.52</td>\n",
       "    </tr>\n",
       "    <tr>\n",
       "      <th>2</th>\n",
       "      <td>202204</td>\n",
       "      <td>일</td>\n",
       "      <td>0</td>\n",
       "      <td>11010</td>\n",
       "      <td>11010</td>\n",
       "      <td>F</td>\n",
       "      <td>0</td>\n",
       "      <td>HE</td>\n",
       "      <td>10</td>\n",
       "      <td>27.83</td>\n",
       "    </tr>\n",
       "    <tr>\n",
       "      <th>3</th>\n",
       "      <td>202204</td>\n",
       "      <td>일</td>\n",
       "      <td>0</td>\n",
       "      <td>11010</td>\n",
       "      <td>11010</td>\n",
       "      <td>F</td>\n",
       "      <td>10</td>\n",
       "      <td>HW</td>\n",
       "      <td>10</td>\n",
       "      <td>6.05</td>\n",
       "    </tr>\n",
       "    <tr>\n",
       "      <th>4</th>\n",
       "      <td>202204</td>\n",
       "      <td>일</td>\n",
       "      <td>0</td>\n",
       "      <td>11010</td>\n",
       "      <td>11010</td>\n",
       "      <td>F</td>\n",
       "      <td>10</td>\n",
       "      <td>EH</td>\n",
       "      <td>90</td>\n",
       "      <td>5.95</td>\n",
       "    </tr>\n",
       "  </tbody>\n",
       "</table>\n",
       "</div>"
      ],
      "text/plain": [
       "     대상연월 요일  도착시간  출발 시군구 코드  도착 시군구 코드 성별  나이 이동유형  평균 이동 시간(분)  이동인구(합)\n",
       "0  202204  일     0      11010      11010  F   0   EE           10    28.02\n",
       "1  202204  일     0      11010      11010  F   0   EH           10    27.52\n",
       "2  202204  일     0      11010      11010  F   0   HE           10    27.83\n",
       "3  202204  일     0      11010      11010  F  10   HW           10     6.05\n",
       "4  202204  일     0      11010      11010  F  10   EH           90     5.95"
      ]
     },
     "execution_count": 44,
     "metadata": {},
     "output_type": "execute_result"
    }
   ],
   "source": [
    "df_seoul_moving.head()"
   ]
  },
  {
   "cell_type": "code",
   "execution_count": 45,
   "id": "d2a55e22",
   "metadata": {
    "colab": {
     "base_uri": "https://localhost:8080/",
     "height": 488
    },
    "executionInfo": {
     "elapsed": 328,
     "status": "ok",
     "timestamp": 1666509294614,
     "user": {
      "displayName": "최가원",
      "userId": "06373414866148795583"
     },
     "user_tz": -540
    },
    "id": "d2a55e22",
    "outputId": "5a00a795-ea4f-4145-94a9-750d8c9443de"
   },
   "outputs": [
    {
     "data": {
      "text/html": [
       "<div>\n",
       "<style scoped>\n",
       "    .dataframe tbody tr th:only-of-type {\n",
       "        vertical-align: middle;\n",
       "    }\n",
       "\n",
       "    .dataframe tbody tr th {\n",
       "        vertical-align: top;\n",
       "    }\n",
       "\n",
       "    .dataframe thead th {\n",
       "        text-align: right;\n",
       "    }\n",
       "</style>\n",
       "<table border=\"1\" class=\"dataframe\">\n",
       "  <thead>\n",
       "    <tr style=\"text-align: right;\">\n",
       "      <th></th>\n",
       "      <th>도착 시군구 코드</th>\n",
       "      <th>자치구</th>\n",
       "      <th>기간</th>\n",
       "      <th>세대</th>\n",
       "      <th>인구(계)</th>\n",
       "      <th>남자</th>\n",
       "      <th>여자</th>\n",
       "      <th>한국인(계)</th>\n",
       "      <th>한국인 남자</th>\n",
       "      <th>한국인 여자</th>\n",
       "      <th>...</th>\n",
       "      <th>하차평균승객수</th>\n",
       "      <th>대상연월</th>\n",
       "      <th>요일</th>\n",
       "      <th>도착시간</th>\n",
       "      <th>출발 시군구 코드</th>\n",
       "      <th>성별</th>\n",
       "      <th>나이</th>\n",
       "      <th>이동유형</th>\n",
       "      <th>평균 이동 시간(분)</th>\n",
       "      <th>이동인구(합)</th>\n",
       "    </tr>\n",
       "  </thead>\n",
       "  <tbody>\n",
       "    <tr>\n",
       "      <th>0</th>\n",
       "      <td>11010</td>\n",
       "      <td>종로구</td>\n",
       "      <td>2022.1/4</td>\n",
       "      <td>73766.0</td>\n",
       "      <td>153684.0</td>\n",
       "      <td>74018.0</td>\n",
       "      <td>79666.0</td>\n",
       "      <td>144275.0</td>\n",
       "      <td>69911.0</td>\n",
       "      <td>74364.0</td>\n",
       "      <td>...</td>\n",
       "      <td>125.534028</td>\n",
       "      <td>202204</td>\n",
       "      <td>일</td>\n",
       "      <td>0</td>\n",
       "      <td>11010</td>\n",
       "      <td>F</td>\n",
       "      <td>0</td>\n",
       "      <td>EE</td>\n",
       "      <td>10</td>\n",
       "      <td>28.02</td>\n",
       "    </tr>\n",
       "    <tr>\n",
       "      <th>1</th>\n",
       "      <td>11010</td>\n",
       "      <td>종로구</td>\n",
       "      <td>2022.1/4</td>\n",
       "      <td>73766.0</td>\n",
       "      <td>153684.0</td>\n",
       "      <td>74018.0</td>\n",
       "      <td>79666.0</td>\n",
       "      <td>144275.0</td>\n",
       "      <td>69911.0</td>\n",
       "      <td>74364.0</td>\n",
       "      <td>...</td>\n",
       "      <td>125.534028</td>\n",
       "      <td>202204</td>\n",
       "      <td>일</td>\n",
       "      <td>0</td>\n",
       "      <td>11010</td>\n",
       "      <td>F</td>\n",
       "      <td>0</td>\n",
       "      <td>EH</td>\n",
       "      <td>10</td>\n",
       "      <td>27.52</td>\n",
       "    </tr>\n",
       "    <tr>\n",
       "      <th>2</th>\n",
       "      <td>11010</td>\n",
       "      <td>종로구</td>\n",
       "      <td>2022.1/4</td>\n",
       "      <td>73766.0</td>\n",
       "      <td>153684.0</td>\n",
       "      <td>74018.0</td>\n",
       "      <td>79666.0</td>\n",
       "      <td>144275.0</td>\n",
       "      <td>69911.0</td>\n",
       "      <td>74364.0</td>\n",
       "      <td>...</td>\n",
       "      <td>125.534028</td>\n",
       "      <td>202204</td>\n",
       "      <td>일</td>\n",
       "      <td>0</td>\n",
       "      <td>11010</td>\n",
       "      <td>F</td>\n",
       "      <td>0</td>\n",
       "      <td>HE</td>\n",
       "      <td>10</td>\n",
       "      <td>27.83</td>\n",
       "    </tr>\n",
       "    <tr>\n",
       "      <th>3</th>\n",
       "      <td>11010</td>\n",
       "      <td>종로구</td>\n",
       "      <td>2022.1/4</td>\n",
       "      <td>73766.0</td>\n",
       "      <td>153684.0</td>\n",
       "      <td>74018.0</td>\n",
       "      <td>79666.0</td>\n",
       "      <td>144275.0</td>\n",
       "      <td>69911.0</td>\n",
       "      <td>74364.0</td>\n",
       "      <td>...</td>\n",
       "      <td>125.534028</td>\n",
       "      <td>202204</td>\n",
       "      <td>일</td>\n",
       "      <td>0</td>\n",
       "      <td>11010</td>\n",
       "      <td>F</td>\n",
       "      <td>10</td>\n",
       "      <td>HW</td>\n",
       "      <td>10</td>\n",
       "      <td>6.05</td>\n",
       "    </tr>\n",
       "    <tr>\n",
       "      <th>4</th>\n",
       "      <td>11010</td>\n",
       "      <td>종로구</td>\n",
       "      <td>2022.1/4</td>\n",
       "      <td>73766.0</td>\n",
       "      <td>153684.0</td>\n",
       "      <td>74018.0</td>\n",
       "      <td>79666.0</td>\n",
       "      <td>144275.0</td>\n",
       "      <td>69911.0</td>\n",
       "      <td>74364.0</td>\n",
       "      <td>...</td>\n",
       "      <td>125.534028</td>\n",
       "      <td>202204</td>\n",
       "      <td>일</td>\n",
       "      <td>0</td>\n",
       "      <td>11010</td>\n",
       "      <td>F</td>\n",
       "      <td>10</td>\n",
       "      <td>EH</td>\n",
       "      <td>90</td>\n",
       "      <td>5.95</td>\n",
       "    </tr>\n",
       "  </tbody>\n",
       "</table>\n",
       "<p>5 rows × 51 columns</p>\n",
       "</div>"
      ],
      "text/plain": [
       "   도착 시군구 코드  자치구        기간       세대     인구(계)       남자       여자    한국인(계)  \\\n",
       "0      11010  종로구  2022.1/4  73766.0  153684.0  74018.0  79666.0  144275.0   \n",
       "1      11010  종로구  2022.1/4  73766.0  153684.0  74018.0  79666.0  144275.0   \n",
       "2      11010  종로구  2022.1/4  73766.0  153684.0  74018.0  79666.0  144275.0   \n",
       "3      11010  종로구  2022.1/4  73766.0  153684.0  74018.0  79666.0  144275.0   \n",
       "4      11010  종로구  2022.1/4  73766.0  153684.0  74018.0  79666.0  144275.0   \n",
       "\n",
       "    한국인 남자   한국인 여자  ...     하차평균승객수    대상연월  요일  도착시간  출발 시군구 코드 성별  나이 이동유형  \\\n",
       "0  69911.0  74364.0  ...  125.534028  202204   일     0      11010  F   0   EE   \n",
       "1  69911.0  74364.0  ...  125.534028  202204   일     0      11010  F   0   EH   \n",
       "2  69911.0  74364.0  ...  125.534028  202204   일     0      11010  F   0   HE   \n",
       "3  69911.0  74364.0  ...  125.534028  202204   일     0      11010  F  10   HW   \n",
       "4  69911.0  74364.0  ...  125.534028  202204   일     0      11010  F  10   EH   \n",
       "\n",
       "  평균 이동 시간(분) 이동인구(합)  \n",
       "0          10   28.02  \n",
       "1          10   27.52  \n",
       "2          10   27.83  \n",
       "3          10    6.05  \n",
       "4          90    5.95  \n",
       "\n",
       "[5 rows x 51 columns]"
      ]
     },
     "execution_count": 45,
     "metadata": {},
     "output_type": "execute_result"
    }
   ],
   "source": [
    "df.head()"
   ]
  },
  {
   "cell_type": "code",
   "execution_count": 46,
   "id": "O6asBpNesDTe",
   "metadata": {
    "executionInfo": {
     "elapsed": 313292,
     "status": "ok",
     "timestamp": 1666509647820,
     "user": {
      "displayName": "최가원",
      "userId": "06373414866148795583"
     },
     "user_tz": -540
    },
    "id": "O6asBpNesDTe"
   },
   "outputs": [],
   "source": [
    "df.to_csv(\"total_df.csv\", index = False)"
   ]
  },
  {
   "cell_type": "code",
   "execution_count": 47,
   "id": "FZ8oYgmEsm46",
   "metadata": {
    "id": "FZ8oYgmEsm46"
   },
   "outputs": [
    {
     "name": "stderr",
     "output_type": "stream",
     "text": [
      "/var/folders/g8/gxj_9tnx19z2g9100vrzql0m0000gn/T/ipykernel_79256/2576802350.py:1: DtypeWarning: Columns (1,2,15,18,19,24,25,27,28,29,30,31,32,33,35) have mixed types. Specify dtype option on import or set low_memory=False.\n",
      "  df= pd.read_csv('total_df.csv', sep=\",\", encoding = 'UTF-8')\n"
     ]
    }
   ],
   "source": [
    "df= pd.read_csv('total_df.csv', sep=\",\", encoding = 'UTF-8')"
   ]
  },
  {
   "cell_type": "markdown",
   "id": "ca567b34",
   "metadata": {
    "id": "ca567b34"
   },
   "source": [
    "---"
   ]
  },
  {
   "cell_type": "markdown",
   "id": "b2edf769",
   "metadata": {
    "id": "b2edf769"
   },
   "source": [
    "## 1.가설 수립 \n",
    "+ 어떤 데이터를 label 데이터로 하실 건가요?\n",
    "\n",
    "? 정해진게 없나요? - 네 라벨을 개인및 조별로 고민하셔서 라벨데이터를 설정하시면 되겠습니다\n",
    "? 가설마다 라벨데이터가 달라도 상관없나요? 네 그렇습니다\n",
    "? 가설은 3개만 해야하나요? 그 이상 하셔도 무방합니다\n",
    "\n",
    "### 가설을 설정해 봅시다 (인당 최소 3개) - 미니프로젝트 진행의 편의상 가설은 이변량 분석을 염두에 두고 설정해 주세요"
   ]
  },
  {
   "cell_type": "markdown",
   "id": "b3d42e07",
   "metadata": {
    "id": "b3d42e07"
   },
   "source": [
    "* 가설 1"
   ]
  },
  {
   "cell_type": "markdown",
   "id": "4fd1db81",
   "metadata": {
    "id": "4fd1db81"
   },
   "source": [
    "* 가설 2"
   ]
  },
  {
   "cell_type": "markdown",
   "id": "e527bc75",
   "metadata": {
    "id": "e527bc75"
   },
   "source": [
    "* 가설 3"
   ]
  },
  {
   "cell_type": "markdown",
   "id": "6aa7b930",
   "metadata": {
    "id": "6aa7b930"
   },
   "source": [
    "## 2.단변량 분석\n",
    "\n",
    "+ 변수의 비즈니스 의미  \n",
    "\n",
    "+ 숫자? 범주?  \n",
    "\n",
    "+ 전처리 사항\n",
    "   - NaN 존재 여부 및 조치 방안  \n",
    "   - 가변수화 대상여부  \n",
    "   \n",
    "+ 기초통계량\n",
    "\n",
    "+ 분포  \n",
    "\n",
    "+ 위 정보로부터 파악한 내용(비즈니스!) 정리  \n",
    "\n",
    "+ 추가 분석해볼 사항 도출"
   ]
  },
  {
   "cell_type": "code",
   "execution_count": null,
   "id": "b62009a9",
   "metadata": {
    "id": "b62009a9"
   },
   "outputs": [],
   "source": [
    "# 시각화 한글폰트 설정\n",
    "import seaborn as sns\n",
    "import matplotlib.pyplot as plt\n",
    "\n",
    "plt.rc('font', family='nanum')\n",
    "sns.set(font=\"NanumGothicCoding\",#\"NanumGothicCoding\", \n",
    "        rc={\"axes.unicode_minus\":False}, # 마이너스 부호 깨짐 현상 해결\n",
    "        style='darkgrid')     "
   ]
  },
  {
   "cell_type": "markdown",
   "id": "39ef5d0f",
   "metadata": {
    "id": "39ef5d0f"
   },
   "source": [
    "### 1)\n"
   ]
  },
  {
   "cell_type": "markdown",
   "id": "a4e3ec6e",
   "metadata": {
    "id": "a4e3ec6e"
   },
   "source": [
    "### 2)"
   ]
  },
  {
   "cell_type": "markdown",
   "id": "a7193abc",
   "metadata": {
    "id": "a7193abc"
   },
   "source": [
    "### 3)"
   ]
  },
  {
   "cell_type": "markdown",
   "id": "ac81d719",
   "metadata": {
    "id": "ac81d719"
   },
   "source": [
    "## 3.이변량 분석\n",
    "\n",
    "* 자료의 종류에 맞게 X --> Y 에 대해서 그래프(시각화)와 가설검정(수치화)를 수행하고 결과를 평가합니다.\n",
    "\n",
    "* 가설검정시 다음의 항목을 참조하여 수행합니다.\n",
    "    * 유의수준 : 5%\n",
    "    * 숫자 --> 숫자 : 상관분석\n",
    "    * 범주 --> 범주 : 카이제곱검정\n",
    "    * 범주 --> 숫자 : t검정, 분산분석\n",
    "    * 숫자 --> 범주 : 로지스틱 회귀모형을 통해, 회귀계수의 P.value로 검정을 수행합니다.\n"
   ]
  },
  {
   "cell_type": "code",
   "execution_count": null,
   "id": "d4c9ece2",
   "metadata": {
    "id": "d4c9ece2"
   },
   "outputs": [],
   "source": [
    "target = "
   ]
  },
  {
   "cell_type": "markdown",
   "id": "a1ef2391",
   "metadata": {
    "id": "a1ef2391"
   },
   "source": [
    "### 1)"
   ]
  },
  {
   "cell_type": "markdown",
   "id": "9a7f6c08",
   "metadata": {
    "id": "9a7f6c08"
   },
   "source": [
    "### 2)"
   ]
  },
  {
   "cell_type": "markdown",
   "id": "3e09f869",
   "metadata": {
    "id": "3e09f869"
   },
   "source": [
    "### 3)"
   ]
  },
  {
   "cell_type": "markdown",
   "id": "1d3f065b",
   "metadata": {
    "id": "1d3f065b"
   },
   "source": [
    "### 상관계수를 구하고 HeatMap으로 시각화 후 나름의 분석을 해보세요.\n",
    "\n"
   ]
  },
  {
   "cell_type": "code",
   "execution_count": null,
   "id": "4e41b8d9",
   "metadata": {
    "id": "4e41b8d9"
   },
   "outputs": [],
   "source": [
    "# 아래에 실습코드를 작성하고 상관계수를 확인 및 시각화 합니다.\n",
    "import scipy.stats as spst\n",
    "\n",
    "spst.pearsonr(X,Y)"
   ]
  },
  {
   "cell_type": "code",
   "execution_count": null,
   "id": "269c049e",
   "metadata": {
    "id": "269c049e"
   },
   "outputs": [],
   "source": [
    "# 아래에 실습코드를 작성하고 상관계수를 확인 및 시각화 합니다.\n",
    "\n",
    "sns.heatmap(seoul_bus_station.corr(), annot = True)\n",
    "plt.show()"
   ]
  },
  {
   "cell_type": "code",
   "execution_count": null,
   "id": "100b24d7",
   "metadata": {
    "id": "100b24d7"
   },
   "outputs": [],
   "source": [
    "# 위 차트를 통해 알게된 사실을 정리해봅시다.\n",
    "# 1. \n",
    "# 2.\n",
    "# 3."
   ]
  },
  {
   "cell_type": "markdown",
   "id": "20e08293",
   "metadata": {
    "id": "20e08293"
   },
   "source": [
    "## 4.관계 정리"
   ]
  },
  {
   "cell_type": "markdown",
   "id": "b11433ac",
   "metadata": {
    "id": "b11433ac"
   },
   "source": [
    "### 1) 강한 관계의 변수"
   ]
  },
  {
   "cell_type": "markdown",
   "id": "ae622498",
   "metadata": {
    "id": "ae622498"
   },
   "source": []
  },
  {
   "cell_type": "markdown",
   "id": "3101b64b",
   "metadata": {
    "id": "3101b64b"
   },
   "source": [
    "### 2) 약한 관계의 변수"
   ]
  },
  {
   "cell_type": "markdown",
   "id": "7a7f579d",
   "metadata": {
    "id": "7a7f579d"
   },
   "source": []
  },
  {
   "cell_type": "markdown",
   "id": "644198b7",
   "metadata": {
    "id": "644198b7"
   },
   "source": [
    "## 5.솔루션 도출\n",
    "\n",
    "### 어느 구에 버스 노선 또는 정류장이 제일 필요한가요? 그 이유는?"
   ]
  },
  {
   "cell_type": "markdown",
   "id": "783e8346",
   "metadata": {
    "id": "783e8346"
   },
   "source": []
  }
 ],
 "metadata": {
  "colab": {
   "collapsed_sections": [],
   "machine_shape": "hm",
   "provenance": []
  },
  "kernelspec": {
   "display_name": "Python 3 (ipykernel)",
   "language": "python",
   "name": "python3"
  },
  "language_info": {
   "codemirror_mode": {
    "name": "ipython",
    "version": 3
   },
   "file_extension": ".py",
   "mimetype": "text/x-python",
   "name": "python",
   "nbconvert_exporter": "python",
   "pygments_lexer": "ipython3",
   "version": "3.9.7"
  },
  "vscode": {
   "interpreter": {
    "hash": "f08154012ddadd8e950e6e9e035c7a7b32c136e7647e9b7c77e02eb723a8bedb"
   }
  }
 },
 "nbformat": 4,
 "nbformat_minor": 5
}
